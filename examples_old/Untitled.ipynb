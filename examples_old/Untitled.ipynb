{
 "cells": [
  {
   "cell_type": "code",
   "execution_count": 20,
   "id": "bright-relations",
   "metadata": {},
   "outputs": [],
   "source": [
    "%jars /Users/rcabanas/GoogleDrive/IDSIA/causality/dev/credici/target/credici-0.1.3-SNAPSHOT-jar-with-dependencies.jar"
   ]
  },
  {
   "cell_type": "code",
   "execution_count": 15,
   "id": "detailed-burning",
   "metadata": {},
   "outputs": [],
   "source": [
    "import ch.idsia.credici.factor.EquationBuilder;\n",
    "import ch.idsia.crema.factor.bayesian.BayesianFactor;\n",
    "import ch.idsia.credici.model.StructuralCausalModel;\n",
    "\n",
    "\n",
    "/* This code implements the Party example */\n",
    "\n",
    "StructuralCausalModel model = new StructuralCausalModel();\n",
    "\n",
    "// define the variables (endogenous and exogenous)\n",
    "int x1 = model.addVariable(2);\n",
    "int x2 = model.addVariable(2);\n",
    "int x3 = model.addVariable(2);\n",
    "int x4 = model.addVariable(2);\n",
    "\n",
    "int u1 = model.addVariable(2, true);\n",
    "int u2 = model.addVariable(4, true);\n",
    "int u3 = model.addVariable(4, true);\n",
    "int u4 = model.addVariable(3, true);\n",
    "\n",
    "// Define the structure\n",
    "model.addParents(x1, u1);\n",
    "model.addParents(x2, u2, x1);\n",
    "model.addParents(x3, u3, x1);\n",
    "model.addParents(x4, u4, x2, x3);"
   ]
  },
  {
   "cell_type": "code",
   "execution_count": 16,
   "id": "finite-utility",
   "metadata": {},
   "outputs": [],
   "source": [
    "// define the CPTs of the exogenous variables\n",
    "BayesianFactor pu1 = BayesianFactorBuilder.as(model.getDomain(u1), new double[] { .4, .6 });\n",
    "BayesianFactor pu2 = BayesianFactorBuilder.as(model.getDomain(u2), new double[] { .07, .9, .03, .0 });\n",
    "BayesianFactor pu3 = BayesianFactorBuilder.as(model.getDomain(u3), new double[] { .05, .0, .85, .10 });\n",
    "BayesianFactor pu4 = BayesianFactorBuilder.as(model.getDomain(u4), new double[] { .05, .9, .05 });"
   ]
  },
  {
   "cell_type": "code",
   "execution_count": 17,
   "id": "mechanical-exhibition",
   "metadata": {},
   "outputs": [],
   "source": [
    "model.setFactor(u1,pu1);\n",
    "model.setFactor(u2,pu2);\n",
    "model.setFactor(u3,pu3);\n",
    "model.setFactor(u4,pu4);"
   ]
  },
  {
   "cell_type": "code",
   "execution_count": 18,
   "id": "sensitive-huntington",
   "metadata": {},
   "outputs": [],
   "source": [
    "// Define the CPTs of endogenous variables as deterministic functions\n",
    "BayesianFactor f1 = BayesianFactorBuilder.deterministic(model.getDomain(x1), model.getDomain(u1),0,1);\n",
    "\n",
    "BayesianFactor f2 = BayesianFactorBuilder.deterministic(model.getDomain(x2), model.getDomain(u2,x1),\n",
    "        0,0,1,1,  0,1,0,1);\n",
    "\n",
    "BayesianFactor f3 = BayesianFactorBuilder.deterministic(model.getDomain(x3), model.getDomain(u3,x1),\n",
    "        0,0,1,1,  0,1,0,1);\n",
    "\n",
    "\n",
    "\n",
    "BayesianFactor f4 = BayesianFactorBuilder.deterministic(model.getDomain(x4), model.getDomain(u4,x3,x2),\n",
    "        0,1,1,  0,0,0,  0,0,0, 0,1,1);"
   ]
  },
  {
   "cell_type": "code",
   "execution_count": 19,
   "id": "radio-airline",
   "metadata": {},
   "outputs": [
    {
     "name": "stdout",
     "output_type": "stream",
     "text": [
      "\n",
      "Endogenous var 0 with [2] states\n",
      "Exogenous parents: [2] states\n",
      "P([0]) [0.4, 0.6] = [0.4, 0.6]\n",
      "P([4, 0]) [1.0, 0.0, 0.0, 1.0] = \n",
      "\t[1.0, 0.0]\n",
      "\t[0.0, 1.0]\n",
      "\n",
      "Endogenous var 1 with [2] states\n",
      "Exogenous parents: [4] states\n",
      "P([1, 0]) [0.97, 0.03, 0.1, 0.9] = [0.97, 0.03, 0.1, 0.9]\n",
      "P([5, 0, 1]) [1.0, 1.0, 0.0, 0.0, 1.0, 0.0, 1.0, 0.0, 0.0, 0.0, 1.0, 1.0, 0.0, 1.0, 0.0, 1.0] = \n",
      "\t[1.0, 1.0, 0.0, 0.0]\n",
      "\t[1.0, 0.0, 1.0, 0.0]\n",
      "\t[0.0, 0.0, 1.0, 1.0]\n",
      "\t[0.0, 1.0, 0.0, 1.0]\n",
      "\n",
      "Endogenous var 2 with [2] states\n",
      "Exogenous parents: [4] states\n",
      "P([2, 0]) [0.05, 0.95, 0.9, 0.1] = [0.05, 0.95, 0.9, 0.1]\n",
      "P([6, 0, 2]) [1.0, 1.0, 0.0, 0.0, 1.0, 0.0, 1.0, 0.0, 0.0, 0.0, 1.0, 1.0, 0.0, 1.0, 0.0, 1.0] = \n",
      "\t[1.0, 1.0, 0.0, 0.0]\n",
      "\t[1.0, 0.0, 1.0, 0.0]\n",
      "\t[0.0, 0.0, 1.0, 1.0]\n",
      "\t[0.0, 1.0, 0.0, 1.0]\n",
      "\n",
      "Endogenous var 3 with [2] states\n",
      "Exogenous parents: [3] states\n",
      "P([3, 1, 2]) [0.05, 0.95, 1.0, 0.0, 1.0, 0.0, 0.05, 0.95] = [0.05, 0.95, 1.0, 0.0, 1.0, 0.0, 0.05, 0.95]\n",
      "P([7, 1, 2, 3]) [1.0, 0.0, 0.0, 1.0, 1.0, 1.0, 1.0, 1.0, 1.0, 1.0, 0.0, 0.0, 0.0, 1.0, 1.0, 0.0, 0.0, 0.0, 0.0, 0.0, 0.0, 0.0, 1.0, 1.0] = \n",
      "\t[1.0, 0.0, 0.0]\n",
      "\t[1.0, 1.0, 1.0]\n",
      "\t[1.0, 1.0, 1.0]\n",
      "\t[1.0, 0.0, 0.0]\n",
      "\t[0.0, 1.0, 1.0]\n",
      "\t[0.0, 0.0, 0.0]\n",
      "\t[0.0, 0.0, 0.0]\n",
      "\t[0.0, 1.0, 1.0]\n"
     ]
    },
    {
     "ename": "EvalException",
     "evalue": "ERROR: length of assignments should be equal to the number of combinations of the parents",
     "output_type": "error",
     "traceback": [
      "\u001b[1m\u001b[31m---------------------------------------------------------------------------\u001b[0m",
      "\u001b[1m\u001b[31mjava.lang.IllegalArgumentException: ERROR: length of assignments should be equal to the number of combinations of the parents\u001b[0m",
      "\u001b[1m\u001b[31m\tat ch.idsia.crema.factor.bayesian.BayesianFactorBuilder.deterministic(BayesianFactor.java:667)\u001b[0m",
      "\u001b[1m\u001b[31m\tat ch.idsia.credici.factor.EquationBuilder.fromVector(EquationBuilder.java:88)\u001b[0m",
      "\u001b[1m\u001b[31m\tat ch.idsia.credici.factor.EquationBuilder.fromVector(EquationBuilder.java:53)\u001b[0m",
      "\u001b[1m\u001b[31m\tat ch.idsia.credici.factor.EquationBuilder.from2DArray(EquationBuilder.java:60)\u001b[0m",
      "\u001b[1m\u001b[31m\tat ch.idsia.credici.factor.EquationBuilder.withAllAssignments(EquationBuilder.java:83)\u001b[0m",
      "\u001b[1m\u001b[31m\tat .(#64:1)\u001b[0m"
     ]
    }
   ],
   "source": [
    "model.setFactor(x1,f1);\n",
    "model.setFactor(x2,f2);\n",
    "model.setFactor(x3,f3);\n",
    "model.setFactor(x4,f4);\n",
    "\n",
    "model.printSummary();\n",
    "\n",
    "\n",
    "BayesianFactor f4_ = EquationBuilder.of(model).withAllAssignments(x4);\n",
    "System.out.println(f4_);"
   ]
  },
  {
   "cell_type": "code",
   "execution_count": 24,
   "id": "wired-patrick",
   "metadata": {},
   "outputs": [
    {
     "name": "stdout",
     "output_type": "stream",
     "text": [
      "\n",
      "[]\n",
      "\n"
     ]
    }
   ],
   "source": [
    "System.out.println(m)"
   ]
  },
  {
   "cell_type": "code",
   "execution_count": 10,
   "id": "sealed-blowing",
   "metadata": {},
   "outputs": [
    {
     "ename": "CompilationException",
     "evalue": "",
     "output_type": "error",
     "traceback": [
      "\u001b[1m\u001b[30m|   \u001b[1m\u001b[30m!\u001b[0m\u001b[1m\u001b[30m\u001b[41mls\u001b[0m\u001b[1m\u001b[30m\u001b[0m",
      "\u001b[1m\u001b[31mcannot find symbol\u001b[0m",
      "\u001b[1m\u001b[31m  symbol:   variable ls\u001b[0m",
      ""
     ]
    }
   ],
   "source": []
  },
  {
   "cell_type": "code",
   "execution_count": null,
   "id": "bottom-spiritual",
   "metadata": {},
   "outputs": [],
   "source": []
  },
  {
   "cell_type": "code",
   "execution_count": null,
   "id": "funded-suggestion",
   "metadata": {},
   "outputs": [],
   "source": []
  }
 ],
 "metadata": {
  "kernelspec": {
   "display_name": "Java",
   "language": "java",
   "name": "java"
  },
  "language_info": {
   "codemirror_mode": "java",
   "file_extension": ".jshell",
   "mimetype": "text/x-java-source",
   "name": "Java",
   "pygments_lexer": "java",
   "version": "12.0.1+12"
  }
 },
 "nbformat": 4,
 "nbformat_minor": 5
}
