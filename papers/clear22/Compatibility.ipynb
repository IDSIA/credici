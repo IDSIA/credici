{
  "nbformat": 4,
  "nbformat_minor": 0,
  "metadata": {
    "colab": {
      "provenance": [],
      "collapsed_sections": []
    },
    "kernelspec": {
      "name": "python3",
      "display_name": "Python 3"
    },
    "language_info": {
      "name": "python"
    }
  },
  "cells": [
    {
      "cell_type": "code",
      "execution_count": null,
      "metadata": {
        "id": "8x1IO8Evl94d"
      },
      "outputs": [],
      "source": [
        "#!pip install pulp\n",
        "import numpy as np\n",
        "from pulp import *\n",
        "d = 8\n",
        "# Female Data\n",
        "n1f = np.array([180,420,1022,378]) # n(S=0,D=0),n(S=1,D=0),n(S=0,D=1),n(S=1,D=1)\n",
        "n2f = np.array([790,210]) # n(S=0,D=0) , n(S=1,D=0)\n",
        "n3f = np.array([511,489]) # n(S=0,D=1) , n(S=1,D=1)\n",
        "# Male Data\n",
        "n1m = np.array([180,420,420,980]) # n(S=0,D=0),n(S=1,D=0),n(S=0,D=1),n(S=1,D=1)\n",
        "n2m = np.array([790,210]) # n(S=0,D=0) , n(S=1,D=0)\n",
        "n3m = np.array([510,490]) # n(S=0,D=1) , n(S=1,D=1)\n",
        "# Aggregated Data\n",
        "n1 = n1f#+n1m\n",
        "n2 = n2f#+n2m\n",
        "n3 = n3f#+n3m\n",
        "p1 = n1/sum(n1)\n",
        "p2 = n2/sum(n2)\n",
        "p3 = n3/sum(n3)\n",
        "model = LpProblem(\"Credal\", LpMaximize)\n",
        "u = pulp.LpVariable.dicts('u', range(d))\n",
        "model += lpSum(1.0)  \n",
        "model += lpSum(u[i] for i in range(d)) == 1.0\n",
        "for i in range(d):\n",
        "  model += u[i] >= 0.0\n",
        "  model += u[i] <= 1.0\n",
        "model += u[0] + u[1] == p1[0]\n",
        "model += u[2] + u[3] == p1[1]\n",
        "model += u[4] + u[6] == p1[2]\n",
        "model += u[5] + u[7] == p1[3]\n",
        "model += u[0] + u[1] + u[4] + u[5] == p2[0]\n",
        "model += u[2] + u[3] + u[6] + u[7] == p2[1]\n",
        "model += u[0] + u[2] + u[4] + u[6] == p3[0]\n",
        "model += u[1] + u[3] + u[5] + u[7] == p3[1]\n",
        "model.writeLP(\"Problem.lp\")\n",
        "model.solve()\n",
        "print(\"Status:\", LpStatus[model.status])"
      ]
    },
    {
      "cell_type": "code",
      "source": [],
      "metadata": {
        "id": "gnYPpe1VmHgL"
      },
      "execution_count": null,
      "outputs": []
    }
  ]
}