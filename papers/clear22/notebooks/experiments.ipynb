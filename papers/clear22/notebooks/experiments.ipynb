{
 "cells": [
  {
   "cell_type": "code",
   "execution_count": null,
   "metadata": {},
   "outputs": [],
   "source": [
    "import subprocess\n",
    "import datetime\n",
    "import os\n",
    "\n",
    "import pandas as pd\n",
    "from datetime import datetime\n",
    "import timeout_decorator\n",
    "\n",
    "\n",
    "def gen_exec(cmd, check_return: bool = False):\n",
    "    popen = subprocess.Popen(cmd, stdout=subprocess.PIPE, universal_newlines=True)\n",
    "    for stdout_line in iter(popen.stdout.readline, \"\"):\n",
    "        yield stdout_line\n",
    "    popen.stdout.close()\n",
    "    return_code = popen.wait()\n",
    "    if return_code and check_return:\n",
    "        raise subprocess.CalledProcessError(return_code, cmd)\n",
    "\n",
    "\n",
    "def exec_bash(cmd: str, check_return: bool = False):\n",
    "    return [s for s in gen_exec(cmd.split(), check_return)]\n",
    "    \n",
    "def exec_bash_print(cmd: str, check_return: bool = False):\n",
    "    for path in gen_exec(cmd.split(), check_return):\n",
    "        print(path, end=\"\")\n",
    "        \n",
    "def strtime():\n",
    "    return datetime.now().strftime(\"%y%m%d_%H%M%S\")\n",
    "\n",
    "\n",
    "\n",
    "from pathlib import Path\n",
    "\n",
    "prj_path = Path(str(Path(\"../../../\").resolve())+\"/\")\n",
    "exp_folder = Path(prj_path, \"papers/neurips21/\")\n",
    "res_folder = Path(exp_folder, \"output\")\n",
    "model_folder = Path(exp_folder, \"models\")\n",
    "\n",
    "jar_file = Path(prj_path, \"target/credici-0.1.3-SNAPSHOT-jar-with-dependencies.jar\")\n",
    "javafile = Path(exp_folder, \"Experiments.java\")\n",
    "#java = \"/Library/Java/JavaVirtualMachines/openjdk-12.0.1.jdk/Contents/Home/bin/java\"\n",
    "java = \"java\"\n",
    "\n",
    "\n",
    "print(prj_path)\n",
    "print(exp_folder)\n",
    "print(res_folder)\n",
    "print(model_folder)\n",
    "\n",
    "print(jar_file)"
   ]
  },
  {
   "cell_type": "code",
   "execution_count": null,
   "metadata": {},
   "outputs": [],
   "source": [
    "#cmd= f\"java -cp {conf.jar_file} {javafile} {cmd}\"\n",
    "#output = exec_bash(cmd)"
   ]
  },
  {
   "cell_type": "code",
   "execution_count": null,
   "metadata": {},
   "outputs": [],
   "source": [
    "\n",
    "\n"
   ]
  },
  {
   "cell_type": "code",
   "execution_count": null,
   "metadata": {},
   "outputs": [],
   "source": [
    "\n",
    "def run(model, datasize = 1000, executions=20, logfile=None, output = None, datafile=None, seed = 0, timeout = 6000, simpleOutput = False):\n",
    "    logfile = logfile or Path(res_folder, f\"{strtime()}_log.txt\")\n",
    "    output = output or res_folder\n",
    "    output.mkdir(parents=True, exist_ok=True)\n",
    "    #print(model)\n",
    "    modelfile = Path(model_folder, model)\n",
    "    params = f\"--executions {executions} --datasize {datasize} --policy LAST --output {output} \"\\\n",
    "        f\"--logfile {logfile} --timeout {timeout} --seed {seed}\"\n",
    "    \n",
    "    if datafile is not None:\n",
    "        params += f\"-f {datafile}\"\n",
    "        \n",
    "    if simpleOutput:\n",
    "        params += \" --simpleOutput\"\n",
    "    \n",
    "    params += f\" {modelfile}\"\n",
    "    \n",
    "    print(params)\n",
    "    cmd = f\"{java} -cp {jar_file} {javafile} {params}\"\n",
    "    #print(cmd)\n",
    "    output = exec_bash(cmd)  \n",
    "    print(output)\n",
    "    exec(output[0])\n",
    "    return locals()[\"results\"]\n",
    "\n",
    "#results = run(model = \"set1/chain_twExo1_nEndo4_6.uai\", datasize=500)"
   ]
  },
  {
   "cell_type": "code",
   "execution_count": null,
   "metadata": {},
   "outputs": [],
   "source": []
  },
  {
   "cell_type": "code",
   "execution_count": null,
   "metadata": {},
   "outputs": [],
   "source": [
    "######### \n",
    "## Modify if needed:\n",
    "modelset=\"seq0\"\n",
    "datasize = 1000\n",
    "executions = 20\n",
    "#########\n",
    "\n",
    "stime = strtime()\n",
    "\n",
    "# Log file and output folder\n",
    "logfile = Path(res_folder, f\"{stime}_log.txt\")\n",
    "output_folder = Path(res_folder, stime)\n",
    "\n",
    "# Get the models\n",
    "models = [Path(modelset, file) for file in os.listdir(Path(model_folder,modelset)) if file.endswith(\".uai\")]\n",
    "datafiles = [Path(modelset, file) for file in os.listdir(Path(model_folder,modelset)) if file.endswith(\".csv\")]\n",
    "\n",
    "print(logfile)\n",
    "print(output_folder)\n",
    "print(len(models))\n",
    "print(len(datafiles))\n",
    "\n",
    "m = models[0]\n",
    "df = Path(str(m).replace(\".uai\",\".csv\"))\n",
    "df in datafiles"
   ]
  },
  {
   "cell_type": "code",
   "execution_count": null,
   "metadata": {},
   "outputs": [],
   "source": [
    "df = Path('seq0/chain_twExo2_nEndo15_8.csv')\n",
    "\n",
    "int(str(df)[str(df).find(\"twExo\")+5])>1\n"
   ]
  },
  {
   "cell_type": "code",
   "execution_count": null,
   "metadata": {},
   "outputs": [],
   "source": [
    "######### \n",
    "## Modify if needed:\n",
    "start = 0\n",
    "#########\n",
    "\n",
    "blacklist = []\n",
    "res_dicts = []\n",
    "\n",
    "\n",
    "for i,m in enumerate(models[start:]):\n",
    "    print(f\"{i+start}/{len(models)}: {m}\")\n",
    "    #print(i not in blacklist)\n",
    "    if i+start not in blacklist:\n",
    "        try:            \n",
    "            kwargs = dict(model = m, datasize=datasize,\n",
    "                          logfile=logfile,\n",
    "                          output=output_folder,\n",
    "                          executions=executions)\n",
    "            df = Path(str(m).replace(\".uai\",\".csv\"))\n",
    "            if df in datafiles:\n",
    "                kwargs[\"datafile\"] = Path(model_folder, df)  \n",
    "            if int(str(m)[str(m).find(\"twExo\")+5])>1:\n",
    "                kwargs[\"executions\"] = kwargs[\"executions\"]+10\n",
    "                kwargs[\"timeout\"] = 12000\n",
    "                kwargs[\"simpleOutput\"] = True\n",
    "\n",
    "            res_dicts.append(run(**kwargs))\n",
    "        except timeout_decorator.TimeoutError:\n",
    "            print(\"timeout\")\n",
    "print(\"finished\")"
   ]
  },
  {
   "cell_type": "code",
   "execution_count": null,
   "metadata": {},
   "outputs": [],
   "source": [
    "!tail -f /root/dev/credici/papers/neurips21/output/210520_194904_log.txt\n"
   ]
  },
  {
   "cell_type": "code",
   "execution_count": null,
   "metadata": {},
   "outputs": [],
   "source": []
  },
  {
   "cell_type": "code",
   "execution_count": null,
   "metadata": {},
   "outputs": [],
   "source": [
    "!java -cp /root/dev/credici/target/credici-0.1.3-SNAPSHOT-jar-with-dependencies.jar /root/dev/credici/papers/neurips21/Experiments.java --executions 20 --datasize 1000 --policy LAST --output /root/dev/credici/papers/neurips21/output/210517_161626 --logfile /root/dev/credici/papers/neurips21/output/210517_161626_log.txt --seed 0 -t 3 /root/dev/credici/papers/neurips21/models/set1/chain_twExo3_nEndo6_6.uai"
   ]
  },
  {
   "cell_type": "code",
   "execution_count": null,
   "metadata": {
    "tags": []
   },
   "outputs": [],
   "source": [
    "java -cp /root/dev/credici/target/credici-0.1.3-SNAPSHOT-jar-with-dependencies.jar /root/dev/credici/papers/neurips21/SequentialModelGen.java\n",
    "\n",
    "\n"
   ]
  },
  {
   "cell_type": "code",
   "execution_count": null,
   "metadata": {},
   "outputs": [],
   "source": [
    "!mvn clean compile assembly:single"
   ]
  },
  {
   "cell_type": "code",
   "execution_count": 1,
   "metadata": {},
   "outputs": [
    {
     "name": "stdout",
     "output_type": "stream",
     "text": [
      "/root/dev/credici/papers/neurips21/notebooks\n"
     ]
    }
   ],
   "source": [
    "!pwd"
   ]
  },
  {
   "cell_type": "code",
   "execution_count": null,
   "metadata": {},
   "outputs": [],
   "source": [
    "./experiments.py 0 s0_2 > output0.out 2>&1 &\n",
    "./experiments.py 0 s1a_2 > output1a.out 2>&1 &\n",
    "./experiments.py 0 s1b_2 > output1b.out 2>&1 &\n"
   ]
  },
  {
   "cell_type": "code",
   "execution_count": null,
   "metadata": {},
   "outputs": [],
   "source": [
    "./experiments.py 0 s2 > output2.out 2>&1 &\n",
    "./experiments.py 0 s2_2 > output2_2.out 2>&1 &\n"
   ]
  },
  {
   "cell_type": "code",
   "execution_count": 4,
   "metadata": {},
   "outputs": [
    {
     "data": {
      "text/plain": [
       "1200"
      ]
     },
     "execution_count": 4,
     "metadata": {},
     "output_type": "execute_result"
    }
   ],
   "source": [
    "./experiments.py 0 x0 > output0.out 2>&1 &\n",
    "./experiments.py 0 x1 > output1a.out 2>&1 &\n",
    "./experiments.py 0 x1_2 > output1b.out 2>&1 &"
   ]
  },
  {
   "cell_type": "code",
   "execution_count": null,
   "metadata": {},
   "outputs": [],
   "source": [
    "--executions 40 --datasize 1000 --policy LAST --output /root/dev/credici/papers/neurips21/output/210522_174401 --logfile /root/dev/credici/papers/neurips21/output/210522_174401_log.txt --seed 0 -q /root/dev/credici/papers/neurips21/models\n",
    "\n",
    "\n"
   ]
  },
  {
   "cell_type": "code",
   "execution_count": 1,
   "metadata": {},
   "outputs": [
    {
     "data": {
      "text/plain": [
       "100.0"
      ]
     },
     "execution_count": 1,
     "metadata": {},
     "output_type": "execute_result"
    }
   ],
   "source": [
    "6000/60"
   ]
  },
  {
   "cell_type": "code",
   "execution_count": 3,
   "metadata": {},
   "outputs": [
    {
     "name": "stdout",
     "output_type": "stream",
     "text": [
      "0x1\n",
      "/root/dev/credici\n",
      "/root/dev/credici/papers/neurips21\n",
      "/root/dev/credici/papers/neurips21/output\n",
      "/root/dev/credici/papers/neurips21/models\n",
      "/root/dev/credici/target/credici-0.1.3-SNAPSHOT-jar-with-dependencies.jar\n",
      "/root/dev/credici/papers/neurips21/output/210524_130939_log.txt\n",
      "/root/dev/credici/papers/neurips21/output/210524_130939\n",
      "40\n",
      "0\n",
      "0/40: x1/chain_twExo1_nEndo5_3.uai\n",
      "--executions 20 --datasize 1000 --policy LAST --output /root/dev/credici/papers/neurips21/output/210524_130939 --logfile /root/dev/credici/papers/neurips21/output/210524_130939_log.txt --timeout 600 -q --seed 0 --simpleOutput /root/dev/credici/papers/neurips21/models/x1/chain_twExo1_nEndo5_3.uai\n",
      "java -cp /root/dev/credici/target/credici-0.1.3-SNAPSHOT-jar-with-dependencies.jar /root/dev/credici/papers/neurips21/Experiments.java --executions 20 --datasize 1000 --policy LAST --output /root/dev/credici/papers/neurips21/output/210524_130939 --logfile /root/dev/credici/papers/neurips21/output/210524_130939_log.txt --timeout 600 -q --seed 0 --simpleOutput /root/dev/credici/papers/neurips21/models/x1/chain_twExo1_nEndo5_3.uai\n",
      "Note: /root/dev/credici/papers/neurips21/Experiments.java uses unchecked or unsafe operations.\n",
      "Note: Recompile with -Xlint:unchecked for details.\n",
      "[\"results=dict(seed=0, markovian=False, innerPoints=[0, 0, 0, 0, 0, 0, 0, 0, 0, 0, 0, 0, 0, 0, 0, 0, 0, 0, 0, 0], pnsExact_u=4.0746999999999995E-4, error=False, nEndo=5, pnsEM_l=[2.3428874746529222E-4, 1.1488381877973648E-4, 1.1488381877973648E-4, 1.1488381877973648E-4, 1.1488381877973648E-4, 1.1488381877973648E-4, 1.1488381877973648E-4, 8.920662924931507E-5, 8.920662924931507E-5, 8.920662924931507E-5, 8.920662924931507E-5, 8.920662924931507E-5, 8.920662924931507E-5, 8.920662924931507E-5, 8.920662924931507E-5, 8.920662924931507E-5, 8.920662924931507E-5, 8.920662924931507E-5, 8.920662924931507E-5, 8.920662924931507E-5], errorMsg='', timeExact=711, timeQuery=[15, 9, 10, 8, 10, 11, 12, 13, 15, 21, 22, 23, 27, 29, 28, 30, 21, 22, 24, 24], compatible=False, file='chain_twExo1_nEndo5_3.uai', folder='x1', timeBuild=23034, pnsEM_u=[2.3428874746529222E-4, 2.3428874746529222E-4, 6.962705717209851E-4, 9.131932154509846E-4, 9.131932154509846E-4, 9.131932154509846E-4, 9.131932154509846E-4, 9.131932154509846E-4, 9.131932154509846E-4, 9.131932154509846E-4, 9.131932154509846E-4, 9.131932154509846E-4, 9.131932154509846E-4, 9.131932154509846E-4, 9.353124251364833E-4, 9.353124251364833E-4, 9.353124251364833E-4, 9.353124251364833E-4, 9.353124251364833E-4, 9.353124251364833E-4], exoTW=1, groundtruth='cve', nExo=3, pnsExact_l=1.8274999999999997E-5, iterEM=[200, 200, 200, 200, 200, 200, 200, 200, 200, 200, 200, 200, 200, 200, 200, 200, 200, 200, 200, 200])\\n\", '\\n']\n",
      "1/40: x1/chain_twExo1_nEndo5_15.uai\n",
      "--executions 20 --datasize 1000 --policy LAST --output /root/dev/credici/papers/neurips21/output/210524_130939 --logfile /root/dev/credici/papers/neurips21/output/210524_130939_log.txt --timeout 600 -q --seed 0 --simpleOutput /root/dev/credici/papers/neurips21/models/x1/chain_twExo1_nEndo5_15.uai\n",
      "java -cp /root/dev/credici/target/credici-0.1.3-SNAPSHOT-jar-with-dependencies.jar /root/dev/credici/papers/neurips21/Experiments.java --executions 20 --datasize 1000 --policy LAST --output /root/dev/credici/papers/neurips21/output/210524_130939 --logfile /root/dev/credici/papers/neurips21/output/210524_130939_log.txt --timeout 600 -q --seed 0 --simpleOutput /root/dev/credici/papers/neurips21/models/x1/chain_twExo1_nEndo5_15.uai\n",
      "Note: /root/dev/credici/papers/neurips21/Experiments.java uses unchecked or unsafe operations.\n",
      "Note: Recompile with -Xlint:unchecked for details.\n",
      "[\"results=dict(seed=0, markovian=False, innerPoints=[0, 0, 0, 0, 0, 0, 0, 0, 0, 0, 0, 0, 0, 0, 0, 0, 0, 0, 0, 0], pnsExact_u=-1.0, error=False, nEndo=5, pnsEM_l=[0.0, 0.0, 0.0, 0.0, 0.0, 0.0, 0.0, 0.0, 0.0, 0.0, 0.0, 0.0, 0.0, 0.0, 0.0, 0.0, 0.0, 0.0, 0.0, 0.0], errorMsg='', timeExact=553, timeQuery=[35, 15, 15, 13, 15, 23, 19, 20, 20, 29, 32, 28, 26, 25, 26, 28, 30, 34, 37, 34], compatible=False, file='chain_twExo1_nEndo5_15.uai', folder='x1', timeBuild=22164, pnsEM_u=[0.0, 0.0, 0.0, 0.0, 0.0, 0.0, 0.0, 0.0, 0.0, 0.0, 0.0, 0.0, 0.0, 0.0, 0.0, 0.0, 0.0, 0.0, 0.0, 0.0], exoTW=1, groundtruth='cve', nExo=3, pnsExact_l=-1.0, iterEM=[200, 200, 200, 200, 200, 200, 200, 200, 200, 200, 200, 200, 200, 200, 200, 200, 200, 200, 200, 200])\\n\", '\\n']\n",
      "2/40: x1/chain_twExo1_nEndo10_6.uai\n",
      "--executions 20 --datasize 1000 --policy LAST --output /root/dev/credici/papers/neurips21/output/210524_130939 --logfile /root/dev/credici/papers/neurips21/output/210524_130939_log.txt --timeout 600 -q --seed 0 --simpleOutput /root/dev/credici/papers/neurips21/models/x1/chain_twExo1_nEndo10_6.uai\n",
      "java -cp /root/dev/credici/target/credici-0.1.3-SNAPSHOT-jar-with-dependencies.jar /root/dev/credici/papers/neurips21/Experiments.java --executions 20 --datasize 1000 --policy LAST --output /root/dev/credici/papers/neurips21/output/210524_130939 --logfile /root/dev/credici/papers/neurips21/output/210524_130939_log.txt --timeout 600 -q --seed 0 --simpleOutput /root/dev/credici/papers/neurips21/models/x1/chain_twExo1_nEndo10_6.uai\n",
      "Note: /root/dev/credici/papers/neurips21/Experiments.java uses unchecked or unsafe operations.\n",
      "Note: Recompile with -Xlint:unchecked for details.\n",
      "^C\n",
      "Traceback (most recent call last):\n",
      "  File \"./experiments.py\", line 137, in <module>\n",
      "    res_dicts.append(run(**kwargs))\n",
      "  File \"./experiments.py\", line 88, in run\n",
      "    output = exec_bash(cmd)  \n",
      "  File \"./experiments.py\", line 38, in exec_bash\n",
      "    return [s for s in gen_exec(cmd.split(), check_return)]\n",
      "  File \"./experiments.py\", line 38, in <listcomp>\n",
      "    return [s for s in gen_exec(cmd.split(), check_return)]\n",
      "  File \"./experiments.py\", line 29, in gen_exec\n",
      "    for stdout_line in iter(popen.stdout.readline, \"\"):\n",
      "KeyboardInterrupt\n"
     ]
    }
   ],
   "source": [
    "!./experiments.py 0 x1"
   ]
  },
  {
   "cell_type": "raw",
   "metadata": {},
   "source": [
    "cd /root/dev/credici/ & \n",
    "\n",
    "nohup java -cp /root/dev/credici/target/credici-0.1.3-SNAPSHOT-jar-with-dependencies.jar ./triangoloBuild.java &\n",
    "\n",
    "\n",
    "\n",
    "!java -cp /content/drive/MyDrive/IDSIA/causality/dev/credici/target/credici-0.1.3-SNAPSHOT-jar-with-dependencies.jar ./papers/neurips21/triangoloBuild.java\n",
    "\n",
    "\n",
    "\n"
   ]
  },
  {
   "cell_type": "code",
   "execution_count": null,
   "metadata": {},
   "outputs": [],
   "source": [
    "!java -cp /root/dev/credici/target/credici-0.1.3-SNAPSHOT-jar-with-dependencies.jar /root/dev/credici/papers/neurips21/triangoloBuild.java\n"
   ]
  },
  {
   "cell_type": "code",
   "execution_count": null,
   "metadata": {},
   "outputs": [],
   "source": [
    "\n",
    "\n",
    "\n",
    "\n"
   ]
  },
  {
   "cell_type": "code",
   "execution_count": 5,
   "metadata": {},
   "outputs": [
    {
     "name": "stdout",
     "output_type": "stream",
     "text": [
      "CHANGELOG.md  docs\toutput0.out   papers\t    src\n",
      "LICENSE       examples\toutput1a.out  pom.xml\t    target\n",
      "README.md     models\toutput1b.out  scm1data.csv  triangoloBuild.java\n"
     ]
    }
   ],
   "source": [
    "!ls /root/dev/credici/\n",
    "import os\n",
    "os.chdir(\"/root/dev/credici/\")"
   ]
  },
  {
   "cell_type": "code",
   "execution_count": 6,
   "metadata": {},
   "outputs": [
    {
     "name": "stdout",
     "output_type": "stream",
     "text": [
      "\n",
      "^C\n"
     ]
    }
   ],
   "source": [
    "!java -cp /root/dev/credici/target/credici-0.1.3-SNAPSHOT-jar-with-dependencies.jar ./triangoloBuild.java\n"
   ]
  },
  {
   "cell_type": "raw",
   "metadata": {},
   "source": [
    "nohup java -cp /root/dev/credici/target/credici-0.1.3-SNAPSHOT-jar-with-dependencies.jar ./generate.java 0 > output0.out 2>&1 &\n",
    "\n",
    "\n",
    "nohup ./experiments.py 0 sv0 > output01.out 2>&1 &\n",
    "nohup ./experiments.py 0 sv0_2 > output02.out 2>&1 &\n",
    "nohup ./experiments.py 0 sv1 > output11.out 2>&1 &\n",
    "nohup ./experiments.py 0 sv1_2 > output12.out 2>&1 &\n",
    "\n",
    "\n",
    "nohup ./experiments.py 0 sr0 > output0.out 2>&1 &\n",
    "\n",
    "#Running:\n",
    "nohup ./experiments.py 0 sr1 > output1.out 2>&1 &\n",
    "nohup ./experiments.py 0 sr2 > output2.out 2>&1 &\n",
    "\n",
    "\n",
    "#To run:\n",
    "nohup ./experiments.py 0 sr0_2 > output0.out 2>&1 &\n",
    "nohup ./experiments.py 0 sr1_2 > output1.out 2>&1 &\n",
    "nohup ./experiments.py 0 sr2_2 > output2.out 2>&1 &\n",
    "\n",
    "\n",
    "\n",
    "!java -cp /root/dev/credici/target/credici-0.1.3-SNAPSHOT-jar-with-dependencies.jar /root/dev/credici/papers/neurips21/Experiments.java --executions 20 --datasize 1000 --policy LAST --output /root/dev/credici/papers/neurips21/output/210517_161626 --logfile /root/dev/credici/papers/neurips21/output/210517_161626_log.txt --seed 0 -t 3 /root/dev/credici/papers/neurips21/models/set1/chain_twExo3_nEndo6_6.uai"
   ]
  },
  {
   "cell_type": "code",
   "execution_count": 1,
   "metadata": {},
   "outputs": [
    {
     "name": "stdout",
     "output_type": "stream",
     "text": [
      "/root/dev/credici/papers/neurips21/notebooks\n"
     ]
    }
   ],
   "source": [
    "!pwd"
   ]
  },
  {
   "cell_type": "code",
   "execution_count": null,
   "metadata": {},
   "outputs": [],
   "source": []
  }
 ],
 "metadata": {
  "kernelspec": {
   "display_name": "Python 3",
   "language": "python",
   "name": "python3"
  },
  "language_info": {
   "codemirror_mode": {
    "name": "ipython",
    "version": 3
   },
   "file_extension": ".py",
   "mimetype": "text/x-python",
   "name": "python",
   "nbconvert_exporter": "python",
   "pygments_lexer": "ipython3",
   "version": "3.8.5"
  }
 },
 "nbformat": 4,
 "nbformat_minor": 4
}
