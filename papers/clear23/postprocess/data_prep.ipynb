{
 "cells": [
  {
   "cell_type": "code",
   "execution_count": 1,
   "metadata": {},
   "outputs": [],
   "source": [
    "import compute_convergence\n",
    "import data\n",
    "import glob\n",
    "import seaborn as sns\n",
    "import numpy as np\n",
    "sns.set_theme()"
   ]
  },
  {
   "cell_type": "markdown",
   "metadata": {},
   "source": [
    "# Data for experiments"
   ]
  },
  {
   "cell_type": "code",
   "execution_count": 59,
   "metadata": {},
   "outputs": [],
   "source": [
    "d1 = data.load_data(\"../output/synthetic/s1/\")\n",
    "#d1 = data.postprocess(d1)\n",
    "dt = d1 #[d1.cofounded_cause]"
   ]
  },
  {
   "cell_type": "code",
   "execution_count": 58,
   "metadata": {},
   "outputs": [
    {
     "data": {
      "text/html": [
       "<div>\n",
       "<style scoped>\n",
       "    .dataframe tbody tr th:only-of-type {\n",
       "        vertical-align: middle;\n",
       "    }\n",
       "\n",
       "    .dataframe tbody tr th {\n",
       "        vertical-align: top;\n",
       "    }\n",
       "\n",
       "    .dataframe thead th {\n",
       "        text-align: right;\n",
       "    }\n",
       "</style>\n",
       "<table border=\"1\" class=\"dataframe\">\n",
       "  <thead>\n",
       "    <tr style=\"text-align: right;\">\n",
       "      <th></th>\n",
       "      <th>index</th>\n",
       "      <th>pns_91</th>\n",
       "      <th>pns_92</th>\n",
       "      <th>trueState</th>\n",
       "      <th>pns_90</th>\n",
       "      <th>pns_95</th>\n",
       "      <th>pns_96</th>\n",
       "      <th>pns_93</th>\n",
       "      <th>pns_94</th>\n",
       "      <th>pns_99</th>\n",
       "      <th>...</th>\n",
       "      <th>pns_28</th>\n",
       "      <th>pns_29</th>\n",
       "      <th>file</th>\n",
       "      <th>network_type</th>\n",
       "      <th>mc</th>\n",
       "      <th>n</th>\n",
       "      <th>mid</th>\n",
       "      <th>d</th>\n",
       "      <th>inf</th>\n",
       "      <th>modelFile</th>\n",
       "    </tr>\n",
       "  </thead>\n",
       "  <tbody>\n",
       "    <tr>\n",
       "      <th>0</th>\n",
       "      <td>0</td>\n",
       "      <td>0.226856</td>\n",
       "      <td>0.226859</td>\n",
       "      <td>0</td>\n",
       "      <td>0.226859</td>\n",
       "      <td>0.226858</td>\n",
       "      <td>0.226859</td>\n",
       "      <td>0.226859</td>\n",
       "      <td>0.226859</td>\n",
       "      <td>0.226859</td>\n",
       "      <td>...</td>\n",
       "      <td>0.226859</td>\n",
       "      <td>0.226859</td>\n",
       "      <td>../output/synthetic/s1/random_mc2_n7_mid3_d100...</td>\n",
       "      <td>random</td>\n",
       "      <td>2</td>\n",
       "      <td>7</td>\n",
       "      <td>3</td>\n",
       "      <td>1000</td>\n",
       "      <td>kl</td>\n",
       "      <td>random_mc2_n7_mid3_d1000_05_mr098_r10_20.uai</td>\n",
       "    </tr>\n",
       "    <tr>\n",
       "      <th>1</th>\n",
       "      <td>1</td>\n",
       "      <td>0.221660</td>\n",
       "      <td>0.221660</td>\n",
       "      <td>0</td>\n",
       "      <td>0.221660</td>\n",
       "      <td>0.221660</td>\n",
       "      <td>0.221660</td>\n",
       "      <td>0.221660</td>\n",
       "      <td>0.221660</td>\n",
       "      <td>0.221660</td>\n",
       "      <td>...</td>\n",
       "      <td>0.221660</td>\n",
       "      <td>0.221660</td>\n",
       "      <td>../output/synthetic/s1/random_mc2_n7_mid3_d100...</td>\n",
       "      <td>random</td>\n",
       "      <td>2</td>\n",
       "      <td>7</td>\n",
       "      <td>3</td>\n",
       "      <td>1000</td>\n",
       "      <td>kl</td>\n",
       "      <td>random_mc2_n7_mid3_d1000_05_mr098_r10_20.uai</td>\n",
       "    </tr>\n",
       "    <tr>\n",
       "      <th>2</th>\n",
       "      <td>2</td>\n",
       "      <td>0.228846</td>\n",
       "      <td>0.228846</td>\n",
       "      <td>0</td>\n",
       "      <td>0.228846</td>\n",
       "      <td>0.228846</td>\n",
       "      <td>0.228846</td>\n",
       "      <td>0.228846</td>\n",
       "      <td>0.228846</td>\n",
       "      <td>0.228846</td>\n",
       "      <td>...</td>\n",
       "      <td>0.228846</td>\n",
       "      <td>0.228846</td>\n",
       "      <td>../output/synthetic/s1/random_mc2_n7_mid3_d100...</td>\n",
       "      <td>random</td>\n",
       "      <td>2</td>\n",
       "      <td>7</td>\n",
       "      <td>3</td>\n",
       "      <td>1000</td>\n",
       "      <td>kl</td>\n",
       "      <td>random_mc2_n7_mid3_d1000_05_mr098_r10_20.uai</td>\n",
       "    </tr>\n",
       "    <tr>\n",
       "      <th>3</th>\n",
       "      <td>0</td>\n",
       "      <td>0.415074</td>\n",
       "      <td>0.415074</td>\n",
       "      <td>0</td>\n",
       "      <td>0.415074</td>\n",
       "      <td>0.415074</td>\n",
       "      <td>0.415074</td>\n",
       "      <td>0.415074</td>\n",
       "      <td>0.415074</td>\n",
       "      <td>0.415074</td>\n",
       "      <td>...</td>\n",
       "      <td>0.415074</td>\n",
       "      <td>0.415074</td>\n",
       "      <td>../output/synthetic/s1/random_mc2_n5_mid3_d100...</td>\n",
       "      <td>random</td>\n",
       "      <td>2</td>\n",
       "      <td>5</td>\n",
       "      <td>3</td>\n",
       "      <td>1000</td>\n",
       "      <td>kl</td>\n",
       "      <td>random_mc2_n5_mid3_d1000_05_mr098_r10_34.uai</td>\n",
       "    </tr>\n",
       "    <tr>\n",
       "      <th>4</th>\n",
       "      <td>1</td>\n",
       "      <td>0.411375</td>\n",
       "      <td>0.411375</td>\n",
       "      <td>0</td>\n",
       "      <td>0.411375</td>\n",
       "      <td>0.411375</td>\n",
       "      <td>0.411375</td>\n",
       "      <td>0.411375</td>\n",
       "      <td>0.411375</td>\n",
       "      <td>0.411375</td>\n",
       "      <td>...</td>\n",
       "      <td>0.411375</td>\n",
       "      <td>0.411375</td>\n",
       "      <td>../output/synthetic/s1/random_mc2_n5_mid3_d100...</td>\n",
       "      <td>random</td>\n",
       "      <td>2</td>\n",
       "      <td>5</td>\n",
       "      <td>3</td>\n",
       "      <td>1000</td>\n",
       "      <td>kl</td>\n",
       "      <td>random_mc2_n5_mid3_d1000_05_mr098_r10_34.uai</td>\n",
       "    </tr>\n",
       "    <tr>\n",
       "      <th>...</th>\n",
       "      <td>...</td>\n",
       "      <td>...</td>\n",
       "      <td>...</td>\n",
       "      <td>...</td>\n",
       "      <td>...</td>\n",
       "      <td>...</td>\n",
       "      <td>...</td>\n",
       "      <td>...</td>\n",
       "      <td>...</td>\n",
       "      <td>...</td>\n",
       "      <td>...</td>\n",
       "      <td>...</td>\n",
       "      <td>...</td>\n",
       "      <td>...</td>\n",
       "      <td>...</td>\n",
       "      <td>...</td>\n",
       "      <td>...</td>\n",
       "      <td>...</td>\n",
       "      <td>...</td>\n",
       "      <td>...</td>\n",
       "      <td>...</td>\n",
       "    </tr>\n",
       "    <tr>\n",
       "      <th>724</th>\n",
       "      <td>1</td>\n",
       "      <td>0.000000</td>\n",
       "      <td>0.000000</td>\n",
       "      <td>0</td>\n",
       "      <td>0.000000</td>\n",
       "      <td>0.000000</td>\n",
       "      <td>0.000000</td>\n",
       "      <td>0.000000</td>\n",
       "      <td>0.000000</td>\n",
       "      <td>0.000000</td>\n",
       "      <td>...</td>\n",
       "      <td>0.000000</td>\n",
       "      <td>0.000000</td>\n",
       "      <td>../output/synthetic/s1/random_mc2_n5_mid3_d100...</td>\n",
       "      <td>random</td>\n",
       "      <td>2</td>\n",
       "      <td>5</td>\n",
       "      <td>3</td>\n",
       "      <td>1000</td>\n",
       "      <td>kl</td>\n",
       "      <td>random_mc2_n5_mid3_d1000_05_mr098_r10_2.uai</td>\n",
       "    </tr>\n",
       "    <tr>\n",
       "      <th>725</th>\n",
       "      <td>2</td>\n",
       "      <td>0.000000</td>\n",
       "      <td>0.000000</td>\n",
       "      <td>0</td>\n",
       "      <td>0.000000</td>\n",
       "      <td>0.000000</td>\n",
       "      <td>0.000000</td>\n",
       "      <td>0.000000</td>\n",
       "      <td>0.000000</td>\n",
       "      <td>0.000000</td>\n",
       "      <td>...</td>\n",
       "      <td>0.000000</td>\n",
       "      <td>0.000000</td>\n",
       "      <td>../output/synthetic/s1/random_mc2_n5_mid3_d100...</td>\n",
       "      <td>random</td>\n",
       "      <td>2</td>\n",
       "      <td>5</td>\n",
       "      <td>3</td>\n",
       "      <td>1000</td>\n",
       "      <td>kl</td>\n",
       "      <td>random_mc2_n5_mid3_d1000_05_mr098_r10_2.uai</td>\n",
       "    </tr>\n",
       "    <tr>\n",
       "      <th>726</th>\n",
       "      <td>0</td>\n",
       "      <td>0.919200</td>\n",
       "      <td>0.931972</td>\n",
       "      <td>0</td>\n",
       "      <td>0.912381</td>\n",
       "      <td>0.938584</td>\n",
       "      <td>0.912018</td>\n",
       "      <td>0.923874</td>\n",
       "      <td>0.913439</td>\n",
       "      <td>0.912012</td>\n",
       "      <td>...</td>\n",
       "      <td>0.912435</td>\n",
       "      <td>0.912021</td>\n",
       "      <td>../output/synthetic/s1/random_mc2_n5_mid3_d100...</td>\n",
       "      <td>random</td>\n",
       "      <td>2</td>\n",
       "      <td>5</td>\n",
       "      <td>3</td>\n",
       "      <td>1000</td>\n",
       "      <td>kl</td>\n",
       "      <td>random_mc2_n5_mid3_d1000_05_mr098_r10_18.uai</td>\n",
       "    </tr>\n",
       "    <tr>\n",
       "      <th>727</th>\n",
       "      <td>1</td>\n",
       "      <td>0.923492</td>\n",
       "      <td>0.933091</td>\n",
       "      <td>0</td>\n",
       "      <td>0.939952</td>\n",
       "      <td>0.923627</td>\n",
       "      <td>0.940133</td>\n",
       "      <td>0.923505</td>\n",
       "      <td>0.923543</td>\n",
       "      <td>0.937346</td>\n",
       "      <td>...</td>\n",
       "      <td>0.923492</td>\n",
       "      <td>0.924107</td>\n",
       "      <td>../output/synthetic/s1/random_mc2_n5_mid3_d100...</td>\n",
       "      <td>random</td>\n",
       "      <td>2</td>\n",
       "      <td>5</td>\n",
       "      <td>3</td>\n",
       "      <td>1000</td>\n",
       "      <td>kl</td>\n",
       "      <td>random_mc2_n5_mid3_d1000_05_mr098_r10_18.uai</td>\n",
       "    </tr>\n",
       "    <tr>\n",
       "      <th>728</th>\n",
       "      <td>2</td>\n",
       "      <td>0.906708</td>\n",
       "      <td>0.914444</td>\n",
       "      <td>0</td>\n",
       "      <td>0.919506</td>\n",
       "      <td>0.935769</td>\n",
       "      <td>0.906631</td>\n",
       "      <td>0.906631</td>\n",
       "      <td>0.935580</td>\n",
       "      <td>0.914473</td>\n",
       "      <td>...</td>\n",
       "      <td>0.911470</td>\n",
       "      <td>0.907971</td>\n",
       "      <td>../output/synthetic/s1/random_mc2_n5_mid3_d100...</td>\n",
       "      <td>random</td>\n",
       "      <td>2</td>\n",
       "      <td>5</td>\n",
       "      <td>3</td>\n",
       "      <td>1000</td>\n",
       "      <td>kl</td>\n",
       "      <td>random_mc2_n5_mid3_d1000_05_mr098_r10_18.uai</td>\n",
       "    </tr>\n",
       "  </tbody>\n",
       "</table>\n",
       "<p>729 rows × 226 columns</p>\n",
       "</div>"
      ],
      "text/plain": [
       "     index    pns_91    pns_92  trueState    pns_90    pns_95    pns_96  \\\n",
       "0        0  0.226856  0.226859          0  0.226859  0.226858  0.226859   \n",
       "1        1  0.221660  0.221660          0  0.221660  0.221660  0.221660   \n",
       "2        2  0.228846  0.228846          0  0.228846  0.228846  0.228846   \n",
       "3        0  0.415074  0.415074          0  0.415074  0.415074  0.415074   \n",
       "4        1  0.411375  0.411375          0  0.411375  0.411375  0.411375   \n",
       "..     ...       ...       ...        ...       ...       ...       ...   \n",
       "724      1  0.000000  0.000000          0  0.000000  0.000000  0.000000   \n",
       "725      2  0.000000  0.000000          0  0.000000  0.000000  0.000000   \n",
       "726      0  0.919200  0.931972          0  0.912381  0.938584  0.912018   \n",
       "727      1  0.923492  0.933091          0  0.939952  0.923627  0.940133   \n",
       "728      2  0.906708  0.914444          0  0.919506  0.935769  0.906631   \n",
       "\n",
       "       pns_93    pns_94    pns_99  ...    pns_28    pns_29  \\\n",
       "0    0.226859  0.226859  0.226859  ...  0.226859  0.226859   \n",
       "1    0.221660  0.221660  0.221660  ...  0.221660  0.221660   \n",
       "2    0.228846  0.228846  0.228846  ...  0.228846  0.228846   \n",
       "3    0.415074  0.415074  0.415074  ...  0.415074  0.415074   \n",
       "4    0.411375  0.411375  0.411375  ...  0.411375  0.411375   \n",
       "..        ...       ...       ...  ...       ...       ...   \n",
       "724  0.000000  0.000000  0.000000  ...  0.000000  0.000000   \n",
       "725  0.000000  0.000000  0.000000  ...  0.000000  0.000000   \n",
       "726  0.923874  0.913439  0.912012  ...  0.912435  0.912021   \n",
       "727  0.923505  0.923543  0.937346  ...  0.923492  0.924107   \n",
       "728  0.906631  0.935580  0.914473  ...  0.911470  0.907971   \n",
       "\n",
       "                                                  file  network_type  mc  n  \\\n",
       "0    ../output/synthetic/s1/random_mc2_n7_mid3_d100...        random   2  7   \n",
       "1    ../output/synthetic/s1/random_mc2_n7_mid3_d100...        random   2  7   \n",
       "2    ../output/synthetic/s1/random_mc2_n7_mid3_d100...        random   2  7   \n",
       "3    ../output/synthetic/s1/random_mc2_n5_mid3_d100...        random   2  5   \n",
       "4    ../output/synthetic/s1/random_mc2_n5_mid3_d100...        random   2  5   \n",
       "..                                                 ...           ...  .. ..   \n",
       "724  ../output/synthetic/s1/random_mc2_n5_mid3_d100...        random   2  5   \n",
       "725  ../output/synthetic/s1/random_mc2_n5_mid3_d100...        random   2  5   \n",
       "726  ../output/synthetic/s1/random_mc2_n5_mid3_d100...        random   2  5   \n",
       "727  ../output/synthetic/s1/random_mc2_n5_mid3_d100...        random   2  5   \n",
       "728  ../output/synthetic/s1/random_mc2_n5_mid3_d100...        random   2  5   \n",
       "\n",
       "     mid     d  inf                                     modelFile  \n",
       "0      3  1000   kl  random_mc2_n7_mid3_d1000_05_mr098_r10_20.uai  \n",
       "1      3  1000   kl  random_mc2_n7_mid3_d1000_05_mr098_r10_20.uai  \n",
       "2      3  1000   kl  random_mc2_n7_mid3_d1000_05_mr098_r10_20.uai  \n",
       "3      3  1000   kl  random_mc2_n5_mid3_d1000_05_mr098_r10_34.uai  \n",
       "4      3  1000   kl  random_mc2_n5_mid3_d1000_05_mr098_r10_34.uai  \n",
       "..   ...   ...  ...                                           ...  \n",
       "724    3  1000   kl   random_mc2_n5_mid3_d1000_05_mr098_r10_2.uai  \n",
       "725    3  1000   kl   random_mc2_n5_mid3_d1000_05_mr098_r10_2.uai  \n",
       "726    3  1000   kl  random_mc2_n5_mid3_d1000_05_mr098_r10_18.uai  \n",
       "727    3  1000   kl  random_mc2_n5_mid3_d1000_05_mr098_r10_18.uai  \n",
       "728    3  1000   kl  random_mc2_n5_mid3_d1000_05_mr098_r10_18.uai  \n",
       "\n",
       "[729 rows x 226 columns]"
      ]
     },
     "execution_count": 58,
     "metadata": {},
     "output_type": "execute_result"
    }
   ],
   "source": [
    "d1"
   ]
  },
  {
   "cell_type": "code",
   "execution_count": 7,
   "metadata": {},
   "outputs": [
    {
     "name": "stdout",
     "output_type": "stream",
     "text": [
      "index, pns_91, pns_92, trueState, pns_90, pns_95, pns_96, pns_93, pns_94, pns_99, pns_97, pns_98, datasize, pns_80, pns_81, pns_84, pns_85, pns_82, pns_83, pns_88, pns_89, pns_86, pns_87, pns_70, pns_73, pns_74, pns_71, pns_72, pns_77, pns_78, pns_75, pns_76, pns_79, pns_62, pns_63, pns_60, pns_61, pns_66, pns_67, pns_64, pns_65, pns_68, pns_69, iter_10, iter_11, iter_16, iter_17, iter_18, iter_19, iter_12, iter_13, iter_14, iter_15, stop_criteria, integration_metric, iter_30, iter_31, iter_32, iter_33, iter_38, modelPath, iter_39, iter_34, iter_35, cofounded_cause, iter_36, iter_37, iter_20, iter_21, iter_22, iter_27, iter_28, iter_29, iter_23, iter_24, iter_25, iter_26, pns_8, pns_9, pns_6, pns_7, pns_4, pns_5, pns_2, pns_3, pns_0, pns_1, iter_52, iter_53, iter_54, iter_55, iter_50, iter_51, pns_11, pns_12, pns_10, pns_15, iter_56, pns_16, iter_57, pns_13, iter_58, pns_14, iter_59, pns_19, pns_17, pns_18, time_learn, iter_41, iter_42, iter_43, iter_44, modelID, iter_40, iter_49, iter_45, iter_46, iter_47, iter_48, iter_74, iter_75, iter_76, iter_77, iter_70, iter_71, iter_72, iter_73, iter_78, iter_79, iter_80, iter_63, iter_64, iter_65, iter_66, iter_60, iter_61, iter_62, infoPath, iter_67, iter_9, iter_68, iter_8, iter_69, iter_7, iter_6, iter_5, iter_4, iter_3, iter_2, iter_1, iter_0, LL_local_LL_global, iter_96, iter_97, iter_98, iter_99, pns_51, iter_92, pns_52, iter_93, iter_94, pns_50, iter_95, pns_55, pns_56, pns_53, threshold, pns_54, pns_59, pns_57, pns_58, falseState, iter_85, iter_86, iter_87, iter_88, pns_40, iter_81, pns_41, iter_82, iter_83, iter_84, pns_44, pns_45, pns_42, pns_43, pns_48, iter_89, pns_49, pns_46, pns_47, effect, iter_90, iter_91, pns_30, iter_max, pns_33, pns_34, cause, pns_31, pns_32, pns_37, pns_38, pns_35, pns_36, pns_39, pns_22, model_type, pns_23, pns_20, pns_21, pns_26, pns_27, pns_24, pns_25, time_pns, pns_28, pns_29, file, network_type, mc, n, mid, d, inf, modelFile\n"
     ]
    }
   ],
   "source": [
    "print(\", \".join(d1.columns))"
   ]
  },
  {
   "cell_type": "markdown",
   "metadata": {},
   "source": [
    "Filter cases where ratio > 0.95 and save to pickle"
   ]
  },
  {
   "cell_type": "code",
   "execution_count": 63,
   "metadata": {},
   "outputs": [
    {
     "name": "stdout",
     "output_type": "stream",
     "text": [
      "(729, 226)\n"
     ]
    }
   ],
   "source": [
    "dta = dt.copy()\n",
    "print(dta.shape)\n",
    "dta['pns'] = dta.apply(lambda row: row[[f\"pns_{i}\" for i in range(100)]].values, axis=1)\n",
    "dta['pns_l'] = dta.pns.apply(min)\n",
    "dta['pns_u'] = dta.pns.apply(max)\n",
    "dta[\"L\"] = dta['pns_u'] - dta['pns_l']\n",
    "\n",
    "outdata=dta[[ \"cofounded_cause\", \"pns\", \"pns_l\", \"pns_u\", \"L\", \"model_type\", 'modelFile', ]]"
   ]
  },
  {
   "cell_type": "code",
   "execution_count": 65,
   "metadata": {},
   "outputs": [
    {
     "data": {
      "text/plain": [
       "0      100\n",
       "1      100\n",
       "2      100\n",
       "3      100\n",
       "4      100\n",
       "      ... \n",
       "724    100\n",
       "725    100\n",
       "726    100\n",
       "727    100\n",
       "728    100\n",
       "Name: pns, Length: 729, dtype: int64"
      ]
     },
     "execution_count": 65,
     "metadata": {},
     "output_type": "execute_result"
    }
   ],
   "source": [
    "outdata.pns.apply(lambda x: x).apply(len)"
   ]
  },
  {
   "cell_type": "code",
   "execution_count": 66,
   "metadata": {},
   "outputs": [],
   "source": [
    "outdata.to_pickle(\"pns_clear23.pickle\")"
   ]
  },
  {
   "cell_type": "code",
   "execution_count": 36,
   "metadata": {},
   "outputs": [
    {
     "data": {
      "text/plain": [
       "(303, 230)"
      ]
     },
     "execution_count": 36,
     "metadata": {},
     "output_type": "execute_result"
    }
   ],
   "source": [
    "dta.shape"
   ]
  },
  {
   "cell_type": "code",
   "execution_count": 37,
   "metadata": {},
   "outputs": [
    {
     "data": {
      "text/plain": [
       "count    303.000000\n",
       "mean       0.204146\n",
       "std        0.196536\n",
       "min        0.000000\n",
       "25%        0.037711\n",
       "50%        0.153000\n",
       "75%        0.277089\n",
       "max        0.837346\n",
       "Name: pns, dtype: float64"
      ]
     },
     "execution_count": 37,
     "metadata": {},
     "output_type": "execute_result"
    }
   ],
   "source": [
    "dta['pns'].apply(max).describe()"
   ]
  },
  {
   "cell_type": "code",
   "execution_count": 62,
   "metadata": {},
   "outputs": [],
   "source": [
    "\n",
    "outdata[[ \"cofounded_cause\", \"pns_l\", \"pns_u\", \"L\", \"model_type\", 'modelFile', ]].to_csv(\"pns_clear23.csv\")"
   ]
  },
  {
   "cell_type": "code",
   "execution_count": 40,
   "metadata": {},
   "outputs": [],
   "source": [
    "f = outdata.pivot(index=\"modelFile\", columns=\"model_type\", values=[\"pns_l\", \"pns_u\", \"L\"])"
   ]
  },
  {
   "cell_type": "code",
   "execution_count": 41,
   "metadata": {},
   "outputs": [],
   "source": [
    "f.columns = [ \"_\".join(c) for c in f.columns]"
   ]
  },
  {
   "cell_type": "code",
   "execution_count": 44,
   "metadata": {},
   "outputs": [],
   "source": [
    "f.reset_index().to_csv(\"pns_clear23_pivot.csv\")"
   ]
  },
  {
   "cell_type": "code",
   "execution_count": null,
   "metadata": {},
   "outputs": [],
   "source": []
  }
 ],
 "metadata": {
  "kernelspec": {
   "display_name": "Python 3.9.12 ('causal')",
   "language": "python",
   "name": "python3"
  },
  "language_info": {
   "codemirror_mode": {
    "name": "ipython",
    "version": 3
   },
   "file_extension": ".py",
   "mimetype": "text/x-python",
   "name": "python",
   "nbconvert_exporter": "python",
   "pygments_lexer": "ipython3",
   "version": "3.9.12"
  },
  "orig_nbformat": 4,
  "vscode": {
   "interpreter": {
    "hash": "b2256cb237836e0b32ce22305984fd71b607e595669096085081827973a36ac7"
   }
  }
 },
 "nbformat": 4,
 "nbformat_minor": 2
}
