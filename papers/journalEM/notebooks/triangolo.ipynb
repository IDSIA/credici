{
 "cells": [
  {
   "cell_type": "code",
   "execution_count": 2,
   "id": "40685249-a12b-4602-a1e5-c880329d0699",
   "metadata": {},
   "outputs": [
    {
     "data": {
      "text/plain": [
       "PosixPath('/Users/rcabanas/GoogleDrive/IDSIA/causality/dev/credici')"
      ]
     },
     "execution_count": 2,
     "metadata": {},
     "output_type": "execute_result"
    }
   ],
   "source": [
    "import subprocess\n",
    "import datetime\n",
    "import os\n",
    "import pandas as pd\n",
    "from datetime import datetime\n",
    "\n",
    "#### Parameter experiments\n",
    "modelname = \"triangolo\"\n",
    "sizes = [500,1000,1500,2000]\n",
    "####\n",
    "\n",
    "def gen_exec(cmd, check_return: bool = False):\n",
    "    popen = subprocess.Popen(cmd, stdout=subprocess.PIPE, universal_newlines=True)\n",
    "    for stdout_line in iter(popen.stdout.readline, \"\"):\n",
    "        yield stdout_line\n",
    "    popen.stdout.close()\n",
    "    return_code = popen.wait()\n",
    "    if return_code and check_return:\n",
    "        raise subprocess.CalledProcessError(return_code, cmd)\n",
    "\n",
    "\n",
    "def exec_bash(cmd: str, check_return: bool = False):\n",
    "    return [s for s in gen_exec(cmd.split(), check_return)]\n",
    "    \n",
    "def exec_bash_print(cmd: str, check_return: bool = False):\n",
    "    for path in gen_exec(cmd.split(), check_return):\n",
    "        print(path, end=\"\")\n",
    "        \n",
    "def strtime():\n",
    "    return datetime.now().strftime(\"%y%m%d_%H%M%S\")\n",
    "\n",
    "\n",
    "\n",
    "from pathlib import Path\n",
    "\n",
    "prj_path = Path(str(Path(\"../../../\").resolve())+\"/\")\n",
    "exp_folder = Path(prj_path, \"papers/journalEM/\")\n",
    "code_folder = Path(exp_folder, \"code\")\n",
    "res_folder = Path(exp_folder, \"output\")\n",
    "model_folder = Path(exp_folder, \"models\")\n",
    "data_folder = Path(exp_folder, \"data\")\n",
    "\n",
    "\n",
    "jar_file = Path(prj_path, \"target/credici-0.1.3-jar-with-dependencies.jar\")\n",
    "java = \"/Library/Java/JavaVirtualMachines/openjdk-12.0.1.jdk/Contents/Home/bin/java\"\n",
    "#java = \"java\"\n",
    "\n",
    "\n",
    "print(prj_path)\n",
    "print(exp_folder)\n",
    "print(res_folder)\n",
    "print(model_folder)\n",
    "\n",
    "print(jar_file)\n",
    "!pwd"
   ]
  },
  {
   "cell_type": "code",
   "execution_count": 40,
   "id": "0c792d2b-c5c6-4e4b-8372-afd0ecf038de",
   "metadata": {},
   "outputs": [],
   "source": [
    "def runEM(model, datafile, output, seed=0, maxiter=200):\n",
    "    args = \"\"\n",
    "    args += f\"--maxiter {maxiter} \" \n",
    "    args += f\"-w \"\n",
    "    args += f\"--seed {seed} \"\n",
    "    args += f\"--output {output} \"\n",
    "    args += f\"-d {datafile} \"\n",
    "    args += f\"{model} \"\n",
    "    \n",
    "    javafile = Path(code_folder, \"RunSingleEM.java\")\n",
    "\n",
    "    cmd = f\"{java} -cp {jar_file} {javafile} {args}\"\n",
    "    print(cmd)\n",
    "    exec_bash_print(cmd) \n",
    "\n",
    "def sampler(model, datafile, datasize=500, seed=0):\n",
    "\n",
    "    args = \"\"\n",
    "    args += f\"-d {datasize} \"\n",
    "    args += f\"--seed {seed} \"\n",
    "    args += f\"-o {datafile} \"\n",
    "    args += f\"{model}\"\n",
    "\n",
    "    javafile = Path(code_folder, \"Sampler.java\")\n",
    "\n",
    "\n",
    "    cmd = f\"{java} -cp {jar_file} {javafile} {args}\"\n",
    "    print(cmd)\n",
    "    exec_bash_print(cmd) \n",
    "    "
   ]
  },
  {
   "cell_type": "code",
   "execution_count": 63,
   "id": "0006642a-a867-4ed2-8bcf-2cfacf4c98d3",
   "metadata": {},
   "outputs": [],
   "source": [
    "# Check files\n",
    "model_causal = f\"{model_folder}/{modelname}_causal.uai\"\n",
    "model_empirical = f\"{model_folder}/{modelname}_empirical.uai\"\n",
    "\n",
    "if(not os.path.isfile(model_causal) or not os.path.isfile(model_empirical)):\n",
    "    raise ValueError(\"Model not found\")"
   ]
  },
  {
   "cell_type": "code",
   "execution_count": 64,
   "id": "ac3d2a4c-c9c4-4475-a24d-cccd92598e30",
   "metadata": {},
   "outputs": [],
   "source": []
  },
  {
   "cell_type": "code",
   "execution_count": 65,
   "id": "2cc1a35a-a0ab-40c0-bcec-f92870f2e900",
   "metadata": {},
   "outputs": [
    {
     "name": "stdout",
     "output_type": "stream",
     "text": [
      "/Users/rcabanas/GoogleDrive/IDSIA/causality/dev/credici/papers/journalEM/data/triangolo_data_d500.csv\n",
      "/Library/Java/JavaVirtualMachines/openjdk-12.0.1.jdk/Contents/Home/bin/java -cp /Users/rcabanas/GoogleDrive/IDSIA/causality/dev/credici/target/credici-0.1.3-jar-with-dependencies.jar /Users/rcabanas/GoogleDrive/IDSIA/causality/dev/credici/papers/journalEM/code/Sampler.java -d 500 --seed 0 -o /Users/rcabanas/GoogleDrive/IDSIA/causality/dev/credici/papers/journalEM/data/triangolo_data_d500.csv /Users/rcabanas/GoogleDrive/IDSIA/causality/dev/credici/papers/journalEM/models/triangolo_empirical.uai\n",
      "[2021-12-07T11:10:09.330632][INFO][java] Set up logging\n",
      "[2021-12-07T11:10:09.348732][INFO][java] args: -d;500;--seed;0;-o;/Users/rcabanas/GoogleDrive/IDSIA/causality/dev/credici/papers/journalEM/data/triangolo_data_d500.csv;/Users/rcabanas/GoogleDrive/IDSIA/causality/dev/credici/papers/journalEM/models/triangolo_empirical.uai\n",
      "[2021-12-07T11:10:09.351524][INFO][java] Starting logger with seed 0\n",
      "\n",
      "[2021-12-07T11:10:09.425507][INFO][java] Loading model from: /Users/rcabanas/GoogleDrive/IDSIA/causality/dev/credici/papers/journalEM/models/triangolo_empirical.uai\n",
      "[2021-12-07T11:10:09.427748][INFO][java] Generating 500 samples\n",
      "[2021-12-07T11:10:09.427884][INFO][java] Model is a BayesianNetwork\n",
      "[2021-12-07T11:10:09.572093][INFO][java] Saving data at:/Users/rcabanas/GoogleDrive/IDSIA/causality/dev/credici/papers/journalEM/data/triangolo_data_d500.csv\n",
      "[2021-12-07T11:10:09.606683][INFO][java] Closing log file\n",
      "/Users/rcabanas/GoogleDrive/IDSIA/causality/dev/credici/papers/journalEM/data/triangolo_data_d1000.csv\n",
      "/Library/Java/JavaVirtualMachines/openjdk-12.0.1.jdk/Contents/Home/bin/java -cp /Users/rcabanas/GoogleDrive/IDSIA/causality/dev/credici/target/credici-0.1.3-jar-with-dependencies.jar /Users/rcabanas/GoogleDrive/IDSIA/causality/dev/credici/papers/journalEM/code/Sampler.java -d 1000 --seed 0 -o /Users/rcabanas/GoogleDrive/IDSIA/causality/dev/credici/papers/journalEM/data/triangolo_data_d1000.csv /Users/rcabanas/GoogleDrive/IDSIA/causality/dev/credici/papers/journalEM/models/triangolo_empirical.uai\n",
      "[2021-12-07T11:10:10.662206][INFO][java] Set up logging\n",
      "[2021-12-07T11:10:10.685063][INFO][java] args: -d;1000;--seed;0;-o;/Users/rcabanas/GoogleDrive/IDSIA/causality/dev/credici/papers/journalEM/data/triangolo_data_d1000.csv;/Users/rcabanas/GoogleDrive/IDSIA/causality/dev/credici/papers/journalEM/models/triangolo_empirical.uai\n",
      "[2021-12-07T11:10:10.688547][INFO][java] Starting logger with seed 0\n",
      "\n",
      "[2021-12-07T11:10:10.752592][INFO][java] Loading model from: /Users/rcabanas/GoogleDrive/IDSIA/causality/dev/credici/papers/journalEM/models/triangolo_empirical.uai\n",
      "[2021-12-07T11:10:10.756480][INFO][java] Generating 1000 samples\n",
      "[2021-12-07T11:10:10.756614][INFO][java] Model is a BayesianNetwork\n",
      "[2021-12-07T11:10:11.028387][INFO][java] Saving data at:/Users/rcabanas/GoogleDrive/IDSIA/causality/dev/credici/papers/journalEM/data/triangolo_data_d1000.csv\n",
      "[2021-12-07T11:10:11.085281][INFO][java] Closing log file\n",
      "/Users/rcabanas/GoogleDrive/IDSIA/causality/dev/credici/papers/journalEM/data/triangolo_data_d1500.csv\n",
      "/Library/Java/JavaVirtualMachines/openjdk-12.0.1.jdk/Contents/Home/bin/java -cp /Users/rcabanas/GoogleDrive/IDSIA/causality/dev/credici/target/credici-0.1.3-jar-with-dependencies.jar /Users/rcabanas/GoogleDrive/IDSIA/causality/dev/credici/papers/journalEM/code/Sampler.java -d 1500 --seed 0 -o /Users/rcabanas/GoogleDrive/IDSIA/causality/dev/credici/papers/journalEM/data/triangolo_data_d1500.csv /Users/rcabanas/GoogleDrive/IDSIA/causality/dev/credici/papers/journalEM/models/triangolo_empirical.uai\n",
      "[2021-12-07T11:10:12.302143][INFO][java] Set up logging\n",
      "[2021-12-07T11:10:12.321927][INFO][java] args: -d;1500;--seed;0;-o;/Users/rcabanas/GoogleDrive/IDSIA/causality/dev/credici/papers/journalEM/data/triangolo_data_d1500.csv;/Users/rcabanas/GoogleDrive/IDSIA/causality/dev/credici/papers/journalEM/models/triangolo_empirical.uai\n",
      "[2021-12-07T11:10:12.325522][INFO][java] Starting logger with seed 0\n",
      "\n",
      "[2021-12-07T11:10:12.388905][INFO][java] Loading model from: /Users/rcabanas/GoogleDrive/IDSIA/causality/dev/credici/papers/journalEM/models/triangolo_empirical.uai\n",
      "[2021-12-07T11:10:12.391159][INFO][java] Generating 1500 samples\n",
      "[2021-12-07T11:10:12.391318][INFO][java] Model is a BayesianNetwork\n",
      "[2021-12-07T11:10:12.727930][INFO][java] Saving data at:/Users/rcabanas/GoogleDrive/IDSIA/causality/dev/credici/papers/journalEM/data/triangolo_data_d1500.csv\n",
      "[2021-12-07T11:10:12.779967][INFO][java] Closing log file\n",
      "/Users/rcabanas/GoogleDrive/IDSIA/causality/dev/credici/papers/journalEM/data/triangolo_data_d2000.csv\n",
      "/Library/Java/JavaVirtualMachines/openjdk-12.0.1.jdk/Contents/Home/bin/java -cp /Users/rcabanas/GoogleDrive/IDSIA/causality/dev/credici/target/credici-0.1.3-jar-with-dependencies.jar /Users/rcabanas/GoogleDrive/IDSIA/causality/dev/credici/papers/journalEM/code/Sampler.java -d 2000 --seed 0 -o /Users/rcabanas/GoogleDrive/IDSIA/causality/dev/credici/papers/journalEM/data/triangolo_data_d2000.csv /Users/rcabanas/GoogleDrive/IDSIA/causality/dev/credici/papers/journalEM/models/triangolo_empirical.uai\n",
      "[2021-12-07T11:10:14.009889][INFO][java] Set up logging\n",
      "[2021-12-07T11:10:14.040338][INFO][java] args: -d;2000;--seed;0;-o;/Users/rcabanas/GoogleDrive/IDSIA/causality/dev/credici/papers/journalEM/data/triangolo_data_d2000.csv;/Users/rcabanas/GoogleDrive/IDSIA/causality/dev/credici/papers/journalEM/models/triangolo_empirical.uai\n",
      "[2021-12-07T11:10:14.043967][INFO][java] Starting logger with seed 0\n",
      "\n",
      "[2021-12-07T11:10:14.118374][INFO][java] Loading model from: /Users/rcabanas/GoogleDrive/IDSIA/causality/dev/credici/papers/journalEM/models/triangolo_empirical.uai\n",
      "[2021-12-07T11:10:14.121040][INFO][java] Generating 2000 samples\n",
      "[2021-12-07T11:10:14.121202][INFO][java] Model is a BayesianNetwork\n",
      "[2021-12-07T11:10:14.469834][INFO][java] Saving data at:/Users/rcabanas/GoogleDrive/IDSIA/causality/dev/credici/papers/journalEM/data/triangolo_data_d2000.csv\n",
      "[2021-12-07T11:10:14.525346][INFO][java] Closing log file\n"
     ]
    }
   ],
   "source": [
    "# Data sampling\n",
    "\n",
    "for datasize in sizes:\n",
    "    datafile = f\"{data_folder}/{modelname}_data_d{datasize}.csv\"\n",
    "    print(datafile)\n",
    "    sampler(model_empirical, datafile, datasize)"
   ]
  },
  {
   "cell_type": "code",
   "execution_count": 67,
   "id": "ec9e3ccb-0456-4203-bf4e-ccf9996b2ef2",
   "metadata": {},
   "outputs": [
    {
     "name": "stdout",
     "output_type": "stream",
     "text": [
      "/Library/Java/JavaVirtualMachines/openjdk-12.0.1.jdk/Contents/Home/bin/java -cp /Users/rcabanas/GoogleDrive/IDSIA/causality/dev/credici/target/credici-0.1.3-jar-with-dependencies.jar /Users/rcabanas/GoogleDrive/IDSIA/causality/dev/credici/papers/journalEM/code/RunSingleEM.java --maxiter 2 -w --seed 0 --output /Users/rcabanas/GoogleDrive/IDSIA/causality/dev/credici/papers/journalEM/output/triangolo/500 -d /Users/rcabanas/GoogleDrive/IDSIA/causality/dev/credici/papers/journalEM/data/triangolo_data_d500.csv /Users/rcabanas/GoogleDrive/IDSIA/causality/dev/credici/papers/journalEM/models/triangolo_causal.uai \n",
      "[2021-12-07T11:22:59.855321][INFO][java] Set up logging\n",
      "[2021-12-07T11:22:59.881611][INFO][java] args: --maxiter;2;-w;--seed;0;--output;/Users/rcabanas/GoogleDrive/IDSIA/causality/dev/credici/papers/journalEM/output/triangolo/500;-d;/Users/rcabanas/GoogleDrive/IDSIA/causality/dev/credici/papers/journalEM/data/triangolo_data_d500.csv;/Users/rcabanas/GoogleDrive/IDSIA/causality/dev/credici/papers/journalEM/models/triangolo_causal.uai\n",
      "[2021-12-07T11:22:59.885284][INFO][java] Starting logger with seed 0\n",
      "[2021-12-07T11:23:00.398738][INFO][java] Loaded model from: /Users/rcabanas/GoogleDrive/IDSIA/causality/dev/credici/papers/journalEM/models/triangolo_causal.uai\n",
      "[2021-12-07T11:23:00.472194][INFO][java] Loaded 500 data instances from: /Users/rcabanas/GoogleDrive/IDSIA/causality/dev/credici/papers/journalEM/data/triangolo_data_d500.csv\n",
      "[2021-12-07T11:23:00.589608][INFO][java] Empirical distribution from data: {[0]=P([0, 2, 7, 8, 11]) [0.42857142857142855, 0.5714285714285714, 0.125, 0.875, 0.18518518518518517, 0.8148148148148148, 0.4444444444444444, 0.5555555555555556, 0.4883720930232558, 0.5116279069767442, 0.23076923076923078, 0.7692307692307693, 0.37333333333333335, 0.6266666666666667, 0.1935483870967742, 0.8064516129032258, 0.5, 0.5, 0.6, 0.4, 0.022222222222222223, 0.9777777777777777, 0.0, 1.0, 0.2571428571428571, 0.7428571428571429, 0.42857142857142855, 0.5714285714285714, 0.06422018348623854, 0.9357798165137615, 0.08333333333333333, 0.9166666666666666], [1]=P([1]) [0.604, 0.396], [2]=P([2, 9]) [0.7909604519774012, 0.20903954802259886, 0.589041095890411, 0.410958904109589], [3]=P([1, 3]) [0.7185430463576159, 0.9141414141414141, 0.2814569536423841, 0.08585858585858586], [4]=P([4]) [0.256, 0.744], [5]=P([5, 8]) [0.2846715328467153, 0.7153284671532847, 0.3443526170798898, 0.6556473829201102], [6]=P([1, 3, 6, 10]) [0.375, 0.4304635761589404, 0.046511627906976744, 0.23076923076923078, 0.625, 0.5695364238410596, 0.9534883720930233, 0.7692307692307693, 0.25773195876288657, 0.3, 0.11904761904761904, 0.0, 0.7422680412371134, 0.7, 0.8809523809523809, 1.0], [7]=P([1, 5, 7]) [0.4105263157894737, 0.4782608695652174, 0.2222222222222222, 0.3023255813953488, 0.5894736842105263, 0.5217391304347826, 0.7777777777777778, 0.6976744186046512], [8]=P([1, 8, 10]) [0.3374233128834356, 0.10365853658536585, 0.6625766871165644, 0.8963414634146342, 0.381294964028777, 0.35294117647058826, 0.6187050359712231, 0.6470588235294118], [9]=P([1, 9]) [0.695364238410596, 0.7272727272727273, 0.304635761589404, 0.2727272727272727], [10]=P([1, 4, 10]) [0.7906976744186046, 0.9523809523809523, 0.4398148148148148, 0.7948717948717948, 0.20930232558139536, 0.047619047619047616, 0.5601851851851852, 0.20512820512820512], [11]=P([6, 11]) [0.9805194805194806, 0.1994219653179191, 0.01948051948051948, 0.8005780346820809]}\n",
      "[2021-12-07T11:23:00.616654][INFO][java] Starting EM algorithm\n",
      "[2021-12-07T11:24:41.373609][INFO][java] Single EM run (2 iterations) finished in 100717 ms.\n",
      "[2021-12-07T11:24:41.374554][INFO][java] Induced distribution from data: {[0]=P([0, 2, 7, 8, 11]) [0.516, 0.484, 0.51, 0.49, 0.334, 0.666, 0.507, 0.493, 0.625, 0.375, 0.482, 0.518, 0.436, 0.564, 0.364, 0.636, 0.458, 0.542, 0.644, 0.356, 0.327, 0.673, 0.624, 0.376, 0.605, 0.395, 0.506, 0.494, 0.363, 0.637, 0.32, 0.68], [1]=P([1]) [0.604, 0.396], [2]=P([2, 9]) [0.745, 0.255, 0.708, 0.292], [3]=P([1, 3]) [0.625, 0.634, 0.375, 0.366], [4]=P([4]) [0.256, 0.744], [5]=P([5, 8]) [0.374, 0.626, 0.317, 0.683], [6]=P([1, 3, 6, 10]) [0.542, 0.513, 0.327, 0.189, 0.458, 0.487, 0.673, 0.811, 0.098, 0.809, 0.396, 0.737, 0.902, 0.191, 0.604, 0.263], [7]=P([1, 5, 7]) [0.599, 0.3, 0.47, 0.371, 0.401, 0.7, 0.53, 0.629], [8]=P([1, 8, 10]) [0.504, 0.512, 0.496, 0.488, 0.7, 0.661, 0.3, 0.339], [9]=P([1, 9]) [0.656, 0.622, 0.344, 0.378], [10]=P([1, 4, 10]) [0.515, 0.382, 0.53, 0.758, 0.485, 0.618, 0.47, 0.242], [11]=P([6, 11]) [0.773, 0.235, 0.227, 0.765]}\n",
      "[2021-12-07T11:24:41.378622][INFO][java] Saving precise model at /Users/rcabanas/GoogleDrive/IDSIA/causality/dev/credici/papers/journalEM/output/triangolo/500/triangolo_causal_0.uai\n",
      "[2021-12-07T11:24:42.963573][INFO][java] Saving statistics at at /Users/rcabanas/GoogleDrive/IDSIA/causality/dev/credici/papers/journalEM/output/triangolo/500/triangolo_causal_0.csv\n",
      "[2021-12-07T11:24:42.971747][INFO][java] Closing log file\n",
      "/Library/Java/JavaVirtualMachines/openjdk-12.0.1.jdk/Contents/Home/bin/java -cp /Users/rcabanas/GoogleDrive/IDSIA/causality/dev/credici/target/credici-0.1.3-jar-with-dependencies.jar /Users/rcabanas/GoogleDrive/IDSIA/causality/dev/credici/papers/journalEM/code/RunSingleEM.java --maxiter 2 -w --seed 1 --output /Users/rcabanas/GoogleDrive/IDSIA/causality/dev/credici/papers/journalEM/output/triangolo/500 -d /Users/rcabanas/GoogleDrive/IDSIA/causality/dev/credici/papers/journalEM/data/triangolo_data_d500.csv /Users/rcabanas/GoogleDrive/IDSIA/causality/dev/credici/papers/journalEM/models/triangolo_causal.uai \n",
      "[2021-12-07T11:24:44.073866][INFO][java] Set up logging\n",
      "[2021-12-07T11:24:44.099004][INFO][java] args: --maxiter;2;-w;--seed;1;--output;/Users/rcabanas/GoogleDrive/IDSIA/causality/dev/credici/papers/journalEM/output/triangolo/500;-d;/Users/rcabanas/GoogleDrive/IDSIA/causality/dev/credici/papers/journalEM/data/triangolo_data_d500.csv;/Users/rcabanas/GoogleDrive/IDSIA/causality/dev/credici/papers/journalEM/models/triangolo_causal.uai\n",
      "[2021-12-07T11:24:44.102379][INFO][java] Starting logger with seed 1\n",
      "[2021-12-07T11:24:44.621278][INFO][java] Loaded model from: /Users/rcabanas/GoogleDrive/IDSIA/causality/dev/credici/papers/journalEM/models/triangolo_causal.uai\n",
      "[2021-12-07T11:24:44.684053][INFO][java] Loaded 500 data instances from: /Users/rcabanas/GoogleDrive/IDSIA/causality/dev/credici/papers/journalEM/data/triangolo_data_d500.csv\n",
      "[2021-12-07T11:24:44.788076][INFO][java] Empirical distribution from data: {[0]=P([0, 2, 7, 8, 11]) [0.42857142857142855, 0.5714285714285714, 0.125, 0.875, 0.18518518518518517, 0.8148148148148148, 0.4444444444444444, 0.5555555555555556, 0.4883720930232558, 0.5116279069767442, 0.23076923076923078, 0.7692307692307693, 0.37333333333333335, 0.6266666666666667, 0.1935483870967742, 0.8064516129032258, 0.5, 0.5, 0.6, 0.4, 0.022222222222222223, 0.9777777777777777, 0.0, 1.0, 0.2571428571428571, 0.7428571428571429, 0.42857142857142855, 0.5714285714285714, 0.06422018348623854, 0.9357798165137615, 0.08333333333333333, 0.9166666666666666], [1]=P([1]) [0.604, 0.396], [2]=P([2, 9]) [0.7909604519774012, 0.20903954802259886, 0.589041095890411, 0.410958904109589], [3]=P([1, 3]) [0.7185430463576159, 0.9141414141414141, 0.2814569536423841, 0.08585858585858586], [4]=P([4]) [0.256, 0.744], [5]=P([5, 8]) [0.2846715328467153, 0.7153284671532847, 0.3443526170798898, 0.6556473829201102], [6]=P([1, 3, 6, 10]) [0.375, 0.4304635761589404, 0.046511627906976744, 0.23076923076923078, 0.625, 0.5695364238410596, 0.9534883720930233, 0.7692307692307693, 0.25773195876288657, 0.3, 0.11904761904761904, 0.0, 0.7422680412371134, 0.7, 0.8809523809523809, 1.0], [7]=P([1, 5, 7]) [0.4105263157894737, 0.4782608695652174, 0.2222222222222222, 0.3023255813953488, 0.5894736842105263, 0.5217391304347826, 0.7777777777777778, 0.6976744186046512], [8]=P([1, 8, 10]) [0.3374233128834356, 0.10365853658536585, 0.6625766871165644, 0.8963414634146342, 0.381294964028777, 0.35294117647058826, 0.6187050359712231, 0.6470588235294118], [9]=P([1, 9]) [0.695364238410596, 0.7272727272727273, 0.304635761589404, 0.2727272727272727], [10]=P([1, 4, 10]) [0.7906976744186046, 0.9523809523809523, 0.4398148148148148, 0.7948717948717948, 0.20930232558139536, 0.047619047619047616, 0.5601851851851852, 0.20512820512820512], [11]=P([6, 11]) [0.9805194805194806, 0.1994219653179191, 0.01948051948051948, 0.8005780346820809]}\n",
      "[2021-12-07T11:24:44.815495][INFO][java] Starting EM algorithm\n"
     ]
    },
    {
     "ename": "KeyboardInterrupt",
     "evalue": "",
     "output_type": "error",
     "traceback": [
      "\u001b[0;31m---------------------------------------------------------------------------\u001b[0m",
      "\u001b[0;31mKeyboardInterrupt\u001b[0m                         Traceback (most recent call last)",
      "\u001b[0;32m<ipython-input-67-764c0ba493bb>\u001b[0m in \u001b[0;36m<module>\u001b[0;34m\u001b[0m\n\u001b[1;32m      6\u001b[0m     \u001b[0mdatafile\u001b[0m \u001b[0;34m=\u001b[0m \u001b[0;34mf\"{data_folder}/{modelname}_data_d{datasize}.csv\"\u001b[0m\u001b[0;34m\u001b[0m\u001b[0;34m\u001b[0m\u001b[0m\n\u001b[1;32m      7\u001b[0m     \u001b[0;32mfor\u001b[0m \u001b[0ms\u001b[0m \u001b[0;32min\u001b[0m \u001b[0mrange\u001b[0m\u001b[0;34m(\u001b[0m\u001b[0;36m0\u001b[0m\u001b[0;34m,\u001b[0m\u001b[0;36m5\u001b[0m\u001b[0;34m)\u001b[0m\u001b[0;34m:\u001b[0m\u001b[0;34m\u001b[0m\u001b[0;34m\u001b[0m\u001b[0m\n\u001b[0;32m----> 8\u001b[0;31m         \u001b[0mrunEM\u001b[0m\u001b[0;34m(\u001b[0m\u001b[0mmodel_causal\u001b[0m\u001b[0;34m,\u001b[0m \u001b[0mdatafile\u001b[0m\u001b[0;34m,\u001b[0m \u001b[0moutput\u001b[0m\u001b[0;34m,\u001b[0m \u001b[0mseed\u001b[0m\u001b[0;34m=\u001b[0m\u001b[0ms\u001b[0m\u001b[0;34m,\u001b[0m \u001b[0mmaxiter\u001b[0m\u001b[0;34m=\u001b[0m\u001b[0;36m2\u001b[0m\u001b[0;34m)\u001b[0m\u001b[0;34m\u001b[0m\u001b[0;34m\u001b[0m\u001b[0m\n\u001b[0m",
      "\u001b[0;32m<ipython-input-40-ccc828951b77>\u001b[0m in \u001b[0;36mrunEM\u001b[0;34m(model, datafile, output, seed, maxiter)\u001b[0m\n\u001b[1;32m     12\u001b[0m     \u001b[0mcmd\u001b[0m \u001b[0;34m=\u001b[0m \u001b[0;34mf\"{java} -cp {jar_file} {javafile} {args}\"\u001b[0m\u001b[0;34m\u001b[0m\u001b[0;34m\u001b[0m\u001b[0m\n\u001b[1;32m     13\u001b[0m     \u001b[0mprint\u001b[0m\u001b[0;34m(\u001b[0m\u001b[0mcmd\u001b[0m\u001b[0;34m)\u001b[0m\u001b[0;34m\u001b[0m\u001b[0;34m\u001b[0m\u001b[0m\n\u001b[0;32m---> 14\u001b[0;31m     \u001b[0mexec_bash_print\u001b[0m\u001b[0;34m(\u001b[0m\u001b[0mcmd\u001b[0m\u001b[0;34m)\u001b[0m\u001b[0;34m\u001b[0m\u001b[0;34m\u001b[0m\u001b[0m\n\u001b[0m",
      "\u001b[0;32m<ipython-input-2-d0eb5b2f33dc>\u001b[0m in \u001b[0;36mexec_bash_print\u001b[0;34m(cmd, check_return)\u001b[0m\n\u001b[1;32m     21\u001b[0m \u001b[0;34m\u001b[0m\u001b[0m\n\u001b[1;32m     22\u001b[0m \u001b[0;32mdef\u001b[0m \u001b[0mexec_bash_print\u001b[0m\u001b[0;34m(\u001b[0m\u001b[0mcmd\u001b[0m\u001b[0;34m:\u001b[0m \u001b[0mstr\u001b[0m\u001b[0;34m,\u001b[0m \u001b[0mcheck_return\u001b[0m\u001b[0;34m:\u001b[0m \u001b[0mbool\u001b[0m \u001b[0;34m=\u001b[0m \u001b[0;32mFalse\u001b[0m\u001b[0;34m)\u001b[0m\u001b[0;34m:\u001b[0m\u001b[0;34m\u001b[0m\u001b[0;34m\u001b[0m\u001b[0m\n\u001b[0;32m---> 23\u001b[0;31m     \u001b[0;32mfor\u001b[0m \u001b[0mpath\u001b[0m \u001b[0;32min\u001b[0m \u001b[0mgen_exec\u001b[0m\u001b[0;34m(\u001b[0m\u001b[0mcmd\u001b[0m\u001b[0;34m.\u001b[0m\u001b[0msplit\u001b[0m\u001b[0;34m(\u001b[0m\u001b[0;34m)\u001b[0m\u001b[0;34m,\u001b[0m \u001b[0mcheck_return\u001b[0m\u001b[0;34m)\u001b[0m\u001b[0;34m:\u001b[0m\u001b[0;34m\u001b[0m\u001b[0;34m\u001b[0m\u001b[0m\n\u001b[0m\u001b[1;32m     24\u001b[0m         \u001b[0mprint\u001b[0m\u001b[0;34m(\u001b[0m\u001b[0mpath\u001b[0m\u001b[0;34m,\u001b[0m \u001b[0mend\u001b[0m\u001b[0;34m=\u001b[0m\u001b[0;34m\"\"\u001b[0m\u001b[0;34m)\u001b[0m\u001b[0;34m\u001b[0m\u001b[0;34m\u001b[0m\u001b[0m\n\u001b[1;32m     25\u001b[0m \u001b[0;34m\u001b[0m\u001b[0m\n",
      "\u001b[0;32m<ipython-input-2-d0eb5b2f33dc>\u001b[0m in \u001b[0;36mgen_exec\u001b[0;34m(cmd, check_return)\u001b[0m\n\u001b[1;32m      9\u001b[0m \u001b[0;32mdef\u001b[0m \u001b[0mgen_exec\u001b[0m\u001b[0;34m(\u001b[0m\u001b[0mcmd\u001b[0m\u001b[0;34m,\u001b[0m \u001b[0mcheck_return\u001b[0m\u001b[0;34m:\u001b[0m \u001b[0mbool\u001b[0m \u001b[0;34m=\u001b[0m \u001b[0;32mFalse\u001b[0m\u001b[0;34m)\u001b[0m\u001b[0;34m:\u001b[0m\u001b[0;34m\u001b[0m\u001b[0;34m\u001b[0m\u001b[0m\n\u001b[1;32m     10\u001b[0m     \u001b[0mpopen\u001b[0m \u001b[0;34m=\u001b[0m \u001b[0msubprocess\u001b[0m\u001b[0;34m.\u001b[0m\u001b[0mPopen\u001b[0m\u001b[0;34m(\u001b[0m\u001b[0mcmd\u001b[0m\u001b[0;34m,\u001b[0m \u001b[0mstdout\u001b[0m\u001b[0;34m=\u001b[0m\u001b[0msubprocess\u001b[0m\u001b[0;34m.\u001b[0m\u001b[0mPIPE\u001b[0m\u001b[0;34m,\u001b[0m \u001b[0muniversal_newlines\u001b[0m\u001b[0;34m=\u001b[0m\u001b[0;32mTrue\u001b[0m\u001b[0;34m)\u001b[0m\u001b[0;34m\u001b[0m\u001b[0;34m\u001b[0m\u001b[0m\n\u001b[0;32m---> 11\u001b[0;31m     \u001b[0;32mfor\u001b[0m \u001b[0mstdout_line\u001b[0m \u001b[0;32min\u001b[0m \u001b[0miter\u001b[0m\u001b[0;34m(\u001b[0m\u001b[0mpopen\u001b[0m\u001b[0;34m.\u001b[0m\u001b[0mstdout\u001b[0m\u001b[0;34m.\u001b[0m\u001b[0mreadline\u001b[0m\u001b[0;34m,\u001b[0m \u001b[0;34m\"\"\u001b[0m\u001b[0;34m)\u001b[0m\u001b[0;34m:\u001b[0m\u001b[0;34m\u001b[0m\u001b[0;34m\u001b[0m\u001b[0m\n\u001b[0m\u001b[1;32m     12\u001b[0m         \u001b[0;32myield\u001b[0m \u001b[0mstdout_line\u001b[0m\u001b[0;34m\u001b[0m\u001b[0;34m\u001b[0m\u001b[0m\n\u001b[1;32m     13\u001b[0m     \u001b[0mpopen\u001b[0m\u001b[0;34m.\u001b[0m\u001b[0mstdout\u001b[0m\u001b[0;34m.\u001b[0m\u001b[0mclose\u001b[0m\u001b[0;34m(\u001b[0m\u001b[0;34m)\u001b[0m\u001b[0;34m\u001b[0m\u001b[0;34m\u001b[0m\u001b[0m\n",
      "\u001b[0;31mKeyboardInterrupt\u001b[0m: "
     ]
    }
   ],
   "source": [
    "# EM\n",
    "for datasize in sizes:\n",
    "    output = f\"{res_folder}/{modelname}/{datasize}\"\n",
    "    if not os.path.exists(output):\n",
    "        os.makedirs(output)\n",
    "    \n",
    "    datafile = f\"{data_folder}/{modelname}_data_d{datasize}.csv\"\n",
    "    for s in range(0,5):\n",
    "        runEM(model_causal, datafile, output, seed=s, maxiter=200)"
   ]
  }
 ],
 "metadata": {
  "kernelspec": {
   "display_name": "Python 3",
   "language": "python",
   "name": "python3"
  },
  "language_info": {
   "codemirror_mode": {
    "name": "ipython",
    "version": 3
   },
   "file_extension": ".py",
   "mimetype": "text/x-python",
   "name": "python",
   "nbconvert_exporter": "python",
   "pygments_lexer": "ipython3",
   "version": "3.8.5"
  }
 },
 "nbformat": 4,
 "nbformat_minor": 5
}
