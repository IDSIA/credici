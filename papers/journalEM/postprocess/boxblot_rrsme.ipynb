{
 "cells": [
  {
   "cell_type": "code",
   "execution_count": 107,
   "id": "d7173e9b-a78b-4283-8866-bba915d4db50",
   "metadata": {},
   "outputs": [],
   "source": [
    "import os\n",
    "from pathlib import Path\n",
    "import pandas as pd\n",
    "import numpy as np\n"
   ]
  },
  {
   "cell_type": "code",
   "execution_count": 194,
   "id": "4d854e1c-9a2e-425e-803c-69b50c9391e7",
   "metadata": {},
   "outputs": [],
   "source": [
    "prj_dir = Path(\"/Users/rcabanas/GoogleDrive/IDSIA/causality/dev/credici/papers/journalEM/\")\n",
    "res_dir = Path(prj_dir, \"./output/synthetic/s123b/\")\n",
    "os.chdir(prj_dir)"
   ]
  },
  {
   "cell_type": "code",
   "execution_count": 195,
   "id": "ab2db8c1-ccc1-4017-8856-e1590bfff872",
   "metadata": {},
   "outputs": [
    {
     "name": "stdout",
     "output_type": "stream",
     "text": [
      "read 215 180\n"
     ]
    }
   ],
   "source": [
    "files = [Path(res_dir, f) for f in os.listdir(res_dir) if f.endswith(\".csv\")]\n",
    "files_ccalp = [f for f in files if any([s in str(f) for s in [\"ccalp\"]])]\n",
    "files_ccve = [f for f in files if any([s in str(f) for s in [\"ccve\"]])]\n",
    "\n",
    "print(f\"read {len(files_ccve)} {len(files_ccalp)}\")"
   ]
  },
  {
   "cell_type": "code",
   "execution_count": 196,
   "id": "bd5af49b-542d-4ca7-84b7-06ba2f4b1e0a",
   "metadata": {},
   "outputs": [],
   "source": [
    "df0 = pd.concat([pd.read_csv(f) for f in files_ccve])\n",
    "df1 = pd.concat([pd.read_csv(f) for f in files_ccalp])\n"
   ]
  },
  {
   "cell_type": "code",
   "execution_count": 197,
   "id": "90f8db44-2483-4fff-a659-2fc084fbc6b6",
   "metadata": {},
   "outputs": [],
   "source": [
    "assert len(df0.modelID.unique()) == len(df0.modelID)\n",
    "assert len(df1.modelID.unique()) == len(df1.modelID)"
   ]
  },
  {
   "cell_type": "code",
   "execution_count": 198,
   "id": "f8b8f875-5c63-45c2-9a4b-77562afcdc95",
   "metadata": {},
   "outputs": [
    {
     "data": {
      "text/plain": [
       "Index(['trueState', 'method', 'modelID', 'modelPath', 'cause', 'infoPath',\n",
       "       'time_pns', 'falseState', 'pns_u', 'effect', 'exact', 'time_learn',\n",
       "       'pns_l'],\n",
       "      dtype='object')"
      ]
     },
     "execution_count": 198,
     "metadata": {},
     "output_type": "execute_result"
    }
   ],
   "source": [
    "df0.columns"
   ]
  },
  {
   "cell_type": "code",
   "execution_count": 199,
   "id": "8dddc423-39ae-449e-968c-fa9a9df00dd0",
   "metadata": {},
   "outputs": [],
   "source": [
    "cols = [\"modelID\", \"pns_l\", \"pns_u\"]\n"
   ]
  },
  {
   "cell_type": "code",
   "execution_count": 200,
   "id": "235a8cbb-4291-4090-949d-35bbd5236e78",
   "metadata": {},
   "outputs": [],
   "source": [
    "df = df0[[\"modelID\", \"pns_l\", \"pns_u\"]].merge(df1[[\"modelID\", \"pns_l\", \"pns_u\"]], on =\"modelID\", suffixes=(\"_ve\", \"_lp\"),)"
   ]
  },
  {
   "cell_type": "code",
   "execution_count": 201,
   "id": "10aab6e2-6996-4121-abd0-3c31dffb90b1",
   "metadata": {},
   "outputs": [
    {
     "data": {
      "text/plain": [
       "modelID     random_mc2_n5_mid3_d1000_05_mr098_r10_126_uai\n",
       "pns_l_ve                                         0.425784\n",
       "pns_u_ve                                         0.655406\n",
       "pns_l_lp                                         0.425784\n",
       "pns_u_lp                                         0.655406\n",
       "Name: 2, dtype: object"
      ]
     },
     "execution_count": 201,
     "metadata": {},
     "output_type": "execute_result"
    }
   ],
   "source": [
    "df.loc[2]"
   ]
  },
  {
   "cell_type": "code",
   "execution_count": 202,
   "id": "3727eb6b-7921-47f9-903e-a59d8fafafe5",
   "metadata": {},
   "outputs": [],
   "source": [
    "lb_exact, ub_exact = 0.033535,0.150623\n",
    "lb_approx, ub_approx = 0.034858, 0.150623"
   ]
  },
  {
   "cell_type": "code",
   "execution_count": 203,
   "id": "92223584-5577-4226-8821-560ea97330aa",
   "metadata": {},
   "outputs": [],
   "source": [
    "def rrmse(lb_exact, ub_exact, lb_approx, ub_approx):\n",
    "    a,b, a_,b_ = lb_exact, ub_exact, lb_approx, ub_approx\n",
    "    if (b_ - a_ == 0) or (b - a == 0): return 0\n",
    "    #if b_ - a_ == 0 and a==a_ and b==b_: return 0\n",
    "    return math.sqrt(((a-a_)**2 + (b-b_)**2)/(2*((b_ - a_)**2)))"
   ]
  },
  {
   "cell_type": "code",
   "execution_count": 204,
   "id": "9ae6b93e-d442-4db3-9c0b-c89a1a38eb05",
   "metadata": {},
   "outputs": [],
   "source": [
    "df[\"rrsme\"] = df.apply(lambda t: rrmse(t[\"pns_l_ve\"],t[\"pns_u_ve\"],t[\"pns_l_lp\"],t[\"pns_u_lp\"]), axis=1)"
   ]
  },
  {
   "cell_type": "code",
   "execution_count": 205,
   "id": "4682f08f-a2c2-4f73-a0ff-f4e7dbcb9c04",
   "metadata": {},
   "outputs": [
    {
     "data": {
      "text/plain": [
       "10240"
      ]
     },
     "execution_count": 205,
     "metadata": {},
     "output_type": "execute_result"
    }
   ],
   "source": [
    "10*2**10"
   ]
  },
  {
   "cell_type": "code",
   "execution_count": 206,
   "id": "e29933aa-8862-4995-b12e-d928ce47ec01",
   "metadata": {},
   "outputs": [
    {
     "data": {
      "text/plain": [
       "0.013736791850420028"
      ]
     },
     "execution_count": 206,
     "metadata": {},
     "output_type": "execute_result"
    }
   ],
   "source": [
    "df.rrsme.dropna().mean()"
   ]
  },
  {
   "cell_type": "code",
   "execution_count": 207,
   "id": "9e3d8c5b-e4da-49fd-8ccc-b72c00c20129",
   "metadata": {},
   "outputs": [
    {
     "data": {
      "text/plain": [
       "0.013736791850420028"
      ]
     },
     "execution_count": 207,
     "metadata": {},
     "output_type": "execute_result"
    }
   ],
   "source": [
    "df.rrsme.dropna().mean()"
   ]
  },
  {
   "cell_type": "code",
   "execution_count": null,
   "id": "e464871e-237e-485d-8317-1ad8642242b3",
   "metadata": {},
   "outputs": [],
   "source": []
  },
  {
   "cell_type": "code",
   "execution_count": null,
   "id": "c7d1065d-77d5-4722-a3a3-8dac2b029890",
   "metadata": {},
   "outputs": [],
   "source": []
  },
  {
   "cell_type": "code",
   "execution_count": 211,
   "id": "231487f8-8744-4cf0-86dc-36dc211ac6c5",
   "metadata": {},
   "outputs": [
    {
     "data": {
      "text/plain": [
       "(1, 200)"
      ]
     },
     "execution_count": 211,
     "metadata": {},
     "output_type": "execute_result"
    }
   ],
   "source": [
    "idx = [int(f.split(\"_\")[-2])for f in df0.modelID]\n",
    "min(idx), max(idx)"
   ]
  },
  {
   "cell_type": "code",
   "execution_count": 212,
   "id": "2bcdde5f-7b08-4c24-8ec2-a25c0930ad7e",
   "metadata": {},
   "outputs": [
    {
     "data": {
      "text/plain": [
       "(100, 200)"
      ]
     },
     "execution_count": 212,
     "metadata": {},
     "output_type": "execute_result"
    }
   ],
   "source": [
    "idx = [int(f.split(\"_\")[-2]) for f in df1.modelID]\n",
    "min(idx), max(idx)"
   ]
  },
  {
   "cell_type": "code",
   "execution_count": 188,
   "id": "a2f5d934-5957-4d6e-853c-548f2df35921",
   "metadata": {},
   "outputs": [
    {
     "data": {
      "text/plain": [
       "0     random_mc2_n9_mid3_d1000_05_mr098_r10_10_uai\n",
       "0     random_mc2_n6_mid3_d1000_05_mr098_r10_91_uai\n",
       "0    random_mc2_n9_mid3_d1000_05_mr098_r10_192_uai\n",
       "0    random_mc2_n6_mid3_d1000_05_mr098_r10_146_uai\n",
       "0    random_mc2_n5_mid3_d1000_05_mr098_r10_147_uai\n",
       "                         ...                      \n",
       "0    random_mc2_n6_mid3_d1000_05_mr098_r10_167_uai\n",
       "0    random_mc2_n9_mid3_d1000_05_mr098_r10_152_uai\n",
       "0    random_mc2_n5_mid3_d1000_05_mr098_r10_121_uai\n",
       "0     random_mc2_n7_mid3_d1000_05_mr098_r10_65_uai\n",
       "0    random_mc2_n8_mid3_d1000_05_mr098_r10_119_uai\n",
       "Name: modelID, Length: 304, dtype: object"
      ]
     },
     "execution_count": 188,
     "metadata": {},
     "output_type": "execute_result"
    }
   ],
   "source": [
    "df1.modelID"
   ]
  },
  {
   "cell_type": "code",
   "execution_count": null,
   "id": "4ab63a03-c8d3-4eb0-bafb-b4f279fb1d18",
   "metadata": {},
   "outputs": [],
   "source": []
  },
  {
   "cell_type": "code",
   "execution_count": null,
   "id": "d0976b3b-c8f1-405d-a5e1-f06775127f46",
   "metadata": {},
   "outputs": [],
   "source": []
  },
  {
   "cell_type": "code",
   "execution_count": null,
   "id": "20f446c2-f8dc-4669-bb93-b432cda517eb",
   "metadata": {},
   "outputs": [],
   "source": []
  },
  {
   "cell_type": "code",
   "execution_count": null,
   "id": "2dd8a55d-5a4a-4f3c-be85-aaeb61db6f2f",
   "metadata": {},
   "outputs": [],
   "source": []
  }
 ],
 "metadata": {
  "kernelspec": {
   "display_name": "Python 3 (ipykernel)",
   "language": "python",
   "name": "python3"
  },
  "language_info": {
   "codemirror_mode": {
    "name": "ipython",
    "version": 3
   },
   "file_extension": ".py",
   "mimetype": "text/x-python",
   "name": "python",
   "nbconvert_exporter": "python",
   "pygments_lexer": "ipython3",
   "version": "3.11.4"
  }
 },
 "nbformat": 4,
 "nbformat_minor": 5
}
