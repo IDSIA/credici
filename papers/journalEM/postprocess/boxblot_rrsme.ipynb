{
 "cells": [
  {
   "cell_type": "code",
   "execution_count": 92,
   "id": "d7173e9b-a78b-4283-8866-bba915d4db50",
   "metadata": {},
   "outputs": [],
   "source": [
    "import os\n",
    "from pathlib import Path\n",
    "import pandas as pd\n",
    "import numpy as np\n",
    "import math\n",
    "import matplotlib.pyplot as plt"
   ]
  },
  {
   "cell_type": "code",
   "execution_count": 194,
   "id": "4d854e1c-9a2e-425e-803c-69b50c9391e7",
   "metadata": {},
   "outputs": [],
   "source": [
    "prj_dir = Path(\"/Users/rcabanas/GoogleDrive/IDSIA/causality/dev/credici/papers/journalEM/\")\n",
    "res_dir = Path(prj_dir, \"./output/synthetic/s123/\")\n",
    "prj_dir_name = str(prj_dir).split(\"/\")[-1]\n",
    "os.chdir(prj_dir)"
   ]
  },
  {
   "cell_type": "code",
   "execution_count": 195,
   "id": "ab2db8c1-ccc1-4017-8856-e1590bfff872",
   "metadata": {},
   "outputs": [
    {
     "name": "stdout",
     "output_type": "stream",
     "text": [
      "read 215 304\n"
     ]
    }
   ],
   "source": [
    "files = [Path(res_dir, f) for f in os.listdir(res_dir) if f.endswith(\".csv\")]\n",
    "files_ccalp = [f for f in files if any([s in str(f) for s in [\"ccalp\"]])]\n",
    "files_ccve = [f for f in files if any([s in str(f) for s in [\"ccve\"]])]\n",
    "\n",
    "print(f\"read {len(files_ccve)} {len(files_ccalp)}\")"
   ]
  },
  {
   "cell_type": "code",
   "execution_count": 196,
   "id": "bd5af49b-542d-4ca7-84b7-06ba2f4b1e0a",
   "metadata": {},
   "outputs": [],
   "source": [
    "df0 = pd.concat([pd.read_csv(f) for f in files_ccve])\n",
    "df1 = pd.concat([pd.read_csv(f) for f in files_ccalp])\n",
    "\n",
    "def get_mark(t):\n",
    "    infofile = \".\"+t.infoPath.split(prj_dir_name)[-1]\n",
    "    return pd.read_csv(infofile)[\"markovianity\"]\n",
    "\n",
    "df0[\"markovianity\"] = df0.apply(get_mark, axis=1)\n",
    "df1[\"markovianity\"] = df1.apply(get_mark, axis=1)\n",
    "\n",
    "\n"
   ]
  },
  {
   "cell_type": "code",
   "execution_count": 197,
   "id": "90f8db44-2483-4fff-a659-2fc084fbc6b6",
   "metadata": {},
   "outputs": [],
   "source": [
    "assert len(df0.modelID.unique()) == len(df0.modelID)\n",
    "assert len(df1.modelID.unique()) == len(df1.modelID)"
   ]
  },
  {
   "cell_type": "code",
   "execution_count": 198,
   "id": "f8b8f875-5c63-45c2-9a4b-77562afcdc95",
   "metadata": {},
   "outputs": [
    {
     "data": {
      "text/plain": [
       "Index(['trueState', 'method', 'modelID', 'modelPath', 'cause', 'infoPath',\n",
       "       'time_pns', 'falseState', 'pns_u', 'effect', 'exact', 'time_learn',\n",
       "       'pns_l', 'markovianity'],\n",
       "      dtype='object')"
      ]
     },
     "execution_count": 198,
     "metadata": {},
     "output_type": "execute_result"
    }
   ],
   "source": [
    "df0.columns"
   ]
  },
  {
   "cell_type": "code",
   "execution_count": 199,
   "id": "8dddc423-39ae-449e-968c-fa9a9df00dd0",
   "metadata": {},
   "outputs": [],
   "source": [
    "cols = [\"modelID\", \"pns_l\", \"pns_u\"]\n"
   ]
  },
  {
   "cell_type": "code",
   "execution_count": 200,
   "id": "235a8cbb-4291-4090-949d-35bbd5236e78",
   "metadata": {},
   "outputs": [],
   "source": [
    "df = df0[[\"modelID\", \"pns_l\", \"pns_u\", \"markovianity\"]].merge(df1[[\"modelID\", \"pns_l\", \"pns_u\"]], on =\"modelID\", suffixes=(\"_ve\", \"_lp\"),)"
   ]
  },
  {
   "cell_type": "code",
   "execution_count": 201,
   "id": "10aab6e2-6996-4121-abd0-3c31dffb90b1",
   "metadata": {},
   "outputs": [],
   "source": [
    "# keep only qm\n",
    "df = df[df.markovianity==1]"
   ]
  },
  {
   "cell_type": "code",
   "execution_count": 202,
   "id": "3727eb6b-7921-47f9-903e-a59d8fafafe5",
   "metadata": {},
   "outputs": [],
   "source": [
    "lb_exact, ub_exact = 0.033535,0.150623\n",
    "lb_approx, ub_approx = 0.034858, 0.150623"
   ]
  },
  {
   "cell_type": "code",
   "execution_count": 203,
   "id": "92223584-5577-4226-8821-560ea97330aa",
   "metadata": {},
   "outputs": [],
   "source": [
    "def rrmse(lb_exact, ub_exact, lb_approx, ub_approx):\n",
    "    a,b, a_,b_ = lb_exact, ub_exact, lb_approx, ub_approx\n",
    "    #if b_ - a_ == 0 and a==a_ and b==b_: return 0\n",
    "    if (b_ - a_ == 0) or (b - a == 0): return np.NaN\n",
    "    #if b_ - a_ == 0 and a==a_ and b==b_: return 0\n",
    "    return math.sqrt(((a-a_)**2 + (b-b_)**2)/(2*((b_ - a_)**2)))"
   ]
  },
  {
   "cell_type": "code",
   "execution_count": 204,
   "id": "9ae6b93e-d442-4db3-9c0b-c89a1a38eb05",
   "metadata": {},
   "outputs": [],
   "source": [
    "df[\"rrmse\"] = df.apply(lambda t: rrmse(t[\"pns_l_ve\"],t[\"pns_u_ve\"],t[\"pns_l_lp\"],t[\"pns_u_lp\"]), axis=1)"
   ]
  },
  {
   "cell_type": "code",
   "execution_count": 205,
   "id": "4682f08f-a2c2-4f73-a0ff-f4e7dbcb9c04",
   "metadata": {},
   "outputs": [],
   "source": [
    "df[\"rrmse2\"] = df.apply(lambda t: rrmse(t[\"pns_l_lp\"],t[\"pns_u_lp\"],t[\"pns_l_ve\"],t[\"pns_u_ve\"]), axis=1)"
   ]
  },
  {
   "cell_type": "code",
   "execution_count": 206,
   "id": "e29933aa-8862-4995-b12e-d928ce47ec01",
   "metadata": {},
   "outputs": [
    {
     "data": {
      "text/plain": [
       "0.00953451454392692"
      ]
     },
     "execution_count": 206,
     "metadata": {},
     "output_type": "execute_result"
    }
   ],
   "source": [
    "df.rrmse.mean()\n"
   ]
  },
  {
   "cell_type": "code",
   "execution_count": 207,
   "id": "9a68ea0e-6997-4a20-a429-a517d9cfb8b6",
   "metadata": {},
   "outputs": [
    {
     "data": {
      "text/plain": [
       "0.25    8.279951e-18\n",
       "0.50    8.005646e-16\n",
       "0.75    1.325005e-14\n",
       "Name: rrmse, dtype: float64"
      ]
     },
     "execution_count": 207,
     "metadata": {},
     "output_type": "execute_result"
    }
   ],
   "source": [
    "df[\"rrmse\"].quantile([0.25, .5, .75], interpolation=\"nearest\")"
   ]
  },
  {
   "cell_type": "code",
   "execution_count": 208,
   "id": "9e3d8c5b-e4da-49fd-8ccc-b72c00c20129",
   "metadata": {},
   "outputs": [
    {
     "data": {
      "text/plain": [
       "(0.0, 0.01)"
      ]
     },
     "execution_count": 208,
     "metadata": {},
     "output_type": "execute_result"
    },
    {
     "data": {
      "image/png": "[encoded data removed]",
      "text/plain": [
       "<Figure size 640x480 with 1 Axes>"
      ]
     },
     "metadata": {},
     "output_type": "display_data"
    }
   ],
   "source": [
    "df.boxplot(column=\"rrmse\")\n",
    "plt.ylim(0,0.01)"
   ]
  },
  {
   "cell_type": "code",
   "execution_count": 193,
   "id": "e464871e-237e-485d-8317-1ad8642242b3",
   "metadata": {},
   "outputs": [
    {
     "data": {
      "text/plain": [
       "<Axes: >"
      ]
     },
     "execution_count": 193,
     "metadata": {},
     "output_type": "execute_result"
    },
    {
     "data": {
      "image/png": "[encoded data removed]",
      "text/plain": [
       "<Figure size 640x480 with 1 Axes>"
      ]
     },
     "metadata": {},
     "output_type": "display_data"
    }
   ],
   "source": [
    "df.rrmse.hist()"
   ]
  },
  {
   "cell_type": "code",
   "execution_count": 81,
   "id": "c7d1065d-77d5-4722-a3a3-8dac2b029890",
   "metadata": {},
   "outputs": [
    {
     "data": {
      "text/html": [
       "<div>\n",
       "<style scoped>\n",
       "    .dataframe tbody tr th:only-of-type {\n",
       "        vertical-align: middle;\n",
       "    }\n",
       "\n",
       "    .dataframe tbody tr th {\n",
       "        vertical-align: top;\n",
       "    }\n",
       "\n",
       "    .dataframe thead th {\n",
       "        text-align: right;\n",
       "    }\n",
       "</style>\n",
       "<table border=\"1\" class=\"dataframe\">\n",
       "  <thead>\n",
       "    <tr style=\"text-align: right;\">\n",
       "      <th></th>\n",
       "      <th>modelID</th>\n",
       "      <th>pns_l_ve</th>\n",
       "      <th>pns_u_ve</th>\n",
       "      <th>pns_l_lp</th>\n",
       "      <th>pns_u_lp</th>\n",
       "      <th>rrmse</th>\n",
       "      <th>rrmse2</th>\n",
       "    </tr>\n",
       "  </thead>\n",
       "  <tbody>\n",
       "    <tr>\n",
       "      <th>169</th>\n",
       "      <td>random_mc2_n5_mid3_d1000_05_mr098_r10_130_uai</td>\n",
       "      <td>0.000000</td>\n",
       "      <td>0.241100</td>\n",
       "      <td>0.000000</td>\n",
       "      <td>0.241100</td>\n",
       "      <td>0.000000</td>\n",
       "      <td>0.000000</td>\n",
       "    </tr>\n",
       "    <tr>\n",
       "      <th>157</th>\n",
       "      <td>random_mc2_n5_mid3_d1000_05_mr098_r10_63_uai</td>\n",
       "      <td>0.000000</td>\n",
       "      <td>0.170228</td>\n",
       "      <td>0.000000</td>\n",
       "      <td>0.170228</td>\n",
       "      <td>0.000000</td>\n",
       "      <td>0.000000</td>\n",
       "    </tr>\n",
       "    <tr>\n",
       "      <th>49</th>\n",
       "      <td>random_mc2_n7_mid3_d1000_05_mr098_r10_123_uai</td>\n",
       "      <td>0.010682</td>\n",
       "      <td>0.149952</td>\n",
       "      <td>0.010682</td>\n",
       "      <td>0.149952</td>\n",
       "      <td>0.000000</td>\n",
       "      <td>0.000000</td>\n",
       "    </tr>\n",
       "    <tr>\n",
       "      <th>189</th>\n",
       "      <td>random_mc2_n6_mid3_d1000_05_mr098_r10_158_uai</td>\n",
       "      <td>0.000089</td>\n",
       "      <td>0.009533</td>\n",
       "      <td>0.000089</td>\n",
       "      <td>0.009533</td>\n",
       "      <td>0.000000</td>\n",
       "      <td>0.000000</td>\n",
       "    </tr>\n",
       "    <tr>\n",
       "      <th>54</th>\n",
       "      <td>random_mc2_n7_mid3_d1000_05_mr098_r10_184_uai</td>\n",
       "      <td>0.003949</td>\n",
       "      <td>0.014433</td>\n",
       "      <td>0.003949</td>\n",
       "      <td>0.014433</td>\n",
       "      <td>0.000000</td>\n",
       "      <td>0.000000</td>\n",
       "    </tr>\n",
       "    <tr>\n",
       "      <th>...</th>\n",
       "      <td>...</td>\n",
       "      <td>...</td>\n",
       "      <td>...</td>\n",
       "      <td>...</td>\n",
       "      <td>...</td>\n",
       "      <td>...</td>\n",
       "      <td>...</td>\n",
       "    </tr>\n",
       "    <tr>\n",
       "      <th>68</th>\n",
       "      <td>random_mc2_n6_mid3_d1000_05_mr098_r10_144_uai</td>\n",
       "      <td>0.010581</td>\n",
       "      <td>0.036296</td>\n",
       "      <td>0.010581</td>\n",
       "      <td>0.031796</td>\n",
       "      <td>0.149975</td>\n",
       "      <td>0.123732</td>\n",
       "    </tr>\n",
       "    <tr>\n",
       "      <th>84</th>\n",
       "      <td>random_mc2_n6_mid3_d1000_05_mr098_r10_42_uai</td>\n",
       "      <td>0.210059</td>\n",
       "      <td>0.483114</td>\n",
       "      <td>0.259709</td>\n",
       "      <td>0.483114</td>\n",
       "      <td>0.157148</td>\n",
       "      <td>0.128574</td>\n",
       "    </tr>\n",
       "    <tr>\n",
       "      <th>60</th>\n",
       "      <td>random_mc2_n12_mid3_d1000_05_mr098_r10_154_uai</td>\n",
       "      <td>0.007895</td>\n",
       "      <td>0.250738</td>\n",
       "      <td>0.009718</td>\n",
       "      <td>0.204606</td>\n",
       "      <td>0.167508</td>\n",
       "      <td>0.134430</td>\n",
       "    </tr>\n",
       "    <tr>\n",
       "      <th>195</th>\n",
       "      <td>random_mc2_n6_mid3_d1000_05_mr098_r10_18_uai</td>\n",
       "      <td>0.000000</td>\n",
       "      <td>0.042607</td>\n",
       "      <td>0.000000</td>\n",
       "      <td>0.033800</td>\n",
       "      <td>0.184251</td>\n",
       "      <td>0.146165</td>\n",
       "    </tr>\n",
       "    <tr>\n",
       "      <th>29</th>\n",
       "      <td>random_mc2_n5_mid3_d1000_05_mr098_r10_167_uai</td>\n",
       "      <td>0.213234</td>\n",
       "      <td>0.297703</td>\n",
       "      <td>0.232995</td>\n",
       "      <td>0.277394</td>\n",
       "      <td>0.451269</td>\n",
       "      <td>0.237204</td>\n",
       "    </tr>\n",
       "  </tbody>\n",
       "</table>\n",
       "<p>176 rows × 7 columns</p>\n",
       "</div>"
      ],
      "text/plain": [
       "                                            modelID  pns_l_ve  pns_u_ve  \\\n",
       "169   random_mc2_n5_mid3_d1000_05_mr098_r10_130_uai  0.000000  0.241100   \n",
       "157    random_mc2_n5_mid3_d1000_05_mr098_r10_63_uai  0.000000  0.170228   \n",
       "49    random_mc2_n7_mid3_d1000_05_mr098_r10_123_uai  0.010682  0.149952   \n",
       "189   random_mc2_n6_mid3_d1000_05_mr098_r10_158_uai  0.000089  0.009533   \n",
       "54    random_mc2_n7_mid3_d1000_05_mr098_r10_184_uai  0.003949  0.014433   \n",
       "..                                              ...       ...       ...   \n",
       "68    random_mc2_n6_mid3_d1000_05_mr098_r10_144_uai  0.010581  0.036296   \n",
       "84     random_mc2_n6_mid3_d1000_05_mr098_r10_42_uai  0.210059  0.483114   \n",
       "60   random_mc2_n12_mid3_d1000_05_mr098_r10_154_uai  0.007895  0.250738   \n",
       "195    random_mc2_n6_mid3_d1000_05_mr098_r10_18_uai  0.000000  0.042607   \n",
       "29    random_mc2_n5_mid3_d1000_05_mr098_r10_167_uai  0.213234  0.297703   \n",
       "\n",
       "     pns_l_lp  pns_u_lp     rrmse    rrmse2  \n",
       "169  0.000000  0.241100  0.000000  0.000000  \n",
       "157  0.000000  0.170228  0.000000  0.000000  \n",
       "49   0.010682  0.149952  0.000000  0.000000  \n",
       "189  0.000089  0.009533  0.000000  0.000000  \n",
       "54   0.003949  0.014433  0.000000  0.000000  \n",
       "..        ...       ...       ...       ...  \n",
       "68   0.010581  0.031796  0.149975  0.123732  \n",
       "84   0.259709  0.483114  0.157148  0.128574  \n",
       "60   0.009718  0.204606  0.167508  0.134430  \n",
       "195  0.000000  0.033800  0.184251  0.146165  \n",
       "29   0.232995  0.277394  0.451269  0.237204  \n",
       "\n",
       "[176 rows x 7 columns]"
      ]
     },
     "execution_count": 81,
     "metadata": {},
     "output_type": "execute_result"
    }
   ],
   "source": [
    "df.dropna().sort_values(by=\"rrmse\")"
   ]
  },
  {
   "cell_type": "code",
   "execution_count": 82,
   "id": "443c5a7f-bf85-42a6-aec8-fb34c783aaeb",
   "metadata": {},
   "outputs": [
    {
     "data": {
      "text/html": [
       "<div>\n",
       "<style scoped>\n",
       "    .dataframe tbody tr th:only-of-type {\n",
       "        vertical-align: middle;\n",
       "    }\n",
       "\n",
       "    .dataframe tbody tr th {\n",
       "        vertical-align: top;\n",
       "    }\n",
       "\n",
       "    .dataframe thead th {\n",
       "        text-align: right;\n",
       "    }\n",
       "</style>\n",
       "<table border=\"1\" class=\"dataframe\">\n",
       "  <thead>\n",
       "    <tr style=\"text-align: right;\">\n",
       "      <th></th>\n",
       "      <th>modelID</th>\n",
       "      <th>pns_l_ve</th>\n",
       "      <th>pns_u_ve</th>\n",
       "      <th>pns_l_lp</th>\n",
       "      <th>pns_u_lp</th>\n",
       "      <th>rrmse</th>\n",
       "      <th>rrmse2</th>\n",
       "    </tr>\n",
       "  </thead>\n",
       "  <tbody>\n",
       "    <tr>\n",
       "      <th>29</th>\n",
       "      <td>random_mc2_n5_mid3_d1000_05_mr098_r10_167_uai</td>\n",
       "      <td>0.213234</td>\n",
       "      <td>0.297703</td>\n",
       "      <td>0.232995</td>\n",
       "      <td>0.277394</td>\n",
       "      <td>0.451269</td>\n",
       "      <td>0.237204</td>\n",
       "    </tr>\n",
       "  </tbody>\n",
       "</table>\n",
       "</div>"
      ],
      "text/plain": [
       "                                          modelID  pns_l_ve  pns_u_ve  \\\n",
       "29  random_mc2_n5_mid3_d1000_05_mr098_r10_167_uai  0.213234  0.297703   \n",
       "\n",
       "    pns_l_lp  pns_u_lp     rrmse    rrmse2  \n",
       "29  0.232995  0.277394  0.451269  0.237204  "
      ]
     },
     "execution_count": 82,
     "metadata": {},
     "output_type": "execute_result"
    }
   ],
   "source": [
    "t = df.loc[df.modelID==\"random_mc2_n5_mid3_d1000_05_mr098_r10_167_uai\"]\n",
    "t"
   ]
  },
  {
   "cell_type": "code",
   "execution_count": 83,
   "id": "231487f8-8744-4cf0-86dc-36dc211ac6c5",
   "metadata": {},
   "outputs": [
    {
     "data": {
      "text/plain": [
       "(1, 200)"
      ]
     },
     "execution_count": 83,
     "metadata": {},
     "output_type": "execute_result"
    }
   ],
   "source": [
    "idx = [int(f.split(\"_\")[-2])for f in df0.modelID]\n",
    "min(idx), max(idx)"
   ]
  },
  {
   "cell_type": "code",
   "execution_count": 84,
   "id": "2bcdde5f-7b08-4c24-8ec2-a25c0930ad7e",
   "metadata": {},
   "outputs": [
    {
     "data": {
      "text/plain": [
       "(0, 200)"
      ]
     },
     "execution_count": 84,
     "metadata": {},
     "output_type": "execute_result"
    }
   ],
   "source": [
    "idx = [int(f.split(\"_\")[-2]) for f in df1.modelID]\n",
    "min(idx), max(idx)"
   ]
  },
  {
   "cell_type": "code",
   "execution_count": 85,
   "id": "a2f5d934-5957-4d6e-853c-548f2df35921",
   "metadata": {},
   "outputs": [
    {
     "data": {
      "text/plain": [
       "0     random_mc2_n9_mid3_d1000_05_mr098_r10_10_uai\n",
       "0     random_mc2_n6_mid3_d1000_05_mr098_r10_91_uai\n",
       "0    random_mc2_n9_mid3_d1000_05_mr098_r10_192_uai\n",
       "0    random_mc2_n6_mid3_d1000_05_mr098_r10_146_uai\n",
       "0    random_mc2_n5_mid3_d1000_05_mr098_r10_147_uai\n",
       "                         ...                      \n",
       "0    random_mc2_n6_mid3_d1000_05_mr098_r10_167_uai\n",
       "0    random_mc2_n9_mid3_d1000_05_mr098_r10_152_uai\n",
       "0    random_mc2_n5_mid3_d1000_05_mr098_r10_121_uai\n",
       "0     random_mc2_n7_mid3_d1000_05_mr098_r10_65_uai\n",
       "0    random_mc2_n8_mid3_d1000_05_mr098_r10_119_uai\n",
       "Name: modelID, Length: 304, dtype: object"
      ]
     },
     "execution_count": 85,
     "metadata": {},
     "output_type": "execute_result"
    }
   ],
   "source": [
    "df1.modelID"
   ]
  },
  {
   "cell_type": "code",
   "execution_count": 86,
   "id": "4ab63a03-c8d3-4eb0-bafb-b4f279fb1d18",
   "metadata": {},
   "outputs": [
    {
     "data": {
      "text/plain": [
       "(29    0.213234\n",
       " Name: pns_l_ve, dtype: float64,\n",
       " 29    0.297703\n",
       " Name: pns_u_ve, dtype: float64,\n",
       " 29    0.232995\n",
       " Name: pns_l_lp, dtype: float64,\n",
       " 29    0.277394\n",
       " Name: pns_u_lp, dtype: float64)"
      ]
     },
     "execution_count": 86,
     "metadata": {},
     "output_type": "execute_result"
    }
   ],
   "source": [
    "def rrmse(lb_exact, ub_exact, lb_approx, ub_approx):\n",
    "    a,b, a_,b_ = lb_exact, ub_exact, lb_approx, ub_approx\n",
    "    #if b_ - a_ == 0 and a==a_ and b==b_: return 0\n",
    "    if (b_ - a_ == 0) or (b - a == 0): return np.NaN\n",
    "    #if b_ - a_ == 0 and a==a_ and b==b_: return 0\n",
    "    return math.sqrt(((a-a_)**2 + (b-b_)**2)/(2*((b_ - a_)**2)))\n",
    "f = lambda t: rrmse(t[\"pns_l_ve\"],t[\"pns_u_ve\"],t[\"pns_l_lp\"],t[\"pns_u_lp\"])\n",
    "t[\"pns_l_ve\"],t[\"pns_u_ve\"],t[\"pns_l_lp\"],t[\"pns_u_lp\"]"
   ]
  },
  {
   "cell_type": "code",
   "execution_count": 87,
   "id": "d0976b3b-c8f1-405d-a5e1-f06775127f46",
   "metadata": {},
   "outputs": [
    {
     "data": {
      "text/html": [
       "<div>\n",
       "<style scoped>\n",
       "    .dataframe tbody tr th:only-of-type {\n",
       "        vertical-align: middle;\n",
       "    }\n",
       "\n",
       "    .dataframe tbody tr th {\n",
       "        vertical-align: top;\n",
       "    }\n",
       "\n",
       "    .dataframe thead th {\n",
       "        text-align: right;\n",
       "    }\n",
       "</style>\n",
       "<table border=\"1\" class=\"dataframe\">\n",
       "  <thead>\n",
       "    <tr style=\"text-align: right;\">\n",
       "      <th></th>\n",
       "      <th>modelID</th>\n",
       "      <th>pns_l_ve</th>\n",
       "      <th>pns_u_ve</th>\n",
       "      <th>pns_l_lp</th>\n",
       "      <th>pns_u_lp</th>\n",
       "      <th>rrmse</th>\n",
       "      <th>rrmse2</th>\n",
       "    </tr>\n",
       "  </thead>\n",
       "  <tbody>\n",
       "    <tr>\n",
       "      <th>29</th>\n",
       "      <td>random_mc2_n5_mid3_d1000_05_mr098_r10_167_uai</td>\n",
       "      <td>0.213234</td>\n",
       "      <td>0.297703</td>\n",
       "      <td>0.232995</td>\n",
       "      <td>0.277394</td>\n",
       "      <td>0.451269</td>\n",
       "      <td>0.237204</td>\n",
       "    </tr>\n",
       "  </tbody>\n",
       "</table>\n",
       "</div>"
      ],
      "text/plain": [
       "                                          modelID  pns_l_ve  pns_u_ve  \\\n",
       "29  random_mc2_n5_mid3_d1000_05_mr098_r10_167_uai  0.213234  0.297703   \n",
       "\n",
       "    pns_l_lp  pns_u_lp     rrmse    rrmse2  \n",
       "29  0.232995  0.277394  0.451269  0.237204  "
      ]
     },
     "execution_count": 87,
     "metadata": {},
     "output_type": "execute_result"
    }
   ],
   "source": [
    "df.loc[df.modelID==\"random_mc2_n5_mid3_d1000_05_mr098_r10_167_uai\"]\n"
   ]
  },
  {
   "cell_type": "code",
   "execution_count": 153,
   "id": "0811c822-8599-4201-a3e0-747547135076",
   "metadata": {},
   "outputs": [
    {
     "data": {
      "text/plain": [
       "'/mnt/beegfs/rcabanas/dev/credici/papers/journalEM/models/synthetic/s1/random_mc2_n5_mid3_d1000_05_mr098_r10_78_info.csv'"
      ]
     },
     "execution_count": 153,
     "metadata": {},
     "output_type": "execute_result"
    }
   ],
   "source": [
    "df0.infoPath.iloc[0]"
   ]
  },
  {
   "cell_type": "code",
   "execution_count": 154,
   "id": "459d08da-13ca-4d96-a4a5-af5895d4ac6c",
   "metadata": {},
   "outputs": [],
   "source": [
    "t = df0.iloc[0]"
   ]
  },
  {
   "cell_type": "code",
   "execution_count": 155,
   "id": "8d91651e-6fd2-4fc4-93ef-cbfca9bb356a",
   "metadata": {},
   "outputs": [
    {
     "data": {
      "text/plain": [
       "'/mnt/beegfs/rcabanas/dev/credici/papers/journalEM/models/synthetic/s1/random_mc2_n5_mid3_d1000_05_mr098_r10_78_info.csv'"
      ]
     },
     "execution_count": 155,
     "metadata": {},
     "output_type": "execute_result"
    }
   ],
   "source": []
  },
  {
   "cell_type": "code",
   "execution_count": 174,
   "id": "98877928-d1f1-405c-88a7-4aca2be39bde",
   "metadata": {},
   "outputs": [],
   "source": []
  },
  {
   "cell_type": "code",
   "execution_count": 178,
   "id": "01f5ec96-24a8-479b-989c-ccab1c4402b3",
   "metadata": {},
   "outputs": [],
   "source": []
  },
  {
   "cell_type": "code",
   "execution_count": 179,
   "id": "e1e20f31-134d-4c0e-87bc-f8d0404eaea5",
   "metadata": {},
   "outputs": [
    {
     "data": {
      "text/html": [
       "<div>\n",
       "<style scoped>\n",
       "    .dataframe tbody tr th:only-of-type {\n",
       "        vertical-align: middle;\n",
       "    }\n",
       "\n",
       "    .dataframe tbody tr th {\n",
       "        vertical-align: top;\n",
       "    }\n",
       "\n",
       "    .dataframe thead th {\n",
       "        text-align: right;\n",
       "    }\n",
       "</style>\n",
       "<table border=\"1\" class=\"dataframe\">\n",
       "  <thead>\n",
       "    <tr style=\"text-align: right;\">\n",
       "      <th></th>\n",
       "      <th>trueState</th>\n",
       "      <th>method</th>\n",
       "      <th>modelID</th>\n",
       "      <th>modelPath</th>\n",
       "      <th>cause</th>\n",
       "      <th>infoPath</th>\n",
       "      <th>time_pns</th>\n",
       "      <th>falseState</th>\n",
       "      <th>pns_u</th>\n",
       "      <th>effect</th>\n",
       "      <th>exact</th>\n",
       "      <th>time_learn</th>\n",
       "      <th>pns_l</th>\n",
       "      <th>markovianity</th>\n",
       "    </tr>\n",
       "  </thead>\n",
       "  <tbody>\n",
       "    <tr>\n",
       "      <th>0</th>\n",
       "      <td>0</td>\n",
       "      <td>CCVE</td>\n",
       "      <td>random_mc2_n5_mid3_d1000_05_mr098_r10_78_uai</td>\n",
       "      <td>/mnt/beegfs/rcabanas/dev/credici/papers/journa...</td>\n",
       "      <td>0</td>\n",
       "      <td>/mnt/beegfs/rcabanas/dev/credici/papers/journa...</td>\n",
       "      <td>82</td>\n",
       "      <td>1</td>\n",
       "      <td>0.163000</td>\n",
       "      <td>2</td>\n",
       "      <td>True</td>\n",
       "      <td>1214</td>\n",
       "      <td>0.163000</td>\n",
       "      <td>1</td>\n",
       "    </tr>\n",
       "    <tr>\n",
       "      <th>0</th>\n",
       "      <td>0</td>\n",
       "      <td>CCVE</td>\n",
       "      <td>random_mc2_n5_mid3_d1000_05_mr098_r10_161_uai</td>\n",
       "      <td>/mnt/beegfs/rcabanas/dev/credici/papers/journa...</td>\n",
       "      <td>1</td>\n",
       "      <td>/mnt/beegfs/rcabanas/dev/credici/papers/journa...</td>\n",
       "      <td>235</td>\n",
       "      <td>1</td>\n",
       "      <td>0.000000</td>\n",
       "      <td>0</td>\n",
       "      <td>True</td>\n",
       "      <td>1176</td>\n",
       "      <td>0.000000</td>\n",
       "      <td>1</td>\n",
       "    </tr>\n",
       "    <tr>\n",
       "      <th>0</th>\n",
       "      <td>0</td>\n",
       "      <td>CCVE</td>\n",
       "      <td>random_mc2_n6_mid3_d1000_05_mr098_r10_94_uai</td>\n",
       "      <td>/mnt/beegfs/rcabanas/dev/credici/papers/journa...</td>\n",
       "      <td>0</td>\n",
       "      <td>/mnt/beegfs/rcabanas/dev/credici/papers/journa...</td>\n",
       "      <td>23899659</td>\n",
       "      <td>1</td>\n",
       "      <td>0.150623</td>\n",
       "      <td>5</td>\n",
       "      <td>True</td>\n",
       "      <td>4471</td>\n",
       "      <td>0.033535</td>\n",
       "      <td>1</td>\n",
       "    </tr>\n",
       "    <tr>\n",
       "      <th>0</th>\n",
       "      <td>0</td>\n",
       "      <td>CCVE</td>\n",
       "      <td>random_mc2_n5_mid3_d1000_05_mr098_r10_80_uai</td>\n",
       "      <td>/mnt/beegfs/rcabanas/dev/credici/papers/journa...</td>\n",
       "      <td>1</td>\n",
       "      <td>/mnt/beegfs/rcabanas/dev/credici/papers/journa...</td>\n",
       "      <td>3148</td>\n",
       "      <td>1</td>\n",
       "      <td>0.970787</td>\n",
       "      <td>4</td>\n",
       "      <td>True</td>\n",
       "      <td>1562</td>\n",
       "      <td>0.950555</td>\n",
       "      <td>0</td>\n",
       "    </tr>\n",
       "    <tr>\n",
       "      <th>0</th>\n",
       "      <td>0</td>\n",
       "      <td>CCVE</td>\n",
       "      <td>random_mc2_n6_mid3_d1000_05_mr098_r10_148_uai</td>\n",
       "      <td>/mnt/beegfs/rcabanas/dev/credici/papers/journa...</td>\n",
       "      <td>0</td>\n",
       "      <td>/mnt/beegfs/rcabanas/dev/credici/papers/journa...</td>\n",
       "      <td>788</td>\n",
       "      <td>1</td>\n",
       "      <td>0.027986</td>\n",
       "      <td>5</td>\n",
       "      <td>True</td>\n",
       "      <td>1106</td>\n",
       "      <td>0.000000</td>\n",
       "      <td>1</td>\n",
       "    </tr>\n",
       "    <tr>\n",
       "      <th>...</th>\n",
       "      <td>...</td>\n",
       "      <td>...</td>\n",
       "      <td>...</td>\n",
       "      <td>...</td>\n",
       "      <td>...</td>\n",
       "      <td>...</td>\n",
       "      <td>...</td>\n",
       "      <td>...</td>\n",
       "      <td>...</td>\n",
       "      <td>...</td>\n",
       "      <td>...</td>\n",
       "      <td>...</td>\n",
       "      <td>...</td>\n",
       "      <td>...</td>\n",
       "    </tr>\n",
       "    <tr>\n",
       "      <th>0</th>\n",
       "      <td>0</td>\n",
       "      <td>CCVE</td>\n",
       "      <td>random_mc2_n6_mid3_d1000_05_mr098_r10_184_uai</td>\n",
       "      <td>/mnt/beegfs/rcabanas/dev/credici/papers/journa...</td>\n",
       "      <td>5</td>\n",
       "      <td>/mnt/beegfs/rcabanas/dev/credici/papers/journa...</td>\n",
       "      <td>114</td>\n",
       "      <td>1</td>\n",
       "      <td>0.000871</td>\n",
       "      <td>4</td>\n",
       "      <td>True</td>\n",
       "      <td>1458</td>\n",
       "      <td>0.000000</td>\n",
       "      <td>1</td>\n",
       "    </tr>\n",
       "    <tr>\n",
       "      <th>0</th>\n",
       "      <td>0</td>\n",
       "      <td>CCVE</td>\n",
       "      <td>random_mc2_n5_mid3_d1000_05_mr098_r10_19_uai</td>\n",
       "      <td>/mnt/beegfs/rcabanas/dev/credici/papers/journa...</td>\n",
       "      <td>0</td>\n",
       "      <td>/mnt/beegfs/rcabanas/dev/credici/papers/journa...</td>\n",
       "      <td>133</td>\n",
       "      <td>1</td>\n",
       "      <td>0.537350</td>\n",
       "      <td>4</td>\n",
       "      <td>True</td>\n",
       "      <td>2004</td>\n",
       "      <td>0.239910</td>\n",
       "      <td>0</td>\n",
       "    </tr>\n",
       "    <tr>\n",
       "      <th>0</th>\n",
       "      <td>0</td>\n",
       "      <td>CCVE</td>\n",
       "      <td>random_mc2_n6_mid3_d1000_05_mr098_r10_58_uai</td>\n",
       "      <td>/mnt/beegfs/rcabanas/dev/credici/papers/journa...</td>\n",
       "      <td>3</td>\n",
       "      <td>/mnt/beegfs/rcabanas/dev/credici/papers/journa...</td>\n",
       "      <td>226</td>\n",
       "      <td>1</td>\n",
       "      <td>0.000000</td>\n",
       "      <td>2</td>\n",
       "      <td>True</td>\n",
       "      <td>1375</td>\n",
       "      <td>0.000000</td>\n",
       "      <td>1</td>\n",
       "    </tr>\n",
       "    <tr>\n",
       "      <th>0</th>\n",
       "      <td>0</td>\n",
       "      <td>CCVE</td>\n",
       "      <td>random_mc2_n6_mid3_d1000_05_mr098_r10_169_uai</td>\n",
       "      <td>/mnt/beegfs/rcabanas/dev/credici/papers/journa...</td>\n",
       "      <td>2</td>\n",
       "      <td>/mnt/beegfs/rcabanas/dev/credici/papers/journa...</td>\n",
       "      <td>897</td>\n",
       "      <td>1</td>\n",
       "      <td>0.039992</td>\n",
       "      <td>3</td>\n",
       "      <td>True</td>\n",
       "      <td>1404</td>\n",
       "      <td>0.000000</td>\n",
       "      <td>1</td>\n",
       "    </tr>\n",
       "    <tr>\n",
       "      <th>0</th>\n",
       "      <td>0</td>\n",
       "      <td>CCVE</td>\n",
       "      <td>random_mc2_n9_mid3_d1000_05_mr098_r10_91_uai</td>\n",
       "      <td>/mnt/beegfs/rcabanas/dev/credici/papers/journa...</td>\n",
       "      <td>2</td>\n",
       "      <td>/mnt/beegfs/rcabanas/dev/credici/papers/journa...</td>\n",
       "      <td>179220</td>\n",
       "      <td>1</td>\n",
       "      <td>0.868693</td>\n",
       "      <td>3</td>\n",
       "      <td>True</td>\n",
       "      <td>1879</td>\n",
       "      <td>0.805764</td>\n",
       "      <td>1</td>\n",
       "    </tr>\n",
       "  </tbody>\n",
       "</table>\n",
       "<p>215 rows × 14 columns</p>\n",
       "</div>"
      ],
      "text/plain": [
       "    trueState method                                        modelID  \\\n",
       "0           0   CCVE   random_mc2_n5_mid3_d1000_05_mr098_r10_78_uai   \n",
       "0           0   CCVE  random_mc2_n5_mid3_d1000_05_mr098_r10_161_uai   \n",
       "0           0   CCVE   random_mc2_n6_mid3_d1000_05_mr098_r10_94_uai   \n",
       "0           0   CCVE   random_mc2_n5_mid3_d1000_05_mr098_r10_80_uai   \n",
       "0           0   CCVE  random_mc2_n6_mid3_d1000_05_mr098_r10_148_uai   \n",
       "..        ...    ...                                            ...   \n",
       "0           0   CCVE  random_mc2_n6_mid3_d1000_05_mr098_r10_184_uai   \n",
       "0           0   CCVE   random_mc2_n5_mid3_d1000_05_mr098_r10_19_uai   \n",
       "0           0   CCVE   random_mc2_n6_mid3_d1000_05_mr098_r10_58_uai   \n",
       "0           0   CCVE  random_mc2_n6_mid3_d1000_05_mr098_r10_169_uai   \n",
       "0           0   CCVE   random_mc2_n9_mid3_d1000_05_mr098_r10_91_uai   \n",
       "\n",
       "                                            modelPath  cause  \\\n",
       "0   /mnt/beegfs/rcabanas/dev/credici/papers/journa...      0   \n",
       "0   /mnt/beegfs/rcabanas/dev/credici/papers/journa...      1   \n",
       "0   /mnt/beegfs/rcabanas/dev/credici/papers/journa...      0   \n",
       "0   /mnt/beegfs/rcabanas/dev/credici/papers/journa...      1   \n",
       "0   /mnt/beegfs/rcabanas/dev/credici/papers/journa...      0   \n",
       "..                                                ...    ...   \n",
       "0   /mnt/beegfs/rcabanas/dev/credici/papers/journa...      5   \n",
       "0   /mnt/beegfs/rcabanas/dev/credici/papers/journa...      0   \n",
       "0   /mnt/beegfs/rcabanas/dev/credici/papers/journa...      3   \n",
       "0   /mnt/beegfs/rcabanas/dev/credici/papers/journa...      2   \n",
       "0   /mnt/beegfs/rcabanas/dev/credici/papers/journa...      2   \n",
       "\n",
       "                                             infoPath  time_pns  falseState  \\\n",
       "0   /mnt/beegfs/rcabanas/dev/credici/papers/journa...        82           1   \n",
       "0   /mnt/beegfs/rcabanas/dev/credici/papers/journa...       235           1   \n",
       "0   /mnt/beegfs/rcabanas/dev/credici/papers/journa...  23899659           1   \n",
       "0   /mnt/beegfs/rcabanas/dev/credici/papers/journa...      3148           1   \n",
       "0   /mnt/beegfs/rcabanas/dev/credici/papers/journa...       788           1   \n",
       "..                                                ...       ...         ...   \n",
       "0   /mnt/beegfs/rcabanas/dev/credici/papers/journa...       114           1   \n",
       "0   /mnt/beegfs/rcabanas/dev/credici/papers/journa...       133           1   \n",
       "0   /mnt/beegfs/rcabanas/dev/credici/papers/journa...       226           1   \n",
       "0   /mnt/beegfs/rcabanas/dev/credici/papers/journa...       897           1   \n",
       "0   /mnt/beegfs/rcabanas/dev/credici/papers/journa...    179220           1   \n",
       "\n",
       "       pns_u  effect  exact  time_learn     pns_l  markovianity  \n",
       "0   0.163000       2   True        1214  0.163000             1  \n",
       "0   0.000000       0   True        1176  0.000000             1  \n",
       "0   0.150623       5   True        4471  0.033535             1  \n",
       "0   0.970787       4   True        1562  0.950555             0  \n",
       "0   0.027986       5   True        1106  0.000000             1  \n",
       "..       ...     ...    ...         ...       ...           ...  \n",
       "0   0.000871       4   True        1458  0.000000             1  \n",
       "0   0.537350       4   True        2004  0.239910             0  \n",
       "0   0.000000       2   True        1375  0.000000             1  \n",
       "0   0.039992       3   True        1404  0.000000             1  \n",
       "0   0.868693       3   True        1879  0.805764             1  \n",
       "\n",
       "[215 rows x 14 columns]"
      ]
     },
     "execution_count": 179,
     "metadata": {},
     "output_type": "execute_result"
    }
   ],
   "source": [
    "df0"
   ]
  },
  {
   "cell_type": "code",
   "execution_count": null,
   "id": "b3673a8c-80d5-47ab-b239-629707510b15",
   "metadata": {},
   "outputs": [],
   "source": []
  }
 ],
 "metadata": {
  "kernelspec": {
   "display_name": "Python 3 (ipykernel)",
   "language": "python",
   "name": "python3"
  },
  "language_info": {
   "codemirror_mode": {
    "name": "ipython",
    "version": 3
   },
   "file_extension": ".py",
   "mimetype": "text/x-python",
   "name": "python",
   "nbconvert_exporter": "python",
   "pygments_lexer": "ipython3",
   "version": "3.11.4"
  }
 },
 "nbformat": 4,
 "nbformat_minor": 5
}
