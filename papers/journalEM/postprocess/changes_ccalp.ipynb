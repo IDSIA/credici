{
 "cells": [
  {
   "cell_type": "code",
   "execution_count": 1,
   "id": "d7173e9b-a78b-4283-8866-bba915d4db50",
   "metadata": {},
   "outputs": [],
   "source": [
    "import os\n",
    "from pathlib import Path\n",
    "import pandas as pd\n",
    "import numpy as np\n",
    "import math\n",
    "import matplotlib.pyplot as plt"
   ]
  },
  {
   "cell_type": "code",
   "execution_count": 2,
   "id": "4d854e1c-9a2e-425e-803c-69b50c9391e7",
   "metadata": {},
   "outputs": [],
   "source": [
    "prj_dir = Path(\"/Users/rcabanas/GoogleDrive/IDSIA/causality/dev/credici/papers/journalEM/\")\n",
    "res_dir0 = Path(prj_dir, \"./output/synthetic/s123/\")\n",
    "res_dir1 = Path(prj_dir, \"./output/synthetic/s123b/\")\n",
    "\n",
    "prj_dir_name = str(prj_dir).split(\"/\")[-1]\n",
    "os.chdir(prj_dir)"
   ]
  },
  {
   "cell_type": "code",
   "execution_count": 3,
   "id": "ab2db8c1-ccc1-4017-8856-e1590bfff872",
   "metadata": {},
   "outputs": [
    {
     "name": "stdout",
     "output_type": "stream",
     "text": [
      "read 304 424\n"
     ]
    }
   ],
   "source": [
    "files = [Path(res_dir0, f) for f in os.listdir(res_dir0) if f.endswith(\".csv\")]\n",
    "files0= [f for f in files if any([s in str(f) for s in [\"ccalp\"]])]\n",
    "\n",
    "files = [Path(res_dir1, f) for f in os.listdir(res_dir1) if f.endswith(\".csv\")]\n",
    "files1 = [f for f in files if any([s in str(f) for s in [\"ccalp\"]])]\n",
    "\n",
    "print(f\"read {len(files0)} {len(files1)}\")"
   ]
  },
  {
   "cell_type": "code",
   "execution_count": 4,
   "id": "bd5af49b-542d-4ca7-84b7-06ba2f4b1e0a",
   "metadata": {},
   "outputs": [],
   "source": [
    "df0 = pd.concat([pd.read_csv(f) for f in files0])\n",
    "df1 = pd.concat([pd.read_csv(f) for f in files1])\n",
    "\n",
    "def get_mark(t):\n",
    "    infofile = \".\"+t.infoPath.split(prj_dir_name)[-1]\n",
    "    return pd.read_csv(infofile)[\"markovianity\"]\n",
    "\n",
    "df0[\"markovianity\"] = df0.apply(get_mark, axis=1)\n",
    "df1[\"markovianity\"] = df1.apply(get_mark, axis=1)\n",
    "\n",
    "\n"
   ]
  },
  {
   "cell_type": "code",
   "execution_count": 5,
   "id": "90f8db44-2483-4fff-a659-2fc084fbc6b6",
   "metadata": {},
   "outputs": [],
   "source": [
    "assert len(df0.modelID.unique()) == len(df0.modelID)\n",
    "assert len(df1.modelID.unique()) == len(df1.modelID)"
   ]
  },
  {
   "cell_type": "code",
   "execution_count": 6,
   "id": "f8b8f875-5c63-45c2-9a4b-77562afcdc95",
   "metadata": {},
   "outputs": [
    {
     "data": {
      "text/plain": [
       "Index(['trueState', 'method', 'modelID', 'exactPath', 'modelPath', 'cause',\n",
       "       'infoPath', 'time_pns', 'falseState', 'pns_u', 'effect', 'exact',\n",
       "       'time_learn', 'pns_l', 'markovianity'],\n",
       "      dtype='object')"
      ]
     },
     "execution_count": 6,
     "metadata": {},
     "output_type": "execute_result"
    }
   ],
   "source": [
    "df0.columns"
   ]
  },
  {
   "cell_type": "code",
   "execution_count": 7,
   "id": "8dddc423-39ae-449e-968c-fa9a9df00dd0",
   "metadata": {},
   "outputs": [],
   "source": [
    "cols = [\"modelID\", \"pns_l\", \"pns_u\"]\n"
   ]
  },
  {
   "cell_type": "code",
   "execution_count": 8,
   "id": "235a8cbb-4291-4090-949d-35bbd5236e78",
   "metadata": {},
   "outputs": [],
   "source": [
    "df = df0[[\"modelID\", \"pns_l\", \"pns_u\", \"markovianity\"]].merge(df1[[\"modelID\", \"pns_l\", \"pns_u\"]], on =\"modelID\", suffixes=(\"0\", \"1\"),)"
   ]
  },
  {
   "cell_type": "code",
   "execution_count": 9,
   "id": "10aab6e2-6996-4121-abd0-3c31dffb90b1",
   "metadata": {},
   "outputs": [
    {
     "data": {
      "text/html": [
       "<div>\n",
       "<style scoped>\n",
       "    .dataframe tbody tr th:only-of-type {\n",
       "        vertical-align: middle;\n",
       "    }\n",
       "\n",
       "    .dataframe tbody tr th {\n",
       "        vertical-align: top;\n",
       "    }\n",
       "\n",
       "    .dataframe thead th {\n",
       "        text-align: right;\n",
       "    }\n",
       "</style>\n",
       "<table border=\"1\" class=\"dataframe\">\n",
       "  <thead>\n",
       "    <tr style=\"text-align: right;\">\n",
       "      <th></th>\n",
       "      <th>modelID</th>\n",
       "      <th>pns_l0</th>\n",
       "      <th>pns_u0</th>\n",
       "      <th>markovianity</th>\n",
       "      <th>pns_l1</th>\n",
       "      <th>pns_u1</th>\n",
       "    </tr>\n",
       "  </thead>\n",
       "  <tbody>\n",
       "    <tr>\n",
       "      <th>0</th>\n",
       "      <td>random_mc2_n9_mid3_d1000_05_mr098_r10_10_uai</td>\n",
       "      <td>0.301902</td>\n",
       "      <td>0.436716</td>\n",
       "      <td>1</td>\n",
       "      <td>0.301902</td>\n",
       "      <td>0.436716</td>\n",
       "    </tr>\n",
       "    <tr>\n",
       "      <th>1</th>\n",
       "      <td>random_mc2_n6_mid3_d1000_05_mr098_r10_91_uai</td>\n",
       "      <td>0.001417</td>\n",
       "      <td>0.103535</td>\n",
       "      <td>1</td>\n",
       "      <td>0.001417</td>\n",
       "      <td>0.103535</td>\n",
       "    </tr>\n",
       "    <tr>\n",
       "      <th>2</th>\n",
       "      <td>random_mc2_n9_mid3_d1000_05_mr098_r10_192_uai</td>\n",
       "      <td>0.363721</td>\n",
       "      <td>0.546557</td>\n",
       "      <td>1</td>\n",
       "      <td>0.363721</td>\n",
       "      <td>0.546557</td>\n",
       "    </tr>\n",
       "    <tr>\n",
       "      <th>3</th>\n",
       "      <td>random_mc2_n6_mid3_d1000_05_mr098_r10_146_uai</td>\n",
       "      <td>0.462975</td>\n",
       "      <td>0.494330</td>\n",
       "      <td>1</td>\n",
       "      <td>0.462975</td>\n",
       "      <td>0.494330</td>\n",
       "    </tr>\n",
       "    <tr>\n",
       "      <th>4</th>\n",
       "      <td>random_mc2_n5_mid3_d1000_05_mr098_r10_147_uai</td>\n",
       "      <td>0.071845</td>\n",
       "      <td>0.151473</td>\n",
       "      <td>1</td>\n",
       "      <td>0.071845</td>\n",
       "      <td>0.151473</td>\n",
       "    </tr>\n",
       "    <tr>\n",
       "      <th>...</th>\n",
       "      <td>...</td>\n",
       "      <td>...</td>\n",
       "      <td>...</td>\n",
       "      <td>...</td>\n",
       "      <td>...</td>\n",
       "      <td>...</td>\n",
       "    </tr>\n",
       "    <tr>\n",
       "      <th>294</th>\n",
       "      <td>random_mc2_n7_mid3_d1000_05_mr098_r10_22_uai</td>\n",
       "      <td>0.482110</td>\n",
       "      <td>0.644469</td>\n",
       "      <td>1</td>\n",
       "      <td>0.482110</td>\n",
       "      <td>0.644469</td>\n",
       "    </tr>\n",
       "    <tr>\n",
       "      <th>295</th>\n",
       "      <td>random_mc2_n6_mid3_d1000_05_mr098_r10_167_uai</td>\n",
       "      <td>0.009263</td>\n",
       "      <td>0.129746</td>\n",
       "      <td>1</td>\n",
       "      <td>0.009263</td>\n",
       "      <td>0.129746</td>\n",
       "    </tr>\n",
       "    <tr>\n",
       "      <th>296</th>\n",
       "      <td>random_mc2_n5_mid3_d1000_05_mr098_r10_121_uai</td>\n",
       "      <td>0.214340</td>\n",
       "      <td>0.279279</td>\n",
       "      <td>1</td>\n",
       "      <td>0.214340</td>\n",
       "      <td>0.279279</td>\n",
       "    </tr>\n",
       "    <tr>\n",
       "      <th>297</th>\n",
       "      <td>random_mc2_n7_mid3_d1000_05_mr098_r10_65_uai</td>\n",
       "      <td>0.152031</td>\n",
       "      <td>0.210286</td>\n",
       "      <td>1</td>\n",
       "      <td>0.152031</td>\n",
       "      <td>0.210286</td>\n",
       "    </tr>\n",
       "    <tr>\n",
       "      <th>298</th>\n",
       "      <td>random_mc2_n8_mid3_d1000_05_mr098_r10_119_uai</td>\n",
       "      <td>0.031404</td>\n",
       "      <td>0.061024</td>\n",
       "      <td>1</td>\n",
       "      <td>0.031404</td>\n",
       "      <td>0.061024</td>\n",
       "    </tr>\n",
       "  </tbody>\n",
       "</table>\n",
       "<p>299 rows × 6 columns</p>\n",
       "</div>"
      ],
      "text/plain": [
       "                                           modelID    pns_l0    pns_u0  \\\n",
       "0     random_mc2_n9_mid3_d1000_05_mr098_r10_10_uai  0.301902  0.436716   \n",
       "1     random_mc2_n6_mid3_d1000_05_mr098_r10_91_uai  0.001417  0.103535   \n",
       "2    random_mc2_n9_mid3_d1000_05_mr098_r10_192_uai  0.363721  0.546557   \n",
       "3    random_mc2_n6_mid3_d1000_05_mr098_r10_146_uai  0.462975  0.494330   \n",
       "4    random_mc2_n5_mid3_d1000_05_mr098_r10_147_uai  0.071845  0.151473   \n",
       "..                                             ...       ...       ...   \n",
       "294   random_mc2_n7_mid3_d1000_05_mr098_r10_22_uai  0.482110  0.644469   \n",
       "295  random_mc2_n6_mid3_d1000_05_mr098_r10_167_uai  0.009263  0.129746   \n",
       "296  random_mc2_n5_mid3_d1000_05_mr098_r10_121_uai  0.214340  0.279279   \n",
       "297   random_mc2_n7_mid3_d1000_05_mr098_r10_65_uai  0.152031  0.210286   \n",
       "298  random_mc2_n8_mid3_d1000_05_mr098_r10_119_uai  0.031404  0.061024   \n",
       "\n",
       "     markovianity    pns_l1    pns_u1  \n",
       "0               1  0.301902  0.436716  \n",
       "1               1  0.001417  0.103535  \n",
       "2               1  0.363721  0.546557  \n",
       "3               1  0.462975  0.494330  \n",
       "4               1  0.071845  0.151473  \n",
       "..            ...       ...       ...  \n",
       "294             1  0.482110  0.644469  \n",
       "295             1  0.009263  0.129746  \n",
       "296             1  0.214340  0.279279  \n",
       "297             1  0.152031  0.210286  \n",
       "298             1  0.031404  0.061024  \n",
       "\n",
       "[299 rows x 6 columns]"
      ]
     },
     "execution_count": 9,
     "metadata": {},
     "output_type": "execute_result"
    }
   ],
   "source": [
    "df"
   ]
  },
  {
   "cell_type": "code",
   "execution_count": 10,
   "id": "3727eb6b-7921-47f9-903e-a59d8fafafe5",
   "metadata": {},
   "outputs": [],
   "source": [
    "lb_exact, ub_exact = 0.033535,0.150623\n",
    "lb_approx, ub_approx = 0.034858, 0.150623"
   ]
  },
  {
   "cell_type": "code",
   "execution_count": 11,
   "id": "92223584-5577-4226-8821-560ea97330aa",
   "metadata": {},
   "outputs": [],
   "source": [
    "def max_diff(lb0, ub0, lb1, ub1):\n",
    "    return max(np.abs(lb0-lb1), np.abs(ub0-ub1))\n",
    "\n",
    "\n",
    "def rrmse(lb_exact, ub_exact, lb_approx, ub_approx):\n",
    "    a,b, a_,b_ = lb_exact, ub_exact, lb_approx, ub_approx\n",
    "    #if b_ - a_ == 0 and a==a_ and b==b_: return 0\n",
    "    if (b_ - a_ == 0) or (b - a == 0): return np.NaN\n",
    "    #if b_ - a_ == 0 and a==a_ and b==b_: return 0\n",
    "    return math.sqrt(((a-a_)**2 + (b-b_)**2)/(2*((b_ - a_)**2)))"
   ]
  },
  {
   "cell_type": "code",
   "execution_count": 12,
   "id": "9ae6b93e-d442-4db3-9c0b-c89a1a38eb05",
   "metadata": {},
   "outputs": [],
   "source": [
    "df[\"max_diff\"] = df.apply(lambda t: max_diff(t[\"pns_l0\"],t[\"pns_u0\"],t[\"pns_l1\"],t[\"pns_u1\"]), axis=1)"
   ]
  },
  {
   "cell_type": "code",
   "execution_count": 13,
   "id": "4682f08f-a2c2-4f73-a0ff-f4e7dbcb9c04",
   "metadata": {},
   "outputs": [
    {
     "data": {
      "text/plain": [
       "<ufunc 'absolute'>"
      ]
     },
     "execution_count": 13,
     "metadata": {},
     "output_type": "execute_result"
    }
   ],
   "source": [
    "np.abs"
   ]
  },
  {
   "cell_type": "code",
   "execution_count": 14,
   "id": "e29933aa-8862-4995-b12e-d928ce47ec01",
   "metadata": {},
   "outputs": [
    {
     "data": {
      "text/plain": [
       "0.0015087929356640865"
      ]
     },
     "execution_count": 14,
     "metadata": {},
     "output_type": "execute_result"
    }
   ],
   "source": [
    "df.max_diff.mean()\n"
   ]
  },
  {
   "cell_type": "code",
   "execution_count": 15,
   "id": "9a68ea0e-6997-4a20-a429-a517d9cfb8b6",
   "metadata": {},
   "outputs": [
    {
     "data": {
      "text/plain": [
       "0.25    0.000000e+00\n",
       "0.50    1.006140e-16\n",
       "0.75    2.220446e-16\n",
       "Name: max_diff, dtype: float64"
      ]
     },
     "execution_count": 15,
     "metadata": {},
     "output_type": "execute_result"
    }
   ],
   "source": [
    "df[\"max_diff\"].quantile([0.25, .5, .75], interpolation=\"nearest\")"
   ]
  },
  {
   "cell_type": "code",
   "execution_count": 16,
   "id": "9e3d8c5b-e4da-49fd-8ccc-b72c00c20129",
   "metadata": {},
   "outputs": [
    {
     "data": {
      "text/plain": [
       "<Axes: >"
      ]
     },
     "execution_count": 16,
     "metadata": {},
     "output_type": "execute_result"
    },
    {
     "data": {
      "image/png": "[encoded data removed]",
      "text/plain": [
       "<Figure size 640x480 with 1 Axes>"
      ]
     },
     "metadata": {},
     "output_type": "display_data"
    }
   ],
   "source": [
    "df.boxplot(column=\"max_diff\")\n",
    "#plt.ylim(0,0.01)"
   ]
  },
  {
   "cell_type": "code",
   "execution_count": 17,
   "id": "e464871e-237e-485d-8317-1ad8642242b3",
   "metadata": {},
   "outputs": [
    {
     "data": {
      "text/plain": [
       "<Axes: >"
      ]
     },
     "execution_count": 17,
     "metadata": {},
     "output_type": "execute_result"
    }
   ],
   "source": [
    "df.max_diff.hist()"
   ]
  },
  {
   "cell_type": "code",
   "execution_count": 18,
   "id": "c7d1065d-77d5-4722-a3a3-8dac2b029890",
   "metadata": {},
   "outputs": [
    {
     "data": {
      "text/html": [
       "<div>\n",
       "<style scoped>\n",
       "    .dataframe tbody tr th:only-of-type {\n",
       "        vertical-align: middle;\n",
       "    }\n",
       "\n",
       "    .dataframe tbody tr th {\n",
       "        vertical-align: top;\n",
       "    }\n",
       "\n",
       "    .dataframe thead th {\n",
       "        text-align: right;\n",
       "    }\n",
       "</style>\n",
       "<table border=\"1\" class=\"dataframe\">\n",
       "  <thead>\n",
       "    <tr style=\"text-align: right;\">\n",
       "      <th></th>\n",
       "      <th>modelID</th>\n",
       "      <th>pns_l0</th>\n",
       "      <th>pns_u0</th>\n",
       "      <th>markovianity</th>\n",
       "      <th>pns_l1</th>\n",
       "      <th>pns_u1</th>\n",
       "      <th>max_diff</th>\n",
       "    </tr>\n",
       "  </thead>\n",
       "  <tbody>\n",
       "    <tr>\n",
       "      <th>149</th>\n",
       "      <td>random_mc2_n8_mid3_d1000_05_mr098_r10_50_uai</td>\n",
       "      <td>0.332016</td>\n",
       "      <td>0.524380</td>\n",
       "      <td>0</td>\n",
       "      <td>0.332016</td>\n",
       "      <td>0.524380</td>\n",
       "      <td>0.000000e+00</td>\n",
       "    </tr>\n",
       "    <tr>\n",
       "      <th>260</th>\n",
       "      <td>random_mc2_n6_mid3_d1000_05_mr098_r10_24_uai</td>\n",
       "      <td>0.004820</td>\n",
       "      <td>0.065813</td>\n",
       "      <td>0</td>\n",
       "      <td>0.004820</td>\n",
       "      <td>0.065813</td>\n",
       "      <td>0.000000e+00</td>\n",
       "    </tr>\n",
       "    <tr>\n",
       "      <th>257</th>\n",
       "      <td>random_mc2_n7_mid3_d1000_05_mr098_r10_123_uai</td>\n",
       "      <td>0.010682</td>\n",
       "      <td>0.149952</td>\n",
       "      <td>0</td>\n",
       "      <td>0.010682</td>\n",
       "      <td>0.149952</td>\n",
       "      <td>0.000000e+00</td>\n",
       "    </tr>\n",
       "    <tr>\n",
       "      <th>254</th>\n",
       "      <td>random_mc2_n5_mid3_d1000_05_mr098_r10_153_uai</td>\n",
       "      <td>0.014386</td>\n",
       "      <td>0.118614</td>\n",
       "      <td>0</td>\n",
       "      <td>0.014386</td>\n",
       "      <td>0.118614</td>\n",
       "      <td>0.000000e+00</td>\n",
       "    </tr>\n",
       "    <tr>\n",
       "      <th>251</th>\n",
       "      <td>random_mc2_n5_mid3_d1000_05_mr098_r10_2_uai</td>\n",
       "      <td>0.000000</td>\n",
       "      <td>0.000000</td>\n",
       "      <td>1</td>\n",
       "      <td>0.000000</td>\n",
       "      <td>0.000000</td>\n",
       "      <td>0.000000e+00</td>\n",
       "    </tr>\n",
       "    <tr>\n",
       "      <th>...</th>\n",
       "      <td>...</td>\n",
       "      <td>...</td>\n",
       "      <td>...</td>\n",
       "      <td>...</td>\n",
       "      <td>...</td>\n",
       "      <td>...</td>\n",
       "      <td>...</td>\n",
       "    </tr>\n",
       "    <tr>\n",
       "      <th>298</th>\n",
       "      <td>random_mc2_n8_mid3_d1000_05_mr098_r10_119_uai</td>\n",
       "      <td>0.031404</td>\n",
       "      <td>0.061024</td>\n",
       "      <td>1</td>\n",
       "      <td>0.031404</td>\n",
       "      <td>0.061024</td>\n",
       "      <td>9.020562e-16</td>\n",
       "    </tr>\n",
       "    <tr>\n",
       "      <th>59</th>\n",
       "      <td>random_mc2_n9_mid3_d1000_05_mr098_r10_118_uai</td>\n",
       "      <td>0.000018</td>\n",
       "      <td>0.317652</td>\n",
       "      <td>1</td>\n",
       "      <td>0.000018</td>\n",
       "      <td>0.317652</td>\n",
       "      <td>1.236475e-15</td>\n",
       "    </tr>\n",
       "    <tr>\n",
       "      <th>255</th>\n",
       "      <td>random_mc2_n8_mid3_d1000_05_mr098_r10_30_uai</td>\n",
       "      <td>0.024363</td>\n",
       "      <td>0.104759</td>\n",
       "      <td>1</td>\n",
       "      <td>0.024363</td>\n",
       "      <td>0.104759</td>\n",
       "      <td>5.082664e-08</td>\n",
       "    </tr>\n",
       "    <tr>\n",
       "      <th>122</th>\n",
       "      <td>random_mc2_n6_mid3_d1000_05_mr098_r10_100_uai</td>\n",
       "      <td>0.171265</td>\n",
       "      <td>0.302368</td>\n",
       "      <td>1</td>\n",
       "      <td>0.137606</td>\n",
       "      <td>0.378235</td>\n",
       "      <td>7.586706e-02</td>\n",
       "    </tr>\n",
       "    <tr>\n",
       "      <th>238</th>\n",
       "      <td>random_mc2_n7_mid3_d1000_05_mr098_r10_100_uai</td>\n",
       "      <td>0.211244</td>\n",
       "      <td>0.319602</td>\n",
       "      <td>1</td>\n",
       "      <td>0.586506</td>\n",
       "      <td>0.652114</td>\n",
       "      <td>3.752620e-01</td>\n",
       "    </tr>\n",
       "  </tbody>\n",
       "</table>\n",
       "<p>299 rows × 7 columns</p>\n",
       "</div>"
      ],
      "text/plain": [
       "                                           modelID    pns_l0    pns_u0  \\\n",
       "149   random_mc2_n8_mid3_d1000_05_mr098_r10_50_uai  0.332016  0.524380   \n",
       "260   random_mc2_n6_mid3_d1000_05_mr098_r10_24_uai  0.004820  0.065813   \n",
       "257  random_mc2_n7_mid3_d1000_05_mr098_r10_123_uai  0.010682  0.149952   \n",
       "254  random_mc2_n5_mid3_d1000_05_mr098_r10_153_uai  0.014386  0.118614   \n",
       "251    random_mc2_n5_mid3_d1000_05_mr098_r10_2_uai  0.000000  0.000000   \n",
       "..                                             ...       ...       ...   \n",
       "298  random_mc2_n8_mid3_d1000_05_mr098_r10_119_uai  0.031404  0.061024   \n",
       "59   random_mc2_n9_mid3_d1000_05_mr098_r10_118_uai  0.000018  0.317652   \n",
       "255   random_mc2_n8_mid3_d1000_05_mr098_r10_30_uai  0.024363  0.104759   \n",
       "122  random_mc2_n6_mid3_d1000_05_mr098_r10_100_uai  0.171265  0.302368   \n",
       "238  random_mc2_n7_mid3_d1000_05_mr098_r10_100_uai  0.211244  0.319602   \n",
       "\n",
       "     markovianity    pns_l1    pns_u1      max_diff  \n",
       "149             0  0.332016  0.524380  0.000000e+00  \n",
       "260             0  0.004820  0.065813  0.000000e+00  \n",
       "257             0  0.010682  0.149952  0.000000e+00  \n",
       "254             0  0.014386  0.118614  0.000000e+00  \n",
       "251             1  0.000000  0.000000  0.000000e+00  \n",
       "..            ...       ...       ...           ...  \n",
       "298             1  0.031404  0.061024  9.020562e-16  \n",
       "59              1  0.000018  0.317652  1.236475e-15  \n",
       "255             1  0.024363  0.104759  5.082664e-08  \n",
       "122             1  0.137606  0.378235  7.586706e-02  \n",
       "238             1  0.586506  0.652114  3.752620e-01  \n",
       "\n",
       "[299 rows x 7 columns]"
      ]
     },
     "execution_count": 18,
     "metadata": {},
     "output_type": "execute_result"
    }
   ],
   "source": [
    "df.dropna().sort_values(by=\"max_diff\")"
   ]
  },
  {
   "cell_type": "code",
   "execution_count": null,
   "id": "b3673a8c-80d5-47ab-b239-629707510b15",
   "metadata": {},
   "outputs": [],
   "source": []
  }
 ],
 "metadata": {
  "kernelspec": {
   "display_name": "Python 3 (ipykernel)",
   "language": "python",
   "name": "python3"
  },
  "language_info": {
   "codemirror_mode": {
    "name": "ipython",
    "version": 3
   },
   "file_extension": ".py",
   "mimetype": "text/x-python",
   "name": "python",
   "nbconvert_exporter": "python",
   "pygments_lexer": "ipython3",
   "version": "3.11.4"
  }
 },
 "nbformat": 4,
 "nbformat_minor": 5
}
