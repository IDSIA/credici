{
 "cells": [
  {
   "cell_type": "code",
   "execution_count": 1,
   "metadata": {},
   "outputs": [],
   "source": [
    "import compute_convergence\n",
    "import data\n",
    "import glob\n",
    "import seaborn as sns\n",
    "import numpy as np\n",
    "sns.set_theme()"
   ]
  },
  {
   "cell_type": "markdown",
   "metadata": {},
   "source": [
    "# Data for experiments"
   ]
  },
  {
   "cell_type": "code",
   "execution_count": 33,
   "metadata": {},
   "outputs": [],
   "source": [
    "debugdata = data.load_data(\"../output/synthetic/s1d/\")\n",
    "debugdata = data.postprocess(debugdata)"
   ]
  },
  {
   "cell_type": "code",
   "execution_count": 65,
   "metadata": {},
   "outputs": [
    {
     "data": {
      "text/plain": [
       "(3799, 834)"
      ]
     },
     "execution_count": 65,
     "metadata": {},
     "output_type": "execute_result"
    }
   ],
   "source": [
    "debugdata.shape"
   ]
  },
  {
   "cell_type": "markdown",
   "metadata": {},
   "source": [
    "Filter cases where ratio > 0.95 and save to pickle"
   ]
  },
  {
   "cell_type": "code",
   "execution_count": 70,
   "metadata": {},
   "outputs": [
    {
     "name": "stdout",
     "output_type": "stream",
     "text": [
      "(248, 834)\n"
     ]
    }
   ],
   "source": [
    "dta = debugdata[debugdata.th == 1e-8].copy()\n",
    "print(dta.shape)\n",
    "dta['idx095'] = dta.apply(lambda row: np.where(row[[f\"ratio_{i}\" for i in range(200)]]>0.95)[0], axis=1)\n",
    "dta['pns095'] = dta.apply(lambda row: row[[f\"pns_{i}\" for i in row.idx095]].values, axis=1)\n",
    "dta['idx098'] = dta.apply(lambda row: np.where(row[[f\"ratio_{i}\" for i in range(200)]]>0.98)[0], axis=1)\n",
    "dta['pns098'] = dta.apply(lambda row: row[[f\"pns_{i}\" for i in row.idx098]].values, axis=1)\n",
    "\n",
    "dta = dta[np.abs(dta.pns_l_emcc - dta.pns_u_emcc) > 0.02]\n",
    "outdata=dta[['pns095', 'pns098', \"pns_l_emcc\", \"pns_u_emcc\", \"pns_l_ccve\", \"pns_u_ccve\", 'modelFile', ]]"
   ]
  },
  {
   "cell_type": "code",
   "execution_count": 67,
   "metadata": {},
   "outputs": [
    {
     "data": {
      "text/plain": [
       "(199, 838)"
      ]
     },
     "execution_count": 67,
     "metadata": {},
     "output_type": "execute_result"
    }
   ],
   "source": [
    "dta.shape"
   ]
  },
  {
   "cell_type": "code",
   "execution_count": 71,
   "metadata": {},
   "outputs": [
    {
     "data": {
      "text/plain": [
       "count    199.000000\n",
       "mean     189.412060\n",
       "std       28.700316\n",
       "min        9.000000\n",
       "25%      198.500000\n",
       "50%      200.000000\n",
       "75%      200.000000\n",
       "max      200.000000\n",
       "Name: pns095, dtype: float64"
      ]
     },
     "execution_count": 71,
     "metadata": {},
     "output_type": "execute_result"
    }
   ],
   "source": [
    "dta['pns095'].apply(len).describe()"
   ]
  },
  {
   "cell_type": "code",
   "execution_count": 72,
   "metadata": {},
   "outputs": [],
   "source": [
    "\n",
    "outdata.to_pickle(\"pns_kl_1e8_s1d.pickle\")"
   ]
  }
 ],
 "metadata": {
  "kernelspec": {
   "display_name": "Python 3.9.12 ('causal')",
   "language": "python",
   "name": "python3"
  },
  "language_info": {
   "codemirror_mode": {
    "name": "ipython",
    "version": 3
   },
   "file_extension": ".py",
   "mimetype": "text/x-python",
   "name": "python",
   "nbconvert_exporter": "python",
   "pygments_lexer": "ipython3",
   "version": "3.9.12"
  },
  "orig_nbformat": 4,
  "vscode": {
   "interpreter": {
    "hash": "b2256cb237836e0b32ce22305984fd71b607e595669096085081827973a36ac7"
   }
  }
 },
 "nbformat": 4,
 "nbformat_minor": 2
}
