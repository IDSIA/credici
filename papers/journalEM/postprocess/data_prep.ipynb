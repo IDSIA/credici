{
 "cells": [
  {
   "cell_type": "code",
   "execution_count": 221,
   "metadata": {},
   "outputs": [],
   "source": [
    "import compute_convergence\n",
    "import data\n",
    "import glob\n",
    "import seaborn as sns\n",
    "import numpy as np\n",
    "sns.set_theme()"
   ]
  },
  {
   "cell_type": "markdown",
   "metadata": {},
   "source": [
    "# Data for experiments"
   ]
  },
  {
   "cell_type": "code",
   "execution_count": 216,
   "metadata": {},
   "outputs": [],
   "source": [
    "debugdata = data.load_data(\"../output/synthetic/s1b/\")\n",
    "debugdata = data.postprocess(debugdata)"
   ]
  },
  {
   "cell_type": "markdown",
   "metadata": {},
   "source": [
    "Filter cases where ratio > 0.95 and save to pickle"
   ]
  },
  {
   "cell_type": "code",
   "execution_count": 250,
   "metadata": {},
   "outputs": [],
   "source": [
    "dta = debugdata[debugdata.th == 1e-8].copy()\n",
    "\n",
    "dta['idx095'] = dta.apply(lambda row: np.where(row[[f\"ratio_{i}\" for i in range(100)]]>0.95)[0], axis=1)\n",
    "dta['pns095'] = dta.apply(lambda row: row[[f\"pns_{i}\" for i in row.idx095]].values, axis=1)\n",
    "\n",
    "dta[['pns095', 'modelFile', ]].to_pickle(\"pns_kl_1e8_s1b.pickle\")"
   ]
  },
  {
   "cell_type": "markdown",
   "metadata": {},
   "source": [
    "# Understanding bug 1"
   ]
  },
  {
   "cell_type": "code",
   "execution_count": 155,
   "metadata": {},
   "outputs": [
    {
     "data": {
      "text/plain": [
       "(5074, 434)"
      ]
     },
     "execution_count": 155,
     "metadata": {},
     "output_type": "execute_result"
    }
   ],
   "source": [
    "d2 = data.load_data(\"../output/synthetic/s1/\")\n",
    "d2 = data.postprocess(d2)\n",
    "d2.shape"
   ]
  },
  {
   "cell_type": "code",
   "execution_count": 4,
   "metadata": {},
   "outputs": [],
   "source": [
    "d2.to_csv(\"s1_data.csv\")"
   ]
  },
  {
   "cell_type": "markdown",
   "metadata": {},
   "source": [
    "Collect run IDs that satisfy some constraint. For instance all runs that did converge. Run is intended as single EMCC runs not different network simulations. "
   ]
  },
  {
   "cell_type": "code",
   "execution_count": 102,
   "metadata": {},
   "outputs": [],
   "source": [
    "import numpy as np\n",
    "d2['t500cols'] = d2.apply(lambda row: np.where(row[[f\"iter_{i}\" for i in range(100)]].values < 500), axis=1)\n",
    "d2['ll098cols'] = d2.apply(lambda row: np.where(row[[f\"ratio_{i}\" for i in range(100)]].values > 0.98), axis=1)\n",
    "d2['ll095cols'] = d2.apply(lambda row: np.where(row[[f\"ratio_{i}\" for i in range(100)]].values > 0.95), axis=1)\n",
    "d2['ll05cols'] = d2.apply(lambda row: np.where(row[[f\"ratio_{i}\" for i in range(100)]].values < 0.5), axis=1)\n",
    "\n"
   ]
  },
  {
   "cell_type": "code",
   "execution_count": null,
   "metadata": {},
   "outputs": [],
   "source": []
  },
  {
   "cell_type": "markdown",
   "metadata": {},
   "source": [
    "For a given threshold on KL, collect the min ratio of runs that converged"
   ]
  },
  {
   "cell_type": "code",
   "execution_count": 93,
   "metadata": {},
   "outputs": [],
   "source": [
    "klth = 0.00001\n",
    "dd = d2[d2.th == klth]\n",
    "\n",
    "x = dd.apply(lambda row: np.min(row[[f\"ratio_{i}\" for i in row.t500cols[0]]]), axis=1)\n",
    "y = dd.apply(lambda row: np.min(row[[f\"ratio_{i}\" for i in row.ll098cols[0]]]), axis=1)\n"
   ]
  },
  {
   "cell_type": "code",
   "execution_count": 94,
   "metadata": {},
   "outputs": [
    {
     "data": {
      "text/plain": [
       "<AxesSubplot:>"
      ]
     },
     "execution_count": 94,
     "metadata": {},
     "output_type": "execute_result"
    },
    {
     "data": {
      "image/png": "[encoded data removed]",
      "text/plain": [
       "<Figure size 432x288 with 1 Axes>"
      ]
     },
     "metadata": {},
     "output_type": "display_data"
    }
   ],
   "source": [
    "pd.DataFrame({\"t500\":x, \"ll\":y}).boxplot()"
   ]
  },
  {
   "cell_type": "code",
   "execution_count": 57,
   "metadata": {},
   "outputs": [
    {
     "name": "stdout",
     "output_type": "stream",
     "text": [
      "1e-08\n",
      "67.62928348909658\n",
      "93.53894080996885\n",
      "97.26791277258567\n",
      "0.01\n",
      "100.0\n",
      "14.789644012944985\n",
      "28.948220064724918\n",
      "1e-07\n",
      "78.34267912772586\n",
      "93.47352024922118\n",
      "97.25545171339564\n",
      "1e-05\n",
      "99.87261146496816\n",
      "85.49363057324841\n",
      "92.4171974522293\n",
      "1e-06\n",
      "92.52996845425868\n",
      "92.51419558359622\n",
      "96.29337539432177\n",
      "0.0001\n",
      "100.0\n",
      "67.05448717948718\n",
      "79.95833333333333\n",
      "0.001\n",
      "100.0\n",
      "39.35598705501618\n",
      "56.33980582524272\n",
      "0.0\n",
      "0.0\n",
      "93.45820433436532\n",
      "97.27863777089783\n"
     ]
    }
   ],
   "source": [
    "for i in d2[d2.crit=='kl'].th.unique():\n",
    "    print(i)\n",
    "    print(d2[d2.th == i].apply(lambda row: len(row.t500cols[0]), axis=1).mean())a\n",
    "    print(d2[d2.th == i].apply(lambda row: len(row.ll098cols[0]), axis=1).mean())\n",
    "    print(d2[d2.th == i].apply(lambda row: len(row.ll095cols[0]), axis=1).mean())"
   ]
  },
  {
   "cell_type": "code",
   "execution_count": 5,
   "metadata": {},
   "outputs": [],
   "source": [
    "ll1= d2[(d2.crit == \"kl\") & (d2.th == 0.000001)]\n",
    "ll1.to_csv(\"kl_data.csv\")"
   ]
  },
  {
   "cell_type": "code",
   "execution_count": 30,
   "metadata": {},
   "outputs": [
    {
     "data": {
      "text/plain": [
       "array(['kl', 'llratio'], dtype=object)"
      ]
     },
     "execution_count": 30,
     "metadata": {},
     "output_type": "execute_result"
    }
   ],
   "source": [
    "d2.crit.unique()"
   ]
  },
  {
   "cell_type": "code",
   "execution_count": 34,
   "metadata": {},
   "outputs": [
    {
     "name": "stdout",
     "output_type": "stream",
     "text": [
      "0.8515639036667051\n",
      "0.8542695058006938\n",
      "0.8542714769667556\n",
      "0.8537974780587723\n"
     ]
    }
   ],
   "source": [
    "for i in [0.99, 0.99999, 0.999999, 1]:\n",
    "    dd = d2[(d2.crit == \"llratio\") & (d2.th == i)]\n",
    "    ddd = dd[[f\"ratio_{j}\" for j in range(100)]]\n",
    "    print(ddd.min(axis=0).mean())"
   ]
  },
  {
   "cell_type": "code",
   "execution_count": 33,
   "metadata": {},
   "outputs": [
    {
     "name": "stdout",
     "output_type": "stream",
     "text": [
      "0.6760177801503785\n",
      "0.8269241149407577\n",
      "0.8514063806707898\n",
      "0.8537379477942679\n",
      "0.8537974780587723\n"
     ]
    }
   ],
   "source": [
    "for i in [0.00001, 0.000001, 0.0000001, 0.00000001, 0]:\n",
    "    dd = d2[(d2.crit == \"kl\") & (d2.th == i)]\n",
    "    ddd = dd[[f\"ratio_{j}\" for j in range(100)]]\n",
    "    print(ddd.min(axis=0).mean())"
   ]
  },
  {
   "cell_type": "code",
   "execution_count": 23,
   "metadata": {},
   "outputs": [
    {
     "data": {
      "text/plain": [
       "24"
      ]
     },
     "execution_count": 23,
     "metadata": {},
     "output_type": "execute_result"
    }
   ],
   "source": [
    "sum(ll1.pns_l_emcc == ll1.pns_u_emcc)"
   ]
  },
  {
   "cell_type": "code",
   "execution_count": null,
   "metadata": {},
   "outputs": [],
   "source": [
    "ratio > 0.98 "
   ]
  },
  {
   "cell_type": "markdown",
   "metadata": {},
   "source": [
    "use PNS only for runs where ratio_i is > 0.98 (param)\n",
    "\n",
    "eps 0.01 0.05 0.1\n",
    "\n",
    "kl th 0.00001 (1E-5)\n",
    "\n",
    "boxplot P"
   ]
  }
 ],
 "metadata": {
  "kernelspec": {
   "display_name": "Python 3.9.12 ('causal')",
   "language": "python",
   "name": "python3"
  },
  "language_info": {
   "codemirror_mode": {
    "name": "ipython",
    "version": 3
   },
   "file_extension": ".py",
   "mimetype": "text/x-python",
   "name": "python",
   "nbconvert_exporter": "python",
   "pygments_lexer": "ipython3",
   "version": "3.9.12"
  },
  "orig_nbformat": 4,
  "vscode": {
   "interpreter": {
    "hash": "b2256cb237836e0b32ce22305984fd71b607e595669096085081827973a36ac7"
   }
  }
 },
 "nbformat": 4,
 "nbformat_minor": 2
}
