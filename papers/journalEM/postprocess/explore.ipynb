{
 "cells": [
  {
   "cell_type": "code",
   "execution_count": 32,
   "metadata": {},
   "outputs": [],
   "source": [
    "import compute_convergence\n",
    "import data\n",
    "import glob\n",
    "import seaborn as sns\n",
    "import numpy as np\n",
    "import pandas as pd\n",
    "from functools import partial\n",
    "sns.set_theme()\n"
   ]
  },
  {
   "cell_type": "code",
   "execution_count": 4,
   "metadata": {},
   "outputs": [],
   "source": [
    "d = pd.read_pickle(\"pns_kl_1e8_s1d.pickle\")"
   ]
  },
  {
   "cell_type": "code",
   "execution_count": 86,
   "metadata": {},
   "outputs": [],
   "source": [
    "pns = d.iloc[10].pns098.astype(float)\n",
    "#pns = np.concatenate((pns,pns,pns,pns,pns,pns))\n",
    "np.random.shuffle(pns)"
   ]
  },
  {
   "cell_type": "code",
   "execution_count": 87,
   "metadata": {},
   "outputs": [
    {
     "data": {
      "text/plain": [
       "200"
      ]
     },
     "execution_count": 87,
     "metadata": {},
     "output_type": "execute_result"
    }
   ],
   "source": [
    "len(pns)"
   ]
  },
  {
   "cell_type": "code",
   "execution_count": 88,
   "metadata": {},
   "outputs": [],
   "source": [
    "import convergence as c"
   ]
  },
  {
   "cell_type": "code",
   "execution_count": 89,
   "metadata": {},
   "outputs": [],
   "source": [
    "rs = range(10, len(pns), int(len(pns)/100))"
   ]
  },
  {
   "cell_type": "code",
   "execution_count": 90,
   "metadata": {},
   "outputs": [
    {
     "name": "stderr",
     "output_type": "stream",
     "text": [
      "/Users/dhuber/anaconda3/envs/causal/lib/python3.9/site-packages/scipy/integrate/quadpack.py:879: IntegrationWarning: The integral is probably divergent, or slowly convergent.\n",
      "  quad_r = quad(f, low, high, args=args, full_output=self.full_output,\n"
     ]
    }
   ],
   "source": [
    "P = [c.p_eps_convergence(pns[:i], 0.01)[0] for i in rs]"
   ]
  },
  {
   "cell_type": "code",
   "execution_count": 92,
   "metadata": {},
   "outputs": [],
   "source": [
    "mn = [min(pns[:i]) for i in rs]\n",
    "mx = [max(pns[:i]) for i in rs]"
   ]
  },
  {
   "cell_type": "code",
   "execution_count": 93,
   "metadata": {},
   "outputs": [
    {
     "data": {
      "text/plain": [
       "<AxesSubplot:>"
      ]
     },
     "execution_count": 93,
     "metadata": {},
     "output_type": "execute_result"
    },
    {
     "data": {
      "image/png": "[encoded data removed]",
      "text/plain": [
       "<Figure size 432x288 with 1 Axes>"
      ]
     },
     "metadata": {},
     "output_type": "display_data"
    }
   ],
   "source": [
    "sns.lineplot(x=rs, y=P)\n",
    "\n"
   ]
  },
  {
   "cell_type": "code",
   "execution_count": 55,
   "metadata": {},
   "outputs": [],
   "source": [
    "def minmax(samples):\n",
    "    return min(samples), max(samples)"
   ]
  },
  {
   "cell_type": "code",
   "execution_count": 58,
   "metadata": {},
   "outputs": [
    {
     "data": {
      "text/plain": [
       "[(0.0176965743985012, 0.1774320243856808),\n",
       " (0.0176965743985012, 0.1774320243856808),\n",
       " (0.0004396455883278248, 0.1774320243856808),\n",
       " (0.0004396455883278248, 0.1774320243856808),\n",
       " (0.0004396455883278248, 0.1774320243856808),\n",
       " (0.0004396455883278248, 0.1774320243856808),\n",
       " (0.0004396455883278248, 0.1774320243856808),\n",
       " (0.0004396455883278248, 0.1774320243856808),\n",
       " (0.0004396455883278248, 0.1774320243856808),\n",
       " (0.0004396455883278248, 0.1774320243856808),\n",
       " (0.0004396455883278248, 0.1774320243856808),\n",
       " (0.0004396455883278248, 0.1774320243856808),\n",
       " (0.0004396455883278248, 0.1774320243856808),\n",
       " (0.0004396455883278248, 0.1774320243856808),\n",
       " (0.0004396455883278248, 0.1778412743429366),\n",
       " (0.0004396455883278248, 0.1778412743429366),\n",
       " (0.0004396455883278248, 0.1778412743429366),\n",
       " (0.0004396455883278248, 0.1778412743429366),\n",
       " (0.0004396455883278248, 0.1778412743429366),\n",
       " (0.0004396455883278248, 0.1778455652717396),\n",
       " (0.0004396455883278248, 0.1778455652717396),\n",
       " (0.0004396455883278248, 0.1778455652717396),\n",
       " (0.0004396455883278248, 0.1778455652717396),\n",
       " (0.0004396455883278248, 0.1778455652717396),\n",
       " (0.0001385260132024139, 0.1778455652717396),\n",
       " (0.0001385260132024139, 0.1778455652717396),\n",
       " (0.0001385260132024139, 0.1778455652717396),\n",
       " (0.0001385260132024139, 0.1778455652717396),\n",
       " (0.0001385260132024139, 0.1778455652717396),\n",
       " (0.0001385260132024139, 0.1778455652717396),\n",
       " (0.0001385260132024139, 0.1778455652717396),\n",
       " (0.0001385260132024139, 0.1778455652717396),\n",
       " (0.0001385260132024139, 0.1778455652717396),\n",
       " (0.0001385260132024139, 0.1778455652717396),\n",
       " (0.0001385260132024139, 0.1778455652717396),\n",
       " (0.00013691746669340795, 0.1778455652717396),\n",
       " (0.00013691746669340795, 0.1778455652717396),\n",
       " (0.00013691746669340795, 0.1778455652717396),\n",
       " (0.00013691746669340795, 0.1778455652717396),\n",
       " (0.00013691746669340795, 0.1778455652717396),\n",
       " (0.00011783819061511146, 0.1778455652717396),\n",
       " (0.00011783819061511146, 0.1778455652717396),\n",
       " (0.00011783819061511146, 0.1778455652717396),\n",
       " (0.00011783819061511146, 0.1778455652717396),\n",
       " (0.00011783819061511146, 0.1778455652717396),\n",
       " (0.00011783819061511146, 0.1778455652717396),\n",
       " (0.00011783819061511146, 0.1778455652717396),\n",
       " (0.00011783819061511146, 0.1778455652717396),\n",
       " (0.00011783819061511146, 0.1778455652717396),\n",
       " (0.00011783819061511146, 0.1778455652717396),\n",
       " (0.00011783819061511146, 0.1778455652717396),\n",
       " (0.00011783819061511146, 0.1778455652717396),\n",
       " (0.00011783819061511146, 0.1778455652717396),\n",
       " (0.00011783819061511146, 0.1778455652717396),\n",
       " (0.00011783819061511146, 0.1778455652717396),\n",
       " (0.00011783819061511146, 0.1778455652717396),\n",
       " (2.0095298002704527e-05, 0.1778455652717396),\n",
       " (2.0095298002704527e-05, 0.1778455652717396),\n",
       " (2.0095298002704527e-05, 0.1778455652717396),\n",
       " (2.0095298002704527e-05, 0.1778455652717396),\n",
       " (2.0095298002704527e-05, 0.1778455652717396),\n",
       " (2.0095298002704527e-05, 0.1778455652717396),\n",
       " (2.0095298002704527e-05, 0.1778455652717396),\n",
       " (2.0095298002704527e-05, 0.1778455652717396),\n",
       " (2.0095298002704527e-05, 0.1778455652717396),\n",
       " (2.0095298002704527e-05, 0.1778455652717396),\n",
       " (2.0095298002704527e-05, 0.1778455652717396),\n",
       " (2.0095298002704527e-05, 0.1778455652717396),\n",
       " (2.0095298002704527e-05, 0.1778455652717396),\n",
       " (2.0095298002704527e-05, 0.1778455652717396),\n",
       " (2.0095298002704527e-05, 0.1778455652717396),\n",
       " (2.0095298002704527e-05, 0.1778455652717396),\n",
       " (2.0095298002704527e-05, 0.1778455652717396),\n",
       " (2.0095298002704527e-05, 0.1778455652717396),\n",
       " (2.0095298002704527e-05, 0.1778455652717396),\n",
       " (2.0095298002704527e-05, 0.1778455652717396),\n",
       " (2.0095298002704527e-05, 0.1778455652717396),\n",
       " (2.0095298002704527e-05, 0.1778455652717396),\n",
       " (2.0095298002704527e-05, 0.1778455652717396),\n",
       " (2.0095298002704527e-05, 0.1778455652717396),\n",
       " (2.0095298002704527e-05, 0.1778455652717396),\n",
       " (2.0095298002704527e-05, 0.1778455652717396),\n",
       " (2.0095298002704527e-05, 0.1778455652717396),\n",
       " (2.0095298002704527e-05, 0.1778455652717396),\n",
       " (2.0095298002704527e-05, 0.1778455652717396),\n",
       " (2.0095298002704527e-05, 0.1778455652717396),\n",
       " (2.0095298002704527e-05, 0.1778455652717396),\n",
       " (2.0095298002704527e-05, 0.1778455652717396),\n",
       " (2.0095298002704527e-05, 0.1778455652717396),\n",
       " (2.0095298002704527e-05, 0.1778455652717396),\n",
       " (2.0095298002704527e-05, 0.1778455652717396),\n",
       " (2.0095298002704527e-05, 0.1778455652717396),\n",
       " (2.0095298002704527e-05, 0.1778455652717396),\n",
       " (2.0095298002704527e-05, 0.1778455652717396),\n",
       " (2.0095298002704527e-05, 0.1778455652717396)]"
      ]
     },
     "execution_count": 58,
     "metadata": {},
     "output_type": "execute_result"
    }
   ],
   "source": [
    "\n",
    "[minmax(pns[:i]) for i in rs]"
   ]
  },
  {
   "cell_type": "code",
   "execution_count": null,
   "metadata": {},
   "outputs": [],
   "source": []
  }
 ],
 "metadata": {
  "kernelspec": {
   "display_name": "Python 3.9.12 ('causal')",
   "language": "python",
   "name": "python3"
  },
  "language_info": {
   "codemirror_mode": {
    "name": "ipython",
    "version": 3
   },
   "file_extension": ".py",
   "mimetype": "text/x-python",
   "name": "python",
   "nbconvert_exporter": "python",
   "pygments_lexer": "ipython3",
   "version": "3.9.12"
  },
  "orig_nbformat": 4,
  "vscode": {
   "interpreter": {
    "hash": "b2256cb237836e0b32ce22305984fd71b607e595669096085081827973a36ac7"
   }
  }
 },
 "nbformat": 4,
 "nbformat_minor": 2
}
