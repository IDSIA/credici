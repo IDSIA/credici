{
 "cells": [
  {
   "cell_type": "code",
   "execution_count": 220,
   "metadata": {},
   "outputs": [],
   "source": [
    "import pandas as pd\n",
    "import seaborn as sns\n",
    "from functools import partial\n",
    "import numpy as np\n",
    "\n",
    "\n",
    "def getP(row, eps) :\n",
    "    r = row[\"r\"]\n",
    "    return row[f\"P_{r}_{eps}\"]\n",
    "\n",
    "def prob_unif_data(data, eps, pnscol):\n",
    "    a = data[pnscol].apply(min)\n",
    "    b = data[pnscol].apply(max)\n",
    "    n = data[pnscol].apply(len)\n",
    "    L = b - a\n",
    "    \n",
    "    num = (1 + (1 + 2*eps)**(2 - n) - 2 * (1+ eps) ** (2-n)) \n",
    "    den = (1 - L ** (n - 2) - (n - 2) * (1 - L) * L ** (n - 2))\n",
    "    return num/den\n",
    "\n",
    "\n",
    "def load(file, eps,llratio, pnscol, duplicate, fix, maxR):\n",
    "    dt = pd.read_pickle(file).copy()\n",
    "    #dt = dt[np.abs(dt.pns_l_emcc - dt.pns_u_emcc) > 0.02].copy()\n",
    "    dt[\"r\"] = dt[pnscol].apply(len)\n",
    "    dt['duplicate'] = duplicate\n",
    "    dt[\"fix\"] = fix\n",
    "    dt[\"maxR\"] = maxR\n",
    "    dt[\"pnss\"] = dt[pnscol].apply(lambda pns: pns.astype(float))\n",
    "    dt[\"P\"] = dt.apply(partial(getP, eps=eps), axis=1)\n",
    "    dt[\"Punif\"]=prob_unif_data(dt, eps, pnscol)\n",
    "    dt[\"eps\"] = str(eps)\n",
    "    return dt[[\"modelFile\", \"r\", \"P\", \"duplicate\", \"fix\", \"pnss\", \"Punif\", pnscol, \"pns_l_emcc\", \"pns_u_emcc\", \"pns_l_ccve\", \"pns_u_ccve\", \"eps\", \"maxR\"]]\n",
    "    "
   ]
  },
  {
   "cell_type": "markdown",
   "metadata": {},
   "source": [
    "# exploration ($r_{max}$)"
   ]
  },
  {
   "cell_type": "code",
   "execution_count": 221,
   "metadata": {},
   "outputs": [],
   "source": [
    "data = pd.DataFrame([\n",
    "    [True, True, 0.01, 0.98, \"pns098\", \"s1d\", \"P_kl_1e8_s1d_100iter_fix098_diplicate_0.01.pickle\"],\n",
    "    [True, True, 0.05, 0.98,\"pns098\", \"s1d\", \"P_kl_1e8_s1d_100iter_fix098_diplicate_0.05.pickle\"],\n",
    "    [True, True, 0.1, 0.98,\"pns098\",  \"s1d\", \"P_kl_1e8_s1d_100iter_fix098_diplicate_0.1.pickle\"],\n",
    "    [False, True, 0.01, 0.98,\"pns098\", \"s1b\", \"P_kl_1e8_s1d_100iter_fix098_0.01.pickle\"],\n",
    "    [False, True, 0.05, 0.98,\"pns098\", \"s1b\", \"P_kl_1e8_s1d_100iter_fix098_0.05.pickle\"],\n",
    "    [False, True, 0.1, 0.98,\"pns098\", \"s1b\", \"P_kl_1e8_s1d_100iter_fix098_0.1.pickle\"],\n",
    "], columns=['duplicate', \"fix\", \"eps\", \"llratio\",\"pnsCol\", \"dataset\", \"file\"])\n",
    "\n",
    "data = pd.DataFrame([\n",
    "    [True, True, 0.1, 0.98, \"pns\", \"s1d\", \"probabs/P50_0.1.pickle\", \"50\"],\n",
    "    [True, True, 0.1, 0.98, \"pns\", \"s1d\", \"probabs/P100_0.1.pickle\", \"100\"],\n",
    "    [True, True, 0.1, 0.98, \"pns\", \"s1d\", \"probabs/P150_0.1.pickle\", \"150\"],\n",
    "    [True, True, 0.1, 0.98, \"pns\", \"s1d\", \"probabs/P200_0.1.pickle\", \"200\"],\n",
    "], columns=['duplicate', \"fix\", \"eps\", \"llratio\",\"pnsCol\", \"dataset\", \"file\", \"maxR\"])\n",
    "\n",
    "\n",
    "\n",
    "#d1 = load(\"P_kl_1e8_s1d_100iter_fix098_0.01.pickle\", 0.01)\n",
    "#d2 = load(\"P_kl_1e8_s1d_100iter_fix098_0.05.pickle\", 0.05)\n",
    "#d3 = load(\"P_kl_1e8_s1d_100iter_fix098_0.1.pickle\", 0.1)\n",
    "\n",
    "dt = pd.concat((\n",
    "    load(d.file, d.eps, d.llratio, d.pnsCol, d.duplicate, d.fix, d.maxR).reset_index()\n",
    "    for index, d in data.iterrows())).reset_index()\n",
    "\n",
    "#dt = d1.merge(d2[[\"modelFile\", \"P0.05\"]], on=\"modelFile\").merge(d3[[\"modelFile\", \"P0.1\"]], on=\"modelFile\")"
   ]
  },
  {
   "cell_type": "code",
   "execution_count": 155,
   "metadata": {},
   "outputs": [],
   "source": [
    "x = x.copy()"
   ]
  },
  {
   "cell_type": "code",
   "execution_count": 214,
   "metadata": {},
   "outputs": [],
   "source": [
    "import convergence\n",
    "from functools import partial\n",
    "f = partial(convergence.fit_beta, eps=0.1, precision=0.000000001)\n",
    "\n",
    "x = dt[dt[\"P\"] > 1]\n",
    "\n",
    "ab = x.pns.apply(partial(np.array, dtype=float)).apply(f)"
   ]
  },
  {
   "cell_type": "code",
   "execution_count": 228,
   "metadata": {},
   "outputs": [],
   "source": [
    "dt[\"L\"] = dt.pnss.apply(max) - dt.pnss.apply(min)"
   ]
  },
  {
   "cell_type": "code",
   "execution_count": 232,
   "metadata": {},
   "outputs": [
    {
     "data": {
      "text/plain": [
       "(53, 17)"
      ]
     },
     "execution_count": 232,
     "metadata": {},
     "output_type": "execute_result"
    }
   ],
   "source": [
    "x.shape"
   ]
  },
  {
   "cell_type": "code",
   "execution_count": 229,
   "metadata": {},
   "outputs": [],
   "source": [
    "x = dt[dt.L > 1/3].copy()"
   ]
  },
  {
   "cell_type": "code",
   "execution_count": 231,
   "metadata": {},
   "outputs": [
    {
     "data": {
      "text/plain": [
       "10"
      ]
     },
     "execution_count": 231,
     "metadata": {},
     "output_type": "execute_result"
    }
   ],
   "source": [
    "sum(x.P > 1)"
   ]
  },
  {
   "cell_type": "code",
   "execution_count": 208,
   "metadata": {},
   "outputs": [
    {
     "data": {
      "application/vnd.jupyter.widget-view+json": {
       "model_id": "8c1404b6fd594db3856c853903f9ea7a",
       "version_major": 2,
       "version_minor": 0
      },
      "text/plain": [
       "interactive(children=(IntSlider(value=10, description='i', max=118), Output()), _dom_classes=('widget-interact…"
      ]
     },
     "metadata": {},
     "output_type": "display_data"
    }
   ],
   "source": [
    "from ipywidgets import interact\n",
    "import ipywidgets\n",
    "\n",
    "@interact(i=ipywidgets.IntSlider(10, min=0, max=x.shape[0]-1))\n",
    "def plt(i):\n",
    "    sns.histplot(x.pns.iloc[i], bins=20)\n",
    "    print(x.iloc[i].P, x.iloc[i].pns.min())"
   ]
  },
  {
   "cell_type": "code",
   "execution_count": 211,
   "metadata": {},
   "outputs": [
    {
     "data": {
      "application/vnd.jupyter.widget-view+json": {
       "model_id": "bd429d7f1f534905b6e559b117a54433",
       "version_major": 2,
       "version_minor": 0
      },
      "text/plain": [
       "interactive(children=(IntSlider(value=5, description='i', max=200, min=5), Output()), _dom_classes=('widget-in…"
      ]
     },
     "metadata": {},
     "output_type": "display_data"
    }
   ],
   "source": [
    "import convergence\n",
    "row = 109\n",
    "eps = 0.1\n",
    "dta = x.iloc[row].pns.astype(float)\n",
    "@interact(i=ipywidgets.IntSlider(5, min=5, max=len(dta)))\n",
    "def plt(i):\n",
    "    print(convergence.p_eps_convergence(dta[:i], eps))"
   ]
  },
  {
   "cell_type": "code",
   "execution_count": 206,
   "metadata": {},
   "outputs": [
    {
     "name": "stdout",
     "output_type": "stream",
     "text": [
      "0.7374096897657315 3.3500799551025525e-15 0.2019847337048975 0.20198473370489414 9.43405020576033e+19 0.21117126236965902 1.7588439439684596\n",
      "0.7411916689234247 3.3500799551025525e-15 0.2019847337048975 0.20198473370489414 9.011135494013505e+19 0.21246598476305395 1.7698720867340847\n",
      "0.0333937843423765\n"
     ]
    }
   ],
   "source": [
    "upper = 140\n",
    "row = 109 #53\n",
    "\n",
    "def print_case(data, k, eps):\n",
    "    pns = data[:k].astype(float)\n",
    "    alpha, beta = convergence.fit_beta(pns, eps, 0.0000001)\n",
    "    l = max(pns) - min(pns)\n",
    "    delta = 2*eps*l\n",
    "\n",
    "    element = convergence._pjoint(0, delta/2, l, alpha, beta, k)\n",
    "    print(element, min(pns), max(pns), l, convergence.p_eps_convergence(pns, eps)[0], alpha, beta)\n",
    "    \n",
    "\n",
    "print_case(x.iloc[row].pns, 140, 0.1)\n",
    "print_case(x.iloc[row].pns, 141, 0.1)\n",
    "\n",
    "\n",
    "\n",
    "print(data[upper-1],)\n"
   ]
  },
  {
   "cell_type": "code",
   "execution_count": 144,
   "metadata": {},
   "outputs": [
    {
     "name": "stderr",
     "output_type": "stream",
     "text": [
      "/Users/dhuber/anaconda3/envs/causal/lib/python3.9/site-packages/seaborn/_decorators.py:36: FutureWarning: Pass the following variables as keyword args: x, y. From version 0.12, the only valid positional argument will be `data`, and passing other arguments without an explicit keyword will result in an error or misinterpretation.\n",
      "  warnings.warn(\n"
     ]
    },
    {
     "data": {
      "text/plain": [
       "<AxesSubplot:>"
      ]
     },
     "execution_count": 144,
     "metadata": {},
     "output_type": "execute_result"
    },
    {
     "data": {
      "image/png": "[encoded data removed]",
      "text/plain": [
       "<Figure size 432x288 with 1 Axes>"
      ]
     },
     "metadata": {},
     "output_type": "display_data"
    }
   ],
   "source": [
    "a = ab.apply(lambda a:a[0]).values\n",
    "b = ab.apply(lambda a:a[1]).values\n",
    "sns.scatterplot(a,b)"
   ]
  },
  {
   "cell_type": "code",
   "execution_count": 50,
   "metadata": {},
   "outputs": [
    {
     "name": "stdout",
     "output_type": "stream",
     "text": [
      "(664, 16)\n"
     ]
    },
    {
     "name": "stderr",
     "output_type": "stream",
     "text": [
      "/var/folders/gc/vwr0wlvs149fjgmddd29dpw40000gn/T/ipykernel_7325/157712764.py:4: UserWarning: Boolean Series key will be reindexed to match DataFrame index.\n",
      "  dt2 = dt1[(dt.P > 1.0)]\n"
     ]
    }
   ],
   "source": [
    "\n",
    "dt1 = dt[(dt.eps == \"0.1\") & (dt.r == 200)]\n",
    "print(dt1.shape)\n",
    "dt2 = dt1[(dt.P > 1.0)]"
   ]
  },
  {
   "cell_type": "code",
   "execution_count": 41,
   "metadata": {},
   "outputs": [
    {
     "data": {
      "text/plain": [
       "level_0                                                     207\n",
       "index                                                      4166\n",
       "modelFile          random_mc2_n5_mid3_d1000_05_mr098_r10_57.uai\n",
       "r                                                           200\n",
       "P                                1358596610832987487138217984.0\n",
       "duplicate                                                  True\n",
       "fix                                                        True\n",
       "pnss          [0.0090422833643779, 0.0018701783168612, 0.002...\n",
       "Punif                                                       1.0\n",
       "pns098        [0.0090422833643779, 0.0018701783168612, 0.002...\n",
       "pns_l_emcc                                                  0.0\n",
       "pns_u_emcc                                             0.201985\n",
       "pns_l_ccve                                                  NaN\n",
       "pns_u_ccve                                                  NaN\n",
       "eps                                                         0.1\n",
       "Name: 207, dtype: object"
      ]
     },
     "execution_count": 41,
     "metadata": {},
     "output_type": "execute_result"
    }
   ],
   "source": [
    "dt2.iloc[dt2.P.argmax()]"
   ]
  },
  {
   "cell_type": "code",
   "execution_count": 31,
   "metadata": {},
   "outputs": [
    {
     "ename": "NameError",
     "evalue": "name 'a' is not defined",
     "output_type": "error",
     "traceback": [
      "\u001b[0;31m---------------------------------------------------------------------------\u001b[0m",
      "\u001b[0;31mNameError\u001b[0m                                 Traceback (most recent call last)",
      "\u001b[1;32m/Users/dhuber/Development/credici/papers/journalEM/postprocess/postprocess.ipynb Cell 5\u001b[0m in \u001b[0;36m<cell line: 2>\u001b[0;34m()\u001b[0m\n\u001b[1;32m      <a href='vscode-notebook-cell:/Users/dhuber/Development/credici/papers/journalEM/postprocess/postprocess.ipynb#W4sZmlsZQ%3D%3D?line=0'>1</a>\u001b[0m \u001b[39mfrom\u001b[39;00m \u001b[39mscipy\u001b[39;00m\u001b[39m.\u001b[39;00m\u001b[39mstats\u001b[39;00m\u001b[39m.\u001b[39;00m\u001b[39mdistributions\u001b[39;00m \u001b[39mimport\u001b[39;00m beta \n\u001b[0;32m----> <a href='vscode-notebook-cell:/Users/dhuber/Development/credici/papers/journalEM/postprocess/postprocess.ipynb#W4sZmlsZQ%3D%3D?line=1'>2</a>\u001b[0m x \u001b[39m=\u001b[39m np\u001b[39m.\u001b[39mlinspace(beta\u001b[39m.\u001b[39mppf(\u001b[39m0.01\u001b[39m, a, b), beta\u001b[39m.\u001b[39mppf(\u001b[39m0.99\u001b[39m, a, b), \u001b[39m100\u001b[39m)\n",
      "\u001b[0;31mNameError\u001b[0m: name 'a' is not defined"
     ]
    }
   ],
   "source": [
    "from scipy.stats.distributions import beta \n",
    "x = np.linspace(beta.ppf(0.01, a, b), beta.ppf(0.99, a, b), 100)\n"
   ]
  },
  {
   "cell_type": "code",
   "execution_count": 87,
   "metadata": {},
   "outputs": [
    {
     "name": "stderr",
     "output_type": "stream",
     "text": [
      "/Users/dhuber/anaconda3/envs/causal/lib/python3.9/site-packages/seaborn/_decorators.py:36: FutureWarning: Pass the following variables as keyword args: x, y. From version 0.12, the only valid positional argument will be `data`, and passing other arguments without an explicit keyword will result in an error or misinterpretation.\n",
      "  warnings.warn(\n"
     ]
    },
    {
     "data": {
      "text/plain": [
       "<AxesSubplot:>"
      ]
     },
     "execution_count": 87,
     "metadata": {},
     "output_type": "execute_result"
    },
    {
     "data": {
      "image/png": "[encoded data removed]",
      "text/plain": [
       "<Figure size 432x288 with 1 Axes>"
      ]
     },
     "metadata": {},
     "output_type": "display_data"
    }
   ],
   "source": [
    "sns.lineplot(x, beta.pdf(x, a, b))"
   ]
  },
  {
   "cell_type": "code",
   "execution_count": 15,
   "metadata": {},
   "outputs": [],
   "source": [
    "dt = dt[dt.P <= 1.0]\n",
    "dt[\"eps dup\"] = dt[\"eps\"].astype(str) + \" \" + dt[\"duplicate\"].astype(str)"
   ]
  },
  {
   "cell_type": "code",
   "execution_count": 32,
   "metadata": {},
   "outputs": [
    {
     "data": {
      "text/plain": [
       "<seaborn.axisgrid.FacetGrid at 0x7fc5895634c0>"
      ]
     },
     "execution_count": 32,
     "metadata": {},
     "output_type": "execute_result"
    },
    {
     "data": {
      "image/png": "[encoded data removed]",
      "text/plain": [
       "<Figure size 421.975x360 with 1 Axes>"
      ]
     },
     "metadata": {},
     "output_type": "display_data"
    },
    {
     "data": {
      "image/png": "[encoded data removed]",
      "text/plain": [
       "<Figure size 414.975x360 with 1 Axes>"
      ]
     },
     "metadata": {},
     "output_type": "display_data"
    }
   ],
   "source": [
    "sns.set_theme(style=\"white\", palette=\"tab10\")\n",
    "sns.displot(dt[dt.eps == \"0.1\"], x=\"P\", hue=\"duplicate\", kind=\"ecdf\")\n",
    "sns.displot(dt, x=\"Punif\", hue=\"eps\", kind=\"kde\", fill=True)"
   ]
  },
  {
   "cell_type": "markdown",
   "metadata": {},
   "source": [
    "# S1B duplicate exploration"
   ]
  },
  {
   "cell_type": "code",
   "execution_count": 20,
   "metadata": {},
   "outputs": [],
   "source": [
    "d1d = load(\"P_kl_1e8_s1b_100iter_duplicated_0.01.pickle\", 0.01)\n",
    "d3d = load(\"P_kl_1e8_s1b_100iter_duplicated_0.1.pickle\", 0.1)\n",
    "dtd = pd.concat((d1d,d3d)).reset_index()\n",
    "d3d['dup'] = True"
   ]
  },
  {
   "cell_type": "code",
   "execution_count": 15,
   "metadata": {},
   "outputs": [
    {
     "data": {
      "text/plain": [
       "<seaborn.axisgrid.FacetGrid at 0x7fd959ca5fa0>"
      ]
     },
     "execution_count": 15,
     "metadata": {},
     "output_type": "execute_result"
    },
    {
     "data": {
      "image/png": "[encoded data removed]",
      "text/plain": [
       "<Figure size 421.1x360 with 1 Axes>"
      ]
     },
     "metadata": {},
     "output_type": "display_data"
    },
    {
     "data": {
      "image/png": "[encoded data removed]",
      "text/plain": [
       "<Figure size 421.1x360 with 1 Axes>"
      ]
     },
     "metadata": {},
     "output_type": "display_data"
    }
   ],
   "source": [
    "sns.set_theme(style=\"white\", palette=\"tab10\")\n",
    "sns.displot(dtd, x=\"P\", hue=\"eps\",   fill=True)\n",
    "sns.displot(dtd, x=\"Punif\", hue=\"eps\", fill=True)"
   ]
  },
  {
   "cell_type": "code",
   "execution_count": 24,
   "metadata": {},
   "outputs": [
    {
     "data": {
      "text/plain": [
       "<seaborn.axisgrid.FacetGrid at 0x7fd96d817a30>"
      ]
     },
     "execution_count": 24,
     "metadata": {},
     "output_type": "execute_result"
    },
    {
     "data": {
      "image/png": "[encoded data removed]",
      "text/plain": [
       "<Figure size 426.35x360 with 1 Axes>"
      ]
     },
     "metadata": {},
     "output_type": "display_data"
    }
   ],
   "source": [
    "d1['data dup']=False\n",
    "d1d['data dup']=True\n",
    "sns.displot(pd.concat((d1, d1d)).reset_index(), x=\"P\", hue=\"data dup\")\n"
   ]
  },
  {
   "cell_type": "markdown",
   "metadata": {},
   "source": [
    "# S1D exploration (no dup)"
   ]
  },
  {
   "cell_type": "code",
   "execution_count": 28,
   "metadata": {},
   "outputs": [],
   "source": [
    "f1 = load(\"P_kl_1e8_s1d_100iter_0.01.pickle\", 0.01)\n",
    "f2 = load(\"P_kl_1e8_s1d_100iter_0.05.pickle\", 0.05)\n",
    "f3 = load(\"P_kl_1e8_s1d_100iter_0.1.pickle\", 0.1)\n",
    "\n",
    "ft = pd.concat((f1,f2,f3)).reset_index()\n",
    "#dt = d1.merge(d2[[\"modelFile\", \"P0.05\"]], on=\"modelFile\").merge(d3[[\"modelFile\", \"P0.1\"]], on=\"modelFile\")"
   ]
  },
  {
   "cell_type": "code",
   "execution_count": 58,
   "metadata": {},
   "outputs": [
    {
     "data": {
      "text/plain": [
       "<seaborn.axisgrid.FacetGrid at 0x7fd97ca14ee0>"
      ]
     },
     "execution_count": 58,
     "metadata": {},
     "output_type": "execute_result"
    },
    {
     "data": {
      "image/png": "[encoded data removed]",
      "text/plain": [
       "<Figure size 421.1x360 with 1 Axes>"
      ]
     },
     "metadata": {},
     "output_type": "display_data"
    },
    {
     "data": {
      "image/png": "[encoded data removed]",
      "text/plain": [
       "<Figure size 421.1x360 with 1 Axes>"
      ]
     },
     "metadata": {},
     "output_type": "display_data"
    }
   ],
   "source": [
    "sns.set_theme(style=\"white\", palette=\"tab10\")\n",
    "sns.displot(ft, x=\"P\", hue=\"eps\", kind=\"ecdf\")\n",
    "sns.displot(ft, x=\"Punif\", hue=\"eps\", kind=\"kde\", fill=True)"
   ]
  },
  {
   "cell_type": "code",
   "execution_count": 30,
   "metadata": {},
   "outputs": [
    {
     "data": {
      "text/plain": [
       "<AxesSubplot:xlabel='r', ylabel='P'>"
      ]
     },
     "execution_count": 30,
     "metadata": {},
     "output_type": "execute_result"
    },
    {
     "data": {
      "image/png": "[encoded data removed]",
      "text/plain": [
       "<Figure size 432x288 with 1 Axes>"
      ]
     },
     "metadata": {},
     "output_type": "display_data"
    }
   ],
   "source": [
    "sns.scatterplot(y = f1.P, x = f1.r)"
   ]
  },
  {
   "cell_type": "code",
   "execution_count": 52,
   "metadata": {},
   "outputs": [
    {
     "data": {
      "text/plain": [
       "<seaborn.axisgrid.FacetGrid at 0x7fd96e2c0fa0>"
      ]
     },
     "execution_count": 52,
     "metadata": {},
     "output_type": "execute_result"
    },
    {
     "data": {
      "image/png": "[encoded data removed]",
      "text/plain": [
       "<Figure size 449.85x360 with 1 Axes>"
      ]
     },
     "metadata": {},
     "output_type": "display_data"
    }
   ],
   "source": [
    "pltd = (d1, d1d, f1)\n",
    "#pltd = (d3, d3d, f3)\n",
    "pltd[0]['data set']=\"S1B\"\n",
    "pltd[1]['data set']=\"S1B_DUP\"\n",
    "pltd[2]['data set']=\"S1D\"\n",
    "sns.displot(pd.concat(pltd).reset_index(), x=\"P\", kind=\"ecdf\", hue=\"data set\")\n"
   ]
  },
  {
   "cell_type": "code",
   "execution_count": 33,
   "metadata": {},
   "outputs": [],
   "source": [
    "s = pd.read_pickle(\"pns_kl_1e8_s1d.pickle\")\n",
    "s = dt[(dt.eps==\"0.1\") & ( ~ dt.duplicate)].merge(s, on=\"modelFile\")"
   ]
  },
  {
   "cell_type": "code",
   "execution_count": 55,
   "metadata": {},
   "outputs": [
    {
     "name": "stderr",
     "output_type": "stream",
     "text": [
      "/Users/dhuber/anaconda3/envs/causal/lib/python3.9/site-packages/seaborn/_decorators.py:36: FutureWarning: Pass the following variables as keyword args: x, y. From version 0.12, the only valid positional argument will be `data`, and passing other arguments without an explicit keyword will result in an error or misinterpretation.\n",
      "  warnings.warn(\n"
     ]
    },
    {
     "data": {
      "text/plain": [
       "<AxesSubplot:xlabel='pnss', ylabel='P'>"
      ]
     },
     "execution_count": 55,
     "metadata": {},
     "output_type": "execute_result"
    },
    {
     "data": {
      "image/png": "[encoded data removed]",
      "text/plain": [
       "<Figure size 432x288 with 1 Axes>"
      ]
     },
     "metadata": {},
     "output_type": "display_data"
    }
   ],
   "source": [
    "sns.scatterplot( s.pnss.apply(min),s.P)"
   ]
  },
  {
   "cell_type": "markdown",
   "metadata": {},
   "source": [
    "# s1d 200 exploration"
   ]
  },
  {
   "cell_type": "code",
   "execution_count": 9,
   "metadata": {},
   "outputs": [],
   "source": [
    "d_50 = pd.read_pickle(\"P50_0.1.pickle\")\n",
    "d_100 = pd.read_pickle(\"P100_0.1.pickle\")\n",
    "d_150 = pd.read_pickle(\"P150_0.1.pickle\")\n",
    "d_200 = pd.read_pickle(\"P200_0.1.pickle\")\n"
   ]
  },
  {
   "cell_type": "code",
   "execution_count": 26,
   "metadata": {},
   "outputs": [
    {
     "data": {
      "text/plain": [
       "10      0.454124\n",
       "20           NaN\n",
       "38           NaN\n",
       "47           NaN\n",
       "83           NaN\n",
       "          ...   \n",
       "4996         NaN\n",
       "5024         NaN\n",
       "5057         NaN\n",
       "5065         NaN\n",
       "5074         NaN\n",
       "Name: P_199_0.1, Length: 260, dtype: float64"
      ]
     },
     "execution_count": 26,
     "metadata": {},
     "output_type": "execute_result"
    }
   ],
   "source": [
    "d_50[\"P_199_0.1\"]\n"
   ]
  },
  {
   "cell_type": "code",
   "execution_count": 11,
   "metadata": {},
   "outputs": [
    {
     "data": {
      "text/plain": [
       "10      199\n",
       "20      131\n",
       "38      200\n",
       "47      200\n",
       "83      200\n",
       "       ... \n",
       "4996    200\n",
       "5024    200\n",
       "5057    139\n",
       "5065     58\n",
       "5074    200\n",
       "Name: pns098, Length: 260, dtype: int64"
      ]
     },
     "execution_count": 11,
     "metadata": {},
     "output_type": "execute_result"
    }
   ],
   "source": [
    "d_50.pns098.apply(len)"
   ]
  },
  {
   "cell_type": "code",
   "execution_count": null,
   "metadata": {},
   "outputs": [],
   "source": []
  }
 ],
 "metadata": {
  "kernelspec": {
   "display_name": "Python 3.9.12 ('causal')",
   "language": "python",
   "name": "python3"
  },
  "language_info": {
   "codemirror_mode": {
    "name": "ipython",
    "version": 3
   },
   "file_extension": ".py",
   "mimetype": "text/x-python",
   "name": "python",
   "nbconvert_exporter": "python",
   "pygments_lexer": "ipython3",
   "version": "3.9.12"
  },
  "orig_nbformat": 4,
  "vscode": {
   "interpreter": {
    "hash": "b2256cb237836e0b32ce22305984fd71b607e595669096085081827973a36ac7"
   }
  }
 },
 "nbformat": 4,
 "nbformat_minor": 2
}
