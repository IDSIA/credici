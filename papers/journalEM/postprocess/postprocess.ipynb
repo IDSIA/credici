{
 "cells": [
  {
   "cell_type": "code",
   "execution_count": 4,
   "metadata": {},
   "outputs": [
    {
     "name": "stdout",
     "output_type": "stream",
     "text": [
      "Requirement already satisfied: seaborn in /opt/homebrew/lib/python3.11/site-packages (0.12.2)\n",
      "Requirement already satisfied: numpy!=1.24.0,>=1.17 in /opt/homebrew/lib/python3.11/site-packages (from seaborn) (1.25.1)\n",
      "Requirement already satisfied: pandas>=0.25 in /opt/homebrew/lib/python3.11/site-packages (from seaborn) (2.0.3)\n",
      "Requirement already satisfied: matplotlib!=3.6.1,>=3.1 in /opt/homebrew/lib/python3.11/site-packages (from seaborn) (3.7.2)\n",
      "Requirement already satisfied: contourpy>=1.0.1 in /opt/homebrew/lib/python3.11/site-packages (from matplotlib!=3.6.1,>=3.1->seaborn) (1.1.0)\n",
      "Requirement already satisfied: cycler>=0.10 in /opt/homebrew/lib/python3.11/site-packages (from matplotlib!=3.6.1,>=3.1->seaborn) (0.11.0)\n",
      "Requirement already satisfied: fonttools>=4.22.0 in /opt/homebrew/lib/python3.11/site-packages (from matplotlib!=3.6.1,>=3.1->seaborn) (4.40.0)\n",
      "Requirement already satisfied: kiwisolver>=1.0.1 in /opt/homebrew/lib/python3.11/site-packages (from matplotlib!=3.6.1,>=3.1->seaborn) (1.4.4)\n",
      "Requirement already satisfied: packaging>=20.0 in /opt/homebrew/lib/python3.11/site-packages (from matplotlib!=3.6.1,>=3.1->seaborn) (23.1)\n",
      "Requirement already satisfied: pillow>=6.2.0 in /opt/homebrew/lib/python3.11/site-packages (from matplotlib!=3.6.1,>=3.1->seaborn) (10.0.0)\n",
      "Requirement already satisfied: pyparsing<3.1,>=2.3.1 in /opt/homebrew/lib/python3.11/site-packages (from matplotlib!=3.6.1,>=3.1->seaborn) (3.0.9)\n",
      "Requirement already satisfied: python-dateutil>=2.7 in /opt/homebrew/lib/python3.11/site-packages (from matplotlib!=3.6.1,>=3.1->seaborn) (2.8.2)\n",
      "Requirement already satisfied: pytz>=2020.1 in /opt/homebrew/lib/python3.11/site-packages (from pandas>=0.25->seaborn) (2023.3)\n",
      "Requirement already satisfied: tzdata>=2022.1 in /opt/homebrew/lib/python3.11/site-packages (from pandas>=0.25->seaborn) (2023.3)\n",
      "Requirement already satisfied: six>=1.5 in /opt/homebrew/lib/python3.11/site-packages (from python-dateutil>=2.7->matplotlib!=3.6.1,>=3.1->seaborn) (1.16.0)\n",
      "\n",
      "\u001B[1m[\u001B[0m\u001B[34;49mnotice\u001B[0m\u001B[1;39;49m]\u001B[0m\u001B[39;49m A new release of pip is available: \u001B[0m\u001B[31;49m23.0.1\u001B[0m\u001B[39;49m -> \u001B[0m\u001B[32;49m23.1.2\u001B[0m\n",
      "\u001B[1m[\u001B[0m\u001B[34;49mnotice\u001B[0m\u001B[1;39;49m]\u001B[0m\u001B[39;49m To update, run: \u001B[0m\u001B[32;49mpython3.11 -m pip install --upgrade pip\u001B[0m\n"
     ]
    }
   ],
   "source": [
    "!python3.11 -m pip install seaborn"
   ]
  },
  {
   "cell_type": "code",
   "execution_count": 5,
   "metadata": {},
   "outputs": [
    {
     "ename": "ModuleNotFoundError",
     "evalue": "No module named 'seaborn'",
     "output_type": "error",
     "traceback": [
      "\u001B[0;31m---------------------------------------------------------------------------\u001B[0m",
      "\u001B[0;31mModuleNotFoundError\u001B[0m                       Traceback (most recent call last)",
      "Cell \u001B[0;32mIn[5], line 2\u001B[0m\n\u001B[1;32m      1\u001B[0m \u001B[38;5;28;01mimport\u001B[39;00m \u001B[38;5;21;01mpandas\u001B[39;00m \u001B[38;5;28;01mas\u001B[39;00m \u001B[38;5;21;01mpd\u001B[39;00m\n\u001B[0;32m----> 2\u001B[0m \u001B[38;5;28;01mimport\u001B[39;00m \u001B[38;5;21;01mseaborn\u001B[39;00m \u001B[38;5;28;01mas\u001B[39;00m \u001B[38;5;21;01msns\u001B[39;00m\n\u001B[1;32m      3\u001B[0m \u001B[38;5;28;01mfrom\u001B[39;00m \u001B[38;5;21;01mfunctools\u001B[39;00m \u001B[38;5;28;01mimport\u001B[39;00m partial\n\u001B[1;32m      4\u001B[0m \u001B[38;5;28;01mimport\u001B[39;00m \u001B[38;5;21;01mnumpy\u001B[39;00m \u001B[38;5;28;01mas\u001B[39;00m \u001B[38;5;21;01mnp\u001B[39;00m\n",
      "\u001B[0;31mModuleNotFoundError\u001B[0m: No module named 'seaborn'"
     ]
    }
   ],
   "source": [
    "import pandas as pd\n",
    "import seaborn as sns\n",
    "from functools import partial\n",
    "import numpy as np\n",
    "\n",
    "\n",
    "def getP(row, eps) :\n",
    "    r = row[\"r\"]\n",
    "    return row[f\"P_{r}_{eps}\"]\n",
    "\n",
    "def prob_unif_data(data, eps, pnscol):\n",
    "    a = data[pnscol].apply(min)\n",
    "    b = data[pnscol].apply(max)\n",
    "    n = data[pnscol].apply(len)\n",
    "    L = b - a\n",
    "    \n",
    "    num = (1 + (1 + 2*eps)**(2 - n) - 2 * (1+ eps) ** (2-n)) \n",
    "    den = (1 - L ** (n - 2) - (n - 2) * (1 - L) * L ** (n - 2))\n",
    "    return num/den\n",
    "\n",
    "\n",
    "def load(file, eps,llratio, pnscol, duplicate, fix, maxR):\n",
    "    dt = pd.read_pickle(file).copy()\n",
    "    #dt = dt[np.abs(dt.pns_l_emcc - dt.pns_u_emcc) > 0.02].copy()\n",
    "    dt[\"r\"] = dt[pnscol].apply(len)\n",
    "    dt['duplicate'] = duplicate\n",
    "    dt[\"fix\"] = fix\n",
    "    dt[\"maxR\"] = maxR\n",
    "    dt[\"pnss\"] = dt[pnscol].apply(lambda pns: pns.astype(float))\n",
    "    dt[\"P\"] = dt.apply(partial(getP, eps=eps), axis=1)\n",
    "    dt[\"Punif\"]=prob_unif_data(dt, eps, pnscol)\n",
    "    dt[\"eps\"] = str(eps)\n",
    "    return dt[[\"modelFile\", \"r\", \"P\", \"duplicate\", \"fix\", \"pnss\", \"Punif\", pnscol, \"pns_l_emcc\", \"pns_u_emcc\", \"pns_l_ccve\", \"pns_u_ccve\", \"eps\", \"maxR\"]]\n",
    "    "
   ]
  },
  {
   "cell_type": "code",
   "execution_count": null,
   "metadata": {},
   "outputs": [],
   "source": []
  },
  {
   "cell_type": "markdown",
   "metadata": {},
   "source": [
    "# exploration ($r_{max}$)"
   ]
  },
  {
   "cell_type": "code",
   "execution_count": null,
   "metadata": {},
   "outputs": [],
   "source": [
    "data = pd.DataFrame([\n",
    "    [True, True, 0.01, 0.98, \"pns098\", \"s1d\", \"P_kl_1e8_s1d_100iter_fix098_diplicate_0.01.pickle\"],\n",
    "    [True, True, 0.05, 0.98,\"pns098\", \"s1d\", \"P_kl_1e8_s1d_100iter_fix098_diplicate_0.05.pickle\"],\n",
    "    [True, True, 0.1, 0.98,\"pns098\",  \"s1d\", \"P_kl_1e8_s1d_100iter_fix098_diplicate_0.1.pickle\"],\n",
    "    [False, True, 0.01, 0.98,\"pns098\", \"s1b\", \"P_kl_1e8_s1d_100iter_fix098_0.01.pickle\"],\n",
    "    [False, True, 0.05, 0.98,\"pns098\", \"s1b\", \"P_kl_1e8_s1d_100iter_fix098_0.05.pickle\"],\n",
    "    [False, True, 0.1, 0.98,\"pns098\", \"s1b\", \"P_kl_1e8_s1d_100iter_fix098_0.1.pickle\"],\n",
    "], columns=['duplicate', \"fix\", \"eps\", \"llratio\",\"pnsCol\", \"dataset\", \"file\"])\n",
    "\n",
    "data = pd.DataFrame([\n",
    "    #[True, True, 0.1, 0.98, \"pns\", \"s1d\", \"probabs/P50_0.1.pickle\", \"50\"],\n",
    "    #[True, True, 0.1, 0.98, \"pns\", \"s1d\", \"probabs/P100_0.1.pickle\", \"100\"],\n",
    "    #[True, True, 0.1, 0.98, \"pns\", \"s1d\", \"probabs/P150_0.1.pickle\", \"150\"],\n",
    "    [True, True, 0.1, 0.98, \"pns\", \"s1d\", \"probabs/P200_0.1.pickle\", \"200\"],\n",
    "], columns=['duplicate', \"fix\", \"eps\", \"llratio\",\"pnsCol\", \"dataset\", \"file\", \"maxR\"])\n",
    "\n",
    "\n",
    "\n",
    "#d1 = load(\"P_kl_1e8_s1d_100iter_fix098_0.01.pickle\", 0.01)\n",
    "#d2 = load(\"P_kl_1e8_s1d_100iter_fix098_0.05.pickle\", 0.05)\n",
    "#d3 = load(\"P_kl_1e8_s1d_100iter_fix098_0.1.pickle\", 0.1)\n",
    "\n",
    "dt = pd.concat((\n",
    "    load(d.file, d.eps, d.llratio, d.pnsCol, d.duplicate, d.fix, d.maxR).reset_index()\n",
    "    for index, d in data.iterrows())).reset_index()\n",
    "\n",
    "#dt = d1.merge(d2[[\"modelFile\", \"P0.05\"]], on=\"modelFile\").merge(d3[[\"modelFile\", \"P0.1\"]], on=\"modelFile\")"
   ]
  },
  {
   "cell_type": "code",
   "execution_count": null,
   "metadata": {},
   "outputs": [],
   "source": [
    "dt[\"a\"] = dt.pnss.apply(min)\n",
    "dt[\"b\"] = dt.pnss.apply(max)\n",
    "dt[\"L\"] = dt.pnss.apply(max) - dt.pnss.apply(min)"
   ]
  },
  {
   "cell_type": "code",
   "execution_count": null,
   "metadata": {},
   "outputs": [],
   "source": [
    "pd.__version__"
   ]
  },
  {
   "cell_type": "code",
   "execution_count": null,
   "metadata": {},
   "outputs": [],
   "source": [
    "dt.to_json(\"P_0.1_200.json\")"
   ]
  },
  {
   "cell_type": "code",
   "execution_count": null,
   "metadata": {},
   "outputs": [],
   "source": [
    "pd.read_json(\"P_0.1_200.json\").pnss.apply(min)"
   ]
  },
  {
   "cell_type": "code",
   "execution_count": null,
   "metadata": {},
   "outputs": [],
   "source": [
    "import convergence\n",
    "from functools import partial\n",
    "f = partial(convergence.fit_beta, eps=0.1, precision=0.000000001)\n",
    "\n",
    "x = dt[dt[\"P\"] > 1].copy()\n",
    "\n",
    "ab = x.pns.apply(partial(np.array, dtype=float)).apply(f)"
   ]
  },
  {
   "cell_type": "code",
   "execution_count": null,
   "metadata": {},
   "outputs": [],
   "source": [
    "x[x[\"a\"] > 0.01].iloc[1].pns"
   ]
  },
  {
   "cell_type": "code",
   "execution_count": null,
   "metadata": {},
   "outputs": [],
   "source": [
    "x.shape"
   ]
  },
  {
   "cell_type": "code",
   "execution_count": null,
   "metadata": {},
   "outputs": [],
   "source": [
    "from ipywidgets import interact\n",
    "import ipywidgets\n",
    "\n",
    "@interact(i=ipywidgets.IntSlider(10, min=0, max=x.shape[0]-1))\n",
    "def plt(i):\n",
    "    sns.histplot(x.pns.iloc[i], bins=20)\n",
    "    print(x.iloc[i].P, x.iloc[i].pns.min())"
   ]
  },
  {
   "cell_type": "code",
   "execution_count": null,
   "metadata": {},
   "outputs": [],
   "source": [
    "import convergence\n",
    "row = 109\n",
    "eps = 0.1\n",
    "dta = x.iloc[row].pns.astype(float)\n",
    "@interact(i=ipywidgets.IntSlider(5, min=5, max=len(dta)))\n",
    "def plt(i):\n",
    "    print(convergence.p_eps_convergence(dta[:i], eps))"
   ]
  },
  {
   "cell_type": "code",
   "execution_count": null,
   "metadata": {},
   "outputs": [],
   "source": []
  },
  {
   "cell_type": "code",
   "execution_count": null,
   "metadata": {},
   "outputs": [],
   "source": [
    "upper = 140\n",
    "row = 109 #53\n",
    "\n",
    "def print_case(data, k, eps):\n",
    "    pns = data[:k].astype(float)\n",
    "    alpha, beta = convergence.fit_beta(pns, eps, 0.0000001)\n",
    "    l = max(pns) - min(pns)\n",
    "    delta = 2*eps*l\n",
    "\n",
    "    element = convergence._pjoint(0, delta/2, l, alpha, beta, k)\n",
    "    print(element, min(pns), max(pns), l, convergence.p_eps_convergence(pns, eps)[0], alpha, beta)\n",
    "\n",
    "\n",
    "\n",
    "print_case(x.iloc[row].pns, 140, 0.1)\n",
    "print_case(x.iloc[row].pns, 200, 0.1)\n",
    "\n",
    "\n",
    "x.iloc[row].pns.shape"
   ]
  },
  {
   "cell_type": "code",
   "execution_count": null,
   "metadata": {},
   "outputs": [],
   "source": [
    "a = ab.apply(lambda a:a[0]).values\n",
    "b = ab.apply(lambda a:a[1]).values\n",
    "sns.scatterplot(a,b)"
   ]
  },
  {
   "cell_type": "code",
   "execution_count": null,
   "metadata": {},
   "outputs": [],
   "source": [
    "\n",
    "dt1 = dt[(dt.eps == \"0.1\") & (dt.r == 200)]\n",
    "print(dt1.shape)\n",
    "dt2 = dt1[(dt.P > 1.0)]"
   ]
  },
  {
   "cell_type": "code",
   "execution_count": null,
   "metadata": {},
   "outputs": [],
   "source": [
    "dt2.iloc[dt2.P.argmax()]"
   ]
  },
  {
   "cell_type": "code",
   "execution_count": null,
   "metadata": {},
   "outputs": [],
   "source": [
    "from scipy.stats.distributions import beta \n",
    "x = np.linspace(beta.ppf(0.01, a, b), beta.ppf(0.99, a, b), 100)\n"
   ]
  },
  {
   "cell_type": "code",
   "execution_count": null,
   "metadata": {},
   "outputs": [],
   "source": [
    "sns.lineplot(x, beta.pdf(x, a, b))"
   ]
  },
  {
   "cell_type": "code",
   "execution_count": null,
   "metadata": {},
   "outputs": [],
   "source": [
    "dt = dt[dt.P <= 1.0]\n",
    "dt[\"eps dup\"] = dt[\"eps\"].astype(str) + \" \" + dt[\"duplicate\"].astype(str)"
   ]
  },
  {
   "cell_type": "code",
   "execution_count": null,
   "metadata": {},
   "outputs": [],
   "source": [
    "sns.set_theme(style=\"white\", palette=\"tab10\")\n",
    "sns.displot(dt[dt.eps == \"0.1\"], x=\"P\", hue=\"duplicate\", kind=\"ecdf\")\n",
    "sns.displot(dt, x=\"Punif\", hue=\"eps\", kind=\"kde\", fill=True)"
   ]
  },
  {
   "cell_type": "markdown",
   "metadata": {},
   "source": [
    "# S1B duplicate exploration"
   ]
  },
  {
   "cell_type": "code",
   "execution_count": null,
   "metadata": {},
   "outputs": [],
   "source": [
    "d1d = load(\"P_kl_1e8_s1b_100iter_duplicated_0.01.pickle\", 0.01)\n",
    "d3d = load(\"P_kl_1e8_s1b_100iter_duplicated_0.1.pickle\", 0.1)\n",
    "dtd = pd.concat((d1d,d3d)).reset_index()\n",
    "d3d['dup'] = True"
   ]
  },
  {
   "cell_type": "code",
   "execution_count": null,
   "metadata": {},
   "outputs": [],
   "source": [
    "sns.set_theme(style=\"white\", palette=\"tab10\")\n",
    "sns.displot(dtd, x=\"P\", hue=\"eps\",   fill=True)\n",
    "sns.displot(dtd, x=\"Punif\", hue=\"eps\", fill=True)"
   ]
  },
  {
   "cell_type": "code",
   "execution_count": null,
   "metadata": {},
   "outputs": [],
   "source": [
    "d1['data dup']=False\n",
    "d1d['data dup']=True\n",
    "sns.displot(pd.concat((d1, d1d)).reset_index(), x=\"P\", hue=\"data dup\")\n"
   ]
  },
  {
   "cell_type": "markdown",
   "metadata": {},
   "source": [
    "# S1D exploration (no dup)"
   ]
  },
  {
   "cell_type": "code",
   "execution_count": null,
   "metadata": {},
   "outputs": [],
   "source": [
    "f1 = load(\"P_kl_1e8_s1d_100iter_0.01.pickle\", 0.01)\n",
    "f2 = load(\"P_kl_1e8_s1d_100iter_0.05.pickle\", 0.05)\n",
    "f3 = load(\"P_kl_1e8_s1d_100iter_0.1.pickle\", 0.1)\n",
    "\n",
    "ft = pd.concat((f1,f2,f3)).reset_index()\n",
    "#dt = d1.merge(d2[[\"modelFile\", \"P0.05\"]], on=\"modelFile\").merge(d3[[\"modelFile\", \"P0.1\"]], on=\"modelFile\")"
   ]
  },
  {
   "cell_type": "code",
   "execution_count": null,
   "metadata": {},
   "outputs": [],
   "source": [
    "sns.set_theme(style=\"white\", palette=\"tab10\")\n",
    "sns.displot(ft, x=\"P\", hue=\"eps\", kind=\"ecdf\")\n",
    "sns.displot(ft, x=\"Punif\", hue=\"eps\", kind=\"kde\", fill=True)"
   ]
  },
  {
   "cell_type": "code",
   "execution_count": null,
   "metadata": {},
   "outputs": [],
   "source": [
    "sns.scatterplot(y = f1.P, x = f1.r)"
   ]
  },
  {
   "cell_type": "code",
   "execution_count": null,
   "metadata": {},
   "outputs": [],
   "source": [
    "pltd = (d1, d1d, f1)\n",
    "#pltd = (d3, d3d, f3)\n",
    "pltd[0]['data set']=\"S1B\"\n",
    "pltd[1]['data set']=\"S1B_DUP\"\n",
    "pltd[2]['data set']=\"S1D\"\n",
    "sns.displot(pd.concat(pltd).reset_index(), x=\"P\", kind=\"ecdf\", hue=\"data set\")\n"
   ]
  },
  {
   "cell_type": "code",
   "execution_count": null,
   "metadata": {},
   "outputs": [],
   "source": [
    "s = pd.read_pickle(\"pns_kl_1e8_s1d.pickle\")\n",
    "s = dt[(dt.eps==\"0.1\") & ( ~ dt.duplicate)].merge(s, on=\"modelFile\")"
   ]
  },
  {
   "cell_type": "code",
   "execution_count": null,
   "metadata": {},
   "outputs": [],
   "source": [
    "sns.scatterplot( s.pnss.apply(min),s.P)"
   ]
  },
  {
   "cell_type": "markdown",
   "metadata": {},
   "source": [
    "# s1d 200 exploration"
   ]
  },
  {
   "cell_type": "code",
   "execution_count": null,
   "metadata": {},
   "outputs": [],
   "source": [
    "d_50 = pd.read_pickle(\"P50_0.1.pickle\")\n",
    "d_100 = pd.read_pickle(\"P100_0.1.pickle\")\n",
    "d_150 = pd.read_pickle(\"P150_0.1.pickle\")\n",
    "d_200 = pd.read_pickle(\"P200_0.1.pickle\")\n"
   ]
  },
  {
   "cell_type": "code",
   "execution_count": null,
   "metadata": {},
   "outputs": [],
   "source": [
    "d_50[\"P_199_0.1\"]\n"
   ]
  },
  {
   "cell_type": "code",
   "execution_count": null,
   "metadata": {},
   "outputs": [],
   "source": [
    "d_50.pns098.apply(len)"
   ]
  },
  {
   "cell_type": "code",
   "execution_count": null,
   "metadata": {},
   "outputs": [],
   "source": []
  }
 ],
 "metadata": {
  "kernelspec": {
   "display_name": "Python 3 (ipykernel)",
   "language": "python",
   "name": "python3"
  },
  "language_info": {
   "codemirror_mode": {
    "name": "ipython",
    "version": 3
   },
   "file_extension": ".py",
   "mimetype": "text/x-python",
   "name": "python",
   "nbconvert_exporter": "python",
   "pygments_lexer": "ipython3",
   "version": "3.10.12"
  },
  "vscode": {
   "interpreter": {
    "hash": "b2256cb237836e0b32ce22305984fd71b607e595669096085081827973a36ac7"
   }
  }
 },
 "nbformat": 4,
 "nbformat_minor": 2
}
