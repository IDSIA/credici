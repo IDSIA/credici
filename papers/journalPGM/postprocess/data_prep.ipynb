{
 "cells": [
  {
   "cell_type": "code",
   "execution_count": 259,
   "metadata": {},
   "outputs": [],
   "source": [
    "import compute_convergence\n",
    "import data\n",
    "import glob\n",
    "import seaborn as sns\n",
    "import numpy as np\n",
    "import pandas as pd\n",
    "import re\n",
    "\n",
    "sns.set_theme()"
   ]
  },
  {
   "attachments": {},
   "cell_type": "markdown",
   "metadata": {},
   "source": [
    "# Data of experiments"
   ]
  },
  {
   "cell_type": "code",
   "execution_count": 298,
   "metadata": {},
   "outputs": [],
   "source": [
    "biased = data.load_data(\"../output/biased/synthetic/s12/\", \"random_*\")\n",
    "#hybrid = data.load_data(\"../output/hybrid/synthetic/s12/\", \"random_*\")\n",
    "#newepxp= data.load_data(\"../output/hybrid/synthetic/s12b/\", \"random_*\")\n",
    "newepxp= data.load_data(\"../output/hybrid/synthetic/s12c/\", \"random_*\")\n",
    "#biased = data.postprocess(biased)\n",
    "hybrid = newepxp"
   ]
  },
  {
   "attachments": {},
   "cell_type": "markdown",
   "metadata": {},
   "source": [
    "## Prepare the hybrid dataset"
   ]
  },
  {
   "cell_type": "code",
   "execution_count": 291,
   "metadata": {},
   "outputs": [],
   "source": [
    "hybrid['lp'] = hybrid.file.str.split('/').str[-1].str.split('_').str[-3] == 'lptrue'\n",
    "hybrid['tps'] = hybrid.file.str.split('/').str[-1].str.split('_').str[-2].str[3:].astype(int)\n",
    "\n",
    "#newepxp['lp'] = newepxp.file.str.split('/').str[-1].str.split('_').str[-3] == 'lptrue'"
   ]
  },
  {
   "cell_type": "code",
   "execution_count": 292,
   "metadata": {},
   "outputs": [],
   "source": [
    "cols = [ n for n in hybrid.columns if not re.fullmatch('.*_[0-9]*',n) ]"
   ]
  },
  {
   "cell_type": "code",
   "execution_count": 293,
   "metadata": {},
   "outputs": [
    {
     "name": "stdout",
     "output_type": "stream",
     "text": [
      "(462, 627)\n"
     ]
    },
    {
     "data": {
      "text/plain": [
       "array(['Dx+Dzb ', 'Dzb ', 'Dx', 'Dobs ', 'Dobs+Dx', 'Dobs+Dzb ',\n",
       "       'Dobs+Dx+Dzb '], dtype=object)"
      ]
     },
     "execution_count": 293,
     "metadata": {},
     "output_type": "execute_result"
    }
   ],
   "source": [
    "dta = hybrid.copy()\n",
    "print(dta.shape)\n",
    "#dta['ll'] = dta.apply(lambda row: row[[f\"llk_{i}\" for i in range(300)]].values, axis=1)\n",
    "dta[\"pns\"]= dta.apply(lambda row: row[[f\"pns_{i}\" for i in range(300)]].values, axis=1)\n",
    "dta[\"iter\"]= dta.apply(lambda row: row[[f\"iter_{i}\" for i in range(300)]].values, axis=1)\n",
    "dta['pns_l'] = dta.pns.apply(min)\n",
    "dta['pns_u'] = dta.pns.apply(max)\n",
    "dta = dta[np.abs(dta.pns_l - dta.pns_u) > 0.02]\n",
    "outdata_hybrid=dta[['pns', \"iter\", \"pns_l\", \"pns_u\", 'file', \"model_type\",'lp']]\n",
    "hybrid.model_type.unique()"
   ]
  },
  {
   "attachments": {},
   "cell_type": "markdown",
   "metadata": {},
   "source": [
    "# Compute Intevals for different experiments (Hybrid)\n",
    "\n",
    "Index the file and pivot on the model_type, showing the values of the pns as output, no aggregation is needed as there is only one file-model_type pair"
   ]
  },
  {
   "cell_type": "code",
   "execution_count": 294,
   "metadata": {},
   "outputs": [],
   "source": [
    "condition = outdata_hybrid.lp\n",
    "dta = outdata_hybrid[condition].pivot_table(values=[\"pns_l\", \"pns_u\"], index=\"file\", columns=\"model_type\")\n",
    "dta.columns = [\"_\".join(c) for c in dta.columns]\n",
    "dta.to_csv(\"hybrid_6_LPTrue.csv\")\n",
    "\n",
    "condition = ~outdata_hybrid.lp\n",
    "dta = outdata_hybrid[condition].pivot_table(values=[\"pns_l\", \"pns_u\"], index=\"file\", columns=\"model_type\")\n",
    "dta.columns = [\"_\".join(c) for c in dta.columns]\n",
    "dta.to_csv(\"hybrid_6_LPFalse.csv\")\n"
   ]
  },
  {
   "attachments": {},
   "cell_type": "markdown",
   "metadata": {},
   "source": [
    "# NAs"
   ]
  },
  {
   "attachments": {},
   "cell_type": "markdown",
   "metadata": {},
   "source": [
    "## Count dominating cases\n",
    "\n",
    "Count the number of experiments where the lower pns of some model_type is >, < or == to another"
   ]
  },
  {
   "cell_type": "code",
   "execution_count": 295,
   "metadata": {},
   "outputs": [],
   "source": [
    "# count rows > columns\n",
    "def process(pnsl, pnsu, order):\n",
    "    pns_data = pnsl\n",
    "    pnsl_df_gt = pd.DataFrame(\n",
    "        [ [ sum(pns_data[r] > pns_data[c]) for c in pns_data.columns ] for r in pns_data.columns], \n",
    "        columns=pns_data.columns, \n",
    "        index=pns_data.columns)\n",
    "\n",
    "    pns_data = pnsl\n",
    "    pnsl_df_lt = pd.DataFrame(\n",
    "        [ [ sum(pns_data[r] < pns_data[c]) for c in pns_data.columns ] for r in pns_data.columns], \n",
    "        columns=pns_data.columns, \n",
    "        index=pns_data.columns)\n",
    "\n",
    "    pns_data = pnsl\n",
    "    pnsl_df_eq = pd.DataFrame(\n",
    "        [ [ sum(pns_data[r] == pns_data[c]) for c in pns_data.columns ] for r in pns_data.columns], \n",
    "        columns=pns_data.columns, \n",
    "        index=pns_data.columns)\n",
    "\n",
    "    pns_data = pnsu\n",
    "    pnsu_df_gt = pd.DataFrame(\n",
    "        [ [ sum(pns_data[r] > pns_data[c]) for c in pns_data.columns ] for r in pns_data.columns], \n",
    "        columns=pns_data.columns, \n",
    "        index=pns_data.columns)\n",
    "\n",
    "    pns_data = pnsu\n",
    "    pnsu_df_lt = pd.DataFrame(\n",
    "        [ [ sum(pns_data[r] < pns_data[c]) for c in pns_data.columns ] for r in pns_data.columns], \n",
    "        columns=pns_data.columns, \n",
    "        index=pns_data.columns)\n",
    "\n",
    "    pns_data = pnsu\n",
    "    pnsu_df_eq = pd.DataFrame(\n",
    "        [ [ sum(pns_data[r] == pns_data[c]) for c in pns_data.columns ] for r in pns_data.columns], \n",
    "        columns=pns_data.columns, \n",
    "        index=pns_data.columns)\n",
    "\n",
    "    # Overall\n",
    "    cols = pnsu.columns\n",
    "    containement = pd.DataFrame(\n",
    "        [ [ sum((pnsl[r] >= pnsl[c]) & (pnsu[r] <= pnsu[c])) for c in cols ] for r in cols], \n",
    "        columns=cols, \n",
    "        index=cols)\n",
    "\n",
    "    return containement[order].loc[order]\n",
    "\n"
   ]
  },
  {
   "cell_type": "code",
   "execution_count": 296,
   "metadata": {},
   "outputs": [
    {
     "data": {
      "text/html": [
       "<div>\n",
       "<style scoped>\n",
       "    .dataframe tbody tr th:only-of-type {\n",
       "        vertical-align: middle;\n",
       "    }\n",
       "\n",
       "    .dataframe tbody tr th {\n",
       "        vertical-align: top;\n",
       "    }\n",
       "\n",
       "    .dataframe thead th {\n",
       "        text-align: right;\n",
       "    }\n",
       "</style>\n",
       "<table border=\"1\" class=\"dataframe\">\n",
       "  <thead>\n",
       "    <tr style=\"text-align: right;\">\n",
       "      <th>model_type</th>\n",
       "      <th>Dx+Dzb</th>\n",
       "      <th>Dzb</th>\n",
       "      <th>Dx</th>\n",
       "      <th>Dobs</th>\n",
       "      <th>Dobs+Dx</th>\n",
       "      <th>Dobs+Dzb</th>\n",
       "      <th>Dobs+Dx+Dzb</th>\n",
       "    </tr>\n",
       "    <tr>\n",
       "      <th>model_type</th>\n",
       "      <th></th>\n",
       "      <th></th>\n",
       "      <th></th>\n",
       "      <th></th>\n",
       "      <th></th>\n",
       "      <th></th>\n",
       "      <th></th>\n",
       "    </tr>\n",
       "  </thead>\n",
       "  <tbody>\n",
       "    <tr>\n",
       "      <th>Dx+Dzb</th>\n",
       "      <td>28</td>\n",
       "      <td>16</td>\n",
       "      <td>7</td>\n",
       "      <td>2</td>\n",
       "      <td>3</td>\n",
       "      <td>2</td>\n",
       "      <td>2</td>\n",
       "    </tr>\n",
       "    <tr>\n",
       "      <th>Dzb</th>\n",
       "      <td>1</td>\n",
       "      <td>27</td>\n",
       "      <td>1</td>\n",
       "      <td>1</td>\n",
       "      <td>1</td>\n",
       "      <td>0</td>\n",
       "      <td>0</td>\n",
       "    </tr>\n",
       "    <tr>\n",
       "      <th>Dx</th>\n",
       "      <td>5</td>\n",
       "      <td>16</td>\n",
       "      <td>28</td>\n",
       "      <td>2</td>\n",
       "      <td>4</td>\n",
       "      <td>4</td>\n",
       "      <td>2</td>\n",
       "    </tr>\n",
       "    <tr>\n",
       "      <th>Dobs</th>\n",
       "      <td>2</td>\n",
       "      <td>17</td>\n",
       "      <td>2</td>\n",
       "      <td>26</td>\n",
       "      <td>0</td>\n",
       "      <td>6</td>\n",
       "      <td>5</td>\n",
       "    </tr>\n",
       "    <tr>\n",
       "      <th>Dobs+Dx</th>\n",
       "      <td>9</td>\n",
       "      <td>18</td>\n",
       "      <td>4</td>\n",
       "      <td>4</td>\n",
       "      <td>28</td>\n",
       "      <td>7</td>\n",
       "      <td>10</td>\n",
       "    </tr>\n",
       "    <tr>\n",
       "      <th>Dobs+Dzb</th>\n",
       "      <td>9</td>\n",
       "      <td>17</td>\n",
       "      <td>4</td>\n",
       "      <td>3</td>\n",
       "      <td>7</td>\n",
       "      <td>26</td>\n",
       "      <td>7</td>\n",
       "    </tr>\n",
       "    <tr>\n",
       "      <th>Dobs+Dx+Dzb</th>\n",
       "      <td>5</td>\n",
       "      <td>20</td>\n",
       "      <td>6</td>\n",
       "      <td>5</td>\n",
       "      <td>8</td>\n",
       "      <td>6</td>\n",
       "      <td>28</td>\n",
       "    </tr>\n",
       "  </tbody>\n",
       "</table>\n",
       "</div>"
      ],
      "text/plain": [
       "model_type    Dx+Dzb   Dzb   Dx  Dobs   Dobs+Dx  Dobs+Dzb   Dobs+Dx+Dzb \n",
       "model_type                                                              \n",
       "Dx+Dzb             28    16   7      2        3          2             2\n",
       "Dzb                 1    27   1      1        1          0             0\n",
       "Dx                  5    16  28      2        4          4             2\n",
       "Dobs                2    17   2     26        0          6             5\n",
       "Dobs+Dx             9    18   4      4       28          7            10\n",
       "Dobs+Dzb            9    17   4      3        7         26             7\n",
       "Dobs+Dx+Dzb         5    20   6      5        8          6            28"
      ]
     },
     "execution_count": 296,
     "metadata": {},
     "output_type": "execute_result"
    }
   ],
   "source": [
    "order = hybrid.model_type.unique()\n",
    "condition = ~outdata_hybrid.lp\n",
    "pnsl = outdata_hybrid[condition].pivot_table(values=[\"pns_l\"], index=\"file\", columns=\"model_type\")[\"pns_l\"]\n",
    "pnsu = outdata_hybrid[condition].pivot_table(values=[\"pns_u\"], index=\"file\", columns=\"model_type\")[\"pns_u\"]\n",
    "process(pnsl, pnsu, order)"
   ]
  },
  {
   "cell_type": "code",
   "execution_count": 287,
   "metadata": {},
   "outputs": [
    {
     "data": {
      "text/html": [
       "<div>\n",
       "<style scoped>\n",
       "    .dataframe tbody tr th:only-of-type {\n",
       "        vertical-align: middle;\n",
       "    }\n",
       "\n",
       "    .dataframe tbody tr th {\n",
       "        vertical-align: top;\n",
       "    }\n",
       "\n",
       "    .dataframe thead th {\n",
       "        text-align: right;\n",
       "    }\n",
       "</style>\n",
       "<table border=\"1\" class=\"dataframe\">\n",
       "  <thead>\n",
       "    <tr style=\"text-align: right;\">\n",
       "      <th>model_type</th>\n",
       "      <th>Dobs</th>\n",
       "      <th>Dobs+Dzb</th>\n",
       "      <th>Dobs+Dx+Dzb</th>\n",
       "    </tr>\n",
       "    <tr>\n",
       "      <th>model_type</th>\n",
       "      <th></th>\n",
       "      <th></th>\n",
       "      <th></th>\n",
       "    </tr>\n",
       "  </thead>\n",
       "  <tbody>\n",
       "    <tr>\n",
       "      <th>Dobs</th>\n",
       "      <td>40</td>\n",
       "      <td>12</td>\n",
       "      <td>8</td>\n",
       "    </tr>\n",
       "    <tr>\n",
       "      <th>Dobs+Dzb</th>\n",
       "      <td>11</td>\n",
       "      <td>40</td>\n",
       "      <td>10</td>\n",
       "    </tr>\n",
       "    <tr>\n",
       "      <th>Dobs+Dx+Dzb</th>\n",
       "      <td>5</td>\n",
       "      <td>5</td>\n",
       "      <td>41</td>\n",
       "    </tr>\n",
       "  </tbody>\n",
       "</table>\n",
       "</div>"
      ],
      "text/plain": [
       "model_type    Dobs   Dobs+Dzb   Dobs+Dx+Dzb \n",
       "model_type                                  \n",
       "Dobs             40         12             8\n",
       "Dobs+Dzb         11         40            10\n",
       "Dobs+Dx+Dzb       5          5            41"
      ]
     },
     "execution_count": 287,
     "metadata": {},
     "output_type": "execute_result"
    }
   ],
   "source": [
    "condition = outdata_hybrid.lp\n",
    "pnsl = outdata_hybrid[condition].pivot_table(values=[\"pns_l\"], index=\"file\", columns=\"model_type\")[\"pns_l\"]\n",
    "pnsu = outdata_hybrid[condition].pivot_table(values=[\"pns_u\"], index=\"file\", columns=\"model_type\")[\"pns_u\"]\n",
    "process(pnsl, pnsu, order)\n",
    "\n"
   ]
  },
  {
   "attachments": {},
   "cell_type": "markdown",
   "metadata": {},
   "source": [
    "# Biased Data\n"
   ]
  },
  {
   "cell_type": "markdown",
   "metadata": {},
   "source": [
    "## Prepare the biased dataset"
   ]
  },
  {
   "cell_type": "code",
   "execution_count": 11,
   "metadata": {},
   "outputs": [],
   "source": [
    "dta = biased.copy()\n",
    "cols = [ n for n in biased.columns if not re.fullmatch('.*_[0-9]*',n) ]\n",
    "\n",
    "dta['ll'] = dta.apply(lambda row: row[[f\"llk_{i}\" for i in range(300)]].values, axis=1)\n",
    "dta[\"pns\"]= dta.apply(lambda row: row[[f\"pns_{i}\" for i in range(300)]].values, axis=1)\n",
    "dta[\"sizes\"]= dta.apply(lambda row: row[[f\"trajectory_size_{i}\" for i in range(300)]].values, axis=1)\n",
    "\n",
    "dta['pnsok'] = dta.apply(lambda xx : xx.pns[np.abs(xx.ll.astype(float) - xx.ll_max) < 0.01], axis=1)\n",
    "#dta = dta[dta.pnsok.apply(len) > 2]\n",
    "dta.pns_l = dta.pns.apply(min)\n",
    "dta.pns_u = dta.pns.apply(max)\n",
    "\n",
    "dta = dta[np.abs(dta.pns_l - dta.pns_u) > 0.02]\n",
    "outdata_biased=dta[np.concatenate([['pns', 'pnsok', 'll', 'sizes'], cols])]"
   ]
  },
  {
   "cell_type": "code",
   "execution_count": 12,
   "metadata": {},
   "outputs": [
    {
     "data": {
      "text/plain": [
       "(1806, 928)"
      ]
     },
     "execution_count": 12,
     "metadata": {},
     "output_type": "execute_result"
    }
   ],
   "source": [
    "dta.shape"
   ]
  },
  {
   "cell_type": "code",
   "execution_count": 13,
   "metadata": {},
   "outputs": [
    {
     "data": {
      "text/plain": [
       "300"
      ]
     },
     "execution_count": 13,
     "metadata": {},
     "output_type": "execute_result"
    }
   ],
   "source": [
    "a = [ ]\n",
    "for col in biased.columns:\n",
    "    match = re.fullmatch(\"pns_([0-9]*)\", col)\n",
    "    if match:\n",
    "        a.append(int(match[1]))\n",
    "len(a)"
   ]
  },
  {
   "cell_type": "code",
   "execution_count": 14,
   "metadata": {},
   "outputs": [],
   "source": [
    "def rrmse(a,b,astar,bstar):\n",
    "    return np.sqrt(((a - astar) ** 2 + (b - bstar) ** 2) / (2 * (bstar - astar)**2))\n",
    "\n",
    "\n",
    "\n",
    "def rrmse_upper(a,b,astar,bstar, eps = 0.00000001):\n",
    "    bstar1 = (1-bstar)\n",
    "\n",
    "    if bstar < 1-eps:\n",
    "        return np.abs(((bstar-b) / (1 - bstar)))\n",
    "    return 0\n",
    "    \n",
    "\n",
    "def rrmse_lower(a,b,astar,bstar, eps = 0.00000001):\n",
    "    if astar > eps:\n",
    "        return np.abs(((a - astar) / astar))\n",
    "    return 0\n",
    "\n",
    "\n",
    "def rrmse_average(a,b,astar,bstar, eps = 0.00000001):\n",
    "    bstar1 = (1-bstar)\n",
    "    sum = 0\n",
    "    count = 0\n",
    "\n",
    "    if astar > eps:\n",
    "        sum += ((a - astar) / astar)**2\n",
    "        count += 1\n",
    "    if bstar < 1-eps:\n",
    "        sum += ((bstar-b) / (1 - bstar))**2 \n",
    "        count += 1\n",
    "    \n",
    "    if count == 0: return 0\n",
    "    return np.sqrt(sum / count)\n",
    "\n",
    "def rrmse2(a,b,astar,bstar):\n",
    "    bstar1 = (1-bstar)\n",
    "    sum = 0\n",
    "    div = 0\n",
    "    if astar > 0:\n",
    "        sum += np.sqrt(\n",
    "            (\n",
    "                (a - astar) ** 2\n",
    "            ) / \n",
    "            (astar**2)\n",
    "        ) * astar \n",
    "        div += astar\n",
    "\n",
    "    if bstar < 1:\n",
    "        sum += np.sqrt(\n",
    "            (\n",
    "                (b - bstar) ** 2\n",
    "            ) / \n",
    "            (1 - bstar)**2\n",
    "        ) * bstar1\n",
    "        div += bstar1\n",
    "\n",
    "    if div == 0: return 0\n",
    "    return sum / div"
   ]
  },
  {
   "cell_type": "code",
   "execution_count": 15,
   "metadata": {},
   "outputs": [
    {
     "data": {
      "application/vnd.jupyter.widget-view+json": {
       "model_id": "4bd1f81ffab1442a9447a93305927d9d",
       "version_major": 2,
       "version_minor": 0
      },
      "text/plain": [
       "interactive(children=(FloatSlider(value=0.0, description='apercent', max=1.0), FloatSlider(value=0.0, descript…"
      ]
     },
     "metadata": {},
     "output_type": "display_data"
    }
   ],
   "source": [
    "from ipywidgets import interact, FloatSlider\n",
    "from ipywidgets.widgets import Dropdown\n",
    "import seaborn as sns\n",
    "import matplotlib.pyplot as plt\n",
    "\n",
    "@interact(\n",
    "        apercent=FloatSlider(min=0,max=1),\n",
    "        bpercent=FloatSlider(min=0,max=1), \n",
    "        astar =FloatSlider(0.25,min=0,max=1, step=0.01), \n",
    "        bstar=FloatSlider(0.75, min=0,max=1, step=0.01), \n",
    "        error = Dropdown(options=[(\"RRMSE\",rrmse), (\"Proposal 1\",rrmse2), (\"Average\",rrmse_average)])\n",
    ")\n",
    "def show(apercent,bpercent,astar,bstar, error):\n",
    "    points = 100\n",
    "    a = apercent * astar\n",
    "    b = bstar + (1 - bpercent) * (1-bstar)\n",
    "    score = error(a,b, astar, bstar)\n",
    "    data = [[error(ap, bp, astar, bstar) if (ap <= astar) and (bp >= bstar) else 0 for ap in np.linspace(0,1,points) ] for bp in np.linspace(0,1,points)]\n",
    "\n",
    "    data = pd.DataFrame(data, columns=np.linspace(0,1,points), index=np.linspace(0,1,points))\n",
    "    fig, ax = plt.subplots(1,1,figsize=(10,10))\n",
    "    sns.heatmap(data, ax=ax, vmax=1, cmap=sns.light_palette(\"seagreen\", as_cmap=True))\n",
    "\n",
    "\n",
    "    \n",
    "    "
   ]
  },
  {
   "cell_type": "code",
   "execution_count": 17,
   "metadata": {},
   "outputs": [],
   "source": [
    "reference = outdata_biased[outdata_biased.ps1 == 1].groupby(\"file\").max(\"index\").reset_index()[['file', 'pns_l', 'pns_u']].rename({\"pns_l\":\"astar\", \"pns_u\":\"bstar\"}, axis=1)\n",
    "\n",
    "merged = outdata_biased.merge(reference, on='file', how=\"inner\")\n",
    "merged['rrmse_avg'] = merged.apply(lambda row: rrmse_average(row.pns_l, row.pns_u, row.astar, row.bstar), axis=1)\n",
    "merged['rrmse'] = merged.apply(lambda row: rrmse(row.pns_l, row.pns_u, row.astar, row.bstar), axis=1)\n",
    "merged['rrmse2'] = merged.apply(lambda row: rrmse2(row.pns_l, row.pns_u, row.astar, row.bstar), axis=1)\n",
    "merged['rae_upper'] = merged.apply(lambda row: rrmse_upper(row.pns_l, row.pns_u, row.astar, row.bstar), axis=1)\n",
    "merged['rae_lower'] = merged.apply(lambda row: rrmse_lower(row.pns_l, row.pns_u, row.astar, row.bstar), axis=1)\n"
   ]
  },
  {
   "cell_type": "code",
   "execution_count": 147,
   "metadata": {},
   "outputs": [
    {
     "name": "stdout",
     "output_type": "stream",
     "text": [
      "0.0016989676858184 0.8601987261191107 5.746841981453309e-08 0.09976 20903.844924169276\n"
     ]
    }
   ],
   "source": [
    "da,db,das,dbs =  merged.iloc[merged.rrmse_avg.argmax()][['pns_l', 'pns_u', \"astar\", \"bstar\"]]\n",
    "\n",
    "r = rrmse_average(da,db,das,dbs) \n",
    "print(da,db,das,dbs, r)"
   ]
  },
  {
   "cell_type": "code",
   "execution_count": 18,
   "metadata": {},
   "outputs": [],
   "source": [
    "bins = 5\n",
    "intervals = np.linspace(0,1,bins)\n",
    "interval_index = pd.IntervalIndex.from_arrays(np.concatenate(([-1], intervals[0:bins-1])), intervals[0:bins])\n",
    "merged['discretized'] = pd.cut(merged[merged.ps1 < 1].ps1, bins=interval_index)\n"
   ]
  },
  {
   "cell_type": "code",
   "execution_count": 19,
   "metadata": {},
   "outputs": [
    {
     "data": {
      "text/plain": [
       "(1447, 37)"
      ]
     },
     "execution_count": 19,
     "metadata": {},
     "output_type": "execute_result"
    }
   ],
   "source": [
    "merged[\"Average\"] = (merged.rae_lower + merged.rae_upper) / 2\n",
    "merged[(merged.ps1 >0.00)].shape"
   ]
  },
  {
   "cell_type": "code",
   "execution_count": 20,
   "metadata": {},
   "outputs": [
    {
     "data": {
      "image/png": "[encoded data removed]",
      "text/plain": [
       "<Figure size 1080x720 with 6 Axes>"
      ]
     },
     "metadata": {},
     "output_type": "display_data"
    }
   ],
   "source": [
    "from ipywidgets.widgets import Dropdown\n",
    "#@interact(filtering=Dropdown(options=[('No filter',0),('Separate',1),('Agressive',2)]))\n",
    "def plot(filtering=1):\n",
    "    import matplotlib.pyplot as plt\n",
    "    cols = [(0,0,\"rrmse\", \"all\"), (0,1,\"rae_upper\", \"upper\"), (0,2,\"rae_lower\", \"lower\"), (1,0,\"rrmse_avg\", \"all\"), (1,1,\"Average\", \"all\"), (1,2,\"rrmse2\", \"all\")]\n",
    "    \n",
    "    fig, axs = plt.subplots(2, 3, figsize=(15,10))\n",
    "\n",
    "    notpns1 = merged[(merged.ps1 != 1)]\n",
    "    values = merged[(merged.ps1 != 1) & (merged.pns_l <= merged.astar) & (merged.pns_u >= merged.bstar)]\n",
    "    \n",
    "    if filtering == 0:\n",
    "        values = notpns1\n",
    "        values_lower = values\n",
    "        values_upper = values\n",
    "    elif filtering == 1:\n",
    "        values_lower = values\n",
    "        values_upper = values\n",
    "    else :\n",
    "        values_lower = merged[(merged.ps1 != 1) & (merged.pns_l <= merged.astar)]\n",
    "        values_upper = merged[(merged.ps1 != 1) & (merged.pns_u >= merged.bstar)]\n",
    "    \n",
    "    for x,y,col, data in cols:\n",
    "        if data == \"all\":\n",
    "            vals = values\n",
    "        elif data == \"lower\":\n",
    "            vals = values_lower\n",
    "        elif data == \"upper\":\n",
    "            vals = values_upper\n",
    "        \n",
    "        boxplot = vals[[col, \"discretized\"]].boxplot(column=col, ax=axs[x,y],  rot=90, by=\"discretized\", return_type=\"dict\")\n",
    "\n",
    "        dl = [disc.left for disc in values.discretized.dtype.categories.values]\n",
    "        dr = [disc.right for disc in values.discretized.dtype.categories.values]\n",
    "\n",
    "        axs[x,y].get_xaxis().set_ticklabels([f\"{l:.2f} - {h:.2f}\" for l,h in zip(dl, dr)])\n",
    "        l = [ low.get_ydata()[1] for low in boxplot[col][\"whiskers\"][::2] ]\n",
    "        h = [ high.get_ydata()[1] for high in boxplot[col][\"whiskers\"][1::2] ]\n",
    "        m = [ med.get_ydata()[0] for med in boxplot[col][\"medians\"]]\n",
    "        q1 = [ box.get_ydata()[0] for box in boxplot[col][\"boxes\"]]\n",
    "        q3 = [ box.get_ydata()[3] for box in boxplot[col][\"boxes\"]]\n",
    "        fliers = [ \",\".join([str(i) for i in fl.get_ydata()]) for fl in boxplot[col][\"fliers\"]]\n",
    "\n",
    "        plots = pd.DataFrame({\"PS1_l\": dl, \"PS1_u\": dr, \"min\":l, \"max\":h, \"q1\":q1, \"q3\":q3, \"median\":m, \"fliers\":fliers})\n",
    "        #plots.to_csv(\"lower.csv\", index=None)\n",
    "\n",
    "    plt.tight_layout()\n",
    "\n",
    "plot(1)"
   ]
  },
  {
   "attachments": {},
   "cell_type": "markdown",
   "metadata": {},
   "source": [
    "# coverage testing\n",
    "\n",
    "compute probability that our 300 runs are withing an epsilon expansion of the bounds"
   ]
  },
  {
   "cell_type": "code",
   "execution_count": 41,
   "metadata": {},
   "outputs": [
    {
     "data": {
      "text/plain": [
       "(491, 7)"
      ]
     },
     "execution_count": 41,
     "metadata": {},
     "output_type": "execute_result"
    }
   ],
   "source": [
    "outdata_hybrid.shape"
   ]
  },
  {
   "cell_type": "code",
   "execution_count": 61,
   "metadata": {},
   "outputs": [
    {
     "name": "stderr",
     "output_type": "stream",
     "text": [
      "/Users/dhuber/anaconda3/envs/causal/lib/python3.9/site-packages/scipy/integrate/quadpack.py:879: IntegrationWarning: The integral is probably divergent, or slowly convergent.\n",
      "  quad_r = quad(f, low, high, args=args, full_output=self.full_output,\n",
      "/Users/dhuber/Development/credici/papers/journalPGM/postprocess/convergence.py:70: IntegrationWarning: The integral is probably divergent, or slowly convergent.\n",
      "  num, e1 = quad(f, 0, eps*L, epsabs=abs, epsrel=rel)\n",
      "/Users/dhuber/anaconda3/envs/causal/lib/python3.9/site-packages/scipy/integrate/quadpack.py:879: IntegrationWarning: The integral is probably divergent, or slowly convergent.\n",
      "  quad_r = quad(f, low, high, args=args, full_output=self.full_output,\n",
      "/Users/dhuber/Development/credici/papers/journalPGM/postprocess/convergence.py:70: IntegrationWarning: The integral is probably divergent, or slowly convergent.\n",
      "  num, e1 = quad(f, 0, eps*L, epsabs=abs, epsrel=rel)\n",
      "/Users/dhuber/anaconda3/envs/causal/lib/python3.9/site-packages/scipy/integrate/quadpack.py:879: IntegrationWarning: The integral is probably divergent, or slowly convergent.\n",
      "  quad_r = quad(f, low, high, args=args, full_output=self.full_output,\n",
      "/Users/dhuber/Development/credici/papers/journalPGM/postprocess/convergence.py:70: IntegrationWarning: The integral is probably divergent, or slowly convergent.\n",
      "  num, e1 = quad(f, 0, eps*L, epsabs=abs, epsrel=rel)\n"
     ]
    }
   ],
   "source": [
    "import convergence\n",
    "from functools import partial\n",
    "\n",
    "\n",
    "for eps in [0.01,0.05, 0.1]:        \n",
    "    f = partial(convergence.p_eps_convergence, eps=eps, eps2=0.001, abs=1e-8, rel=1e-8)\n",
    "    c = lambda t : t.astype(float)\n",
    "    output = outdata_hybrid.pns.apply(c).apply(f)\n",
    "    data = pd.DataFrame(output.values.tolist(), columns=[\"P\", \"num\", \"den\", 'enum', 'eden', 'alpha', 'beta', 'bound'], index = outdata_hybrid.index)\n",
    "    for col in data.columns:\n",
    "        outdata_hybrid[f'{col}_{eps}'] = data[col]\n"
   ]
  },
  {
   "cell_type": "code",
   "execution_count": 222,
   "metadata": {},
   "outputs": [],
   "source": [
    "\n",
    "def boxplot(data):\n",
    "    data = np.array(data)\n",
    "    q1, q2, q3 = np.quantile(data, [0.25, 0.5, 0.75])\n",
    "    iqr = q3 - q1\n",
    "    low = np.min(data[data > q1 - 1.5 * iqr])\n",
    "    high = np.max(data[data < q3 + 1.5 * iqr])\n",
    "\n",
    "    w1 = \",\".join([str(v) for v in data[data<low]])\n",
    "    w2 = \",\".join([str(v) for v in data[data>high]])\n",
    "    return  low, q1, q2, q3, high, w1, w2\n"
   ]
  },
  {
   "cell_type": "code",
   "execution_count": 227,
   "metadata": {},
   "outputs": [
    {
     "data": {
      "image/png": "[encoded data removed]",
      "text/plain": [
       "<Figure size 936x504 with 1 Axes>"
      ]
     },
     "metadata": {},
     "output_type": "display_data"
    },
    {
     "data": {
      "image/png": "[encoded data removed]",
      "text/plain": [
       "<Figure size 936x504 with 1 Axes>"
      ]
     },
     "metadata": {},
     "output_type": "display_data"
    }
   ],
   "source": [
    "import seaborn as sns\n",
    "import matplotlib.pyplot as plt\n",
    "\n",
    "\n",
    "for lp in [True, False]:\n",
    "    fig, axs = plt.subplots(1,1,figsize=(13,7))\n",
    "    ax = axs #[int(lp)]\n",
    "    dta = pd.DataFrame(columns=['eps',\"value\"])\n",
    "    for eps in [0.01,0.05, 0.1]:\n",
    "        sfull = p = outdata_hybrid[(outdata_hybrid.lp == lp)].shape[0]\n",
    "        p = outdata_hybrid[\n",
    "            (outdata_hybrid.lp == lp) & \n",
    "            (outdata_hybrid[f'enum_{eps}'] <  outdata_hybrid[f'num_{eps}']) & \n",
    "            (outdata_hybrid[f'eden_{eps}'] <  outdata_hybrid[f'den_{eps}'])\n",
    "        ][f'P_{eps}']\n",
    "        #dta[f\"P_{eps}\"]=p.values\n",
    "        size = p.shape[0]\n",
    "        dta = pd.concat((dta, pd.DataFrame({\"value\":p, \"eps\":f\"P {eps} ({size}/{sfull})\"})))\n",
    "                    \n",
    "    sns.boxplot(data=dta, x='value', y=\"eps\", ax=ax, )\n",
    "    ax.set_title(f\"LP {lp}\")\n",
    "    plt.tight_layout()\n",
    "\n",
    "\n",
    "    def assign(row):\n",
    "        row['low'],row['q1'],row['median'],row['q3'],row['high'],row['w1'],row['w2'] = row['value'] \n",
    "        return row[[ \"low\", \"q1\", 'median', 'q3', 'high', 'w1', 'w2']]\n",
    "\n",
    "    dta.groupby(\"eps\").agg(boxplot).apply(assign, axis=1).to_csv(f\"P_convergence_hybrid_lp{lp}.csv\")"
   ]
  },
  {
   "cell_type": "code",
   "execution_count": 226,
   "metadata": {},
   "outputs": [],
   "source": []
  },
  {
   "cell_type": "code",
   "execution_count": 238,
   "metadata": {},
   "outputs": [
    {
     "name": "stderr",
     "output_type": "stream",
     "text": [
      "/Users/dhuber/anaconda3/envs/causal/lib/python3.9/site-packages/scipy/integrate/quadpack.py:879: IntegrationWarning: The integral is probably divergent, or slowly convergent.\n",
      "  quad_r = quad(f, low, high, args=args, full_output=self.full_output,\n",
      "/Users/dhuber/Development/credici/papers/journalPGM/postprocess/convergence.py:70: IntegrationWarning: The integral is probably divergent, or slowly convergent.\n",
      "  num, e1 = quad(f, 0, eps*L, epsabs=abs, epsrel=rel)\n",
      "/Users/dhuber/Development/credici/papers/journalPGM/postprocess/convergence.py:75: IntegrationWarning: The integral is probably divergent, or slowly convergent.\n",
      "  den, e2 = quad(f, 0, 1 - b, epsabs=abs, epsrel=rel)\n",
      "/Users/dhuber/anaconda3/envs/causal/lib/python3.9/site-packages/scipy/integrate/quadpack.py:879: IntegrationWarning: The integral is probably divergent, or slowly convergent.\n",
      "  quad_r = quad(f, low, high, args=args, full_output=self.full_output,\n",
      "/Users/dhuber/Development/credici/papers/journalPGM/postprocess/convergence.py:70: IntegrationWarning: The integral is probably divergent, or slowly convergent.\n",
      "  num, e1 = quad(f, 0, eps*L, epsabs=abs, epsrel=rel)\n",
      "/Users/dhuber/Development/credici/papers/journalPGM/postprocess/convergence.py:75: IntegrationWarning: The integral is probably divergent, or slowly convergent.\n",
      "  den, e2 = quad(f, 0, 1 - b, epsabs=abs, epsrel=rel)\n",
      "/Users/dhuber/anaconda3/envs/causal/lib/python3.9/site-packages/scipy/integrate/quadpack.py:879: IntegrationWarning: The integral is probably divergent, or slowly convergent.\n",
      "  quad_r = quad(f, low, high, args=args, full_output=self.full_output,\n",
      "/Users/dhuber/Development/credici/papers/journalPGM/postprocess/convergence.py:70: IntegrationWarning: The integral is probably divergent, or slowly convergent.\n",
      "  num, e1 = quad(f, 0, eps*L, epsabs=abs, epsrel=rel)\n",
      "/Users/dhuber/Development/credici/papers/journalPGM/postprocess/convergence.py:75: IntegrationWarning: The integral is probably divergent, or slowly convergent.\n",
      "  den, e2 = quad(f, 0, 1 - b, epsabs=abs, epsrel=rel)\n"
     ]
    }
   ],
   "source": [
    "def fun(data):\n",
    "    f = partial(convergence.p_eps_convergence, eps=eps, eps2=0.0001, abs=1e-8, rel=1e-8)\n",
    "    try:\n",
    "        return f(data)\n",
    "    except Exception as e:\n",
    "        return [np.nan, np.nan, np.nan, np.nan, np.nan, np.nan, np.nan, \"Ex\"]\n",
    "\n",
    "for eps in [0.01,0.05, 0.1]:        \n",
    "    c = lambda t : t.astype(float)\n",
    "    output = merged.pns.apply(c).apply(fun)\n",
    "    data = pd.DataFrame(output.values.tolist(), columns=[\"P\", \"num\", \"den\", 'enum', 'eden', 'alpha', 'beta', 'bound'], index = merged.index)\n",
    "    for col in data.columns:\n",
    "        merged[f'{col}_{eps}'] = data[col]"
   ]
  },
  {
   "cell_type": "code",
   "execution_count": 246,
   "metadata": {},
   "outputs": [],
   "source": [
    "dta = pd.DataFrame(columns=['eps',\"value\"])\n",
    "for eps in [0.01,0.05, 0.1]:\n",
    "    sfull = merged.shape[0]\n",
    "    p = merged[\n",
    "        (merged[f'enum_{eps}'] <  merged[f'num_{eps}']) & \n",
    "        (merged[f'eden_{eps}'] <  merged[f'den_{eps}'])\n",
    "    ][f'P_{eps}']\n",
    "    d= merged[\n",
    "        (merged[f'enum_{eps}'] <  merged[f'num_{eps}']) & \n",
    "        (merged[f'eden_{eps}'] <  merged[f'den_{eps}'])\n",
    "    ][f'discretized']\n",
    "    #dta[f\"P_{eps}\"]=p.values\n",
    "    size = p.shape[0]\n",
    "    dta = pd.concat((dta, pd.DataFrame({\"value\":p, 'discretized':d, \"eps\":f\"P {eps} ({size}/{sfull})\"})))\n",
    "                \n"
   ]
  },
  {
   "cell_type": "code",
   "execution_count": 248,
   "metadata": {},
   "outputs": [
    {
     "data": {
      "image/png": "[encoded data removed]",
      "text/plain": [
       "<Figure size 432x288 with 1 Axes>"
      ]
     },
     "metadata": {},
     "output_type": "display_data"
    }
   ],
   "source": [
    "sns.boxplot(data=dta, x='value', y=\"eps\",  )\n",
    "plt.tight_layout()\n",
    "plt\n",
    "\n",
    "def assign(row):\n",
    "    row['low'],row['q1'],row['median'],row['q3'],row['high'],row['w1'],row['w2'] = row['value'] \n",
    "    return row[[ \"low\", \"q1\", 'median', 'q3', 'high', 'w1', 'w2']]\n",
    "\n",
    "dta[['eps','value']].groupby(\"eps\").agg(boxplot).apply(assign, axis=1).to_csv(f\"P_convergence_merged.csv\")"
   ]
  },
  {
   "cell_type": "code",
   "execution_count": 256,
   "metadata": {},
   "outputs": [
    {
     "data": {
      "image/png": "[encoded data removed]",
      "text/plain": [
       "<Figure size 432x288 with 1 Axes>"
      ]
     },
     "metadata": {},
     "output_type": "display_data"
    },
    {
     "data": {
      "image/png": "[encoded data removed]",
      "text/plain": [
       "<Figure size 432x288 with 1 Axes>"
      ]
     },
     "metadata": {},
     "output_type": "display_data"
    },
    {
     "data": {
      "image/png": "[encoded data removed]",
      "text/plain": [
       "<Figure size 432x288 with 1 Axes>"
      ]
     },
     "metadata": {},
     "output_type": "display_data"
    }
   ],
   "source": [
    "for eps in dta.eps.unique():\n",
    "    fix, ax = plt.subplots(1,1)\n",
    "    sns.boxplot(data=dta[dta.eps == eps], x='value', y='discretized', ax = ax )\n",
    "    plt.tight_layout()"
   ]
  },
  {
   "cell_type": "code",
   "execution_count": null,
   "metadata": {},
   "outputs": [],
   "source": []
  }
 ],
 "metadata": {
  "kernelspec": {
   "display_name": "Python 3.9.12 ('causal')",
   "language": "python",
   "name": "python3"
  },
  "language_info": {
   "codemirror_mode": {
    "name": "ipython",
    "version": 3
   },
   "file_extension": ".py",
   "mimetype": "text/x-python",
   "name": "python",
   "nbconvert_exporter": "python",
   "pygments_lexer": "ipython3",
   "version": "3.9.12"
  },
  "orig_nbformat": 4,
  "vscode": {
   "interpreter": {
    "hash": "b2256cb237836e0b32ce22305984fd71b607e595669096085081827973a36ac7"
   }
  }
 },
 "nbformat": 4,
 "nbformat_minor": 2
}
