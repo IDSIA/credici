{
 "cells": [
  {
   "cell_type": "code",
   "execution_count": 1,
   "id": "94aa8963-8d8a-41bd-93a1-b6e7cb0aa6e4",
   "metadata": {},
   "outputs": [
    {
     "name": "stdout",
     "output_type": "stream",
     "text": [
      "/root/dev/credici\n",
      "/root/dev/credici/papers/neurips21\n",
      "/root/dev/credici/papers/neurips21/output\n",
      "/root/dev/credici/papers/neurips21/models\n",
      "/root/dev/credici/target/credici-0.1.3-SNAPSHOT-jar-with-dependencies.jar\n"
     ]
    }
   ],
   "source": [
    "import subprocess\n",
    "import datetime\n",
    "import os\n",
    "\n",
    "import pandas as pd\n",
    "from datetime import datetime\n",
    "\n",
    "\n",
    "def gen_exec(cmd, check_return: bool = False):\n",
    "    popen = subprocess.Popen(cmd, stdout=subprocess.PIPE, universal_newlines=True)\n",
    "    for stdout_line in iter(popen.stdout.readline, \"\"):\n",
    "        yield stdout_line\n",
    "    popen.stdout.close()\n",
    "    return_code = popen.wait()\n",
    "    if return_code and check_return:\n",
    "        raise subprocess.CalledProcessError(return_code, cmd)\n",
    "\n",
    "\n",
    "def exec_bash(cmd: str, check_return: bool = False):\n",
    "    return [s for s in gen_exec(cmd.split(), check_return)]\n",
    "    \n",
    "def exec_bash_print(cmd: str, check_return: bool = False):\n",
    "    for path in gen_exec(cmd.split(), check_return):\n",
    "        print(path, end=\"\")\n",
    "        \n",
    "def strtime():\n",
    "    return datetime.now().strftime(\"%y%m%d_%H%M%S\")\n",
    "\n",
    "\n",
    "\n",
    "from pathlib import Path\n",
    "\n",
    "prj_path = Path(str(Path(\"../../../\").resolve())+\"/\")\n",
    "exp_folder = Path(prj_path, \"papers/neurips21/\")\n",
    "res_folder = Path(exp_folder, \"output\")\n",
    "model_folder = Path(exp_folder, \"models\")\n",
    "\n",
    "jar_file = Path(prj_path, \"target/credici-0.1.3-SNAPSHOT-jar-with-dependencies.jar\")\n",
    "javafile = Path(exp_folder, \"Experiments.java\")\n",
    "#java = \"/Library/Java/JavaVirtualMachines/openjdk-12.0.1.jdk/Contents/Home/bin/java\"\n",
    "java = \"java\"\n",
    "\n",
    "\n",
    "print(prj_path)\n",
    "print(exp_folder)\n",
    "print(res_folder)\n",
    "print(model_folder)\n",
    "\n",
    "print(jar_file)"
   ]
  },
  {
   "cell_type": "code",
   "execution_count": 45,
   "id": "4f0796da-7c38-47f8-b402-f1c020aa85f4",
   "metadata": {},
   "outputs": [],
   "source": [
    "target = Path(model_folder, \"synthetic/\")\n",
    "!rm -R $target\n",
    "!mkdir $target"
   ]
  },
  {
   "cell_type": "code",
   "execution_count": 46,
   "id": "8fe9a336-db95-4203-8b9f-e7a9eee75fa6",
   "metadata": {},
   "outputs": [],
   "source": [
    "files = open(Path(model_folder, \"model_list.txt\")).read().splitlines()"
   ]
  },
  {
   "cell_type": "code",
   "execution_count": 47,
   "id": "9dd78e9f-caf0-43df-a9d6-2fb3f58d9d01",
   "metadata": {},
   "outputs": [
    {
     "data": {
      "text/plain": [
       "PosixPath('/root/dev/credici/papers/neurips21/models/synthetic/s0_chain_twExo0_nEndo10_4.uai')"
      ]
     },
     "execution_count": 47,
     "metadata": {},
     "output_type": "execute_result"
    }
   ],
   "source": [
    "f = files[0]\n",
    "\n",
    "Path(target, f.replace(\"/\",\"_\"))"
   ]
  },
  {
   "cell_type": "code",
   "execution_count": 48,
   "id": "bbe090fa-6e2a-4ede-a485-dc314c3a7476",
   "metadata": {},
   "outputs": [],
   "source": [
    "from shutil import copy2\n",
    "for f in files:\n",
    "    if Path(model_folder, f).exists():\n",
    "        copy2(Path(model_folder, f), Path(target, f.replace(\"/\",\"_\")))\n",
    "    else:\n",
    "        print(Path(model_folder, f))"
   ]
  },
  {
   "cell_type": "code",
   "execution_count": 49,
   "id": "9d8b02e6-2cef-442f-8ea4-b54ee16c9f7a",
   "metadata": {},
   "outputs": [
    {
     "name": "stdout",
     "output_type": "stream",
     "text": [
      "461\n"
     ]
    }
   ],
   "source": [
    "!ls -l /root/dev/credici/papers/neurips21/models/synthetic/ | wc -l"
   ]
  },
  {
   "cell_type": "code",
   "execution_count": 32,
   "id": "017cbca7-6c10-4779-b6d2-ce494e80493a",
   "metadata": {},
   "outputs": [
    {
     "data": {
      "text/plain": [
       "460"
      ]
     },
     "execution_count": 32,
     "metadata": {},
     "output_type": "execute_result"
    }
   ],
   "source": [
    "len(files)"
   ]
  },
  {
   "cell_type": "code",
   "execution_count": 34,
   "id": "4fd5167a-3079-48c0-b306-4bfe12e2e803",
   "metadata": {},
   "outputs": [],
   "source": [
    "import numpy as np"
   ]
  },
  {
   "cell_type": "code",
   "execution_count": 36,
   "id": "0175d6f5-9876-4738-862d-7fa8a979e980",
   "metadata": {},
   "outputs": [
    {
     "data": {
      "text/plain": [
       "460"
      ]
     },
     "execution_count": 36,
     "metadata": {},
     "output_type": "execute_result"
    }
   ],
   "source": [
    "np.unique(files).size"
   ]
  },
  {
   "cell_type": "code",
   "execution_count": null,
   "id": "3e0ed425-4f77-4f3a-933d-52e23343cb9a",
   "metadata": {},
   "outputs": [],
   "source": []
  }
 ],
 "metadata": {
  "kernelspec": {
   "display_name": "Python 3",
   "language": "python",
   "name": "python3"
  },
  "language_info": {
   "codemirror_mode": {
    "name": "ipython",
    "version": 3
   },
   "file_extension": ".py",
   "mimetype": "text/x-python",
   "name": "python",
   "nbconvert_exporter": "python",
   "pygments_lexer": "ipython3",
   "version": "3.8.5"
  }
 },
 "nbformat": 4,
 "nbformat_minor": 5
}
