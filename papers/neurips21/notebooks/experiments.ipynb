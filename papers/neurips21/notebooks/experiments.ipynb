{
 "cells": [
  {
   "cell_type": "code",
   "execution_count": 3,
   "metadata": {},
   "outputs": [
    {
     "name": "stdout",
     "output_type": "stream",
     "text": [
      "/root/dev/credici\n",
      "/root/dev/credici/papers/neurips21\n",
      "/root/dev/credici/papers/neurips21/output\n",
      "/root/dev/credici/papers/neurips21/models\n",
      "/root/dev/credici/target/credici-0.1.3-SNAPSHOT-jar-with-dependencies.jar\n"
     ]
    }
   ],
   "source": [
    "import subprocess\n",
    "import datetime\n",
    "import os\n",
    "\n",
    "import pandas as pd\n",
    "from datetime import datetime\n",
    "import timeout_decorator\n",
    "\n",
    "\n",
    "@timeout_decorator.timeout(10*60) # seconds\n",
    "def gen_exec(cmd, check_return: bool = False):\n",
    "    popen = subprocess.Popen(cmd, stdout=subprocess.PIPE, universal_newlines=True)\n",
    "    for stdout_line in iter(popen.stdout.readline, \"\"):\n",
    "        yield stdout_line\n",
    "    popen.stdout.close()\n",
    "    return_code = popen.wait()\n",
    "    if return_code and check_return:\n",
    "        raise subprocess.CalledProcessError(return_code, cmd)\n",
    "\n",
    "\n",
    "def exec_bash(cmd: str, check_return: bool = False):\n",
    "    return [s for s in gen_exec(cmd.split(), check_return)]\n",
    "    \n",
    "def exec_bash_print(cmd: str, check_return: bool = False):\n",
    "    for path in gen_exec(cmd.split(), check_return):\n",
    "        print(path, end=\"\")\n",
    "        \n",
    "def strtime():\n",
    "    return datetime.now().strftime(\"%y%m%d_%H%M%S\")\n",
    "\n",
    "\n",
    "\n",
    "from pathlib import Path\n",
    "\n",
    "prj_path = Path(str(Path(\"../../../\").resolve())+\"/\")\n",
    "exp_folder = Path(prj_path, \"papers/neurips21/\")\n",
    "res_folder = Path(exp_folder, \"output\")\n",
    "model_folder = Path(exp_folder, \"models\")\n",
    "\n",
    "jar_file = Path(prj_path, \"target/credici-0.1.3-SNAPSHOT-jar-with-dependencies.jar\")\n",
    "javafile = Path(exp_folder, \"Experiments.java\")\n",
    "#java = \"/Library/Java/JavaVirtualMachines/openjdk-12.0.1.jdk/Contents/Home/bin/java\"\n",
    "java = \"java\"\n",
    "\n",
    "\n",
    "print(prj_path)\n",
    "print(exp_folder)\n",
    "print(res_folder)\n",
    "print(model_folder)\n",
    "\n",
    "print(jar_file)"
   ]
  },
  {
   "cell_type": "code",
   "execution_count": 27,
   "metadata": {},
   "outputs": [],
   "source": [
    "#cmd= f\"java -cp {conf.jar_file} {javafile} {cmd}\"\n",
    "#output = exec_bash(cmd)"
   ]
  },
  {
   "cell_type": "code",
   "execution_count": null,
   "metadata": {},
   "outputs": [],
   "source": [
    "\n",
    "\n"
   ]
  },
  {
   "cell_type": "code",
   "execution_count": 21,
   "metadata": {},
   "outputs": [],
   "source": [
    "def run(model, datasize = 1000, executions=20, logfile=None, output = None, datafile=None, seed = 0):\n",
    "    logfile = logfile or Path(res_folder, f\"{strtime()}_log.txt\")\n",
    "    output = output or res_folder\n",
    "    output.mkdir(parents=True, exist_ok=True)\n",
    "    #print(model)\n",
    "    modelfile = Path(model_folder, model)\n",
    "    params = f\"--executions {executions} --datasize {datasize} --policy LAST --output {output} \"\\\n",
    "        f\"--logfile {logfile} --seed {seed} -q \"\n",
    "    \n",
    "    if datafile is not None:\n",
    "        params += f\"-f {datafile}\"\n",
    "    \n",
    "    params += f\" {modelfile}\"\n",
    "\n",
    "    cmd = f\"{java} -cp {jar_file} {javafile} {params}\"\n",
    "    #print(cmd)\n",
    "    output = exec_bash(cmd)  \n",
    "    #print(output)\n",
    "    exec(output[0])\n",
    "    return locals()[\"results\"]\n",
    "\n",
    "#results = run(model = \"set1/chain_twExo1_nEndo4_6.uai\", datasize=500)"
   ]
  },
  {
   "cell_type": "code",
   "execution_count": null,
   "metadata": {},
   "outputs": [],
   "source": []
  },
  {
   "cell_type": "code",
   "execution_count": 22,
   "metadata": {},
   "outputs": [
    {
     "name": "stdout",
     "output_type": "stream",
     "text": [
      "/root/dev/credici/papers/neurips21/output/210519_181732_log.txt\n",
      "/root/dev/credici/papers/neurips21/output/210519_181732\n",
      "20\n",
      "20\n"
     ]
    },
    {
     "data": {
      "text/plain": [
       "True"
      ]
     },
     "execution_count": 22,
     "metadata": {},
     "output_type": "execute_result"
    }
   ],
   "source": [
    "######### \n",
    "## Modify if needed:\n",
    "modelset=\"set4\"\n",
    "datasize = 1000\n",
    "#########\n",
    "\n",
    "stime = strtime()\n",
    "\n",
    "# Log file and output folder\n",
    "logfile = Path(res_folder, f\"{stime}_log.txt\")\n",
    "output_folder = Path(res_folder, stime)\n",
    "\n",
    "# Get the models\n",
    "models = [Path(modelset, file) for file in os.listdir(Path(model_folder,modelset)) if file.endswith(\".uai\")]\n",
    "datafiles = [Path(modelset, file) for file in os.listdir(Path(model_folder,modelset)) if file.endswith(\".csv\")]\n",
    "\n",
    "print(logfile)\n",
    "print(output_folder)\n",
    "print(len(models))\n",
    "print(len(datafiles))\n",
    "\n",
    "m = models[0]\n",
    "df = Path(str(m).replace(\".uai\",\".csv\"))\n",
    "df in datafiles"
   ]
  },
  {
   "cell_type": "code",
   "execution_count": 24,
   "metadata": {},
   "outputs": [
    {
     "name": "stdout",
     "output_type": "stream",
     "text": [
      "0/20: set4/chain_twExo1_nEndo5_3.uai\n",
      "java -cp /root/dev/credici/target/credici-0.1.3-SNAPSHOT-jar-with-dependencies.jar /root/dev/credici/papers/neurips21/Experiments.java --executions 20 --datasize 1000 --policy LAST --output /root/dev/credici/papers/neurips21/output/210519_181732 --logfile /root/dev/credici/papers/neurips21/output/210519_181732_log.txt --seed 0 -q -f /root/dev/credici/papers/neurips21/models/set4/chain_twExo1_nEndo5_3.csv /root/dev/credici/papers/neurips21/models/set4/chain_twExo1_nEndo5_3.uai\n",
      "[\"results=dict(seed=0, markovian=False, innerPoints=[0, 0, 0, 0, 0, 0, 0, 0, 0, 0, 0, 0, 0, 0, 0, 0, 0, 0, 0, 0], pnsExact_u=0.0, llkratio=[0.0, 0.0, 0.0, 0.0, 0.0, 0.0, 0.0, 0.0, 0.0, 0.0, 0.0, 0.0, 0.0, 0.0, 0.0, 0.0, 0.0, 0.0, 0.0, 0.0], error=False, nEndo=5, pnsEM_l=[0.0, 0.0, 0.0, 0.0, 0.0, 0.0, 0.0, 0.0, 0.0, 0.0, 0.0, 0.0, 0.0, 0.0, 0.0, 0.0, 0.0, 0.0, 0.0, 0.0], errorMsg='', timeExact=525, klpq=[3.6438289529539555E-4, 3.6438289529539555E-4, 3.6438289529539555E-4, 3.6438289529539555E-4, 3.6438289529539555E-4, 3.6438289529539555E-4, 3.6438289529539555E-4, 3.6438289529539555E-4, 3.6438289529539555E-4, 3.6438289529539555E-4, 3.6438289529539555E-4, 3.6438289529539555E-4, 3.6438289529539555E-4, 3.6438289529539555E-4, 3.6438289529539555E-4, 3.6438289529539555E-4, 3.6438289529539555E-4, 3.6438289529539555E-4, 3.6438289529539555E-4, 3.6438289529539555E-4], klsym=[0.0011568520797392348, 0.0011568520797392348, 0.0011568520797392348, 0.0011568520797392348, 0.0011568520797392348, 0.0011568520797392348, 0.0011568520797392348, 0.0011568520797392348, 0.0011568520797392348, 0.0011568520797392348, 0.0011568520797392348, 0.0011568520797392348, 0.0011568520797392348, 0.0011568520797392348, 0.0011568520797392348, 0.0011568520797392348, 0.0011568520797392348, 0.0011568520797392348, 0.0011568520797392348, 0.0011568520797392348], timeQuery=[11, 10, 10, 8, 9, 10, 12, 14, 14, 16, 22, 24, 25, 24, 33, 17, 17, 18, 18, 20], klqp=[float('inf'), float('inf'), float('inf'), float('inf'), float('inf'), float('inf'), float('inf'), float('inf'), float('inf'), float('inf'), float('inf'), float('inf'), float('inf'), float('inf'), float('inf'), float('inf'), float('inf'), float('inf'), float('inf'), float('inf')], file='chain_twExo1_nEndo5_3.uai', folder='set4', timeBuild=14753, pnsEM_u=[0.0, 0.0, 0.0, 0.0, 0.0, 0.0, 0.0, 0.0, 0.0, 0.0, 0.0, 0.0, 0.0, 0.0, 0.0, 0.0, 0.0, 0.0, 0.0, 0.0], exoTW=1, groundtruth='cve', nExo=3, pnsExact_l=0.0, iterEM=[162, 166, 146, 167, 166, 164, 169, 145, 168, 144, 165, 164, 157, 166, 139, 159, 169, 161, 161, 151])\\n\", '\\n']\n",
      "1/20: set4/chain_twExo0_nEndo5_9.uai\n",
      "java -cp /root/dev/credici/target/credici-0.1.3-SNAPSHOT-jar-with-dependencies.jar /root/dev/credici/papers/neurips21/Experiments.java --executions 20 --datasize 1000 --policy LAST --output /root/dev/credici/papers/neurips21/output/210519_181732 --logfile /root/dev/credici/papers/neurips21/output/210519_181732_log.txt --seed 0 -q -f /root/dev/credici/papers/neurips21/models/set4/chain_twExo0_nEndo5_9.csv /root/dev/credici/papers/neurips21/models/set4/chain_twExo0_nEndo5_9.uai\n"
     ]
    },
    {
     "ename": "KeyboardInterrupt",
     "evalue": "",
     "output_type": "error",
     "traceback": [
      "\u001b[0;31m---------------------------------------------------------------------------\u001b[0m",
      "\u001b[0;31mKeyboardInterrupt\u001b[0m                         Traceback (most recent call last)",
      "\u001b[0;32m<ipython-input-24-5b6a1bf7d646>\u001b[0m in \u001b[0;36m<module>\u001b[0;34m\u001b[0m\n\u001b[1;32m     16\u001b[0m             \u001b[0;32mif\u001b[0m \u001b[0mdf\u001b[0m \u001b[0;32min\u001b[0m \u001b[0mdatafiles\u001b[0m\u001b[0;34m:\u001b[0m\u001b[0;34m\u001b[0m\u001b[0;34m\u001b[0m\u001b[0m\n\u001b[1;32m     17\u001b[0m                 \u001b[0mkwargs\u001b[0m\u001b[0;34m[\u001b[0m\u001b[0;34m\"datafile\"\u001b[0m\u001b[0;34m]\u001b[0m \u001b[0;34m=\u001b[0m \u001b[0mPath\u001b[0m\u001b[0;34m(\u001b[0m\u001b[0mmodel_folder\u001b[0m\u001b[0;34m,\u001b[0m \u001b[0mdf\u001b[0m\u001b[0;34m)\u001b[0m\u001b[0;34m\u001b[0m\u001b[0;34m\u001b[0m\u001b[0m\n\u001b[0;32m---> 18\u001b[0;31m             \u001b[0mres_dicts\u001b[0m\u001b[0;34m.\u001b[0m\u001b[0mappend\u001b[0m\u001b[0;34m(\u001b[0m\u001b[0mrun\u001b[0m\u001b[0;34m(\u001b[0m\u001b[0;34m**\u001b[0m\u001b[0mkwargs\u001b[0m\u001b[0;34m)\u001b[0m\u001b[0;34m)\u001b[0m\u001b[0;34m\u001b[0m\u001b[0;34m\u001b[0m\u001b[0m\n\u001b[0m\u001b[1;32m     19\u001b[0m         \u001b[0;32mexcept\u001b[0m \u001b[0mtimeout_decorator\u001b[0m\u001b[0;34m.\u001b[0m\u001b[0mTimeoutError\u001b[0m\u001b[0;34m:\u001b[0m\u001b[0;34m\u001b[0m\u001b[0;34m\u001b[0m\u001b[0m\n\u001b[1;32m     20\u001b[0m             \u001b[0mprint\u001b[0m\u001b[0;34m(\u001b[0m\u001b[0;34m\"timeout\"\u001b[0m\u001b[0;34m)\u001b[0m\u001b[0;34m\u001b[0m\u001b[0;34m\u001b[0m\u001b[0m\n",
      "\u001b[0;32m<ipython-input-21-59a66f4da985>\u001b[0m in \u001b[0;36mrun\u001b[0;34m(model, datasize, executions, logfile, output, datafile, seed)\u001b[0m\n\u001b[1;32m     15\u001b[0m     \u001b[0mcmd\u001b[0m \u001b[0;34m=\u001b[0m \u001b[0;34mf\"{java} -cp {jar_file} {javafile} {params}\"\u001b[0m\u001b[0;34m\u001b[0m\u001b[0;34m\u001b[0m\u001b[0m\n\u001b[1;32m     16\u001b[0m     \u001b[0mprint\u001b[0m\u001b[0;34m(\u001b[0m\u001b[0mcmd\u001b[0m\u001b[0;34m)\u001b[0m\u001b[0;34m\u001b[0m\u001b[0;34m\u001b[0m\u001b[0m\n\u001b[0;32m---> 17\u001b[0;31m     \u001b[0moutput\u001b[0m \u001b[0;34m=\u001b[0m \u001b[0mexec_bash\u001b[0m\u001b[0;34m(\u001b[0m\u001b[0mcmd\u001b[0m\u001b[0;34m)\u001b[0m\u001b[0;34m\u001b[0m\u001b[0;34m\u001b[0m\u001b[0m\n\u001b[0m\u001b[1;32m     18\u001b[0m     \u001b[0mprint\u001b[0m\u001b[0;34m(\u001b[0m\u001b[0moutput\u001b[0m\u001b[0;34m)\u001b[0m\u001b[0;34m\u001b[0m\u001b[0;34m\u001b[0m\u001b[0m\n\u001b[1;32m     19\u001b[0m     \u001b[0mexec\u001b[0m\u001b[0;34m(\u001b[0m\u001b[0moutput\u001b[0m\u001b[0;34m[\u001b[0m\u001b[0;36m0\u001b[0m\u001b[0;34m]\u001b[0m\u001b[0;34m)\u001b[0m\u001b[0;34m\u001b[0m\u001b[0;34m\u001b[0m\u001b[0m\n",
      "\u001b[0;32m<ipython-input-3-4539eccd1de2>\u001b[0m in \u001b[0;36mexec_bash\u001b[0;34m(cmd, check_return)\u001b[0m\n\u001b[1;32m     20\u001b[0m \u001b[0;34m\u001b[0m\u001b[0m\n\u001b[1;32m     21\u001b[0m \u001b[0;32mdef\u001b[0m \u001b[0mexec_bash\u001b[0m\u001b[0;34m(\u001b[0m\u001b[0mcmd\u001b[0m\u001b[0;34m:\u001b[0m \u001b[0mstr\u001b[0m\u001b[0;34m,\u001b[0m \u001b[0mcheck_return\u001b[0m\u001b[0;34m:\u001b[0m \u001b[0mbool\u001b[0m \u001b[0;34m=\u001b[0m \u001b[0;32mFalse\u001b[0m\u001b[0;34m)\u001b[0m\u001b[0;34m:\u001b[0m\u001b[0;34m\u001b[0m\u001b[0;34m\u001b[0m\u001b[0m\n\u001b[0;32m---> 22\u001b[0;31m     \u001b[0;32mreturn\u001b[0m \u001b[0;34m[\u001b[0m\u001b[0ms\u001b[0m \u001b[0;32mfor\u001b[0m \u001b[0ms\u001b[0m \u001b[0;32min\u001b[0m \u001b[0mgen_exec\u001b[0m\u001b[0;34m(\u001b[0m\u001b[0mcmd\u001b[0m\u001b[0;34m.\u001b[0m\u001b[0msplit\u001b[0m\u001b[0;34m(\u001b[0m\u001b[0;34m)\u001b[0m\u001b[0;34m,\u001b[0m \u001b[0mcheck_return\u001b[0m\u001b[0;34m)\u001b[0m\u001b[0;34m]\u001b[0m\u001b[0;34m\u001b[0m\u001b[0;34m\u001b[0m\u001b[0m\n\u001b[0m\u001b[1;32m     23\u001b[0m \u001b[0;34m\u001b[0m\u001b[0m\n\u001b[1;32m     24\u001b[0m \u001b[0;32mdef\u001b[0m \u001b[0mexec_bash_print\u001b[0m\u001b[0;34m(\u001b[0m\u001b[0mcmd\u001b[0m\u001b[0;34m:\u001b[0m \u001b[0mstr\u001b[0m\u001b[0;34m,\u001b[0m \u001b[0mcheck_return\u001b[0m\u001b[0;34m:\u001b[0m \u001b[0mbool\u001b[0m \u001b[0;34m=\u001b[0m \u001b[0;32mFalse\u001b[0m\u001b[0;34m)\u001b[0m\u001b[0;34m:\u001b[0m\u001b[0;34m\u001b[0m\u001b[0;34m\u001b[0m\u001b[0m\n",
      "\u001b[0;32m<ipython-input-3-4539eccd1de2>\u001b[0m in \u001b[0;36m<listcomp>\u001b[0;34m(.0)\u001b[0m\n\u001b[1;32m     20\u001b[0m \u001b[0;34m\u001b[0m\u001b[0m\n\u001b[1;32m     21\u001b[0m \u001b[0;32mdef\u001b[0m \u001b[0mexec_bash\u001b[0m\u001b[0;34m(\u001b[0m\u001b[0mcmd\u001b[0m\u001b[0;34m:\u001b[0m \u001b[0mstr\u001b[0m\u001b[0;34m,\u001b[0m \u001b[0mcheck_return\u001b[0m\u001b[0;34m:\u001b[0m \u001b[0mbool\u001b[0m \u001b[0;34m=\u001b[0m \u001b[0;32mFalse\u001b[0m\u001b[0;34m)\u001b[0m\u001b[0;34m:\u001b[0m\u001b[0;34m\u001b[0m\u001b[0;34m\u001b[0m\u001b[0m\n\u001b[0;32m---> 22\u001b[0;31m     \u001b[0;32mreturn\u001b[0m \u001b[0;34m[\u001b[0m\u001b[0ms\u001b[0m \u001b[0;32mfor\u001b[0m \u001b[0ms\u001b[0m \u001b[0;32min\u001b[0m \u001b[0mgen_exec\u001b[0m\u001b[0;34m(\u001b[0m\u001b[0mcmd\u001b[0m\u001b[0;34m.\u001b[0m\u001b[0msplit\u001b[0m\u001b[0;34m(\u001b[0m\u001b[0;34m)\u001b[0m\u001b[0;34m,\u001b[0m \u001b[0mcheck_return\u001b[0m\u001b[0;34m)\u001b[0m\u001b[0;34m]\u001b[0m\u001b[0;34m\u001b[0m\u001b[0;34m\u001b[0m\u001b[0m\n\u001b[0m\u001b[1;32m     23\u001b[0m \u001b[0;34m\u001b[0m\u001b[0m\n\u001b[1;32m     24\u001b[0m \u001b[0;32mdef\u001b[0m \u001b[0mexec_bash_print\u001b[0m\u001b[0;34m(\u001b[0m\u001b[0mcmd\u001b[0m\u001b[0;34m:\u001b[0m \u001b[0mstr\u001b[0m\u001b[0;34m,\u001b[0m \u001b[0mcheck_return\u001b[0m\u001b[0;34m:\u001b[0m \u001b[0mbool\u001b[0m \u001b[0;34m=\u001b[0m \u001b[0;32mFalse\u001b[0m\u001b[0;34m)\u001b[0m\u001b[0;34m:\u001b[0m\u001b[0;34m\u001b[0m\u001b[0;34m\u001b[0m\u001b[0m\n",
      "\u001b[0;32m<ipython-input-3-4539eccd1de2>\u001b[0m in \u001b[0;36mgen_exec\u001b[0;34m(cmd, check_return)\u001b[0m\n\u001b[1;32m     11\u001b[0m \u001b[0;32mdef\u001b[0m \u001b[0mgen_exec\u001b[0m\u001b[0;34m(\u001b[0m\u001b[0mcmd\u001b[0m\u001b[0;34m,\u001b[0m \u001b[0mcheck_return\u001b[0m\u001b[0;34m:\u001b[0m \u001b[0mbool\u001b[0m \u001b[0;34m=\u001b[0m \u001b[0;32mFalse\u001b[0m\u001b[0;34m)\u001b[0m\u001b[0;34m:\u001b[0m\u001b[0;34m\u001b[0m\u001b[0;34m\u001b[0m\u001b[0m\n\u001b[1;32m     12\u001b[0m     \u001b[0mpopen\u001b[0m \u001b[0;34m=\u001b[0m \u001b[0msubprocess\u001b[0m\u001b[0;34m.\u001b[0m\u001b[0mPopen\u001b[0m\u001b[0;34m(\u001b[0m\u001b[0mcmd\u001b[0m\u001b[0;34m,\u001b[0m \u001b[0mstdout\u001b[0m\u001b[0;34m=\u001b[0m\u001b[0msubprocess\u001b[0m\u001b[0;34m.\u001b[0m\u001b[0mPIPE\u001b[0m\u001b[0;34m,\u001b[0m \u001b[0muniversal_newlines\u001b[0m\u001b[0;34m=\u001b[0m\u001b[0;32mTrue\u001b[0m\u001b[0;34m)\u001b[0m\u001b[0;34m\u001b[0m\u001b[0;34m\u001b[0m\u001b[0m\n\u001b[0;32m---> 13\u001b[0;31m     \u001b[0;32mfor\u001b[0m \u001b[0mstdout_line\u001b[0m \u001b[0;32min\u001b[0m \u001b[0miter\u001b[0m\u001b[0;34m(\u001b[0m\u001b[0mpopen\u001b[0m\u001b[0;34m.\u001b[0m\u001b[0mstdout\u001b[0m\u001b[0;34m.\u001b[0m\u001b[0mreadline\u001b[0m\u001b[0;34m,\u001b[0m \u001b[0;34m\"\"\u001b[0m\u001b[0;34m)\u001b[0m\u001b[0;34m:\u001b[0m\u001b[0;34m\u001b[0m\u001b[0;34m\u001b[0m\u001b[0m\n\u001b[0m\u001b[1;32m     14\u001b[0m         \u001b[0;32myield\u001b[0m \u001b[0mstdout_line\u001b[0m\u001b[0;34m\u001b[0m\u001b[0;34m\u001b[0m\u001b[0m\n\u001b[1;32m     15\u001b[0m     \u001b[0mpopen\u001b[0m\u001b[0;34m.\u001b[0m\u001b[0mstdout\u001b[0m\u001b[0;34m.\u001b[0m\u001b[0mclose\u001b[0m\u001b[0;34m(\u001b[0m\u001b[0;34m)\u001b[0m\u001b[0;34m\u001b[0m\u001b[0;34m\u001b[0m\u001b[0m\n",
      "\u001b[0;31mKeyboardInterrupt\u001b[0m: "
     ]
    }
   ],
   "source": [
    "######### \n",
    "## Modify if needed:\n",
    "start = 0\n",
    "#########\n",
    "\n",
    "blacklist = []\n",
    "res_dicts = []\n",
    "\n",
    "for i,m in enumerate(models[start:]):\n",
    "    print(f\"{i+start}/{len(models)}: {m}\")\n",
    "    #print(i not in blacklist)\n",
    "    if i+start not in blacklist:\n",
    "        try:            \n",
    "            kwargs = dict(model = m, datasize=datasize, logfile=logfile, output=output_folder)\n",
    "            df = Path(str(m).replace(\".uai\",\".csv\"))\n",
    "            if df in datafiles:\n",
    "                kwargs[\"datafile\"] = Path(model_folder, df)             \n",
    "            res_dicts.append(run(**kwargs))\n",
    "        except timeout_decorator.TimeoutError:\n",
    "            print(\"timeout\")\n",
    "    \n",
    "print(\"finished\")"
   ]
  },
  {
   "cell_type": "code",
   "execution_count": 1,
   "metadata": {},
   "outputs": [
    {
     "name": "stdout",
     "output_type": "stream",
     "text": [
      "/root/dev/credici/papers/neurips21/notebooks\n"
     ]
    }
   ],
   "source": [
    "!pwd"
   ]
  },
  {
   "cell_type": "code",
   "execution_count": 19,
   "metadata": {},
   "outputs": [
    {
     "name": "stdout",
     "output_type": "stream",
     "text": [
      "set1_chain_twExo0_nEndo6_6.uai_x20_pLAST_d1000_m200_s0.py\n",
      "set1_chain_twExo1_nEndo4_11.uai_x20_pLAST_d1000_m200_s0.py\n"
     ]
    }
   ],
   "source": [
    "!ls $output_folder"
   ]
  },
  {
   "cell_type": "code",
   "execution_count": 8,
   "metadata": {},
   "outputs": [
    {
     "data": {
      "text/plain": [
       "'set1_chain_twExo0_nEndo6_16.uai_x20_d1000_m200.py'"
      ]
     },
     "execution_count": 8,
     "metadata": {},
     "output_type": "execute_result"
    }
   ],
   "source": []
  },
  {
   "cell_type": "code",
   "execution_count": 61,
   "metadata": {},
   "outputs": [
    {
     "name": "stdout",
     "output_type": "stream",
     "text": [
      "['innerPoints', 'llkratio', 'timeQuery', 'iterEM']\n"
     ]
    },
    {
     "data": {
      "text/html": [
       "<div>\n",
       "<style scoped>\n",
       "    .dataframe tbody tr th:only-of-type {\n",
       "        vertical-align: middle;\n",
       "    }\n",
       "\n",
       "    .dataframe tbody tr th {\n",
       "        vertical-align: top;\n",
       "    }\n",
       "\n",
       "    .dataframe thead th {\n",
       "        text-align: right;\n",
       "    }\n",
       "</style>\n",
       "<table border=\"1\" class=\"dataframe\">\n",
       "  <thead>\n",
       "    <tr style=\"text-align: right;\">\n",
       "      <th></th>\n",
       "      <th>innerPoints</th>\n",
       "      <th>llkratio</th>\n",
       "      <th>timeQuery</th>\n",
       "      <th>iterEM</th>\n",
       "    </tr>\n",
       "  </thead>\n",
       "  <tbody>\n",
       "    <tr>\n",
       "      <th>0</th>\n",
       "      <td>0</td>\n",
       "      <td>0.997668</td>\n",
       "      <td>13</td>\n",
       "      <td>60</td>\n",
       "    </tr>\n",
       "    <tr>\n",
       "      <th>1</th>\n",
       "      <td>0</td>\n",
       "      <td>0.997668</td>\n",
       "      <td>9</td>\n",
       "      <td>61</td>\n",
       "    </tr>\n",
       "    <tr>\n",
       "      <th>2</th>\n",
       "      <td>0</td>\n",
       "      <td>0.997668</td>\n",
       "      <td>9</td>\n",
       "      <td>57</td>\n",
       "    </tr>\n",
       "    <tr>\n",
       "      <th>3</th>\n",
       "      <td>0</td>\n",
       "      <td>0.997668</td>\n",
       "      <td>10</td>\n",
       "      <td>98</td>\n",
       "    </tr>\n",
       "    <tr>\n",
       "      <th>4</th>\n",
       "      <td>0</td>\n",
       "      <td>0.997668</td>\n",
       "      <td>10</td>\n",
       "      <td>86</td>\n",
       "    </tr>\n",
       "    <tr>\n",
       "      <th>5</th>\n",
       "      <td>0</td>\n",
       "      <td>0.997668</td>\n",
       "      <td>12</td>\n",
       "      <td>67</td>\n",
       "    </tr>\n",
       "    <tr>\n",
       "      <th>6</th>\n",
       "      <td>0</td>\n",
       "      <td>0.997668</td>\n",
       "      <td>13</td>\n",
       "      <td>71</td>\n",
       "    </tr>\n",
       "    <tr>\n",
       "      <th>7</th>\n",
       "      <td>0</td>\n",
       "      <td>0.997668</td>\n",
       "      <td>15</td>\n",
       "      <td>65</td>\n",
       "    </tr>\n",
       "    <tr>\n",
       "      <th>8</th>\n",
       "      <td>0</td>\n",
       "      <td>0.997668</td>\n",
       "      <td>16</td>\n",
       "      <td>64</td>\n",
       "    </tr>\n",
       "    <tr>\n",
       "      <th>9</th>\n",
       "      <td>0</td>\n",
       "      <td>0.997668</td>\n",
       "      <td>17</td>\n",
       "      <td>88</td>\n",
       "    </tr>\n",
       "    <tr>\n",
       "      <th>10</th>\n",
       "      <td>0</td>\n",
       "      <td>0.997668</td>\n",
       "      <td>24</td>\n",
       "      <td>80</td>\n",
       "    </tr>\n",
       "    <tr>\n",
       "      <th>11</th>\n",
       "      <td>0</td>\n",
       "      <td>0.997668</td>\n",
       "      <td>26</td>\n",
       "      <td>108</td>\n",
       "    </tr>\n",
       "    <tr>\n",
       "      <th>12</th>\n",
       "      <td>0</td>\n",
       "      <td>0.997668</td>\n",
       "      <td>28</td>\n",
       "      <td>109</td>\n",
       "    </tr>\n",
       "    <tr>\n",
       "      <th>13</th>\n",
       "      <td>0</td>\n",
       "      <td>0.997668</td>\n",
       "      <td>28</td>\n",
       "      <td>79</td>\n",
       "    </tr>\n",
       "    <tr>\n",
       "      <th>14</th>\n",
       "      <td>0</td>\n",
       "      <td>0.997668</td>\n",
       "      <td>31</td>\n",
       "      <td>79</td>\n",
       "    </tr>\n",
       "    <tr>\n",
       "      <th>15</th>\n",
       "      <td>0</td>\n",
       "      <td>0.997668</td>\n",
       "      <td>27</td>\n",
       "      <td>73</td>\n",
       "    </tr>\n",
       "    <tr>\n",
       "      <th>16</th>\n",
       "      <td>0</td>\n",
       "      <td>0.997668</td>\n",
       "      <td>26</td>\n",
       "      <td>62</td>\n",
       "    </tr>\n",
       "    <tr>\n",
       "      <th>17</th>\n",
       "      <td>0</td>\n",
       "      <td>0.997668</td>\n",
       "      <td>26</td>\n",
       "      <td>199</td>\n",
       "    </tr>\n",
       "    <tr>\n",
       "      <th>18</th>\n",
       "      <td>0</td>\n",
       "      <td>0.997668</td>\n",
       "      <td>25</td>\n",
       "      <td>81</td>\n",
       "    </tr>\n",
       "    <tr>\n",
       "      <th>19</th>\n",
       "      <td>0</td>\n",
       "      <td>0.997668</td>\n",
       "      <td>30</td>\n",
       "      <td>63</td>\n",
       "    </tr>\n",
       "  </tbody>\n",
       "</table>\n",
       "</div>"
      ],
      "text/plain": [
       "    innerPoints  llkratio  timeQuery  iterEM\n",
       "0             0  0.997668         13      60\n",
       "1             0  0.997668          9      61\n",
       "2             0  0.997668          9      57\n",
       "3             0  0.997668         10      98\n",
       "4             0  0.997668         10      86\n",
       "5             0  0.997668         12      67\n",
       "6             0  0.997668         13      71\n",
       "7             0  0.997668         15      65\n",
       "8             0  0.997668         16      64\n",
       "9             0  0.997668         17      88\n",
       "10            0  0.997668         24      80\n",
       "11            0  0.997668         26     108\n",
       "12            0  0.997668         28     109\n",
       "13            0  0.997668         28      79\n",
       "14            0  0.997668         31      79\n",
       "15            0  0.997668         27      73\n",
       "16            0  0.997668         26      62\n",
       "17            0  0.997668         26     199\n",
       "18            0  0.997668         25      81\n",
       "19            0  0.997668         30      63"
      ]
     },
     "execution_count": 61,
     "metadata": {},
     "output_type": "execute_result"
    }
   ],
   "source": [
    "\n",
    "list_cols = [c for c in res_dict.keys() if np.ndim(res_dict[c])==1 and c != \"pnsExact\"]\n",
    "print(list_cols)\n",
    "#array_cols = [\"innerPoints\", \"llkratio\"]\n",
    "pd.DataFrame.from_dict({k:res_dict[k] for k in list_cols})\n"
   ]
  },
  {
   "cell_type": "code",
   "execution_count": 63,
   "metadata": {},
   "outputs": [
    {
     "name": "stdout",
     "output_type": "stream",
     "text": [
      "['pnsEM']\n"
     ]
    }
   ],
   "source": [
    "array_cols = [c for c in res_dict.keys() if np.ndim(res_dict[c])>1]\n",
    "print(array_cols)\n",
    "#array_cols = [\"innerPoints\", \"llkratio\"]\n",
    "pd.DataFrame.from_dict({k:res_dict[k] for k in list_cols})"
   ]
  },
  {
   "cell_type": "code",
   "execution_count": 11,
   "metadata": {},
   "outputs": [],
   "source": [
    "output_folder.mkdir(parents=True, exist_ok=True)\n"
   ]
  },
  {
   "cell_type": "code",
   "execution_count": 12,
   "metadata": {},
   "outputs": [
    {
     "name": "stdout",
     "output_type": "stream",
     "text": [
      "Collecting timeout-decorator\n",
      "  Downloading timeout-decorator-0.5.0.tar.gz (4.8 kB)\n",
      "Building wheels for collected packages: timeout-decorator\n",
      "  Building wheel for timeout-decorator (setup.py) ... \u001b[?25ldone\n",
      "\u001b[?25h  Created wheel for timeout-decorator: filename=timeout_decorator-0.5.0-py3-none-any.whl size=5028 sha256=b91bc19fd9800c2ad4620b08bfbe82992094df11ce815b2a107dba1142f1360f\n",
      "  Stored in directory: /root/.cache/pip/wheels/38/05/4e/161d1463ca145ec1023bd4e5e1f31cbf9239aa8f39a2a2b643\n",
      "Successfully built timeout-decorator\n",
      "Installing collected packages: timeout-decorator\n",
      "Successfully installed timeout-decorator-0.5.0\n"
     ]
    }
   ],
   "source": [
    "!pip install timeout-decorator"
   ]
  },
  {
   "cell_type": "code",
   "execution_count": 13,
   "metadata": {},
   "outputs": [],
   "source": [
    "import time\n",
    "import timeout_decorator"
   ]
  },
  {
   "cell_type": "code",
   "execution_count": 24,
   "metadata": {},
   "outputs": [
    {
     "name": "stdout",
     "output_type": "stream",
     "text": [
      "in\n",
      "timeout\n"
     ]
    }
   ],
   "source": [
    "\n",
    "\n",
    "@timeout_decorator.timeout(2)\n",
    "def f():\n",
    "    print(\"in\")\n",
    "    time.sleep(3)\n",
    "    print(\"out\")\n",
    "    \n",
    "\n",
    "try:    \n",
    "    f()\n",
    "except timeout_decorator.TimeoutError:\n",
    "    print(\"timeout\")\n"
   ]
  },
  {
   "cell_type": "code",
   "execution_count": 43,
   "metadata": {},
   "outputs": [
    {
     "name": "stdout",
     "output_type": "stream",
     "text": [
      "Note: /root/dev/credici/papers/neurips21/Experiments.java uses unchecked or unsafe operations.\n",
      "Note: Recompile with -Xlint:unchecked for details.\n",
      "[2021-05-17T18:26:29.406243][INFO][java] Set up log file: /root/dev/credici/papers/neurips21/output/210517_161626_log.txt\n",
      "[2021-05-17T18:26:29.466695][INFO][java] _x20_pLAST_d1000_m200_s0\n",
      "[2021-05-17T18:26:29.470234][INFO][java] Input args: --executions;20;--datasize;1000;--policy;LAST;--output;/root/dev/credici/papers/neurips21/output/210517_161626;--logfile;/root/dev/credici/papers/neurips21/output/210517_161626_log.txt;--seed;0;-t;3;/root/dev/credici/papers/neurips21/models/set1/chain_twExo3_nEndo6_6.uai\n",
      "[2021-05-17T18:26:29.474513][INFO][java] Reading model at /root/dev/credici/papers/neurips21/models/set1/chain_twExo3_nEndo6_6.uai\n",
      "[2021-05-17T18:26:29.539285][INFO][java] Loaded SCM: ([0, 1, 2, 3, 4, 5, 6, 7, 8, 9, 10, 11], [(6,0), (8,0), (0,1), (7,1), (8,1), (9,1), (1,2), (6,2), (7,2), (10,2), (2,3), (9,3), (3,4), (10,4), (4,5), (11,5)])\n",
      "[2021-05-17T18:26:31.752721][INFO][java] True empirical distribution: {[0, 1]=P([0, 1]) [0.231, 0.27, 0.217, 0.282], [0, 2]=P([0, 1, 2]) [0.222, 0.27, 0.186, 0.221, 0.239, 0.269, 0.248, 0.345], [1, 2]=P([0, 1, 2]) [0.248, 0.245, 0.208, 0.2, 0.267, 0.244, 0.277, 0.311], [1, 3]=P([0, 1, 2, 3]) [0.11, 0.052, 0.044, 0.077, 0.076, 0.057, 0.125, 0.141, 0.435, 0.499, 0.411, 0.372, 0.415, 0.383, 0.384, 0.419], [5]=P([4, 5]) [0.881, 0.938, 0.119, 0.062], [2, 4]=P([1, 2, 3, 4]) [0.017, 0.013, 0.032, 0.028, 0.476, 0.422, 0.48, 0.533, 0.476, 0.262, 0.475, 0.697, 0.016, 0.02, 0.028, 0.025]}\n",
      "[2021-05-17T18:26:31.753038][INFO][java] Sampling 1000 instances\n",
      "[2021-05-17T18:26:31.957642][INFO][java] Data empirical distribution: {[0, 1]=P([0, 1]) [0.206, 0.273, 0.244, 0.277], [0, 2]=P([0, 1, 2]) [0.23173, 0.26096, 0.21881, 0.238, 0.19833, 0.30898, 0.24952, 0.29367], [1, 2]=P([0, 1, 2]) [0.24667, 0.22727, 0.25333, 0.22545, 0.21111, 0.26909, 0.28889, 0.27819], [1, 3]=P([0, 1, 2, 3]) [0.09778, 0.02008, 0.02667, 0.07229, 0.08889, 0.05648, 0.15111, 0.15947, 0.39556, 0.48193, 0.47999, 0.4257, 0.33333, 0.43522, 0.42667, 0.34883], [5]=P([4, 5]) [0.89513, 0.94472, 0.10487, 0.05528], [2, 4]=P([1, 2, 3, 4]) [0.0, 0.00943, 0.04688, 0.03774, 0.49157, 0.48916, 0.46024, 0.46988, 0.42188, 0.21698, 0.53124, 0.73585, 0.01205, 0.02651, 0.03614, 0.01445]}\n",
      "[2021-05-17T18:26:31.973311][INFO][java] Model statistics: {seed=0, markovian=false, exoTW=3, nExo=6, nEndo=6}\n",
      "[2021-05-17T18:26:31.973728][INFO][java] Building model with EM\n",
      "[2021-05-17T18:26:32.476051][SEVERE][java] java.util.concurrent.TimeoutException\n",
      "[2021-05-17T18:26:32.482403][INFO][java] Saving results to /root/dev/credici/papers/neurips21/output/210517_161626/set1_chain_twExo3_nEndo6_6.uai_x20_pLAST_d1000_m200_s0.py\n",
      "results=dict(file='chain_twExo3_nEndo6_6.uai', folder='set1', seed=0, markovian=False, exoTW=3, groundtruth='saturation', error=True, nExo=6, nEndo=6, errorMsg='java.util.concurrent.TimeoutException')\n",
      "\n",
      "[2021-05-17T18:26:32.483205][INFO][java] Closing log file\n"
     ]
    }
   ],
   "source": [
    "!java -cp /root/dev/credici/target/credici-0.1.3-SNAPSHOT-jar-with-dependencies.jar /root/dev/credici/papers/neurips21/Experiments.java --executions 20 --datasize 1000 --policy LAST --output /root/dev/credici/papers/neurips21/output/210517_161626 --logfile /root/dev/credici/papers/neurips21/output/210517_161626_log.txt --seed 0 -t 3 /root/dev/credici/papers/neurips21/models/set1/chain_twExo3_nEndo6_6.uai"
   ]
  },
  {
   "cell_type": "code",
   "execution_count": 47,
   "metadata": {},
   "outputs": [
    {
     "name": "stdout",
     "output_type": "stream",
     "text": [
      "/root/dev/credici/papers/neurips21/notebooks\n"
     ]
    }
   ],
   "source": [
    "!pwd\n"
   ]
  },
  {
   "cell_type": "code",
   "execution_count": 49,
   "metadata": {},
   "outputs": [
    {
     "ename": "OSError",
     "evalue": "Background processes not supported.",
     "output_type": "error",
     "traceback": [
      "\u001b[0;31m---------------------------------------------------------------------------\u001b[0m",
      "\u001b[0;31mOSError\u001b[0m                                   Traceback (most recent call last)",
      "\u001b[0;32m<ipython-input-49-ea7ae4d2070e>\u001b[0m in \u001b[0;36m<module>\u001b[0;34m\u001b[0m\n\u001b[0;32m----> 1\u001b[0;31m \u001b[0mget_ipython\u001b[0m\u001b[0;34m(\u001b[0m\u001b[0;34m)\u001b[0m\u001b[0;34m.\u001b[0m\u001b[0msystem\u001b[0m\u001b[0;34m(\u001b[0m\u001b[0;34m'nohup ./experiments.py 0 set1b &'\u001b[0m\u001b[0;34m)\u001b[0m\u001b[0;34m\u001b[0m\u001b[0;34m\u001b[0m\u001b[0m\n\u001b[0m",
      "\u001b[0;32m/usr/local/lib/python3.8/dist-packages/ipykernel/zmqshell.py\u001b[0m in \u001b[0;36msystem_piped\u001b[0;34m(self, cmd)\u001b[0m\n\u001b[1;32m    633\u001b[0m             \u001b[0;31m# os.system() or use ip.system=ip.system_raw\u001b[0m\u001b[0;34m\u001b[0m\u001b[0;34m\u001b[0m\u001b[0;34m\u001b[0m\u001b[0m\n\u001b[1;32m    634\u001b[0m             \u001b[0;31m# if they really want a background process.\u001b[0m\u001b[0;34m\u001b[0m\u001b[0;34m\u001b[0m\u001b[0;34m\u001b[0m\u001b[0m\n\u001b[0;32m--> 635\u001b[0;31m             \u001b[0;32mraise\u001b[0m \u001b[0mOSError\u001b[0m\u001b[0;34m(\u001b[0m\u001b[0;34m\"Background processes not supported.\"\u001b[0m\u001b[0;34m)\u001b[0m\u001b[0;34m\u001b[0m\u001b[0;34m\u001b[0m\u001b[0m\n\u001b[0m\u001b[1;32m    636\u001b[0m \u001b[0;34m\u001b[0m\u001b[0m\n\u001b[1;32m    637\u001b[0m         \u001b[0;31m# we explicitly do NOT return the subprocess status code, because\u001b[0m\u001b[0;34m\u001b[0m\u001b[0;34m\u001b[0m\u001b[0;34m\u001b[0m\u001b[0m\n",
      "\u001b[0;31mOSError\u001b[0m: Background processes not supported."
     ]
    }
   ],
   "source": []
  },
  {
   "cell_type": "code",
   "execution_count": 7,
   "metadata": {},
   "outputs": [
    {
     "data": {
      "text/plain": [
       "1024"
      ]
     },
     "execution_count": 7,
     "metadata": {},
     "output_type": "execute_result"
    }
   ],
   "source": [
    "4*4*4*4*4"
   ]
  },
  {
   "cell_type": "code",
   "execution_count": 21,
   "metadata": {},
   "outputs": [
    {
     "data": {
      "text/plain": [
       "(16, [64])"
      ]
     },
     "execution_count": 21,
     "metadata": {},
     "output_type": "execute_result"
    }
   ],
   "source": [
    "16, [16*4]"
   ]
  },
  {
   "cell_type": "code",
   "execution_count": 18,
   "metadata": {},
   "outputs": [
    {
     "data": {
      "text/plain": [
       "6"
      ]
     },
     "execution_count": 18,
     "metadata": {},
     "output_type": "execute_result"
    }
   ],
   "source": [
    "len(list(multiset_permutations([\"p\", \"q\", \"0\"])))"
   ]
  },
  {
   "cell_type": "code",
   "execution_count": 22,
   "metadata": {},
   "outputs": [
    {
     "data": {
      "text/plain": [
       "256.0"
      ]
     },
     "execution_count": 22,
     "metadata": {},
     "output_type": "execute_result"
    }
   ],
   "source": [
    "1024/4"
   ]
  },
  {
   "cell_type": "code",
   "execution_count": 5,
   "metadata": {},
   "outputs": [
    {
     "name": "stdout",
     "output_type": "stream",
     "text": [
      "/root/dev/credici/papers/neurips21/notebooks\n"
     ]
    }
   ],
   "source": [
    "!pwd"
   ]
  },
  {
   "cell_type": "code",
   "execution_count": 4,
   "metadata": {
    "tags": []
   },
   "outputs": [
    {
     "name": "stdout",
     "output_type": "stream",
     "text": [
      "1000_1_5_true_1\n",
      "0WARNING: An illegal reflective access operation has occurred\n",
      "WARNING: Illegal reflective access by org.dom4j.io.SAXContentHandler (file:/root/dev/credici/target/credici-0.1.3-SNAPSHOT-jar-with-dependencies.jar) to method com.sun.org.apache.xerces.internal.parsers.AbstractSAXParser$LocatorProxy.getEncoding()\n",
      "WARNING: Please consider reporting this to the maintainers of org.dom4j.io.SAXContentHandler\n",
      "WARNING: Use --illegal-access=warn to enable warnings of further illegal reflective access operations\n",
      "WARNING: All illegal access operations will be denied in a future release\n",
      "0000000./papers/neurips21/models/tmp/chain_twExo1_nEndo5_1\n",
      "Exception in thread \"main\" java.io.FileNotFoundException: ./papers/neurips21/models/tmp/chain_twExo1_nEndo5_1.uai (No such file or directory)\n",
      "\tat java.base/java.io.FileOutputStream.open0(Native Method)\n",
      "\tat java.base/java.io.FileOutputStream.open(FileOutputStream.java:292)\n",
      "\tat java.base/java.io.FileOutputStream.<init>(FileOutputStream.java:235)\n",
      "\tat java.base/java.io.FileOutputStream.<init>(FileOutputStream.java:124)\n",
      "\tat java.base/java.io.FileWriter.<init>(FileWriter.java:66)\n",
      "\tat ch.idsia.crema.model.io.uai.UAIWriter.initWriter(UAIWriter.java:46)\n",
      "\tat ch.idsia.credici.model.io.uai.CausalUAIWriter.<init>(CausalUAIWriter.java:49)\n",
      "\tat ch.idsia.credici.model.io.uai.CausalUAIWriter.write(CausalUAIWriter.java:32)\n",
      "\tat ch.idsia.credici.IO.writeUAI(IO.java:30)\n",
      "\tat ch.idsia.credici.IO.write(IO.java:49)\n",
      "\tat neurips21.SequentialModelGen.save(SequentialModelGen.java:37)\n",
      "\tat neurips21.SequentialModelGen.buildModel(SequentialModelGen.java:61)\n",
      "\tat neurips21.SequentialModelGen.main(SequentialModelGen.java:27)\n"
     ]
    }
   ],
   "source": [
    "java -cp /root/dev/credici/target/credici-0.1.3-SNAPSHOT-jar-with-dependencies.jar /root/dev/credici/papers/neurips21/SequentialModelGen.java\n",
    "\n",
    "\n"
   ]
  },
  {
   "cell_type": "code",
   "execution_count": null,
   "metadata": {},
   "outputs": [],
   "source": [
    "!mvn clean compile assembly:single"
   ]
  },
  {
   "cell_type": "code",
   "execution_count": null,
   "metadata": {},
   "outputs": [],
   "source": []
  },
  {
   "cell_type": "raw",
   "metadata": {},
   "source": [
    "nohup java -cp /root/dev/credici/target/credici-0.1.3-SNAPSHOT-jar-with-dependencies.jar /root/dev/credici/papers/neurips21/SequentialModelGen.java 0 0 20 > gen0.out 2>&1 &\n",
    "\n",
    "\n",
    "nohup java -cp /root/dev/credici/target/credici-0.1.3-SNAPSHOT-jar-with-dependencies.jar /root/dev/credici/papers/neurips21/SequentialModelGen.java 1 0 10 > gen1a.out 2>&1 &\n",
    "\n",
    "nohup java -cp /root/dev/credici/target/credici-0.1.3-SNAPSHOT-jar-with-dependencies.jar /root/dev/credici/papers/neurips21/SequentialModelGen.java 1 10 20 > gen1b.out 2>&1 &\n",
    "\n",
    "\n",
    "\n"
   ]
  },
  {
   "cell_type": "code",
   "execution_count": null,
   "metadata": {},
   "outputs": [],
   "source": [
    "!git status"
   ]
  },
  {
   "cell_type": "code",
   "execution_count": null,
   "metadata": {},
   "outputs": [],
   "source": []
  }
 ],
 "metadata": {
  "kernelspec": {
   "display_name": "Python 3",
   "language": "python",
   "name": "python3"
  },
  "language_info": {
   "codemirror_mode": {
    "name": "ipython",
    "version": 3
   },
   "file_extension": ".py",
   "mimetype": "text/x-python",
   "name": "python",
   "nbconvert_exporter": "python",
   "pygments_lexer": "ipython3",
   "version": "3.8.5"
  }
 },
 "nbformat": 4,
 "nbformat_minor": 4
}
