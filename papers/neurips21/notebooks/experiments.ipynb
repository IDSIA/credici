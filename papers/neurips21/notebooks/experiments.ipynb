{
 "cells": [
  {
   "cell_type": "code",
   "execution_count": 72,
   "metadata": {},
   "outputs": [
    {
     "name": "stdout",
     "output_type": "stream",
     "text": [
      "Untitled.ipynb\n"
     ]
    }
   ],
   "source": [
    "import subprocess\n",
    "import datetime\n",
    "import os\n",
    "\n",
    "import pandas as pd\n",
    "from datetime import datetime\n",
    "\n",
    "\n",
    "\n",
    "\n",
    "\n",
    "def gen_exec(cmd, check_return: bool = False):\n",
    "    popen = subprocess.Popen(cmd, stdout=subprocess.PIPE, universal_newlines=True)\n",
    "    for stdout_line in iter(popen.stdout.readline, \"\"):\n",
    "        yield stdout_line\n",
    "    popen.stdout.close()\n",
    "    return_code = popen.wait()\n",
    "    if return_code and check_return:\n",
    "        raise subprocess.CalledProcessError(return_code, cmd)\n",
    "\n",
    "\n",
    "def exec_bash(cmd: str, check_return: bool = False):\n",
    "    return [s for s in gen_exec(cmd.split(), check_return)]\n",
    "    \n",
    "def exec_bash_print(cmd: str, check_return: bool = False):\n",
    "    for path in gen_exec(cmd.split(), check_return):\n",
    "        print(path, end=\"\")\n",
    "        \n",
    "def strtime():\n",
    "    return datetime.now().strftime(\"%y%m%d_%H%M%S\")\n",
    "\n",
    "\n",
    "exec_bash_print(\"ls\")"
   ]
  },
  {
   "cell_type": "code",
   "execution_count": null,
   "metadata": {},
   "outputs": [],
   "source": [
    "#cmd= f\"java -cp {conf.jar_file} {javafile} {cmd}\"\n",
    "#output = exec_bash(cmd)"
   ]
  },
  {
   "cell_type": "code",
   "execution_count": 28,
   "metadata": {},
   "outputs": [
    {
     "name": "stdout",
     "output_type": "stream",
     "text": [
      "/Users/rcabanas/GoogleDrive/IDSIA/causality/dev/credici\n",
      "/Users/rcabanas/GoogleDrive/IDSIA/causality/dev/credici/papers/neurips21\n",
      "/Users/rcabanas/GoogleDrive/IDSIA/causality/dev/credici/papers/neurips21/output\n",
      "/Users/rcabanas/GoogleDrive/IDSIA/causality/dev/credici/papers/neurips21/models\n",
      "/Users/rcabanas/GoogleDrive/IDSIA/causality/dev/credici/target/credici-0.1.3-SNAPSHOT-jar-with-dependencies.jar\n"
     ]
    }
   ],
   "source": [
    "from pathlib import Path\n",
    "\n",
    "prj_path = Path(str(Path(\"../../../\").resolve())+\"/\")\n",
    "exp_folder = Path(prj_path, \"papers/neurips21/\")\n",
    "res_folder = Path(exp_folder, \"output\")\n",
    "model_folder = Path(exp_folder, \"models\")\n",
    "\n",
    "jar_file = Path(prj_path, \"target/credici-0.1.3-SNAPSHOT-jar-with-dependencies.jar\")\n",
    "javafile = Path(exp_folder, \"Experiments.java\")\n",
    "java = \"/Library/Java/JavaVirtualMachines/openjdk-12.0.1.jdk/Contents/Home/bin/java\"\n",
    "\n",
    "print(prj_path)\n",
    "print(exp_folder)\n",
    "print(res_folder)\n",
    "print(model_folder)\n",
    "\n",
    "print(jar_file)\n",
    "\n"
   ]
  },
  {
   "cell_type": "code",
   "execution_count": 73,
   "metadata": {},
   "outputs": [],
   "source": [
    "def run(model, datasize = 1000, executions=20, logfile=None):\n",
    "    logfile = logfile or Path(res_folder, f\"{strtime()}_log.txt\")\n",
    "    print(model)\n",
    "    modelfile = Path(model_folder, model)\n",
    "    params = f\"--executions {executions} --datasize {datasize} --selectpol LAST --output {res_folder} \"\\\n",
    "        f\"--logfile {logfile} -q {modelfile}\"\n",
    "\n",
    "    cmd = f\"{java} -cp {jar_file} {javafile} {params}\"\n",
    "    output = exec_bash(cmd)  \n",
    "    #print(output)\n",
    "    exec(output[0])\n",
    "    return locals()[\"results\"]\n",
    "\n",
    "results = run(model = \"set1/chain_twExo1_nEndo4_6.uai\", datasize=500)"
   ]
  },
  {
   "cell_type": "code",
   "execution_count": 69,
   "metadata": {},
   "outputs": [
    {
     "data": {
      "text/plain": [
       "[[0.007467470035376679, 0.007467470035376679],\n",
       " [0.007467470035376679, 0.014968245923306627],\n",
       " [0.007467470035376679, 0.02475019532233444],\n",
       " [0.0012109142126740784, 0.02475019532233444],\n",
       " [1.1363096522883869e-05, 0.02475019532233444],\n",
       " [1.1363096522883869e-05, 0.028098539901715097],\n",
       " [1.1363096522883869e-05, 0.028098539901715097],\n",
       " [1.1363096522883869e-05, 0.028098539901715097],\n",
       " [1.1363096522883869e-05, 0.028098539901715097],\n",
       " [1.1363096522883869e-05, 0.028098539901715097],\n",
       " [1.1363096522883869e-05, 0.028098539901715097],\n",
       " [1.1363096522883869e-05, 0.028098539901715097],\n",
       " [1.1363096522883869e-05, 0.028098539901715097],\n",
       " [1.1363096522883869e-05, 0.028098539901715097],\n",
       " [1.1363096522883869e-05, 0.028351153414640912],\n",
       " [1.1363096522883869e-05, 0.028351153414640912],\n",
       " [1.1363096522883869e-05, 0.028351153414640912],\n",
       " [1.1363096522883869e-05, 0.028351153414640912],\n",
       " [1.1363096522883869e-05, 0.028351153414640912],\n",
       " [1.1363096522883869e-05, 0.028351153414640912]]"
      ]
     },
     "execution_count": 69,
     "metadata": {},
     "output_type": "execute_result"
    }
   ],
   "source": [
    "results[\"pnsEM\"]"
   ]
  },
  {
   "cell_type": "code",
   "execution_count": 79,
   "metadata": {},
   "outputs": [],
   "source": []
  },
  {
   "cell_type": "code",
   "execution_count": 85,
   "metadata": {},
   "outputs": [],
   "source": [
    "modelset=\"set1\"\n",
    "datasize = 1000\n",
    "\n",
    "\n",
    "logfile = logfile or Path(res_folder, f\"{strtime()}_log.txt\")\n",
    "models = [Path(modelset, file) for file in os.listdir(Path(model_folder,modelset)) if file.endswith(\".uai\")]\n",
    "results = dict()\n",
    "print(logfile)\n",
    "for m in models[0:4]:\n",
    "    results[str(m)] = run(model = m, datasize=datasize, logfile=logfile)\n",
    "    \n"
   ]
  },
  {
   "cell_type": "code",
   "execution_count": 89,
   "metadata": {},
   "outputs": [
    {
     "data": {
      "text/plain": [
       "4"
      ]
     },
     "execution_count": 89,
     "metadata": {},
     "output_type": "execute_result"
    }
   ],
   "source": [
    "len(results)"
   ]
  },
  {
   "cell_type": "code",
   "execution_count": 100,
   "metadata": {},
   "outputs": [
    {
     "ename": "IndexError",
     "evalue": "list index out of range",
     "output_type": "error",
     "traceback": [
      "\u001b[0;31m---------------------------------------------------------------------------\u001b[0m",
      "\u001b[0;31mIndexError\u001b[0m                                Traceback (most recent call last)",
      "\u001b[0;32m<ipython-input-100-cd44480904d7>\u001b[0m in \u001b[0;36m<module>\u001b[0;34m\u001b[0m\n\u001b[0;32m----> 1\u001b[0;31m \u001b[0mlist\u001b[0m\u001b[0;34m(\u001b[0m\u001b[0mresults\u001b[0m\u001b[0;34m.\u001b[0m\u001b[0mvalues\u001b[0m\u001b[0;34m(\u001b[0m\u001b[0;34m)\u001b[0m\u001b[0;34m)\u001b[0m\u001b[0;34m[\u001b[0m\u001b[0;36m4\u001b[0m\u001b[0;34m]\u001b[0m\u001b[0;34m\u001b[0m\u001b[0;34m\u001b[0m\u001b[0m\n\u001b[0m",
      "\u001b[0;31mIndexError\u001b[0m: list index out of range"
     ]
    }
   ],
   "source": [
    "list(results.values())[4]"
   ]
  },
  {
   "cell_type": "code",
   "execution_count": 101,
   "metadata": {},
   "outputs": [
    {
     "data": {
      "text/plain": [
       "40"
      ]
     },
     "execution_count": 101,
     "metadata": {},
     "output_type": "execute_result"
    }
   ],
   "source": []
  },
  {
   "cell_type": "code",
   "execution_count": null,
   "metadata": {},
   "outputs": [],
   "source": []
  }
 ],
 "metadata": {
  "kernelspec": {
   "display_name": "Python 3",
   "language": "python",
   "name": "python3"
  },
  "language_info": {
   "codemirror_mode": {
    "name": "ipython",
    "version": 3
   },
   "file_extension": ".py",
   "mimetype": "text/x-python",
   "name": "python",
   "nbconvert_exporter": "python",
   "pygments_lexer": "ipython3",
   "version": "3.8.5"
  }
 },
 "nbformat": 4,
 "nbformat_minor": 4
}
