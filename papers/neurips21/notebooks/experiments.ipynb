{
 "cells": [
  {
   "cell_type": "code",
   "execution_count": 1,
   "metadata": {},
   "outputs": [
    {
     "name": "stdout",
     "output_type": "stream",
     "text": [
      "/root/dev/credici\n",
      "/root/dev/credici/papers/neurips21\n",
      "/root/dev/credici/papers/neurips21/output\n",
      "/root/dev/credici/papers/neurips21/models\n",
      "/root/dev/credici/target/credici-0.1.3-SNAPSHOT-jar-with-dependencies.jar\n"
     ]
    }
   ],
   "source": [
    "import subprocess\n",
    "import datetime\n",
    "import os\n",
    "\n",
    "import pandas as pd\n",
    "from datetime import datetime\n",
    "import timeout_decorator\n",
    "\n",
    "\n",
    "@timeout_decorator.timeout(10*60) # seconds\n",
    "def gen_exec(cmd, check_return: bool = False):\n",
    "    popen = subprocess.Popen(cmd, stdout=subprocess.PIPE, universal_newlines=True)\n",
    "    for stdout_line in iter(popen.stdout.readline, \"\"):\n",
    "        yield stdout_line\n",
    "    popen.stdout.close()\n",
    "    return_code = popen.wait()\n",
    "    if return_code and check_return:\n",
    "        raise subprocess.CalledProcessError(return_code, cmd)\n",
    "\n",
    "\n",
    "def exec_bash(cmd: str, check_return: bool = False):\n",
    "    return [s for s in gen_exec(cmd.split(), check_return)]\n",
    "    \n",
    "def exec_bash_print(cmd: str, check_return: bool = False):\n",
    "    for path in gen_exec(cmd.split(), check_return):\n",
    "        print(path, end=\"\")\n",
    "        \n",
    "def strtime():\n",
    "    return datetime.now().strftime(\"%y%m%d_%H%M%S\")\n",
    "\n",
    "\n",
    "\n",
    "from pathlib import Path\n",
    "\n",
    "prj_path = Path(str(Path(\"../../../\").resolve())+\"/\")\n",
    "exp_folder = Path(prj_path, \"papers/neurips21/\")\n",
    "res_folder = Path(exp_folder, \"output\")\n",
    "model_folder = Path(exp_folder, \"models\")\n",
    "\n",
    "jar_file = Path(prj_path, \"target/credici-0.1.3-SNAPSHOT-jar-with-dependencies.jar\")\n",
    "javafile = Path(exp_folder, \"Experiments.java\")\n",
    "#java = \"/Library/Java/JavaVirtualMachines/openjdk-12.0.1.jdk/Contents/Home/bin/java\"\n",
    "java = \"java\"\n",
    "\n",
    "\n",
    "print(prj_path)\n",
    "print(exp_folder)\n",
    "print(res_folder)\n",
    "print(model_folder)\n",
    "\n",
    "print(jar_file)"
   ]
  },
  {
   "cell_type": "code",
   "execution_count": 2,
   "metadata": {},
   "outputs": [],
   "source": [
    "#cmd= f\"java -cp {conf.jar_file} {javafile} {cmd}\"\n",
    "#output = exec_bash(cmd)"
   ]
  },
  {
   "cell_type": "code",
   "execution_count": null,
   "metadata": {},
   "outputs": [],
   "source": [
    "\n",
    "\n"
   ]
  },
  {
   "cell_type": "code",
   "execution_count": 3,
   "metadata": {},
   "outputs": [],
   "source": [
    "def run(model, datasize = 1000, executions=20, logfile=None, output = None, datafile=None, seed = 0):\n",
    "    logfile = logfile or Path(res_folder, f\"{strtime()}_log.txt\")\n",
    "    output = output or res_folder\n",
    "    output.mkdir(parents=True, exist_ok=True)\n",
    "    #print(model)\n",
    "    modelfile = Path(model_folder, model)\n",
    "    params = f\"--executions {executions} --datasize {datasize} --policy LAST --output {output} \"\\\n",
    "        f\"--logfile {logfile} --seed {seed} -q \"\n",
    "    \n",
    "    if datafile is not None:\n",
    "        params += f\"-f {datafile}\"\n",
    "    \n",
    "    params += f\" {modelfile}\"\n",
    "\n",
    "    cmd = f\"{java} -cp {jar_file} {javafile} {params}\"\n",
    "    #print(cmd)\n",
    "    output = exec_bash(cmd)  \n",
    "    #print(output)\n",
    "    exec(output[0])\n",
    "    return locals()[\"results\"]\n",
    "\n",
    "#results = run(model = \"set1/chain_twExo1_nEndo4_6.uai\", datasize=500)"
   ]
  },
  {
   "cell_type": "code",
   "execution_count": null,
   "metadata": {},
   "outputs": [],
   "source": []
  },
  {
   "cell_type": "code",
   "execution_count": 4,
   "metadata": {},
   "outputs": [
    {
     "name": "stdout",
     "output_type": "stream",
     "text": [
      "/root/dev/credici/papers/neurips21/output/210520_194904_log.txt\n",
      "/root/dev/credici/papers/neurips21/output/210520_194904\n",
      "60\n",
      "60\n"
     ]
    },
    {
     "data": {
      "text/plain": [
       "True"
      ]
     },
     "execution_count": 4,
     "metadata": {},
     "output_type": "execute_result"
    }
   ],
   "source": [
    "######### \n",
    "## Modify if needed:\n",
    "modelset=\"seq0\"\n",
    "datasize = 1000\n",
    "#########\n",
    "\n",
    "stime = strtime()\n",
    "\n",
    "# Log file and output folder\n",
    "logfile = Path(res_folder, f\"{stime}_log.txt\")\n",
    "output_folder = Path(res_folder, stime)\n",
    "\n",
    "# Get the models\n",
    "models = [Path(modelset, file) for file in os.listdir(Path(model_folder,modelset)) if file.endswith(\".uai\")]\n",
    "datafiles = [Path(modelset, file) for file in os.listdir(Path(model_folder,modelset)) if file.endswith(\".csv\")]\n",
    "\n",
    "print(logfile)\n",
    "print(output_folder)\n",
    "print(len(models))\n",
    "print(len(datafiles))\n",
    "\n",
    "m = models[0]\n",
    "df = Path(str(m).replace(\".uai\",\".csv\"))\n",
    "df in datafiles"
   ]
  },
  {
   "cell_type": "code",
   "execution_count": 5,
   "metadata": {},
   "outputs": [
    {
     "name": "stdout",
     "output_type": "stream",
     "text": [
      "0/60: seq0/chain_twExo0_nEndo15_8.uai\n"
     ]
    },
    {
     "ename": "KeyboardInterrupt",
     "evalue": "",
     "output_type": "error",
     "traceback": [
      "\u001b[0;31m---------------------------------------------------------------------------\u001b[0m",
      "\u001b[0;31mKeyboardInterrupt\u001b[0m                         Traceback (most recent call last)",
      "\u001b[0;32m<ipython-input-5-5b6a1bf7d646>\u001b[0m in \u001b[0;36m<module>\u001b[0;34m\u001b[0m\n\u001b[1;32m     16\u001b[0m             \u001b[0;32mif\u001b[0m \u001b[0mdf\u001b[0m \u001b[0;32min\u001b[0m \u001b[0mdatafiles\u001b[0m\u001b[0;34m:\u001b[0m\u001b[0;34m\u001b[0m\u001b[0;34m\u001b[0m\u001b[0m\n\u001b[1;32m     17\u001b[0m                 \u001b[0mkwargs\u001b[0m\u001b[0;34m[\u001b[0m\u001b[0;34m\"datafile\"\u001b[0m\u001b[0;34m]\u001b[0m \u001b[0;34m=\u001b[0m \u001b[0mPath\u001b[0m\u001b[0;34m(\u001b[0m\u001b[0mmodel_folder\u001b[0m\u001b[0;34m,\u001b[0m \u001b[0mdf\u001b[0m\u001b[0;34m)\u001b[0m\u001b[0;34m\u001b[0m\u001b[0;34m\u001b[0m\u001b[0m\n\u001b[0;32m---> 18\u001b[0;31m             \u001b[0mres_dicts\u001b[0m\u001b[0;34m.\u001b[0m\u001b[0mappend\u001b[0m\u001b[0;34m(\u001b[0m\u001b[0mrun\u001b[0m\u001b[0;34m(\u001b[0m\u001b[0;34m**\u001b[0m\u001b[0mkwargs\u001b[0m\u001b[0;34m)\u001b[0m\u001b[0;34m)\u001b[0m\u001b[0;34m\u001b[0m\u001b[0;34m\u001b[0m\u001b[0m\n\u001b[0m\u001b[1;32m     19\u001b[0m         \u001b[0;32mexcept\u001b[0m \u001b[0mtimeout_decorator\u001b[0m\u001b[0;34m.\u001b[0m\u001b[0mTimeoutError\u001b[0m\u001b[0;34m:\u001b[0m\u001b[0;34m\u001b[0m\u001b[0;34m\u001b[0m\u001b[0m\n\u001b[1;32m     20\u001b[0m             \u001b[0mprint\u001b[0m\u001b[0;34m(\u001b[0m\u001b[0;34m\"timeout\"\u001b[0m\u001b[0;34m)\u001b[0m\u001b[0;34m\u001b[0m\u001b[0;34m\u001b[0m\u001b[0m\n",
      "\u001b[0;32m<ipython-input-3-daba21c9e5e4>\u001b[0m in \u001b[0;36mrun\u001b[0;34m(model, datasize, executions, logfile, output, datafile, seed)\u001b[0m\n\u001b[1;32m     15\u001b[0m     \u001b[0mcmd\u001b[0m \u001b[0;34m=\u001b[0m \u001b[0;34mf\"{java} -cp {jar_file} {javafile} {params}\"\u001b[0m\u001b[0;34m\u001b[0m\u001b[0;34m\u001b[0m\u001b[0m\n\u001b[1;32m     16\u001b[0m     \u001b[0;31m#print(cmd)\u001b[0m\u001b[0;34m\u001b[0m\u001b[0;34m\u001b[0m\u001b[0;34m\u001b[0m\u001b[0m\n\u001b[0;32m---> 17\u001b[0;31m     \u001b[0moutput\u001b[0m \u001b[0;34m=\u001b[0m \u001b[0mexec_bash\u001b[0m\u001b[0;34m(\u001b[0m\u001b[0mcmd\u001b[0m\u001b[0;34m)\u001b[0m\u001b[0;34m\u001b[0m\u001b[0;34m\u001b[0m\u001b[0m\n\u001b[0m\u001b[1;32m     18\u001b[0m     \u001b[0;31m#print(output)\u001b[0m\u001b[0;34m\u001b[0m\u001b[0;34m\u001b[0m\u001b[0;34m\u001b[0m\u001b[0m\n\u001b[1;32m     19\u001b[0m     \u001b[0mexec\u001b[0m\u001b[0;34m(\u001b[0m\u001b[0moutput\u001b[0m\u001b[0;34m[\u001b[0m\u001b[0;36m0\u001b[0m\u001b[0;34m]\u001b[0m\u001b[0;34m)\u001b[0m\u001b[0;34m\u001b[0m\u001b[0;34m\u001b[0m\u001b[0m\n",
      "\u001b[0;32m<ipython-input-1-4539eccd1de2>\u001b[0m in \u001b[0;36mexec_bash\u001b[0;34m(cmd, check_return)\u001b[0m\n\u001b[1;32m     20\u001b[0m \u001b[0;34m\u001b[0m\u001b[0m\n\u001b[1;32m     21\u001b[0m \u001b[0;32mdef\u001b[0m \u001b[0mexec_bash\u001b[0m\u001b[0;34m(\u001b[0m\u001b[0mcmd\u001b[0m\u001b[0;34m:\u001b[0m \u001b[0mstr\u001b[0m\u001b[0;34m,\u001b[0m \u001b[0mcheck_return\u001b[0m\u001b[0;34m:\u001b[0m \u001b[0mbool\u001b[0m \u001b[0;34m=\u001b[0m \u001b[0;32mFalse\u001b[0m\u001b[0;34m)\u001b[0m\u001b[0;34m:\u001b[0m\u001b[0;34m\u001b[0m\u001b[0;34m\u001b[0m\u001b[0m\n\u001b[0;32m---> 22\u001b[0;31m     \u001b[0;32mreturn\u001b[0m \u001b[0;34m[\u001b[0m\u001b[0ms\u001b[0m \u001b[0;32mfor\u001b[0m \u001b[0ms\u001b[0m \u001b[0;32min\u001b[0m \u001b[0mgen_exec\u001b[0m\u001b[0;34m(\u001b[0m\u001b[0mcmd\u001b[0m\u001b[0;34m.\u001b[0m\u001b[0msplit\u001b[0m\u001b[0;34m(\u001b[0m\u001b[0;34m)\u001b[0m\u001b[0;34m,\u001b[0m \u001b[0mcheck_return\u001b[0m\u001b[0;34m)\u001b[0m\u001b[0;34m]\u001b[0m\u001b[0;34m\u001b[0m\u001b[0;34m\u001b[0m\u001b[0m\n\u001b[0m\u001b[1;32m     23\u001b[0m \u001b[0;34m\u001b[0m\u001b[0m\n\u001b[1;32m     24\u001b[0m \u001b[0;32mdef\u001b[0m \u001b[0mexec_bash_print\u001b[0m\u001b[0;34m(\u001b[0m\u001b[0mcmd\u001b[0m\u001b[0;34m:\u001b[0m \u001b[0mstr\u001b[0m\u001b[0;34m,\u001b[0m \u001b[0mcheck_return\u001b[0m\u001b[0;34m:\u001b[0m \u001b[0mbool\u001b[0m \u001b[0;34m=\u001b[0m \u001b[0;32mFalse\u001b[0m\u001b[0;34m)\u001b[0m\u001b[0;34m:\u001b[0m\u001b[0;34m\u001b[0m\u001b[0;34m\u001b[0m\u001b[0m\n",
      "\u001b[0;32m<ipython-input-1-4539eccd1de2>\u001b[0m in \u001b[0;36m<listcomp>\u001b[0;34m(.0)\u001b[0m\n\u001b[1;32m     20\u001b[0m \u001b[0;34m\u001b[0m\u001b[0m\n\u001b[1;32m     21\u001b[0m \u001b[0;32mdef\u001b[0m \u001b[0mexec_bash\u001b[0m\u001b[0;34m(\u001b[0m\u001b[0mcmd\u001b[0m\u001b[0;34m:\u001b[0m \u001b[0mstr\u001b[0m\u001b[0;34m,\u001b[0m \u001b[0mcheck_return\u001b[0m\u001b[0;34m:\u001b[0m \u001b[0mbool\u001b[0m \u001b[0;34m=\u001b[0m \u001b[0;32mFalse\u001b[0m\u001b[0;34m)\u001b[0m\u001b[0;34m:\u001b[0m\u001b[0;34m\u001b[0m\u001b[0;34m\u001b[0m\u001b[0m\n\u001b[0;32m---> 22\u001b[0;31m     \u001b[0;32mreturn\u001b[0m \u001b[0;34m[\u001b[0m\u001b[0ms\u001b[0m \u001b[0;32mfor\u001b[0m \u001b[0ms\u001b[0m \u001b[0;32min\u001b[0m \u001b[0mgen_exec\u001b[0m\u001b[0;34m(\u001b[0m\u001b[0mcmd\u001b[0m\u001b[0;34m.\u001b[0m\u001b[0msplit\u001b[0m\u001b[0;34m(\u001b[0m\u001b[0;34m)\u001b[0m\u001b[0;34m,\u001b[0m \u001b[0mcheck_return\u001b[0m\u001b[0;34m)\u001b[0m\u001b[0;34m]\u001b[0m\u001b[0;34m\u001b[0m\u001b[0;34m\u001b[0m\u001b[0m\n\u001b[0m\u001b[1;32m     23\u001b[0m \u001b[0;34m\u001b[0m\u001b[0m\n\u001b[1;32m     24\u001b[0m \u001b[0;32mdef\u001b[0m \u001b[0mexec_bash_print\u001b[0m\u001b[0;34m(\u001b[0m\u001b[0mcmd\u001b[0m\u001b[0;34m:\u001b[0m \u001b[0mstr\u001b[0m\u001b[0;34m,\u001b[0m \u001b[0mcheck_return\u001b[0m\u001b[0;34m:\u001b[0m \u001b[0mbool\u001b[0m \u001b[0;34m=\u001b[0m \u001b[0;32mFalse\u001b[0m\u001b[0;34m)\u001b[0m\u001b[0;34m:\u001b[0m\u001b[0;34m\u001b[0m\u001b[0;34m\u001b[0m\u001b[0m\n",
      "\u001b[0;32m<ipython-input-1-4539eccd1de2>\u001b[0m in \u001b[0;36mgen_exec\u001b[0;34m(cmd, check_return)\u001b[0m\n\u001b[1;32m     11\u001b[0m \u001b[0;32mdef\u001b[0m \u001b[0mgen_exec\u001b[0m\u001b[0;34m(\u001b[0m\u001b[0mcmd\u001b[0m\u001b[0;34m,\u001b[0m \u001b[0mcheck_return\u001b[0m\u001b[0;34m:\u001b[0m \u001b[0mbool\u001b[0m \u001b[0;34m=\u001b[0m \u001b[0;32mFalse\u001b[0m\u001b[0;34m)\u001b[0m\u001b[0;34m:\u001b[0m\u001b[0;34m\u001b[0m\u001b[0;34m\u001b[0m\u001b[0m\n\u001b[1;32m     12\u001b[0m     \u001b[0mpopen\u001b[0m \u001b[0;34m=\u001b[0m \u001b[0msubprocess\u001b[0m\u001b[0;34m.\u001b[0m\u001b[0mPopen\u001b[0m\u001b[0;34m(\u001b[0m\u001b[0mcmd\u001b[0m\u001b[0;34m,\u001b[0m \u001b[0mstdout\u001b[0m\u001b[0;34m=\u001b[0m\u001b[0msubprocess\u001b[0m\u001b[0;34m.\u001b[0m\u001b[0mPIPE\u001b[0m\u001b[0;34m,\u001b[0m \u001b[0muniversal_newlines\u001b[0m\u001b[0;34m=\u001b[0m\u001b[0;32mTrue\u001b[0m\u001b[0;34m)\u001b[0m\u001b[0;34m\u001b[0m\u001b[0;34m\u001b[0m\u001b[0m\n\u001b[0;32m---> 13\u001b[0;31m     \u001b[0;32mfor\u001b[0m \u001b[0mstdout_line\u001b[0m \u001b[0;32min\u001b[0m \u001b[0miter\u001b[0m\u001b[0;34m(\u001b[0m\u001b[0mpopen\u001b[0m\u001b[0;34m.\u001b[0m\u001b[0mstdout\u001b[0m\u001b[0;34m.\u001b[0m\u001b[0mreadline\u001b[0m\u001b[0;34m,\u001b[0m \u001b[0;34m\"\"\u001b[0m\u001b[0;34m)\u001b[0m\u001b[0;34m:\u001b[0m\u001b[0;34m\u001b[0m\u001b[0;34m\u001b[0m\u001b[0m\n\u001b[0m\u001b[1;32m     14\u001b[0m         \u001b[0;32myield\u001b[0m \u001b[0mstdout_line\u001b[0m\u001b[0;34m\u001b[0m\u001b[0;34m\u001b[0m\u001b[0m\n\u001b[1;32m     15\u001b[0m     \u001b[0mpopen\u001b[0m\u001b[0;34m.\u001b[0m\u001b[0mstdout\u001b[0m\u001b[0;34m.\u001b[0m\u001b[0mclose\u001b[0m\u001b[0;34m(\u001b[0m\u001b[0;34m)\u001b[0m\u001b[0;34m\u001b[0m\u001b[0;34m\u001b[0m\u001b[0m\n",
      "\u001b[0;31mKeyboardInterrupt\u001b[0m: "
     ]
    }
   ],
   "source": [
    "######### \n",
    "## Modify if needed:\n",
    "start = 0\n",
    "#########\n",
    "\n",
    "blacklist = []\n",
    "res_dicts = []\n",
    "\n",
    "for i,m in enumerate(models[start:]):\n",
    "    print(f\"{i+start}/{len(models)}: {m}\")\n",
    "    #print(i not in blacklist)\n",
    "    if i+start not in blacklist:\n",
    "        try:            \n",
    "            kwargs = dict(model = m, datasize=datasize, logfile=logfile, output=output_folder)\n",
    "            df = Path(str(m).replace(\".uai\",\".csv\"))\n",
    "            if df in datafiles:\n",
    "                kwargs[\"datafile\"] = Path(model_folder, df)             \n",
    "            res_dicts.append(run(**kwargs))\n",
    "        except timeout_decorator.TimeoutError:\n",
    "            print(\"timeout\")\n",
    "    \n",
    "print(\"finished\")"
   ]
  },
  {
   "cell_type": "code",
   "execution_count": null,
   "metadata": {},
   "outputs": [],
   "source": [
    "!tail -f /root/dev/credici/papers/neurips21/output/210520_194904_log.txt\n"
   ]
  },
  {
   "cell_type": "code",
   "execution_count": 8,
   "metadata": {},
   "outputs": [
    {
     "data": {
      "text/plain": [
       "'set1_chain_twExo0_nEndo6_16.uai_x20_d1000_m200.py'"
      ]
     },
     "execution_count": 8,
     "metadata": {},
     "output_type": "execute_result"
    }
   ],
   "source": []
  },
  {
   "cell_type": "code",
   "execution_count": 43,
   "metadata": {},
   "outputs": [
    {
     "name": "stdout",
     "output_type": "stream",
     "text": [
      "Note: /root/dev/credici/papers/neurips21/Experiments.java uses unchecked or unsafe operations.\n",
      "Note: Recompile with -Xlint:unchecked for details.\n",
      "[2021-05-17T18:26:29.406243][INFO][java] Set up log file: /root/dev/credici/papers/neurips21/output/210517_161626_log.txt\n",
      "[2021-05-17T18:26:29.466695][INFO][java] _x20_pLAST_d1000_m200_s0\n",
      "[2021-05-17T18:26:29.470234][INFO][java] Input args: --executions;20;--datasize;1000;--policy;LAST;--output;/root/dev/credici/papers/neurips21/output/210517_161626;--logfile;/root/dev/credici/papers/neurips21/output/210517_161626_log.txt;--seed;0;-t;3;/root/dev/credici/papers/neurips21/models/set1/chain_twExo3_nEndo6_6.uai\n",
      "[2021-05-17T18:26:29.474513][INFO][java] Reading model at /root/dev/credici/papers/neurips21/models/set1/chain_twExo3_nEndo6_6.uai\n",
      "[2021-05-17T18:26:29.539285][INFO][java] Loaded SCM: ([0, 1, 2, 3, 4, 5, 6, 7, 8, 9, 10, 11], [(6,0), (8,0), (0,1), (7,1), (8,1), (9,1), (1,2), (6,2), (7,2), (10,2), (2,3), (9,3), (3,4), (10,4), (4,5), (11,5)])\n",
      "[2021-05-17T18:26:31.752721][INFO][java] True empirical distribution: {[0, 1]=P([0, 1]) [0.231, 0.27, 0.217, 0.282], [0, 2]=P([0, 1, 2]) [0.222, 0.27, 0.186, 0.221, 0.239, 0.269, 0.248, 0.345], [1, 2]=P([0, 1, 2]) [0.248, 0.245, 0.208, 0.2, 0.267, 0.244, 0.277, 0.311], [1, 3]=P([0, 1, 2, 3]) [0.11, 0.052, 0.044, 0.077, 0.076, 0.057, 0.125, 0.141, 0.435, 0.499, 0.411, 0.372, 0.415, 0.383, 0.384, 0.419], [5]=P([4, 5]) [0.881, 0.938, 0.119, 0.062], [2, 4]=P([1, 2, 3, 4]) [0.017, 0.013, 0.032, 0.028, 0.476, 0.422, 0.48, 0.533, 0.476, 0.262, 0.475, 0.697, 0.016, 0.02, 0.028, 0.025]}\n",
      "[2021-05-17T18:26:31.753038][INFO][java] Sampling 1000 instances\n",
      "[2021-05-17T18:26:31.957642][INFO][java] Data empirical distribution: {[0, 1]=P([0, 1]) [0.206, 0.273, 0.244, 0.277], [0, 2]=P([0, 1, 2]) [0.23173, 0.26096, 0.21881, 0.238, 0.19833, 0.30898, 0.24952, 0.29367], [1, 2]=P([0, 1, 2]) [0.24667, 0.22727, 0.25333, 0.22545, 0.21111, 0.26909, 0.28889, 0.27819], [1, 3]=P([0, 1, 2, 3]) [0.09778, 0.02008, 0.02667, 0.07229, 0.08889, 0.05648, 0.15111, 0.15947, 0.39556, 0.48193, 0.47999, 0.4257, 0.33333, 0.43522, 0.42667, 0.34883], [5]=P([4, 5]) [0.89513, 0.94472, 0.10487, 0.05528], [2, 4]=P([1, 2, 3, 4]) [0.0, 0.00943, 0.04688, 0.03774, 0.49157, 0.48916, 0.46024, 0.46988, 0.42188, 0.21698, 0.53124, 0.73585, 0.01205, 0.02651, 0.03614, 0.01445]}\n",
      "[2021-05-17T18:26:31.973311][INFO][java] Model statistics: {seed=0, markovian=false, exoTW=3, nExo=6, nEndo=6}\n",
      "[2021-05-17T18:26:31.973728][INFO][java] Building model with EM\n",
      "[2021-05-17T18:26:32.476051][SEVERE][java] java.util.concurrent.TimeoutException\n",
      "[2021-05-17T18:26:32.482403][INFO][java] Saving results to /root/dev/credici/papers/neurips21/output/210517_161626/set1_chain_twExo3_nEndo6_6.uai_x20_pLAST_d1000_m200_s0.py\n",
      "results=dict(file='chain_twExo3_nEndo6_6.uai', folder='set1', seed=0, markovian=False, exoTW=3, groundtruth='saturation', error=True, nExo=6, nEndo=6, errorMsg='java.util.concurrent.TimeoutException')\n",
      "\n",
      "[2021-05-17T18:26:32.483205][INFO][java] Closing log file\n"
     ]
    }
   ],
   "source": [
    "!java -cp /root/dev/credici/target/credici-0.1.3-SNAPSHOT-jar-with-dependencies.jar /root/dev/credici/papers/neurips21/Experiments.java --executions 20 --datasize 1000 --policy LAST --output /root/dev/credici/papers/neurips21/output/210517_161626 --logfile /root/dev/credici/papers/neurips21/output/210517_161626_log.txt --seed 0 -t 3 /root/dev/credici/papers/neurips21/models/set1/chain_twExo3_nEndo6_6.uai"
   ]
  },
  {
   "cell_type": "code",
   "execution_count": 4,
   "metadata": {
    "tags": []
   },
   "outputs": [
    {
     "name": "stdout",
     "output_type": "stream",
     "text": [
      "1000_1_5_true_1\n",
      "0WARNING: An illegal reflective access operation has occurred\n",
      "WARNING: Illegal reflective access by org.dom4j.io.SAXContentHandler (file:/root/dev/credici/target/credici-0.1.3-SNAPSHOT-jar-with-dependencies.jar) to method com.sun.org.apache.xerces.internal.parsers.AbstractSAXParser$LocatorProxy.getEncoding()\n",
      "WARNING: Please consider reporting this to the maintainers of org.dom4j.io.SAXContentHandler\n",
      "WARNING: Use --illegal-access=warn to enable warnings of further illegal reflective access operations\n",
      "WARNING: All illegal access operations will be denied in a future release\n",
      "0000000./papers/neurips21/models/tmp/chain_twExo1_nEndo5_1\n",
      "Exception in thread \"main\" java.io.FileNotFoundException: ./papers/neurips21/models/tmp/chain_twExo1_nEndo5_1.uai (No such file or directory)\n",
      "\tat java.base/java.io.FileOutputStream.open0(Native Method)\n",
      "\tat java.base/java.io.FileOutputStream.open(FileOutputStream.java:292)\n",
      "\tat java.base/java.io.FileOutputStream.<init>(FileOutputStream.java:235)\n",
      "\tat java.base/java.io.FileOutputStream.<init>(FileOutputStream.java:124)\n",
      "\tat java.base/java.io.FileWriter.<init>(FileWriter.java:66)\n",
      "\tat ch.idsia.crema.model.io.uai.UAIWriter.initWriter(UAIWriter.java:46)\n",
      "\tat ch.idsia.credici.model.io.uai.CausalUAIWriter.<init>(CausalUAIWriter.java:49)\n",
      "\tat ch.idsia.credici.model.io.uai.CausalUAIWriter.write(CausalUAIWriter.java:32)\n",
      "\tat ch.idsia.credici.IO.writeUAI(IO.java:30)\n",
      "\tat ch.idsia.credici.IO.write(IO.java:49)\n",
      "\tat neurips21.SequentialModelGen.save(SequentialModelGen.java:37)\n",
      "\tat neurips21.SequentialModelGen.buildModel(SequentialModelGen.java:61)\n",
      "\tat neurips21.SequentialModelGen.main(SequentialModelGen.java:27)\n"
     ]
    }
   ],
   "source": [
    "java -cp /root/dev/credici/target/credici-0.1.3-SNAPSHOT-jar-with-dependencies.jar /root/dev/credici/papers/neurips21/SequentialModelGen.java\n",
    "\n",
    "\n"
   ]
  },
  {
   "cell_type": "code",
   "execution_count": null,
   "metadata": {},
   "outputs": [],
   "source": [
    "!mvn clean compile assembly:single"
   ]
  },
  {
   "cell_type": "code",
   "execution_count": null,
   "metadata": {},
   "outputs": [],
   "source": []
  },
  {
   "cell_type": "raw",
   "metadata": {},
   "source": [
    "nohup java -cp /root/dev/credici/target/credici-0.1.3-SNAPSHOT-jar-with-dependencies.jar /root/dev/credici/papers/neurips21/SequentialModelGen.java 0 0 20 > gen0.out 2>&1 &\n",
    "\n",
    "\n",
    "nohup java -cp /root/dev/credici/target/credici-0.1.3-SNAPSHOT-jar-with-dependencies.jar /root/dev/credici/papers/neurips21/SequentialModelGen.java 1 0 10 > gen1a.out 2>&1 &\n",
    "\n",
    "nohup java -cp /root/dev/credici/target/credici-0.1.3-SNAPSHOT-jar-with-dependencies.jar /root/dev/credici/papers/neurips21/SequentialModelGen.java 1 10 20 > gen1b.out 2>&1 &\n",
    "\n",
    "\n",
    "\n"
   ]
  },
  {
   "cell_type": "code",
   "execution_count": null,
   "metadata": {},
   "outputs": [],
   "source": [
    "./experiments.py 0 seq0 > output0.out 2>&1 &\n",
    "./experiments.py 0 seq11 > output1a.out 2>&1 &\n",
    "./experiments.py 0 seq1b > output1b.out 2>&1 &\n"
   ]
  },
  {
   "cell_type": "code",
   "execution_count": null,
   "metadata": {},
   "outputs": [],
   "source": []
  }
 ],
 "metadata": {
  "kernelspec": {
   "display_name": "Python 3",
   "language": "python",
   "name": "python3"
  },
  "language_info": {
   "codemirror_mode": {
    "name": "ipython",
    "version": 3
   },
   "file_extension": ".py",
   "mimetype": "text/x-python",
   "name": "python",
   "nbconvert_exporter": "python",
   "pygments_lexer": "ipython3",
   "version": "3.8.5"
  }
 },
 "nbformat": 4,
 "nbformat_minor": 4
}
