{
 "cells": [
  {
   "cell_type": "code",
   "execution_count": 1,
   "metadata": {},
   "outputs": [
    {
     "name": "stdout",
     "output_type": "stream",
     "text": [
      "/root/dev/credici\n",
      "/root/dev/credici/papers/neurips21\n",
      "/root/dev/credici/papers/neurips21/output\n",
      "/root/dev/credici/papers/neurips21/models\n",
      "/root/dev/credici/target/credici-0.1.3-SNAPSHOT-jar-with-dependencies.jar\n"
     ]
    }
   ],
   "source": [
    "import subprocess\n",
    "import datetime\n",
    "import os\n",
    "\n",
    "import pandas as pd\n",
    "from datetime import datetime\n",
    "\n",
    "\n",
    "def gen_exec(cmd, check_return: bool = False):\n",
    "    popen = subprocess.Popen(cmd, stdout=subprocess.PIPE, universal_newlines=True)\n",
    "    for stdout_line in iter(popen.stdout.readline, \"\"):\n",
    "        yield stdout_line\n",
    "    popen.stdout.close()\n",
    "    return_code = popen.wait()\n",
    "    if return_code and check_return:\n",
    "        raise subprocess.CalledProcessError(return_code, cmd)\n",
    "\n",
    "\n",
    "def exec_bash(cmd: str, check_return: bool = False):\n",
    "    return [s for s in gen_exec(cmd.split(), check_return)]\n",
    "    \n",
    "def exec_bash_print(cmd: str, check_return: bool = False):\n",
    "    for path in gen_exec(cmd.split(), check_return):\n",
    "        print(path, end=\"\")\n",
    "        \n",
    "def strtime():\n",
    "    return datetime.now().strftime(\"%y%m%d_%H%M%S\")\n",
    "\n",
    "\n",
    "\n",
    "from pathlib import Path\n",
    "\n",
    "prj_path = Path(str(Path(\"../../../\").resolve())+\"/\")\n",
    "exp_folder = Path(prj_path, \"papers/neurips21/\")\n",
    "res_folder = Path(exp_folder, \"output\")\n",
    "model_folder = Path(exp_folder, \"models\")\n",
    "\n",
    "jar_file = Path(prj_path, \"target/credici-0.1.3-SNAPSHOT-jar-with-dependencies.jar\")\n",
    "javafile = Path(exp_folder, \"Experiments.java\")\n",
    "#java = \"/Library/Java/JavaVirtualMachines/openjdk-12.0.1.jdk/Contents/Home/bin/java\"\n",
    "java = \"java\"\n",
    "\n",
    "\n",
    "print(prj_path)\n",
    "print(exp_folder)\n",
    "print(res_folder)\n",
    "print(model_folder)\n",
    "\n",
    "print(jar_file)"
   ]
  },
  {
   "cell_type": "code",
   "execution_count": 2,
   "metadata": {},
   "outputs": [],
   "source": [
    "#cmd= f\"java -cp {conf.jar_file} {javafile} {cmd}\"\n",
    "#output = exec_bash(cmd)"
   ]
  },
  {
   "cell_type": "code",
   "execution_count": 4,
   "metadata": {},
   "outputs": [
    {
     "name": "stdout",
     "output_type": "stream",
     "text": [
      "/root/dev/credici\n",
      "/root/dev/credici/papers/neurips21\n",
      "/root/dev/credici/papers/neurips21/output\n",
      "/root/dev/credici/papers/neurips21/models\n",
      "/root/dev/credici/target/credici-0.1.3-SNAPSHOT-jar-with-dependencies.jar\n"
     ]
    }
   ],
   "source": [
    "\n",
    "\n"
   ]
  },
  {
   "cell_type": "code",
   "execution_count": 3,
   "metadata": {},
   "outputs": [],
   "source": [
    "def run(model, datasize = 1000, executions=20, logfile=None, output = None, seed = 0):\n",
    "    logfile = logfile or Path(res_folder, f\"{strtime()}_log.txt\")\n",
    "    output = output or res_folder\n",
    "    output.mkdir(parents=True, exist_ok=True)\n",
    "    #print(model)\n",
    "    modelfile = Path(model_folder, model)\n",
    "    params = f\"--executions {executions} --datasize {datasize} --policy LAST --output {output} \"\\\n",
    "        f\"--logfile {logfile} --seed {seed} -q {modelfile}\"\n",
    "\n",
    "    cmd = f\"{java} -cp {jar_file} {javafile} {params}\"\n",
    "    #print(cmd)\n",
    "    output = exec_bash(cmd)  \n",
    "    #print(output)\n",
    "    exec(output[0])\n",
    "    return locals()[\"results\"]\n",
    "\n",
    "#results = run(model = \"set1/chain_twExo1_nEndo4_6.uai\", datasize=500)"
   ]
  },
  {
   "cell_type": "code",
   "execution_count": null,
   "metadata": {},
   "outputs": [],
   "source": []
  },
  {
   "cell_type": "code",
   "execution_count": 5,
   "metadata": {},
   "outputs": [
    {
     "name": "stdout",
     "output_type": "stream",
     "text": [
      "/root/dev/credici/papers/neurips21/output/210516_171124_log.txt\n",
      "/root/dev/credici/papers/neurips21/output/210516_171124\n",
      "1/80: set1/chain_twExo0_nEndo6_1.uai\n",
      "2/80: set1/chain_twExo0_nEndo4_13.uai\n",
      "3/80: set1/chain_twExo1_nEndo4_16.uai\n",
      "4/80: set1/chain_twExo0_nEndo4_7.uai\n",
      "5/80: set1/chain_twExo1_nEndo6_15.uai\n",
      "6/80: set1/chain_twExo0_nEndo4_14.uai\n",
      "7/80: set1/chain_twExo0_nEndo6_10.uai\n",
      "8/80: set1/chain_twExo1_nEndo6_0.uai\n",
      "9/80: set1/chain_twExo0_nEndo4_1.uai\n",
      "10/80: set1/chain_twExo1_nEndo6_14.uai\n",
      "11/80: set1/chain_twExo0_nEndo6_19.uai\n",
      "12/80: set1/chain_twExo1_nEndo6_2.uai\n",
      "finished\n"
     ]
    }
   ],
   "source": [
    "modelset=\"set1\"\n",
    "datasize = 1000\n",
    "\n",
    "start = 68\n",
    "stime = strtime()\n",
    "\n",
    "# Log file and output folder\n",
    "logfile = Path(res_folder, f\"{stime}_log.txt\")\n",
    "output_folder = Path(res_folder, stime)\n",
    "\n",
    "# Get the models\n",
    "models = [Path(modelset, file) for file in os.listdir(Path(model_folder,modelset)) if file.endswith(\".uai\")]\n",
    "\n",
    "\n",
    "print(logfile)\n",
    "print(output_folder)\n",
    "\n",
    "res_dicts = []\n",
    "\n",
    "for i,m in enumerate(models[start:]):\n",
    "    print(f\"{i+1+(start-1)}/{len(models)}: {m}\")\n",
    "    res_dicts.append(run(model = m, datasize=datasize, logfile=logfile, output=output_folder))\n",
    "    \n",
    "print(\"finished\")"
   ]
  },
  {
   "cell_type": "code",
   "execution_count": 19,
   "metadata": {},
   "outputs": [
    {
     "name": "stdout",
     "output_type": "stream",
     "text": [
      "set1_chain_twExo0_nEndo6_6.uai_x20_pLAST_d1000_m200_s0.py\n",
      "set1_chain_twExo1_nEndo4_11.uai_x20_pLAST_d1000_m200_s0.py\n"
     ]
    }
   ],
   "source": [
    "!ls $output_folder"
   ]
  },
  {
   "cell_type": "code",
   "execution_count": 8,
   "metadata": {},
   "outputs": [
    {
     "data": {
      "text/plain": [
       "'set1_chain_twExo0_nEndo6_16.uai_x20_d1000_m200.py'"
      ]
     },
     "execution_count": 8,
     "metadata": {},
     "output_type": "execute_result"
    }
   ],
   "source": []
  },
  {
   "cell_type": "code",
   "execution_count": 61,
   "metadata": {},
   "outputs": [
    {
     "name": "stdout",
     "output_type": "stream",
     "text": [
      "['innerPoints', 'llkratio', 'timeQuery', 'iterEM']\n"
     ]
    },
    {
     "data": {
      "text/html": [
       "<div>\n",
       "<style scoped>\n",
       "    .dataframe tbody tr th:only-of-type {\n",
       "        vertical-align: middle;\n",
       "    }\n",
       "\n",
       "    .dataframe tbody tr th {\n",
       "        vertical-align: top;\n",
       "    }\n",
       "\n",
       "    .dataframe thead th {\n",
       "        text-align: right;\n",
       "    }\n",
       "</style>\n",
       "<table border=\"1\" class=\"dataframe\">\n",
       "  <thead>\n",
       "    <tr style=\"text-align: right;\">\n",
       "      <th></th>\n",
       "      <th>innerPoints</th>\n",
       "      <th>llkratio</th>\n",
       "      <th>timeQuery</th>\n",
       "      <th>iterEM</th>\n",
       "    </tr>\n",
       "  </thead>\n",
       "  <tbody>\n",
       "    <tr>\n",
       "      <th>0</th>\n",
       "      <td>0</td>\n",
       "      <td>0.997668</td>\n",
       "      <td>13</td>\n",
       "      <td>60</td>\n",
       "    </tr>\n",
       "    <tr>\n",
       "      <th>1</th>\n",
       "      <td>0</td>\n",
       "      <td>0.997668</td>\n",
       "      <td>9</td>\n",
       "      <td>61</td>\n",
       "    </tr>\n",
       "    <tr>\n",
       "      <th>2</th>\n",
       "      <td>0</td>\n",
       "      <td>0.997668</td>\n",
       "      <td>9</td>\n",
       "      <td>57</td>\n",
       "    </tr>\n",
       "    <tr>\n",
       "      <th>3</th>\n",
       "      <td>0</td>\n",
       "      <td>0.997668</td>\n",
       "      <td>10</td>\n",
       "      <td>98</td>\n",
       "    </tr>\n",
       "    <tr>\n",
       "      <th>4</th>\n",
       "      <td>0</td>\n",
       "      <td>0.997668</td>\n",
       "      <td>10</td>\n",
       "      <td>86</td>\n",
       "    </tr>\n",
       "    <tr>\n",
       "      <th>5</th>\n",
       "      <td>0</td>\n",
       "      <td>0.997668</td>\n",
       "      <td>12</td>\n",
       "      <td>67</td>\n",
       "    </tr>\n",
       "    <tr>\n",
       "      <th>6</th>\n",
       "      <td>0</td>\n",
       "      <td>0.997668</td>\n",
       "      <td>13</td>\n",
       "      <td>71</td>\n",
       "    </tr>\n",
       "    <tr>\n",
       "      <th>7</th>\n",
       "      <td>0</td>\n",
       "      <td>0.997668</td>\n",
       "      <td>15</td>\n",
       "      <td>65</td>\n",
       "    </tr>\n",
       "    <tr>\n",
       "      <th>8</th>\n",
       "      <td>0</td>\n",
       "      <td>0.997668</td>\n",
       "      <td>16</td>\n",
       "      <td>64</td>\n",
       "    </tr>\n",
       "    <tr>\n",
       "      <th>9</th>\n",
       "      <td>0</td>\n",
       "      <td>0.997668</td>\n",
       "      <td>17</td>\n",
       "      <td>88</td>\n",
       "    </tr>\n",
       "    <tr>\n",
       "      <th>10</th>\n",
       "      <td>0</td>\n",
       "      <td>0.997668</td>\n",
       "      <td>24</td>\n",
       "      <td>80</td>\n",
       "    </tr>\n",
       "    <tr>\n",
       "      <th>11</th>\n",
       "      <td>0</td>\n",
       "      <td>0.997668</td>\n",
       "      <td>26</td>\n",
       "      <td>108</td>\n",
       "    </tr>\n",
       "    <tr>\n",
       "      <th>12</th>\n",
       "      <td>0</td>\n",
       "      <td>0.997668</td>\n",
       "      <td>28</td>\n",
       "      <td>109</td>\n",
       "    </tr>\n",
       "    <tr>\n",
       "      <th>13</th>\n",
       "      <td>0</td>\n",
       "      <td>0.997668</td>\n",
       "      <td>28</td>\n",
       "      <td>79</td>\n",
       "    </tr>\n",
       "    <tr>\n",
       "      <th>14</th>\n",
       "      <td>0</td>\n",
       "      <td>0.997668</td>\n",
       "      <td>31</td>\n",
       "      <td>79</td>\n",
       "    </tr>\n",
       "    <tr>\n",
       "      <th>15</th>\n",
       "      <td>0</td>\n",
       "      <td>0.997668</td>\n",
       "      <td>27</td>\n",
       "      <td>73</td>\n",
       "    </tr>\n",
       "    <tr>\n",
       "      <th>16</th>\n",
       "      <td>0</td>\n",
       "      <td>0.997668</td>\n",
       "      <td>26</td>\n",
       "      <td>62</td>\n",
       "    </tr>\n",
       "    <tr>\n",
       "      <th>17</th>\n",
       "      <td>0</td>\n",
       "      <td>0.997668</td>\n",
       "      <td>26</td>\n",
       "      <td>199</td>\n",
       "    </tr>\n",
       "    <tr>\n",
       "      <th>18</th>\n",
       "      <td>0</td>\n",
       "      <td>0.997668</td>\n",
       "      <td>25</td>\n",
       "      <td>81</td>\n",
       "    </tr>\n",
       "    <tr>\n",
       "      <th>19</th>\n",
       "      <td>0</td>\n",
       "      <td>0.997668</td>\n",
       "      <td>30</td>\n",
       "      <td>63</td>\n",
       "    </tr>\n",
       "  </tbody>\n",
       "</table>\n",
       "</div>"
      ],
      "text/plain": [
       "    innerPoints  llkratio  timeQuery  iterEM\n",
       "0             0  0.997668         13      60\n",
       "1             0  0.997668          9      61\n",
       "2             0  0.997668          9      57\n",
       "3             0  0.997668         10      98\n",
       "4             0  0.997668         10      86\n",
       "5             0  0.997668         12      67\n",
       "6             0  0.997668         13      71\n",
       "7             0  0.997668         15      65\n",
       "8             0  0.997668         16      64\n",
       "9             0  0.997668         17      88\n",
       "10            0  0.997668         24      80\n",
       "11            0  0.997668         26     108\n",
       "12            0  0.997668         28     109\n",
       "13            0  0.997668         28      79\n",
       "14            0  0.997668         31      79\n",
       "15            0  0.997668         27      73\n",
       "16            0  0.997668         26      62\n",
       "17            0  0.997668         26     199\n",
       "18            0  0.997668         25      81\n",
       "19            0  0.997668         30      63"
      ]
     },
     "execution_count": 61,
     "metadata": {},
     "output_type": "execute_result"
    }
   ],
   "source": [
    "\n",
    "list_cols = [c for c in res_dict.keys() if np.ndim(res_dict[c])==1 and c != \"pnsExact\"]\n",
    "print(list_cols)\n",
    "#array_cols = [\"innerPoints\", \"llkratio\"]\n",
    "pd.DataFrame.from_dict({k:res_dict[k] for k in list_cols})\n"
   ]
  },
  {
   "cell_type": "code",
   "execution_count": 63,
   "metadata": {},
   "outputs": [
    {
     "name": "stdout",
     "output_type": "stream",
     "text": [
      "['pnsEM']\n"
     ]
    }
   ],
   "source": [
    "array_cols = [c for c in res_dict.keys() if np.ndim(res_dict[c])>1]\n",
    "print(array_cols)\n",
    "#array_cols = [\"innerPoints\", \"llkratio\"]\n",
    "pd.DataFrame.from_dict({k:res_dict[k] for k in list_cols})"
   ]
  },
  {
   "cell_type": "code",
   "execution_count": 11,
   "metadata": {},
   "outputs": [],
   "source": [
    "output_folder.mkdir(parents=True, exist_ok=True)\n"
   ]
  },
  {
   "cell_type": "code",
   "execution_count": null,
   "metadata": {},
   "outputs": [],
   "source": []
  }
 ],
 "metadata": {
  "kernelspec": {
   "display_name": "Python 3",
   "language": "python",
   "name": "python3"
  },
  "language_info": {
   "codemirror_mode": {
    "name": "ipython",
    "version": 3
   },
   "file_extension": ".py",
   "mimetype": "text/x-python",
   "name": "python",
   "nbconvert_exporter": "python",
   "pygments_lexer": "ipython3",
   "version": "3.8.5"
  }
 },
 "nbformat": 4,
 "nbformat_minor": 4
}
