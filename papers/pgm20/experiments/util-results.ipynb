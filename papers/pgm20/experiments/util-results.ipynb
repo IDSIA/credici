{
 "cells": [
  {
   "cell_type": "code",
   "execution_count": 1,
   "metadata": {},
   "outputs": [],
   "source": [
    "import os\n",
    "import socket\n",
    "import subprocess\n",
    "import pandas as pd\n",
    "import io\n",
    "from contextlib import redirect_stdout\n",
    "import itertools\n",
    "import warnings\n",
    "from datetime import datetime\n",
    "import time\n",
    "import timeout_decorator\n",
    "import numpy as np\n",
    "import matplotlib.pyplot as plt\n",
    "import math\n",
    "import sys\n",
    "import tikzplotlib"
   ]
  },
  {
   "cell_type": "code",
   "execution_count": 2,
   "metadata": {},
   "outputs": [],
   "source": [
    "def islocal(): return socket.gethostname()==\"rc-idsia-macBook.local\"\n",
    "def isserver(): return socket.gethostname()==\"ec6120930b2d\"\n",
    "def strdate(): return datetime.today().strftime('%Y-%m-%d-%H-%M-%S')\n",
    "def ishomeserver(): return socket.gethostname()=='rc-aau-macBook'\n",
    "\n",
    "if islocal():\n",
    "    prj_path = \"/Users/rcabanas/GoogleDrive/IDSIA/causality/dev/crema/CreMA\"\n",
    "elif ishomeserver():\n",
    "    prj_path = \"/Users/rcabanas/work_java_crema/crema/CreMA\"\n",
    "elif isserver():\n",
    "    prj_path=\"/home/rcabanas/work_java_crema/crema/CreMA\"\n",
    "else:\n",
    "    warnings.warn(\"Unknown server, set prj_path variable manually.\")\n",
    "    prj_path= \"\"                      # put here the absolute path to the CreMA foder <<<<<<"
   ]
  },
  {
   "cell_type": "code",
   "execution_count": 3,
   "metadata": {},
   "outputs": [
    {
     "name": "stdout",
     "output_type": "stream",
     "text": [
      "/Users/rcabanas/GoogleDrive/IDSIA/causality/dev/crema/CreMA\n"
     ]
    }
   ],
   "source": [
    "os.chdir(prj_path)\n",
    "!pwd"
   ]
  },
  {
   "cell_type": "code",
   "execution_count": 4,
   "metadata": {},
   "outputs": [],
   "source": [
    "exp_folder = f\"{prj_path}/papers/pgm20/experiments/\"\n",
    "log_folder = f\"{exp_folder}/logs/\"\n",
    "res_folder = f\"{exp_folder}/results/\"\n",
    "img_folder = f\"{exp_folder}/img/\""
   ]
  },
  {
   "cell_type": "code",
   "execution_count": 5,
   "metadata": {},
   "outputs": [],
   "source": [
    "sys.path.append(exp_folder)\n",
    "from utilplots import *"
   ]
  },
  {
   "cell_type": "code",
   "execution_count": 8,
   "metadata": {},
   "outputs": [
    {
     "name": "stdout",
     "output_type": "stream",
     "text": [
      "/Users/rcabanas/GoogleDrive/IDSIA/causality/dev/crema/CreMA/papers/pgm20/experiments//results//2020-05-29-00-36-55_rhmm_nonmarkovian_prec.csv\n"
     ]
    }
   ],
   "source": [
    "## Concatenate results\n",
    "\n",
    "files = [f\"{res_folder}/2020-05-25-06-31-41_squares_nonmarkovian_ev.csv\", \n",
    "        f\"{res_folder}/2020-05-28-02-16-16_squares_nonmarkovian_ev.csv\"]\n",
    "\n",
    "files = [f\"{res_folder}/2020-05-28-21-06-24_rhmm_nonmarkovian_prec.csv\", \n",
    "         f\"{res_folder}/2020-05-28-21-40-17_rhmm_nonmarkovian_prec.csv\"]\n",
    "\n",
    "\n",
    "newfilename = f\"{res_folder}/{strdate()}_rhmm_nonmarkovian_prec.csv\"\n",
    "\n",
    "####\n",
    "\n",
    "data = pd.concat([pd.read_csv(f, index_col=0) for f in files])\n",
    "\n",
    "print(newfilename)\n",
    "data.to_csv(newfilename)"
   ]
  },
  {
   "cell_type": "code",
   "execution_count": 23,
   "metadata": {},
   "outputs": [
    {
     "name": "stdout",
     "output_type": "stream",
     "text": [
      "On branch dev\n",
      "Your branch is up to date with 'origin/dev'.\n",
      "\n",
      "Changes not staged for commit:\n",
      "  (use \"git add <file>...\" to update what will be committed)\n",
      "  (use \"git checkout -- <file>...\" to discard changes in working directory)\n",
      "\n",
      "\t\u001b[31mmodified:   papers/pgm20/experiments/paper_results.ipynb\u001b[m\n",
      "\t\u001b[31mmodified:   papers/pgm20/experiments/util-results.ipynb\u001b[m\n",
      "\n",
      "Untracked files:\n",
      "  (use \"git add <file>...\" to include in what will be committed)\n",
      "\n",
      "\t\u001b[31mpapers/pgm20/experiments/img/.ipynb_checkpoints/time_results-checkpoint.pdf\u001b[m\n",
      "\t\u001b[31mpapers/pgm20/experiments/img/size_results.pdf\u001b[m\n",
      "\t\u001b[31mpapers/pgm20/experiments/img/time_results.pdf\u001b[m\n",
      "\n",
      "no changes added to commit (use \"git add\" and/or \"git commit -a\")\n"
     ]
    }
   ],
   "source": [
    "!git status"
   ]
  },
  {
   "cell_type": "code",
   "execution_count": 24,
   "metadata": {},
   "outputs": [
    {
     "name": "stdout",
     "output_type": "stream",
     "text": [
      "[dev a32c432] graphics update\n",
      " 5 files changed, 74 insertions(+), 31 deletions(-)\n",
      " create mode 100644 CreMA/papers/pgm20/experiments/img/.ipynb_checkpoints/time_results-checkpoint.pdf\n",
      " create mode 100644 CreMA/papers/pgm20/experiments/img/size_results.pdf\n",
      " create mode 100644 CreMA/papers/pgm20/experiments/img/time_results.pdf\n"
     ]
    }
   ],
   "source": [
    "msg = \"graphics update\"\n",
    "!git add {prj_path} && git commit -m \"{msg}\" "
   ]
  },
  {
   "cell_type": "code",
   "execution_count": 25,
   "metadata": {},
   "outputs": [
    {
     "name": "stdout",
     "output_type": "stream",
     "text": [
      "Username for 'https://scm.ti-edu.ch': ^C\n"
     ]
    }
   ],
   "source": [
    "!git push"
   ]
  },
  {
   "cell_type": "code",
   "execution_count": null,
   "metadata": {},
   "outputs": [],
   "source": [
    "[]"
   ]
  }
 ],
 "metadata": {
  "kernelspec": {
   "display_name": "Python 3",
   "language": "python",
   "name": "python3"
  },
  "language_info": {
   "codemirror_mode": {
    "name": "ipython",
    "version": 3
   },
   "file_extension": ".py",
   "mimetype": "text/x-python",
   "name": "python",
   "nbconvert_exporter": "python",
   "pygments_lexer": "ipython3",
   "version": "3.6.9"
  }
 },
 "nbformat": 4,
 "nbformat_minor": 4
}
