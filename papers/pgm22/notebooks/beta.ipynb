{
 "cells": [
  {
   "cell_type": "code",
   "execution_count": null,
   "metadata": {},
   "outputs": [],
   "source": [
    "import pandas as pd\n",
    "import numpy as np\n",
    "from scipy.stats import beta as beta_dist\n",
    "from scipy.special import hyp2f1\n",
    "from scipy.special import beta as beta_func\n",
    "from scipy.integrate import dblquad\n",
    "import utils\n",
    "import re\n",
    "from functools import partial\n",
    "import matplotlib.pyplot as plt\n"
   ]
  },
  {
   "cell_type": "code",
   "execution_count": 231,
   "metadata": {},
   "outputs": [],
   "source": [
    "input = utils.load_data([\n",
    "    \"../results/synthetic/1000/set4_aggregated/\"\n",
    "], \"_x80_*\")\n",
    "\n",
    "data2 = utils.merge_exact(input, \"exact_data_based\")\n",
    "#data2 = data2[(~data2.identifiable) & data2.selector]\n",
    "\n",
    "#data_ps1_0 = data[data['index'] == 2] \n",
    "#data_ps1_1 = data[data['index'] == 1]\n",
    "#data = data[data['index'] > 2]\n"
   ]
  },
  {
   "cell_type": "code",
   "execution_count": 244,
   "metadata": {},
   "outputs": [
    {
     "data": {
      "text/plain": [
       "370"
      ]
     },
     "execution_count": 244,
     "metadata": {},
     "output_type": "execute_result"
    }
   ],
   "source": [
    "sum(data2.identifiable)"
   ]
  },
  {
   "cell_type": "code",
   "execution_count": 239,
   "metadata": {},
   "outputs": [
    {
     "data": {
      "text/plain": [
       "370"
      ]
     },
     "execution_count": 239,
     "metadata": {},
     "output_type": "execute_result"
    }
   ],
   "source": [
    "LIMITARE a .1 upper - lower"
   ]
  },
  {
   "cell_type": "code",
   "execution_count": null,
   "metadata": {},
   "outputs": [],
   "source": [
    "cols = [ int(re.match(\"pns_([0-9]+)\", c)[1]) for c in data.columns if re.match(\"pns_[0-9]+\",c) ]\n",
    "cols.sort()\n",
    "pns_l = data[[f\"pns_{c}\" for c in cols]].min(axis=1)"
   ]
  },
  {
   "cell_type": "code",
   "execution_count": 117,
   "metadata": {},
   "outputs": [],
   "source": [
    "def fit(row, n, eps=0.0001) :\n",
    "    samples = row[[f\"pns_{c}\" for c in range(n)]].values.astype(float)\n",
    "    \n",
    "    pos = row['pns_l_x'] - eps\n",
    "    scale = row['pns_u_x'] - row['pns_l_x'] + 2 * eps\n",
    "    params = beta_dist.fit(samples, floc = pos, fscale = scale)\n",
    "    \n",
    "    return params[0:2]\n"
   ]
  },
  {
   "cell_type": "markdown",
   "metadata": {},
   "source": [
    "integral of scipy calls the fuction passing the inner variable first. \n",
    " \n",
    "Return the double (definite) integral of ``func(y, x)`` from ``x = a..b``\n",
    "and ``y = gfun(x)..hfun(x)``."
   ]
  },
  {
   "cell_type": "code",
   "execution_count": 217,
   "metadata": {},
   "outputs": [],
   "source": [
    "\n",
    "def _p_beta2(x, y, L, alpha, beta, n):\n",
    "    return (\n",
    "        (\n",
    "            ((L + x) ** alpha) *  hyp2f1(alpha, 1 - beta, alpha + 1, (L + x) / (L + x + y)) -\n",
    "            (x ** alpha) * hyp2f1(alpha, 1 - beta, alpha + 1, x / (L + x + y))\n",
    "        ) / (\n",
    "            alpha * ((L + x + y) ** alpha) * beta_func(alpha, beta)  \n",
    "        )\n",
    "    ) ** n\n",
    "    \n",
    "\n",
    "\n",
    "def p_beta_warn(row, n, delta=None, eps = None): \n",
    "    import warnings\n",
    "    with warnings.catch_warnings(record=True) as w:\n",
    "        res = p_beta(row, n, delta, eps)\n",
    "        return [res, len(w)]\n",
    "\n",
    "def p_beta(row, n, delta=0.1, eps = None):\n",
    "    with warnings.catch_warnings(record=True) as w:\n",
    "        alpha, beta = fit(row, n)\n",
    "        a = min(row[[f'pns_{i}' for i in range(n)]])\n",
    "        b = max(row[[f'pns_{i}' for i in range(n)]]) \n",
    "\n",
    "        L = b - a\n",
    "\n",
    "        if eps is not None:\n",
    "            delta = eps * 2 * L \n",
    "\n",
    "        f = partial(_p_beta2, L = L, alpha = alpha, beta = beta, n = n)\n",
    "\n",
    "        num, e1 = dblquad(f, 0, delta / 2, lambda y: 0, lambda y: delta / 2 )\n",
    "\n",
    "\n",
    "        #f(y1, x1), x1_, x1^, y1_, y1^\n",
    "\n",
    "        den, e2 = dblquad(lambda x,y: f(x, y), 0,  a + (1 - b), lambda y: 0, lambda y: a + (1 - b) - y)\n",
    "\n",
    "        return [num/den, e1, e2, num, den, len(w)]\n",
    "\n",
    "\n",
    "def p_unif(row, n, delta=0.1):\n",
    "    b = row['pns_u_x'] \n",
    "    a = row['pns_l_x']\n",
    "    L = b - a\n",
    "    eps = delta / (2*L)\n",
    "    return (1 + (1 + 2*eps)**(2 - n) - 2 * (1+ eps) ** (2-n)) / (1 - L ** (n - 2) - (n - 2) * (1 - L) * L ** (n - 2))"
   ]
  },
  {
   "cell_type": "code",
   "execution_count": null,
   "metadata": {},
   "outputs": [],
   "source": [
    "def prob_unif_data(data, n, delta):\n",
    "    a = data['pns_u_x'] \n",
    "    b = data['pns_l_x']\n",
    "    L = b - a\n",
    "    eps = delta / (2*L)\n",
    "    return (1 + (1 + 2*eps)**(2 - n) - 2 * (1+ eps) ** (2-n)) / (1 - L ** (n - 2) - (n - 2) * (1 - L) * L ** (n - 2))"
   ]
  },
  {
   "cell_type": "code",
   "execution_count": null,
   "metadata": {},
   "outputs": [],
   "source": [
    "u = data.apply(partial(fit,n=80), axis=1)\n",
    "pd.DataFrame(u.tolist(), index=u.index, columns=[\"alpha_80\", \"beta_80\"]).boxplot()"
   ]
  },
  {
   "cell_type": "code",
   "execution_count": 133,
   "metadata": {},
   "outputs": [
    {
     "data": {
      "text/plain": [
       "(522, 214)"
      ]
     },
     "execution_count": 133,
     "metadata": {},
     "output_type": "execute_result"
    }
   ],
   "source": [
    "xx.shape"
   ]
  },
  {
   "cell_type": "code",
   "execution_count": null,
   "metadata": {},
   "outputs": [],
   "source": []
  },
  {
   "cell_type": "code",
   "execution_count": 218,
   "metadata": {},
   "outputs": [],
   "source": [
    "xx = data\n",
    "eps = 0.05\n",
    "n=40\n",
    "x50 = xx.apply(partial(p_beta, n=n, eps=eps), axis=1)"
   ]
  },
  {
   "cell_type": "code",
   "execution_count": 224,
   "metadata": {},
   "outputs": [
    {
     "data": {
      "text/plain": [
       "0.00039747608941728105"
      ]
     },
     "execution_count": 224,
     "metadata": {},
     "output_type": "execute_result"
    }
   ],
   "source": []
  },
  {
   "cell_type": "code",
   "execution_count": 165,
   "metadata": {},
   "outputs": [],
   "source": [
    "import seaborn as sns"
   ]
  },
  {
   "cell_type": "code",
   "execution_count": 221,
   "metadata": {},
   "outputs": [
    {
     "data": {
      "text/html": [
       "<div>\n",
       "<style scoped>\n",
       "    .dataframe tbody tr th:only-of-type {\n",
       "        vertical-align: middle;\n",
       "    }\n",
       "\n",
       "    .dataframe tbody tr th {\n",
       "        vertical-align: top;\n",
       "    }\n",
       "\n",
       "    .dataframe thead th {\n",
       "        text-align: right;\n",
       "    }\n",
       "</style>\n",
       "<table border=\"1\" class=\"dataframe\">\n",
       "  <thead>\n",
       "    <tr style=\"text-align: right;\">\n",
       "      <th></th>\n",
       "      <th>p</th>\n",
       "      <th>e1</th>\n",
       "      <th>e2</th>\n",
       "      <th>num</th>\n",
       "      <th>den</th>\n",
       "      <th>w</th>\n",
       "    </tr>\n",
       "  </thead>\n",
       "  <tbody>\n",
       "    <tr>\n",
       "      <th>243</th>\n",
       "      <td>9.080148</td>\n",
       "      <td>5.302277e-10</td>\n",
       "      <td>1.414872e-08</td>\n",
       "      <td>0.000049</td>\n",
       "      <td>0.000005</td>\n",
       "      <td>0.0</td>\n",
       "    </tr>\n",
       "  </tbody>\n",
       "</table>\n",
       "</div>"
      ],
      "text/plain": [
       "            p            e1            e2       num       den    w\n",
       "243  9.080148  5.302277e-10  1.414872e-08  0.000049  0.000005  0.0"
      ]
     },
     "execution_count": 221,
     "metadata": {},
     "output_type": "execute_result"
    }
   ],
   "source": [
    "a50 = np.array([a for a in x50])\n",
    "c = pd.DataFrame(a50, columns=[\"p\",\"e1\",\"e2\",\"num\",\"den\", \"w\"])\n",
    "c[np.abs(c.p - 9.08) < 0.1]"
   ]
  },
  {
   "cell_type": "code",
   "execution_count": 214,
   "metadata": {},
   "outputs": [
    {
     "data": {
      "text/html": [
       "<div>\n",
       "<style scoped>\n",
       "    .dataframe tbody tr th:only-of-type {\n",
       "        vertical-align: middle;\n",
       "    }\n",
       "\n",
       "    .dataframe tbody tr th {\n",
       "        vertical-align: top;\n",
       "    }\n",
       "\n",
       "    .dataframe thead th {\n",
       "        text-align: right;\n",
       "    }\n",
       "</style>\n",
       "<table border=\"1\" class=\"dataframe\">\n",
       "  <thead>\n",
       "    <tr style=\"text-align: right;\">\n",
       "      <th></th>\n",
       "      <th>p</th>\n",
       "      <th>e1</th>\n",
       "      <th>e2</th>\n",
       "      <th>num</th>\n",
       "      <th>den</th>\n",
       "    </tr>\n",
       "  </thead>\n",
       "  <tbody>\n",
       "    <tr>\n",
       "      <th>243</th>\n",
       "      <td>9.080148</td>\n",
       "      <td>5.302277e-10</td>\n",
       "      <td>1.414872e-08</td>\n",
       "      <td>0.000049</td>\n",
       "      <td>0.000005</td>\n",
       "    </tr>\n",
       "  </tbody>\n",
       "</table>\n",
       "</div>"
      ],
      "text/plain": [
       "            p            e1            e2       num       den\n",
       "243  9.080148  5.302277e-10  1.414872e-08  0.000049  0.000005"
      ]
     },
     "execution_count": 214,
     "metadata": {},
     "output_type": "execute_result"
    }
   ],
   "source": [
    "c[np.abs(c.p -9.08) < 0.01]\n",
    "\n"
   ]
  },
  {
   "cell_type": "code",
   "execution_count": 191,
   "metadata": {},
   "outputs": [
    {
     "data": {
      "text/html": [
       "<div>\n",
       "<style scoped>\n",
       "    .dataframe tbody tr th:only-of-type {\n",
       "        vertical-align: middle;\n",
       "    }\n",
       "\n",
       "    .dataframe tbody tr th {\n",
       "        vertical-align: top;\n",
       "    }\n",
       "\n",
       "    .dataframe thead th {\n",
       "        text-align: right;\n",
       "    }\n",
       "</style>\n",
       "<table border=\"1\" class=\"dataframe\">\n",
       "  <thead>\n",
       "    <tr style=\"text-align: right;\">\n",
       "      <th></th>\n",
       "      <th>p</th>\n",
       "      <th>e1</th>\n",
       "      <th>e2</th>\n",
       "      <th>num</th>\n",
       "      <th>den</th>\n",
       "    </tr>\n",
       "  </thead>\n",
       "  <tbody>\n",
       "    <tr>\n",
       "      <th>5</th>\n",
       "      <td>6.126521e+01</td>\n",
       "      <td>3.354821e-09</td>\n",
       "      <td>1.349493e-08</td>\n",
       "      <td>2.222938e-08</td>\n",
       "      <td>3.628385e-10</td>\n",
       "    </tr>\n",
       "    <tr>\n",
       "      <th>6</th>\n",
       "      <td>1.127436e+03</td>\n",
       "      <td>3.747458e-09</td>\n",
       "      <td>5.871718e-09</td>\n",
       "      <td>9.652087e-09</td>\n",
       "      <td>8.561092e-12</td>\n",
       "    </tr>\n",
       "    <tr>\n",
       "      <th>7</th>\n",
       "      <td>2.802614e+04</td>\n",
       "      <td>2.238431e-09</td>\n",
       "      <td>1.180862e-10</td>\n",
       "      <td>4.840360e-09</td>\n",
       "      <td>1.727087e-13</td>\n",
       "    </tr>\n",
       "    <tr>\n",
       "      <th>8</th>\n",
       "      <td>2.802614e+04</td>\n",
       "      <td>2.238431e-09</td>\n",
       "      <td>1.180862e-10</td>\n",
       "      <td>4.840360e-09</td>\n",
       "      <td>1.727087e-13</td>\n",
       "    </tr>\n",
       "    <tr>\n",
       "      <th>15</th>\n",
       "      <td>1.796303e+02</td>\n",
       "      <td>1.471791e-08</td>\n",
       "      <td>1.904304e-09</td>\n",
       "      <td>4.834042e-10</td>\n",
       "      <td>2.691106e-12</td>\n",
       "    </tr>\n",
       "    <tr>\n",
       "      <th>16</th>\n",
       "      <td>2.233147e+03</td>\n",
       "      <td>1.454636e-08</td>\n",
       "      <td>1.738594e-11</td>\n",
       "      <td>5.500652e-11</td>\n",
       "      <td>2.463184e-14</td>\n",
       "    </tr>\n",
       "    <tr>\n",
       "      <th>17</th>\n",
       "      <td>2.528671e+02</td>\n",
       "      <td>1.461214e-08</td>\n",
       "      <td>1.447517e-09</td>\n",
       "      <td>5.188767e-10</td>\n",
       "      <td>2.051974e-12</td>\n",
       "    </tr>\n",
       "    <tr>\n",
       "      <th>34</th>\n",
       "      <td>1.754873e+08</td>\n",
       "      <td>1.404211e-08</td>\n",
       "      <td>1.820005e-15</td>\n",
       "      <td>4.678119e-10</td>\n",
       "      <td>2.665788e-18</td>\n",
       "    </tr>\n",
       "    <tr>\n",
       "      <th>35</th>\n",
       "      <td>1.754873e+08</td>\n",
       "      <td>1.404211e-08</td>\n",
       "      <td>1.820005e-15</td>\n",
       "      <td>4.678119e-10</td>\n",
       "      <td>2.665788e-18</td>\n",
       "    </tr>\n",
       "    <tr>\n",
       "      <th>43</th>\n",
       "      <td>8.322555e+01</td>\n",
       "      <td>1.197194e-08</td>\n",
       "      <td>2.635690e-09</td>\n",
       "      <td>1.488052e-08</td>\n",
       "      <td>1.787975e-10</td>\n",
       "    </tr>\n",
       "    <tr>\n",
       "      <th>44</th>\n",
       "      <td>4.917564e+01</td>\n",
       "      <td>6.828541e-09</td>\n",
       "      <td>5.109891e-09</td>\n",
       "      <td>2.132385e-08</td>\n",
       "      <td>4.336263e-10</td>\n",
       "    </tr>\n",
       "  </tbody>\n",
       "</table>\n",
       "</div>"
      ],
      "text/plain": [
       "               p            e1            e2           num           den\n",
       "5   6.126521e+01  3.354821e-09  1.349493e-08  2.222938e-08  3.628385e-10\n",
       "6   1.127436e+03  3.747458e-09  5.871718e-09  9.652087e-09  8.561092e-12\n",
       "7   2.802614e+04  2.238431e-09  1.180862e-10  4.840360e-09  1.727087e-13\n",
       "8   2.802614e+04  2.238431e-09  1.180862e-10  4.840360e-09  1.727087e-13\n",
       "15  1.796303e+02  1.471791e-08  1.904304e-09  4.834042e-10  2.691106e-12\n",
       "16  2.233147e+03  1.454636e-08  1.738594e-11  5.500652e-11  2.463184e-14\n",
       "17  2.528671e+02  1.461214e-08  1.447517e-09  5.188767e-10  2.051974e-12\n",
       "34  1.754873e+08  1.404211e-08  1.820005e-15  4.678119e-10  2.665788e-18\n",
       "35  1.754873e+08  1.404211e-08  1.820005e-15  4.678119e-10  2.665788e-18\n",
       "43  8.322555e+01  1.197194e-08  2.635690e-09  1.488052e-08  1.787975e-10\n",
       "44  4.917564e+01  6.828541e-09  5.109891e-09  2.132385e-08  4.336263e-10"
      ]
     },
     "execution_count": 191,
     "metadata": {},
     "output_type": "execute_result"
    }
   ],
   "source": [
    "c[(c.den / c.e2 < 0.1) | (c.num/c.e1 < 0.1)]"
   ]
  },
  {
   "cell_type": "code",
   "execution_count": 181,
   "metadata": {},
   "outputs": [
    {
     "name": "stderr",
     "output_type": "stream",
     "text": [
      "/Users/dhuber/anaconda3/envs/causal/lib/python3.9/site-packages/seaborn/_decorators.py:36: FutureWarning: Pass the following variable as a keyword arg: x. From version 0.12, the only valid positional argument will be `data`, and passing other arguments without an explicit keyword will result in an error or misinterpretation.\n",
      "  warnings.warn(\n",
      "/Users/dhuber/anaconda3/envs/causal/lib/python3.9/site-packages/seaborn/_decorators.py:36: FutureWarning: Pass the following variable as a keyword arg: x. From version 0.12, the only valid positional argument will be `data`, and passing other arguments without an explicit keyword will result in an error or misinterpretation.\n",
      "  warnings.warn(\n",
      "/Users/dhuber/anaconda3/envs/causal/lib/python3.9/site-packages/seaborn/_decorators.py:36: FutureWarning: Pass the following variable as a keyword arg: x. From version 0.12, the only valid positional argument will be `data`, and passing other arguments without an explicit keyword will result in an error or misinterpretation.\n",
      "  warnings.warn(\n",
      "/Users/dhuber/anaconda3/envs/causal/lib/python3.9/site-packages/seaborn/_decorators.py:36: FutureWarning: Pass the following variable as a keyword arg: x. From version 0.12, the only valid positional argument will be `data`, and passing other arguments without an explicit keyword will result in an error or misinterpretation.\n",
      "  warnings.warn(\n"
     ]
    },
    {
     "data": {
      "image/png": "[encoded data removed]",
      "text/plain": [
       "<Figure size 432x288 with 1 Axes>"
      ]
     },
     "metadata": {
      "needs_background": "light"
     },
     "output_type": "display_data"
    },
    {
     "data": {
      "image/png": "[encoded data removed]",
      "text/plain": [
       "<Figure size 432x288 with 1 Axes>"
      ]
     },
     "metadata": {
      "needs_background": "light"
     },
     "output_type": "display_data"
    }
   ],
   "source": [
    "n=80\n",
    "item = c[c.p<0.1].index\n",
    "for i in item:\n",
    "    plt.figure()\n",
    "    sns.boxplot(data.iloc[i][[f\"pns_{i}\" for i in range(n)]])\n",
    "    sns.swarmplot(data.iloc[i][[f\"pns_{i}\" for i in range(n)]], color=\"red\")"
   ]
  },
  {
   "cell_type": "code",
   "execution_count": 135,
   "metadata": {},
   "outputs": [
    {
     "data": {
      "text/plain": [
       "69"
      ]
     },
     "execution_count": 135,
     "metadata": {},
     "output_type": "execute_result"
    }
   ],
   "source": [
    "a = np.array([ np.array(a) for a in x])\n",
    "sum(a[:,0] > 1)"
   ]
  },
  {
   "cell_type": "code",
   "execution_count": 108,
   "metadata": {},
   "outputs": [
    {
     "data": {
      "text/plain": [
       "{'whiskers': [<matplotlib.lines.Line2D at 0x7f852a2c23a0>,\n",
       "  <matplotlib.lines.Line2D at 0x7f852a2c2670>],\n",
       " 'caps': [<matplotlib.lines.Line2D at 0x7f852a2c2940>,\n",
       "  <matplotlib.lines.Line2D at 0x7f852a2c2c10>],\n",
       " 'boxes': [<matplotlib.lines.Line2D at 0x7f852a2c20a0>],\n",
       " 'medians': [<matplotlib.lines.Line2D at 0x7f852a2c2dc0>],\n",
       " 'fliers': [],\n",
       " 'means': []}"
      ]
     },
     "execution_count": 108,
     "metadata": {},
     "output_type": "execute_result"
    },
    {
     "data": {
      "image/png": "[encoded data removed]",
      "text/plain": [
       "<Figure size 432x288 with 1 Axes>"
      ]
     },
     "metadata": {
      "needs_background": "light"
     },
     "output_type": "display_data"
    }
   ],
   "source": [
    "plt.boxplot(x, showfliers=False)"
   ]
  },
  {
   "cell_type": "code",
   "execution_count": null,
   "metadata": {},
   "outputs": [],
   "source": [
    "import warnings\n",
    "warnings.filterwarnings(\"always\")\n",
    "data.iloc[[71,275, 276, 277, 278]].apply(partial(p_beta, n=n, eps=0.01), axis=1) # .apply(partial(fit,n=80), axis=1)"
   ]
  },
  {
   "cell_type": "code",
   "execution_count": null,
   "metadata": {},
   "outputs": [],
   "source": [
    "xx = data\n",
    "delta = 0.05\n",
    "n=80\n",
    "x = xx[(xx.pns_u_x - xx.pns_l_x) < 0.005].apply(partial(p_beta, n=n, delta=delta), axis=1)"
   ]
  },
  {
   "cell_type": "code",
   "execution_count": null,
   "metadata": {},
   "outputs": [],
   "source": [
    "plt.boxplot(x)"
   ]
  },
  {
   "cell_type": "code",
   "execution_count": null,
   "metadata": {},
   "outputs": [],
   "source": [
    "n = 80\n",
    "deltas=[ 0.01, 0.025, 0.05, 0.075, 0.1, 0.25 ]\n",
    "for delta in [ 0.1, 0.25 ]:\n",
    "    print(delta)\n",
    "    f = partial(p_beta, n=n, delta=delta)\n",
    "    data[f'p_beta_{n}_{delta}'] = data.apply(f, axis=1)\n",
    "    data[f'p_unif_{n}_{delta}'] = prob_unif_data(data, n, delta)\n",
    "\n",
    "data.to_csv(f\"temp_n{n}_many_{delta}.csv\")"
   ]
  },
  {
   "cell_type": "code",
   "execution_count": null,
   "metadata": {},
   "outputs": [],
   "source": [
    "print((np.isnan(data[cols])).rename(mapping, axis=1).sum())\n",
    "print((data[cols]>1.001).rename(mapping, axis=1).sum())\n",
    "\n",
    "print((data[cols]<=1.001).rename(mapping, axis=1).sum())\n"
   ]
  },
  {
   "cell_type": "code",
   "execution_count": null,
   "metadata": {},
   "outputs": [],
   "source": [
    "n =80"
   ]
  },
  {
   "cell_type": "code",
   "execution_count": null,
   "metadata": {},
   "outputs": [],
   "source": [
    "cols = [f\"p_beta_{n}_{delta}\" for delta in deltas ]\n",
    "mapping = { col:col.split(\"_\")[-1] for col in cols}\n",
    "\n",
    "c = [ col.split(\"_\")[-1] for col in cols ]\n",
    "dati_box = data[data[cols]< 1.001][cols].rename(mapping, axis=1)\n",
    "#dati_box = data[data[c]< 1.001][c]\n",
    "dati_box.boxplot()\n"
   ]
  },
  {
   "cell_type": "code",
   "execution_count": null,
   "metadata": {},
   "outputs": [],
   "source": [
    "data = pd.read_csv(\"temp_n80_many_0.25.csv\")"
   ]
  },
  {
   "cell_type": "code",
   "execution_count": null,
   "metadata": {},
   "outputs": [],
   "source": [
    "pbeta_cols = np.array([[float(c.split(\"_\")[-1]), c] for c in data.columns if c[0:3] == \"p_b\" ])\n",
    "eps_cols = []\n",
    "for delta, col in pbeta_cols:\n",
    "    data[f\"eps_{delta}\"] = data[col] / (2 * (data[\"pns_u_x\"] - data[\"pns_l_x\"]))\n",
    "    eps_cols.append(f\"eps_{delta}\")\n",
    "\n",
    "#data[[ c for c in pbeta_cols + [\"pns_l_x\", \"pns_u_x\"]]\n",
    "#for d in col\n",
    "\n",
    "data[[\"eps_0.05\"]].boxplot()\n"
   ]
  },
  {
   "cell_type": "code",
   "execution_count": null,
   "metadata": {},
   "outputs": [],
   "source": [
    "for n in range(80):\n",
    "    cols = [f\"pns_{i}\" for i in range(n+1)]\n",
    "    a = data[cols].min(axis=1)\n",
    "    b = data[cols].max(axis=1)\n",
    "    l = data.pns_l_x\n",
    "    u = data.pns_u_x\n",
    "\n",
    "    data[f'error_r_{n}'] = np.sqrt(((l - a) ** 2 + (u - b) ** 2) / 2) / (u - l)"
   ]
  },
  {
   "cell_type": "code",
   "execution_count": null,
   "metadata": {},
   "outputs": [],
   "source": [
    "ns = [20, 40, 60]\n",
    "\n",
    "nsname=str.join(\"-\", np.array(ns).astype(str))\n",
    "err_cols = [f'error_r_{i}' for i in ns]\n"
   ]
  },
  {
   "cell_type": "code",
   "execution_count": null,
   "metadata": {},
   "outputs": [],
   "source": [
    "import seaborn as sns\n",
    "import matplotlib.pyplot as plt"
   ]
  },
  {
   "cell_type": "code",
   "execution_count": null,
   "metadata": {},
   "outputs": [],
   "source": [
    "d = data\n",
    "\n",
    "dta = pd.melt(d[err_cols])\n",
    "dta[\"n\"]=dta.variable.str.split(\"_\").str[-1].astype(int)\n",
    "sns.boxplot(x=\"n\", y=\"value\", data=dta, hue_order=ns)\n",
    "plt.title(\"PNS EMCC Runs diff vs full by treewidth\")\n",
    "plt.tight_layout()\n",
    "plt.savefig(f\"PNS_runs_all_nooutliers_{nsname}.png\")\n",
    "plt.show()\n",
    "\n",
    "dta[['n','value']].to_csv(f\"PNS_runs_all_nooutliers_{nsname}.csv\")\n",
    "\n",
    "# save boxplots\n",
    "with np.printoptions(linewidth=100000):\n",
    "    utils.boxplots(dta, \"value\", \"n\").to_csv(f\"PNS_runs_all_nooutliers_{nsname}_boxplots.csv\")"
   ]
  },
  {
   "cell_type": "markdown",
   "metadata": {},
   "source": [
    "Merge stuff"
   ]
  }
 ],
 "metadata": {
  "interpreter": {
   "hash": "b2256cb237836e0b32ce22305984fd71b607e595669096085081827973a36ac7"
  },
  "kernelspec": {
   "display_name": "Python 3.9.12 ('causal')",
   "language": "python",
   "name": "python3"
  },
  "language_info": {
   "codemirror_mode": {
    "name": "ipython",
    "version": 3
   },
   "file_extension": ".py",
   "mimetype": "text/x-python",
   "name": "python",
   "nbconvert_exporter": "python",
   "pygments_lexer": "ipython3",
   "version": "3.9.12"
  },
  "orig_nbformat": 4
 },
 "nbformat": 4,
 "nbformat_minor": 2
}
