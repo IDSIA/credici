{
 "cells": [
  {
   "cell_type": "code",
   "execution_count": 1,
   "metadata": {},
   "outputs": [],
   "source": [
    "import pandas as pd\n",
    "import numpy as np\n",
    "from scipy.stats import beta as beta_dist\n",
    "from scipy.special import hyp2f1\n",
    "from scipy.special import beta as beta_func\n",
    "from scipy.integrate import dblquad\n",
    "import utils\n",
    "import re\n",
    "from functools import partial"
   ]
  },
  {
   "cell_type": "code",
   "execution_count": 23,
   "metadata": {},
   "outputs": [],
   "source": [
    "input = utils.load_data([\n",
    "    \"../results/synthetic/1000/set4_aggregated/\"\n",
    "], \"_x80_*\")\n",
    "\n",
    "data = utils.merge_exact(input, \"exact_data_based\")\n",
    "data = data[~data.identifiable]\n",
    "\n",
    "#data_ps1_0 = data[data['index'] == 2] \n",
    "#data_ps1_1 = data[data['index'] == 1]\n",
    "#data = data[data['index'] > 2]\n"
   ]
  },
  {
   "cell_type": "code",
   "execution_count": 24,
   "metadata": {},
   "outputs": [],
   "source": [
    "cols = [ int(re.match(\"pns_([0-9]+)\", c)[1]) for c in data.columns if re.match(\"pns_[0-9]+\",c) ]\n",
    "cols.sort()\n",
    "pns_l = data[[f\"pns_{c}\" for c in cols]].min(axis=1)"
   ]
  },
  {
   "cell_type": "code",
   "execution_count": 25,
   "metadata": {},
   "outputs": [],
   "source": [
    "def fit(row, n, eps=0.0001) :\n",
    "    samples = row[[f\"pns_{c}\" for c in range(n)]].values.astype(float)\n",
    "    \n",
    "    pos = row['pns_l_x'] - eps\n",
    "    scale = row['pns_u_x'] - pos + 2 * eps\n",
    "    params = beta_dist.fit(samples, floc = pos, fscale = scale)\n",
    "        \n",
    "    return params[0:2]\n"
   ]
  },
  {
   "cell_type": "markdown",
   "metadata": {},
   "source": [
    "integral of scipy calls the fuction passing the inner variable first. \n",
    " \n",
    "Return the double (definite) integral of ``func(y, x)`` from ``x = a..b``\n",
    "and ``y = gfun(x)..hfun(x)``."
   ]
  },
  {
   "cell_type": "code",
   "execution_count": 26,
   "metadata": {},
   "outputs": [],
   "source": [
    "def _p_beta2(x, y, L, alpha, beta, n):\n",
    "    return (\n",
    "        (L + x) ** alpha *  hyp2f1(alpha, 1 - beta, alpha + 1, (L + x) / (L + x + y)) -\n",
    "         x ** alpha * hyp2f1(alpha, 1 - beta, alpha + 1, x / (L + x + y))\n",
    "    ) / (\n",
    "        alpha * (L + x + y) ** alpha * beta_func(alpha, beta) \n",
    "    ) ** n\n",
    "    \n",
    "\n",
    "\n",
    "\n",
    "def p_beta(row, n, delta=0.1, steps = 1000):\n",
    "    alpha, beta = fit(row, n)\n",
    "    b = row['pns_u_x'] \n",
    "    a = row['pns_l_x']\n",
    "    L = b - a\n",
    "\n",
    "    f = partial(_p_beta2, L = L, alpha = alpha, beta = beta, n = n)\n",
    "\n",
    "    num, e1 = dblquad(f, 0, delta / 2, lambda x: 0, lambda x: delta / 2 )\n",
    "    den, e2 = dblquad(f, 0,  a + (1 - b), lambda x: 0, lambda x: a + (1 - b) - x)\n",
    "    \n",
    "    return num/den\n",
    "\n",
    "\n",
    "def p_unif(row, n, delta=0.1):\n",
    "    b = row['pns_u_x'] \n",
    "    a = row['pns_l_x']\n",
    "    L = b - a\n",
    "    eps = delta / (2*L)\n",
    "    return (1 + (1 + 2*eps)**(2 - n) - 2 * (1+ eps) ** (2-n)) / (1 - L ** (n - 2) - (n - 2) * (1 - L) * L ** (n - 2))"
   ]
  },
  {
   "cell_type": "code",
   "execution_count": 6,
   "metadata": {},
   "outputs": [],
   "source": [
    "def prob_unif_data(data, n, delta):\n",
    "    a = data['pns_u_x'] \n",
    "    b = data['pns_l_x']\n",
    "    L = b - a\n",
    "    eps = delta / (2*L)\n",
    "    return (1 + (1 + 2*eps)**(2 - n) - 2 * (1+ eps) ** (2-n)) / (1 - L ** (n - 2) - (n - 2) * (1 - L) * L ** (n - 2))"
   ]
  },
  {
   "cell_type": "code",
   "execution_count": 59,
   "metadata": {},
   "outputs": [
    {
     "data": {
      "text/plain": [
       "<AxesSubplot:>"
      ]
     },
     "execution_count": 59,
     "metadata": {},
     "output_type": "execute_result"
    },
    {
     "data": {
      "image/png": "[encoded data removed]",
      "text/plain": [
       "<Figure size 432x288 with 1 Axes>"
      ]
     },
     "metadata": {
      "needs_background": "light"
     },
     "output_type": "display_data"
    }
   ],
   "source": [
    "u = data.apply(partial(fit,n=80), axis=1)\n",
    "pd.DataFrame(u.tolist(), index=u.index, columns=[\"alpha_80\", \"beta_80\"]).boxplot()"
   ]
  },
  {
   "cell_type": "code",
   "execution_count": 38,
   "metadata": {},
   "outputs": [
    {
     "name": "stderr",
     "output_type": "stream",
     "text": [
      "/var/folders/gc/vwr0wlvs149fjgmddd29dpw40000gn/T/ipykernel_92023/3259794314.py:2: RuntimeWarning: overflow encountered in double_scalars\n",
      "  return (\n",
      "/var/folders/gc/vwr0wlvs149fjgmddd29dpw40000gn/T/ipykernel_92023/3259794314.py:2: RuntimeWarning: divide by zero encountered in double_scalars\n",
      "  return (\n",
      "/var/folders/gc/vwr0wlvs149fjgmddd29dpw40000gn/T/ipykernel_92023/3259794314.py:2: RuntimeWarning: overflow encountered in double_scalars\n",
      "  return (\n",
      "/Users/dhuber/anaconda3/envs/causal/lib/python3.9/site-packages/scipy/integrate/quadpack.py:879: IntegrationWarning: The occurrence of roundoff error is detected, which prevents \n",
      "  the requested tolerance from being achieved.  The error may be \n",
      "  underestimated.\n",
      "  quad_r = quad(f, low, high, args=args, full_output=self.full_output,\n",
      "/Users/dhuber/anaconda3/envs/causal/lib/python3.9/site-packages/scipy/integrate/quadpack.py:879: IntegrationWarning: The occurrence of roundoff error is detected, which prevents \n",
      "  the requested tolerance from being achieved.  The error may be \n",
      "  underestimated.\n",
      "  quad_r = quad(f, low, high, args=args, full_output=self.full_output,\n",
      "/var/folders/gc/vwr0wlvs149fjgmddd29dpw40000gn/T/ipykernel_92023/3259794314.py:2: RuntimeWarning: divide by zero encountered in double_scalars\n",
      "  return (\n",
      "/var/folders/gc/vwr0wlvs149fjgmddd29dpw40000gn/T/ipykernel_92023/3259794314.py:2: RuntimeWarning: overflow encountered in double_scalars\n",
      "  return (\n",
      "/var/folders/gc/vwr0wlvs149fjgmddd29dpw40000gn/T/ipykernel_92023/3259794314.py:2: RuntimeWarning: divide by zero encountered in double_scalars\n",
      "  return (\n",
      "/var/folders/gc/vwr0wlvs149fjgmddd29dpw40000gn/T/ipykernel_92023/3259794314.py:2: RuntimeWarning: overflow encountered in double_scalars\n",
      "  return (\n",
      "/var/folders/gc/vwr0wlvs149fjgmddd29dpw40000gn/T/ipykernel_92023/3259794314.py:2: RuntimeWarning: divide by zero encountered in double_scalars\n",
      "  return (\n",
      "/Users/dhuber/anaconda3/envs/causal/lib/python3.9/site-packages/scipy/integrate/quadpack.py:879: IntegrationWarning: The occurrence of roundoff error is detected, which prevents \n",
      "  the requested tolerance from being achieved.  The error may be \n",
      "  underestimated.\n",
      "  quad_r = quad(f, low, high, args=args, full_output=self.full_output,\n",
      "/Users/dhuber/anaconda3/envs/causal/lib/python3.9/site-packages/scipy/integrate/quadpack.py:879: IntegrationWarning: The maximum number of subdivisions (50) has been achieved.\n",
      "  If increasing the limit yields no improvement it is advised to analyze \n",
      "  the integrand in order to determine the difficulties.  If the position of a \n",
      "  local difficulty can be determined (singularity, discontinuity) one will \n",
      "  probably gain from splitting up the interval and calling the integrator \n",
      "  on the subranges.  Perhaps a special-purpose integrator should be used.\n",
      "  quad_r = quad(f, low, high, args=args, full_output=self.full_output,\n",
      "/Users/dhuber/anaconda3/envs/causal/lib/python3.9/site-packages/scipy/integrate/quadpack.py:879: IntegrationWarning: The occurrence of roundoff error is detected, which prevents \n",
      "  the requested tolerance from being achieved.  The error may be \n",
      "  underestimated.\n",
      "  quad_r = quad(f, low, high, args=args, full_output=self.full_output,\n",
      "/var/folders/gc/vwr0wlvs149fjgmddd29dpw40000gn/T/ipykernel_92023/3259794314.py:2: RuntimeWarning: divide by zero encountered in double_scalars\n",
      "  return (\n",
      "/var/folders/gc/vwr0wlvs149fjgmddd29dpw40000gn/T/ipykernel_92023/3259794314.py:2: RuntimeWarning: overflow encountered in double_scalars\n",
      "  return (\n",
      "/var/folders/gc/vwr0wlvs149fjgmddd29dpw40000gn/T/ipykernel_92023/3259794314.py:2: RuntimeWarning: divide by zero encountered in double_scalars\n",
      "  return (\n",
      "/var/folders/gc/vwr0wlvs149fjgmddd29dpw40000gn/T/ipykernel_92023/3259794314.py:2: RuntimeWarning: overflow encountered in double_scalars\n",
      "  return (\n",
      "/var/folders/gc/vwr0wlvs149fjgmddd29dpw40000gn/T/ipykernel_92023/3259794314.py:2: RuntimeWarning: divide by zero encountered in double_scalars\n",
      "  return (\n",
      "/var/folders/gc/vwr0wlvs149fjgmddd29dpw40000gn/T/ipykernel_92023/3259794314.py:2: RuntimeWarning: divide by zero encountered in double_scalars\n",
      "  return (\n",
      "/var/folders/gc/vwr0wlvs149fjgmddd29dpw40000gn/T/ipykernel_92023/3259794314.py:2: RuntimeWarning: overflow encountered in double_scalars\n",
      "  return (\n",
      "/var/folders/gc/vwr0wlvs149fjgmddd29dpw40000gn/T/ipykernel_92023/3259794314.py:2: RuntimeWarning: divide by zero encountered in double_scalars\n",
      "  return (\n",
      "/var/folders/gc/vwr0wlvs149fjgmddd29dpw40000gn/T/ipykernel_92023/3259794314.py:2: RuntimeWarning: divide by zero encountered in double_scalars\n",
      "  return (\n",
      "/var/folders/gc/vwr0wlvs149fjgmddd29dpw40000gn/T/ipykernel_92023/3259794314.py:2: RuntimeWarning: divide by zero encountered in double_scalars\n",
      "  return (\n",
      "/var/folders/gc/vwr0wlvs149fjgmddd29dpw40000gn/T/ipykernel_92023/3259794314.py:2: RuntimeWarning: overflow encountered in double_scalars\n",
      "  return (\n",
      "/var/folders/gc/vwr0wlvs149fjgmddd29dpw40000gn/T/ipykernel_92023/3259794314.py:2: RuntimeWarning: overflow encountered in double_scalars\n",
      "  return (\n",
      "/var/folders/gc/vwr0wlvs149fjgmddd29dpw40000gn/T/ipykernel_92023/3259794314.py:2: RuntimeWarning: divide by zero encountered in double_scalars\n",
      "  return (\n",
      "/var/folders/gc/vwr0wlvs149fjgmddd29dpw40000gn/T/ipykernel_92023/3259794314.py:2: RuntimeWarning: divide by zero encountered in double_scalars\n",
      "  return (\n",
      "/var/folders/gc/vwr0wlvs149fjgmddd29dpw40000gn/T/ipykernel_92023/3259794314.py:2: RuntimeWarning: overflow encountered in double_scalars\n",
      "  return (\n",
      "/var/folders/gc/vwr0wlvs149fjgmddd29dpw40000gn/T/ipykernel_92023/3259794314.py:2: RuntimeWarning: divide by zero encountered in double_scalars\n",
      "  return (\n",
      "/var/folders/gc/vwr0wlvs149fjgmddd29dpw40000gn/T/ipykernel_92023/3259794314.py:2: RuntimeWarning: overflow encountered in double_scalars\n",
      "  return (\n"
     ]
    }
   ],
   "source": [
    "n = 80\n",
    "delta = 0.01\n",
    "f = partial(p_beta, n=n, delta=delta)\n",
    "data[f'p_beta_{n}_{delta}'] = data.apply(f, axis=1)\n",
    "data[f'p_unif_{n}_{delta}'] = prob_unif_data(data, n, delta)\n",
    "\n",
    "data.to_csv(f\"temp_n{n}_{delta}.csv\")"
   ]
  },
  {
   "cell_type": "code",
   "execution_count": 44,
   "metadata": {},
   "outputs": [
    {
     "data": {
      "text/plain": [
       "p_beta_80_0.001     0\n",
       "p_beta_80_0.005    12\n",
       "p_beta_80_0.01     19\n",
       "dtype: int64"
      ]
     },
     "execution_count": 44,
     "metadata": {},
     "output_type": "execute_result"
    }
   ],
   "source": [
    "(data[[f\"p_beta_{n}_0.001\", f\"p_beta_{n}_0.005\", f\"p_beta_{n}_0.01\"]] > 1).sum()"
   ]
  },
  {
   "cell_type": "code",
   "execution_count": 16,
   "metadata": {},
   "outputs": [
    {
     "data": {
      "text/html": [
       "<div>\n",
       "<style scoped>\n",
       "    .dataframe tbody tr th:only-of-type {\n",
       "        vertical-align: middle;\n",
       "    }\n",
       "\n",
       "    .dataframe tbody tr th {\n",
       "        vertical-align: top;\n",
       "    }\n",
       "\n",
       "    .dataframe thead th {\n",
       "        text-align: right;\n",
       "    }\n",
       "</style>\n",
       "<table border=\"1\" class=\"dataframe\">\n",
       "  <thead>\n",
       "    <tr style=\"text-align: right;\">\n",
       "      <th></th>\n",
       "      <th>p_unif_20_0.005</th>\n",
       "      <th>pns_l_x</th>\n",
       "      <th>pns_u_x</th>\n",
       "      <th>pns_l_y</th>\n",
       "      <th>pns_u_y</th>\n",
       "    </tr>\n",
       "  </thead>\n",
       "  <tbody>\n",
       "    <tr>\n",
       "      <th>3</th>\n",
       "      <td>0.096530</td>\n",
       "      <td>0.000362</td>\n",
       "      <td>0.173164</td>\n",
       "      <td>0.000000</td>\n",
       "      <td>0.007953</td>\n",
       "    </tr>\n",
       "    <tr>\n",
       "      <th>4</th>\n",
       "      <td>0.092248</td>\n",
       "      <td>0.000512</td>\n",
       "      <td>0.176749</td>\n",
       "      <td>0.000000</td>\n",
       "      <td>0.007953</td>\n",
       "    </tr>\n",
       "    <tr>\n",
       "      <th>5</th>\n",
       "      <td>119.466659</td>\n",
       "      <td>0.000095</td>\n",
       "      <td>0.020965</td>\n",
       "      <td>0.000000</td>\n",
       "      <td>0.007953</td>\n",
       "    </tr>\n",
       "    <tr>\n",
       "      <th>6</th>\n",
       "      <td>98.825417</td>\n",
       "      <td>0.000943</td>\n",
       "      <td>0.022477</td>\n",
       "      <td>0.000000</td>\n",
       "      <td>0.007953</td>\n",
       "    </tr>\n",
       "    <tr>\n",
       "      <th>7</th>\n",
       "      <td>34840.552461</td>\n",
       "      <td>0.000934</td>\n",
       "      <td>0.012276</td>\n",
       "      <td>0.000000</td>\n",
       "      <td>0.007953</td>\n",
       "    </tr>\n",
       "    <tr>\n",
       "      <th>...</th>\n",
       "      <td>...</td>\n",
       "      <td>...</td>\n",
       "      <td>...</td>\n",
       "      <td>...</td>\n",
       "      <td>...</td>\n",
       "    </tr>\n",
       "    <tr>\n",
       "      <th>1040</th>\n",
       "      <td>0.006960</td>\n",
       "      <td>0.001606</td>\n",
       "      <td>0.580924</td>\n",
       "      <td>0.079483</td>\n",
       "      <td>0.210324</td>\n",
       "    </tr>\n",
       "    <tr>\n",
       "      <th>1041</th>\n",
       "      <td>0.021226</td>\n",
       "      <td>0.011663</td>\n",
       "      <td>0.353491</td>\n",
       "      <td>0.079483</td>\n",
       "      <td>0.210324</td>\n",
       "    </tr>\n",
       "    <tr>\n",
       "      <th>1042</th>\n",
       "      <td>0.161122</td>\n",
       "      <td>0.079536</td>\n",
       "      <td>0.218463</td>\n",
       "      <td>0.079483</td>\n",
       "      <td>0.210324</td>\n",
       "    </tr>\n",
       "    <tr>\n",
       "      <th>1043</th>\n",
       "      <td>0.138038</td>\n",
       "      <td>0.063030</td>\n",
       "      <td>0.211296</td>\n",
       "      <td>0.079483</td>\n",
       "      <td>0.210324</td>\n",
       "    </tr>\n",
       "    <tr>\n",
       "      <th>1044</th>\n",
       "      <td>0.191348</td>\n",
       "      <td>0.080043</td>\n",
       "      <td>0.209390</td>\n",
       "      <td>0.079483</td>\n",
       "      <td>0.210324</td>\n",
       "    </tr>\n",
       "  </tbody>\n",
       "</table>\n",
       "<p>464 rows × 5 columns</p>\n",
       "</div>"
      ],
      "text/plain": [
       "      p_unif_20_0.005   pns_l_x   pns_u_x   pns_l_y   pns_u_y\n",
       "3            0.096530  0.000362  0.173164  0.000000  0.007953\n",
       "4            0.092248  0.000512  0.176749  0.000000  0.007953\n",
       "5          119.466659  0.000095  0.020965  0.000000  0.007953\n",
       "6           98.825417  0.000943  0.022477  0.000000  0.007953\n",
       "7        34840.552461  0.000934  0.012276  0.000000  0.007953\n",
       "...               ...       ...       ...       ...       ...\n",
       "1040         0.006960  0.001606  0.580924  0.079483  0.210324\n",
       "1041         0.021226  0.011663  0.353491  0.079483  0.210324\n",
       "1042         0.161122  0.079536  0.218463  0.079483  0.210324\n",
       "1043         0.138038  0.063030  0.211296  0.079483  0.210324\n",
       "1044         0.191348  0.080043  0.209390  0.079483  0.210324\n",
       "\n",
       "[464 rows x 5 columns]"
      ]
     },
     "execution_count": 16,
     "metadata": {},
     "output_type": "execute_result"
    }
   ],
   "source": [
    "data[['p_unif_20_0.005', 'pns_l_x', 'pns_u_x', 'pns_l_y', 'pns_u_y']]"
   ]
  },
  {
   "cell_type": "code",
   "execution_count": 288,
   "metadata": {},
   "outputs": [
    {
     "ename": "KeyboardInterrupt",
     "evalue": "",
     "output_type": "error",
     "traceback": [
      "\u001b[0;31m---------------------------------------------------------------------------\u001b[0m",
      "\u001b[0;31mKeyboardInterrupt\u001b[0m                         Traceback (most recent call last)",
      "Input \u001b[0;32mIn [288]\u001b[0m, in \u001b[0;36m<cell line: 1>\u001b[0;34m()\u001b[0m\n\u001b[0;32m----> 1\u001b[0m [ data\u001b[39m.\u001b[39mapply(p_beta, args\u001b[39m=\u001b[39m(n,), axis\u001b[39m=\u001b[39m\u001b[39m1\u001b[39m) \u001b[39mfor\u001b[39;00m n \u001b[39min\u001b[39;00m {\u001b[39m20\u001b[39m,\u001b[39m40\u001b[39m,\u001b[39m60\u001b[39m,\u001b[39m80\u001b[39m }]\n",
      "Input \u001b[0;32mIn [288]\u001b[0m, in \u001b[0;36m<listcomp>\u001b[0;34m(.0)\u001b[0m\n\u001b[0;32m----> 1\u001b[0m [ data\u001b[39m.\u001b[39;49mapply(p_beta, args\u001b[39m=\u001b[39;49m(n,), axis\u001b[39m=\u001b[39;49m\u001b[39m1\u001b[39;49m) \u001b[39mfor\u001b[39;00m n \u001b[39min\u001b[39;00m {\u001b[39m20\u001b[39m,\u001b[39m40\u001b[39m,\u001b[39m60\u001b[39m,\u001b[39m80\u001b[39m }]\n",
      "File \u001b[0;32m~/anaconda3/envs/causal/lib/python3.9/site-packages/pandas/core/frame.py:8833\u001b[0m, in \u001b[0;36mDataFrame.apply\u001b[0;34m(self, func, axis, raw, result_type, args, **kwargs)\u001b[0m\n\u001b[1;32m   <a href='file:///Users/dhuber/anaconda3/envs/causal/lib/python3.9/site-packages/pandas/core/frame.py?line=8821'>8822</a>\u001b[0m \u001b[39mfrom\u001b[39;00m \u001b[39mpandas\u001b[39;00m\u001b[39m.\u001b[39;00m\u001b[39mcore\u001b[39;00m\u001b[39m.\u001b[39;00m\u001b[39mapply\u001b[39;00m \u001b[39mimport\u001b[39;00m frame_apply\n\u001b[1;32m   <a href='file:///Users/dhuber/anaconda3/envs/causal/lib/python3.9/site-packages/pandas/core/frame.py?line=8823'>8824</a>\u001b[0m op \u001b[39m=\u001b[39m frame_apply(\n\u001b[1;32m   <a href='file:///Users/dhuber/anaconda3/envs/causal/lib/python3.9/site-packages/pandas/core/frame.py?line=8824'>8825</a>\u001b[0m     \u001b[39mself\u001b[39m,\n\u001b[1;32m   <a href='file:///Users/dhuber/anaconda3/envs/causal/lib/python3.9/site-packages/pandas/core/frame.py?line=8825'>8826</a>\u001b[0m     func\u001b[39m=\u001b[39mfunc,\n\u001b[0;32m   (...)\u001b[0m\n\u001b[1;32m   <a href='file:///Users/dhuber/anaconda3/envs/causal/lib/python3.9/site-packages/pandas/core/frame.py?line=8830'>8831</a>\u001b[0m     kwargs\u001b[39m=\u001b[39mkwargs,\n\u001b[1;32m   <a href='file:///Users/dhuber/anaconda3/envs/causal/lib/python3.9/site-packages/pandas/core/frame.py?line=8831'>8832</a>\u001b[0m )\n\u001b[0;32m-> <a href='file:///Users/dhuber/anaconda3/envs/causal/lib/python3.9/site-packages/pandas/core/frame.py?line=8832'>8833</a>\u001b[0m \u001b[39mreturn\u001b[39;00m op\u001b[39m.\u001b[39;49mapply()\u001b[39m.\u001b[39m__finalize__(\u001b[39mself\u001b[39m, method\u001b[39m=\u001b[39m\u001b[39m\"\u001b[39m\u001b[39mapply\u001b[39m\u001b[39m\"\u001b[39m)\n",
      "File \u001b[0;32m~/anaconda3/envs/causal/lib/python3.9/site-packages/pandas/core/apply.py:727\u001b[0m, in \u001b[0;36mFrameApply.apply\u001b[0;34m(self)\u001b[0m\n\u001b[1;32m    <a href='file:///Users/dhuber/anaconda3/envs/causal/lib/python3.9/site-packages/pandas/core/apply.py?line=723'>724</a>\u001b[0m \u001b[39melif\u001b[39;00m \u001b[39mself\u001b[39m\u001b[39m.\u001b[39mraw:\n\u001b[1;32m    <a href='file:///Users/dhuber/anaconda3/envs/causal/lib/python3.9/site-packages/pandas/core/apply.py?line=724'>725</a>\u001b[0m     \u001b[39mreturn\u001b[39;00m \u001b[39mself\u001b[39m\u001b[39m.\u001b[39mapply_raw()\n\u001b[0;32m--> <a href='file:///Users/dhuber/anaconda3/envs/causal/lib/python3.9/site-packages/pandas/core/apply.py?line=726'>727</a>\u001b[0m \u001b[39mreturn\u001b[39;00m \u001b[39mself\u001b[39;49m\u001b[39m.\u001b[39;49mapply_standard()\n",
      "File \u001b[0;32m~/anaconda3/envs/causal/lib/python3.9/site-packages/pandas/core/apply.py:851\u001b[0m, in \u001b[0;36mFrameApply.apply_standard\u001b[0;34m(self)\u001b[0m\n\u001b[1;32m    <a href='file:///Users/dhuber/anaconda3/envs/causal/lib/python3.9/site-packages/pandas/core/apply.py?line=849'>850</a>\u001b[0m \u001b[39mdef\u001b[39;00m \u001b[39mapply_standard\u001b[39m(\u001b[39mself\u001b[39m):\n\u001b[0;32m--> <a href='file:///Users/dhuber/anaconda3/envs/causal/lib/python3.9/site-packages/pandas/core/apply.py?line=850'>851</a>\u001b[0m     results, res_index \u001b[39m=\u001b[39m \u001b[39mself\u001b[39;49m\u001b[39m.\u001b[39;49mapply_series_generator()\n\u001b[1;32m    <a href='file:///Users/dhuber/anaconda3/envs/causal/lib/python3.9/site-packages/pandas/core/apply.py?line=852'>853</a>\u001b[0m     \u001b[39m# wrap results\u001b[39;00m\n\u001b[1;32m    <a href='file:///Users/dhuber/anaconda3/envs/causal/lib/python3.9/site-packages/pandas/core/apply.py?line=853'>854</a>\u001b[0m     \u001b[39mreturn\u001b[39;00m \u001b[39mself\u001b[39m\u001b[39m.\u001b[39mwrap_results(results, res_index)\n",
      "File \u001b[0;32m~/anaconda3/envs/causal/lib/python3.9/site-packages/pandas/core/apply.py:867\u001b[0m, in \u001b[0;36mFrameApply.apply_series_generator\u001b[0;34m(self)\u001b[0m\n\u001b[1;32m    <a href='file:///Users/dhuber/anaconda3/envs/causal/lib/python3.9/site-packages/pandas/core/apply.py?line=863'>864</a>\u001b[0m \u001b[39mwith\u001b[39;00m option_context(\u001b[39m\"\u001b[39m\u001b[39mmode.chained_assignment\u001b[39m\u001b[39m\"\u001b[39m, \u001b[39mNone\u001b[39;00m):\n\u001b[1;32m    <a href='file:///Users/dhuber/anaconda3/envs/causal/lib/python3.9/site-packages/pandas/core/apply.py?line=864'>865</a>\u001b[0m     \u001b[39mfor\u001b[39;00m i, v \u001b[39min\u001b[39;00m \u001b[39menumerate\u001b[39m(series_gen):\n\u001b[1;32m    <a href='file:///Users/dhuber/anaconda3/envs/causal/lib/python3.9/site-packages/pandas/core/apply.py?line=865'>866</a>\u001b[0m         \u001b[39m# ignore SettingWithCopy here in case the user mutates\u001b[39;00m\n\u001b[0;32m--> <a href='file:///Users/dhuber/anaconda3/envs/causal/lib/python3.9/site-packages/pandas/core/apply.py?line=866'>867</a>\u001b[0m         results[i] \u001b[39m=\u001b[39m \u001b[39mself\u001b[39;49m\u001b[39m.\u001b[39;49mf(v)\n\u001b[1;32m    <a href='file:///Users/dhuber/anaconda3/envs/causal/lib/python3.9/site-packages/pandas/core/apply.py?line=867'>868</a>\u001b[0m         \u001b[39mif\u001b[39;00m \u001b[39misinstance\u001b[39m(results[i], ABCSeries):\n\u001b[1;32m    <a href='file:///Users/dhuber/anaconda3/envs/causal/lib/python3.9/site-packages/pandas/core/apply.py?line=868'>869</a>\u001b[0m             \u001b[39m# If we have a view on v, we need to make a copy because\u001b[39;00m\n\u001b[1;32m    <a href='file:///Users/dhuber/anaconda3/envs/causal/lib/python3.9/site-packages/pandas/core/apply.py?line=869'>870</a>\u001b[0m             \u001b[39m#  series_generator will swap out the underlying data\u001b[39;00m\n\u001b[1;32m    <a href='file:///Users/dhuber/anaconda3/envs/causal/lib/python3.9/site-packages/pandas/core/apply.py?line=870'>871</a>\u001b[0m             results[i] \u001b[39m=\u001b[39m results[i]\u001b[39m.\u001b[39mcopy(deep\u001b[39m=\u001b[39m\u001b[39mFalse\u001b[39;00m)\n",
      "File \u001b[0;32m~/anaconda3/envs/causal/lib/python3.9/site-packages/pandas/core/apply.py:138\u001b[0m, in \u001b[0;36mApply.__init__.<locals>.f\u001b[0;34m(x)\u001b[0m\n\u001b[1;32m    <a href='file:///Users/dhuber/anaconda3/envs/causal/lib/python3.9/site-packages/pandas/core/apply.py?line=136'>137</a>\u001b[0m \u001b[39mdef\u001b[39;00m \u001b[39mf\u001b[39m(x):\n\u001b[0;32m--> <a href='file:///Users/dhuber/anaconda3/envs/causal/lib/python3.9/site-packages/pandas/core/apply.py?line=137'>138</a>\u001b[0m     \u001b[39mreturn\u001b[39;00m func(x, \u001b[39m*\u001b[39;49margs, \u001b[39m*\u001b[39;49m\u001b[39m*\u001b[39;49mkwargs)\n",
      "Input \u001b[0;32mIn [284]\u001b[0m, in \u001b[0;36mp_beta\u001b[0;34m(row, n, steps, delta, loop)\u001b[0m\n\u001b[1;32m     41\u001b[0m \u001b[39melse\u001b[39;00m:\n\u001b[1;32m     42\u001b[0m     f \u001b[39m=\u001b[39m partial(_p_beta2, L \u001b[39m=\u001b[39m L, alpha \u001b[39m=\u001b[39m alpha, beta \u001b[39m=\u001b[39m beta, n \u001b[39m=\u001b[39m n)\n\u001b[0;32m---> 44\u001b[0m     num, e1 \u001b[39m=\u001b[39m dblquad(f, \u001b[39m0\u001b[39;49m, delta \u001b[39m/\u001b[39;49m \u001b[39m2\u001b[39;49m, \u001b[39mlambda\u001b[39;49;00m x: \u001b[39m0\u001b[39;49m, \u001b[39mlambda\u001b[39;49;00m x: delta \u001b[39m/\u001b[39;49m \u001b[39m2\u001b[39;49m )\n\u001b[1;32m     45\u001b[0m     den, e2 \u001b[39m=\u001b[39m dblquad(f, \u001b[39m0\u001b[39m,  a \u001b[39m+\u001b[39m (\u001b[39m1\u001b[39m \u001b[39m-\u001b[39m b), \u001b[39mlambda\u001b[39;00m x: \u001b[39m0\u001b[39m, \u001b[39mlambda\u001b[39;00m x: a \u001b[39m+\u001b[39m (\u001b[39m1\u001b[39m \u001b[39m-\u001b[39m b) \u001b[39m-\u001b[39m x)\n\u001b[1;32m     47\u001b[0m     \u001b[39mreturn\u001b[39;00m num\u001b[39m/\u001b[39mden\n",
      "File \u001b[0;32m~/anaconda3/envs/causal/lib/python3.9/site-packages/scipy/integrate/quadpack.py:601\u001b[0m, in \u001b[0;36mdblquad\u001b[0;34m(func, a, b, gfun, hfun, args, epsabs, epsrel)\u001b[0m\n\u001b[1;32m    <a href='file:///Users/dhuber/anaconda3/envs/causal/lib/python3.9/site-packages/scipy/integrate/quadpack.py?line=596'>597</a>\u001b[0m \u001b[39mdef\u001b[39;00m \u001b[39mtemp_ranges\u001b[39m(\u001b[39m*\u001b[39margs):\n\u001b[1;32m    <a href='file:///Users/dhuber/anaconda3/envs/causal/lib/python3.9/site-packages/scipy/integrate/quadpack.py?line=597'>598</a>\u001b[0m     \u001b[39mreturn\u001b[39;00m [gfun(args[\u001b[39m0\u001b[39m]) \u001b[39mif\u001b[39;00m callable(gfun) \u001b[39melse\u001b[39;00m gfun,\n\u001b[1;32m    <a href='file:///Users/dhuber/anaconda3/envs/causal/lib/python3.9/site-packages/scipy/integrate/quadpack.py?line=598'>599</a>\u001b[0m             hfun(args[\u001b[39m0\u001b[39m]) \u001b[39mif\u001b[39;00m callable(hfun) \u001b[39melse\u001b[39;00m hfun]\n\u001b[0;32m--> <a href='file:///Users/dhuber/anaconda3/envs/causal/lib/python3.9/site-packages/scipy/integrate/quadpack.py?line=600'>601</a>\u001b[0m \u001b[39mreturn\u001b[39;00m nquad(func, [temp_ranges, [a, b]], args\u001b[39m=\u001b[39;49margs,\n\u001b[1;32m    <a href='file:///Users/dhuber/anaconda3/envs/causal/lib/python3.9/site-packages/scipy/integrate/quadpack.py?line=601'>602</a>\u001b[0m         opts\u001b[39m=\u001b[39;49m{\u001b[39m\"\u001b[39;49m\u001b[39mepsabs\u001b[39;49m\u001b[39m\"\u001b[39;49m: epsabs, \u001b[39m\"\u001b[39;49m\u001b[39mepsrel\u001b[39;49m\u001b[39m\"\u001b[39;49m: epsrel})\n",
      "File \u001b[0;32m~/anaconda3/envs/causal/lib/python3.9/site-packages/scipy/integrate/quadpack.py:825\u001b[0m, in \u001b[0;36mnquad\u001b[0;34m(func, ranges, args, opts, full_output)\u001b[0m\n\u001b[1;32m    <a href='file:///Users/dhuber/anaconda3/envs/causal/lib/python3.9/site-packages/scipy/integrate/quadpack.py?line=822'>823</a>\u001b[0m \u001b[39melse\u001b[39;00m:\n\u001b[1;32m    <a href='file:///Users/dhuber/anaconda3/envs/causal/lib/python3.9/site-packages/scipy/integrate/quadpack.py?line=823'>824</a>\u001b[0m     opts \u001b[39m=\u001b[39m [opt \u001b[39mif\u001b[39;00m callable(opt) \u001b[39melse\u001b[39;00m _OptFunc(opt) \u001b[39mfor\u001b[39;00m opt \u001b[39min\u001b[39;00m opts]\n\u001b[0;32m--> <a href='file:///Users/dhuber/anaconda3/envs/causal/lib/python3.9/site-packages/scipy/integrate/quadpack.py?line=824'>825</a>\u001b[0m \u001b[39mreturn\u001b[39;00m _NQuad(func, ranges, opts, full_output)\u001b[39m.\u001b[39;49mintegrate(\u001b[39m*\u001b[39;49margs)\n",
      "File \u001b[0;32m~/anaconda3/envs/causal/lib/python3.9/site-packages/scipy/integrate/quadpack.py:879\u001b[0m, in \u001b[0;36m_NQuad.integrate\u001b[0;34m(self, *args, **kwargs)\u001b[0m\n\u001b[1;32m    <a href='file:///Users/dhuber/anaconda3/envs/causal/lib/python3.9/site-packages/scipy/integrate/quadpack.py?line=876'>877</a>\u001b[0m \u001b[39melse\u001b[39;00m:\n\u001b[1;32m    <a href='file:///Users/dhuber/anaconda3/envs/causal/lib/python3.9/site-packages/scipy/integrate/quadpack.py?line=877'>878</a>\u001b[0m     f \u001b[39m=\u001b[39m partial(\u001b[39mself\u001b[39m\u001b[39m.\u001b[39mintegrate, depth\u001b[39m=\u001b[39mdepth\u001b[39m+\u001b[39m\u001b[39m1\u001b[39m)\n\u001b[0;32m--> <a href='file:///Users/dhuber/anaconda3/envs/causal/lib/python3.9/site-packages/scipy/integrate/quadpack.py?line=878'>879</a>\u001b[0m quad_r \u001b[39m=\u001b[39m quad(f, low, high, args\u001b[39m=\u001b[39;49margs, full_output\u001b[39m=\u001b[39;49m\u001b[39mself\u001b[39;49m\u001b[39m.\u001b[39;49mfull_output,\n\u001b[1;32m    <a href='file:///Users/dhuber/anaconda3/envs/causal/lib/python3.9/site-packages/scipy/integrate/quadpack.py?line=879'>880</a>\u001b[0m               \u001b[39m*\u001b[39;49m\u001b[39m*\u001b[39;49mopt)\n\u001b[1;32m    <a href='file:///Users/dhuber/anaconda3/envs/causal/lib/python3.9/site-packages/scipy/integrate/quadpack.py?line=880'>881</a>\u001b[0m value \u001b[39m=\u001b[39m quad_r[\u001b[39m0\u001b[39m]\n\u001b[1;32m    <a href='file:///Users/dhuber/anaconda3/envs/causal/lib/python3.9/site-packages/scipy/integrate/quadpack.py?line=881'>882</a>\u001b[0m abserr \u001b[39m=\u001b[39m quad_r[\u001b[39m1\u001b[39m]\n",
      "File \u001b[0;32m~/anaconda3/envs/causal/lib/python3.9/site-packages/scipy/integrate/quadpack.py:351\u001b[0m, in \u001b[0;36mquad\u001b[0;34m(func, a, b, args, full_output, epsabs, epsrel, limit, points, weight, wvar, wopts, maxp1, limlst)\u001b[0m\n\u001b[1;32m    <a href='file:///Users/dhuber/anaconda3/envs/causal/lib/python3.9/site-packages/scipy/integrate/quadpack.py?line=347'>348</a>\u001b[0m flip, a, b \u001b[39m=\u001b[39m b \u001b[39m<\u001b[39m a, \u001b[39mmin\u001b[39m(a, b), \u001b[39mmax\u001b[39m(a, b)\n\u001b[1;32m    <a href='file:///Users/dhuber/anaconda3/envs/causal/lib/python3.9/site-packages/scipy/integrate/quadpack.py?line=349'>350</a>\u001b[0m \u001b[39mif\u001b[39;00m weight \u001b[39mis\u001b[39;00m \u001b[39mNone\u001b[39;00m:\n\u001b[0;32m--> <a href='file:///Users/dhuber/anaconda3/envs/causal/lib/python3.9/site-packages/scipy/integrate/quadpack.py?line=350'>351</a>\u001b[0m     retval \u001b[39m=\u001b[39m _quad(func, a, b, args, full_output, epsabs, epsrel, limit,\n\u001b[1;32m    <a href='file:///Users/dhuber/anaconda3/envs/causal/lib/python3.9/site-packages/scipy/integrate/quadpack.py?line=351'>352</a>\u001b[0m                    points)\n\u001b[1;32m    <a href='file:///Users/dhuber/anaconda3/envs/causal/lib/python3.9/site-packages/scipy/integrate/quadpack.py?line=352'>353</a>\u001b[0m \u001b[39melse\u001b[39;00m:\n\u001b[1;32m    <a href='file:///Users/dhuber/anaconda3/envs/causal/lib/python3.9/site-packages/scipy/integrate/quadpack.py?line=353'>354</a>\u001b[0m     \u001b[39mif\u001b[39;00m points \u001b[39mis\u001b[39;00m \u001b[39mnot\u001b[39;00m \u001b[39mNone\u001b[39;00m:\n",
      "File \u001b[0;32m~/anaconda3/envs/causal/lib/python3.9/site-packages/scipy/integrate/quadpack.py:463\u001b[0m, in \u001b[0;36m_quad\u001b[0;34m(func, a, b, args, full_output, epsabs, epsrel, limit, points)\u001b[0m\n\u001b[1;32m    <a href='file:///Users/dhuber/anaconda3/envs/causal/lib/python3.9/site-packages/scipy/integrate/quadpack.py?line=460'>461</a>\u001b[0m \u001b[39mif\u001b[39;00m points \u001b[39mis\u001b[39;00m \u001b[39mNone\u001b[39;00m:\n\u001b[1;32m    <a href='file:///Users/dhuber/anaconda3/envs/causal/lib/python3.9/site-packages/scipy/integrate/quadpack.py?line=461'>462</a>\u001b[0m     \u001b[39mif\u001b[39;00m infbounds \u001b[39m==\u001b[39m \u001b[39m0\u001b[39m:\n\u001b[0;32m--> <a href='file:///Users/dhuber/anaconda3/envs/causal/lib/python3.9/site-packages/scipy/integrate/quadpack.py?line=462'>463</a>\u001b[0m         \u001b[39mreturn\u001b[39;00m _quadpack\u001b[39m.\u001b[39;49m_qagse(func,a,b,args,full_output,epsabs,epsrel,limit)\n\u001b[1;32m    <a href='file:///Users/dhuber/anaconda3/envs/causal/lib/python3.9/site-packages/scipy/integrate/quadpack.py?line=463'>464</a>\u001b[0m     \u001b[39melse\u001b[39;00m:\n\u001b[1;32m    <a href='file:///Users/dhuber/anaconda3/envs/causal/lib/python3.9/site-packages/scipy/integrate/quadpack.py?line=464'>465</a>\u001b[0m         \u001b[39mreturn\u001b[39;00m _quadpack\u001b[39m.\u001b[39m_qagie(func,bound,infbounds,args,full_output,epsabs,epsrel,limit)\n",
      "File \u001b[0;32m~/anaconda3/envs/causal/lib/python3.9/site-packages/scipy/integrate/quadpack.py:879\u001b[0m, in \u001b[0;36m_NQuad.integrate\u001b[0;34m(self, *args, **kwargs)\u001b[0m\n\u001b[1;32m    <a href='file:///Users/dhuber/anaconda3/envs/causal/lib/python3.9/site-packages/scipy/integrate/quadpack.py?line=876'>877</a>\u001b[0m \u001b[39melse\u001b[39;00m:\n\u001b[1;32m    <a href='file:///Users/dhuber/anaconda3/envs/causal/lib/python3.9/site-packages/scipy/integrate/quadpack.py?line=877'>878</a>\u001b[0m     f \u001b[39m=\u001b[39m partial(\u001b[39mself\u001b[39m\u001b[39m.\u001b[39mintegrate, depth\u001b[39m=\u001b[39mdepth\u001b[39m+\u001b[39m\u001b[39m1\u001b[39m)\n\u001b[0;32m--> <a href='file:///Users/dhuber/anaconda3/envs/causal/lib/python3.9/site-packages/scipy/integrate/quadpack.py?line=878'>879</a>\u001b[0m quad_r \u001b[39m=\u001b[39m quad(f, low, high, args\u001b[39m=\u001b[39;49margs, full_output\u001b[39m=\u001b[39;49m\u001b[39mself\u001b[39;49m\u001b[39m.\u001b[39;49mfull_output,\n\u001b[1;32m    <a href='file:///Users/dhuber/anaconda3/envs/causal/lib/python3.9/site-packages/scipy/integrate/quadpack.py?line=879'>880</a>\u001b[0m               \u001b[39m*\u001b[39;49m\u001b[39m*\u001b[39;49mopt)\n\u001b[1;32m    <a href='file:///Users/dhuber/anaconda3/envs/causal/lib/python3.9/site-packages/scipy/integrate/quadpack.py?line=880'>881</a>\u001b[0m value \u001b[39m=\u001b[39m quad_r[\u001b[39m0\u001b[39m]\n\u001b[1;32m    <a href='file:///Users/dhuber/anaconda3/envs/causal/lib/python3.9/site-packages/scipy/integrate/quadpack.py?line=881'>882</a>\u001b[0m abserr \u001b[39m=\u001b[39m quad_r[\u001b[39m1\u001b[39m]\n",
      "File \u001b[0;32m~/anaconda3/envs/causal/lib/python3.9/site-packages/scipy/integrate/quadpack.py:351\u001b[0m, in \u001b[0;36mquad\u001b[0;34m(func, a, b, args, full_output, epsabs, epsrel, limit, points, weight, wvar, wopts, maxp1, limlst)\u001b[0m\n\u001b[1;32m    <a href='file:///Users/dhuber/anaconda3/envs/causal/lib/python3.9/site-packages/scipy/integrate/quadpack.py?line=347'>348</a>\u001b[0m flip, a, b \u001b[39m=\u001b[39m b \u001b[39m<\u001b[39m a, \u001b[39mmin\u001b[39m(a, b), \u001b[39mmax\u001b[39m(a, b)\n\u001b[1;32m    <a href='file:///Users/dhuber/anaconda3/envs/causal/lib/python3.9/site-packages/scipy/integrate/quadpack.py?line=349'>350</a>\u001b[0m \u001b[39mif\u001b[39;00m weight \u001b[39mis\u001b[39;00m \u001b[39mNone\u001b[39;00m:\n\u001b[0;32m--> <a href='file:///Users/dhuber/anaconda3/envs/causal/lib/python3.9/site-packages/scipy/integrate/quadpack.py?line=350'>351</a>\u001b[0m     retval \u001b[39m=\u001b[39m _quad(func, a, b, args, full_output, epsabs, epsrel, limit,\n\u001b[1;32m    <a href='file:///Users/dhuber/anaconda3/envs/causal/lib/python3.9/site-packages/scipy/integrate/quadpack.py?line=351'>352</a>\u001b[0m                    points)\n\u001b[1;32m    <a href='file:///Users/dhuber/anaconda3/envs/causal/lib/python3.9/site-packages/scipy/integrate/quadpack.py?line=352'>353</a>\u001b[0m \u001b[39melse\u001b[39;00m:\n\u001b[1;32m    <a href='file:///Users/dhuber/anaconda3/envs/causal/lib/python3.9/site-packages/scipy/integrate/quadpack.py?line=353'>354</a>\u001b[0m     \u001b[39mif\u001b[39;00m points \u001b[39mis\u001b[39;00m \u001b[39mnot\u001b[39;00m \u001b[39mNone\u001b[39;00m:\n",
      "File \u001b[0;32m~/anaconda3/envs/causal/lib/python3.9/site-packages/scipy/integrate/quadpack.py:463\u001b[0m, in \u001b[0;36m_quad\u001b[0;34m(func, a, b, args, full_output, epsabs, epsrel, limit, points)\u001b[0m\n\u001b[1;32m    <a href='file:///Users/dhuber/anaconda3/envs/causal/lib/python3.9/site-packages/scipy/integrate/quadpack.py?line=460'>461</a>\u001b[0m \u001b[39mif\u001b[39;00m points \u001b[39mis\u001b[39;00m \u001b[39mNone\u001b[39;00m:\n\u001b[1;32m    <a href='file:///Users/dhuber/anaconda3/envs/causal/lib/python3.9/site-packages/scipy/integrate/quadpack.py?line=461'>462</a>\u001b[0m     \u001b[39mif\u001b[39;00m infbounds \u001b[39m==\u001b[39m \u001b[39m0\u001b[39m:\n\u001b[0;32m--> <a href='file:///Users/dhuber/anaconda3/envs/causal/lib/python3.9/site-packages/scipy/integrate/quadpack.py?line=462'>463</a>\u001b[0m         \u001b[39mreturn\u001b[39;00m _quadpack\u001b[39m.\u001b[39;49m_qagse(func,a,b,args,full_output,epsabs,epsrel,limit)\n\u001b[1;32m    <a href='file:///Users/dhuber/anaconda3/envs/causal/lib/python3.9/site-packages/scipy/integrate/quadpack.py?line=463'>464</a>\u001b[0m     \u001b[39melse\u001b[39;00m:\n\u001b[1;32m    <a href='file:///Users/dhuber/anaconda3/envs/causal/lib/python3.9/site-packages/scipy/integrate/quadpack.py?line=464'>465</a>\u001b[0m         \u001b[39mreturn\u001b[39;00m _quadpack\u001b[39m.\u001b[39m_qagie(func,bound,infbounds,args,full_output,epsabs,epsrel,limit)\n",
      "Input \u001b[0;32mIn [284]\u001b[0m, in \u001b[0;36m_p_beta2\u001b[0;34m(x, y, L, alpha, beta, n)\u001b[0m\n\u001b[1;32m      1\u001b[0m \u001b[39mdef\u001b[39;00m \u001b[39m_p_beta2\u001b[39m(x, y, L, alpha, beta, n):\n\u001b[1;32m      2\u001b[0m     \u001b[39mreturn\u001b[39;00m (\n\u001b[0;32m----> 3\u001b[0m         (L \u001b[39m+\u001b[39m x) \u001b[39m*\u001b[39m\u001b[39m*\u001b[39m alpha \u001b[39m*\u001b[39m  hyp2f1(alpha, \u001b[39m1\u001b[39;49m\u001b[39m-\u001b[39;49mbeta, alpha \u001b[39m+\u001b[39;49m \u001b[39m1\u001b[39;49m, (L \u001b[39m+\u001b[39;49m x) \u001b[39m/\u001b[39;49m (L \u001b[39m+\u001b[39;49m x \u001b[39m+\u001b[39;49m y)) \u001b[39m-\u001b[39m\n\u001b[1;32m      4\u001b[0m          x \u001b[39m*\u001b[39m\u001b[39m*\u001b[39m alpha \u001b[39m*\u001b[39m hyp2f1(alpha, \u001b[39m1\u001b[39m \u001b[39m-\u001b[39m beta, alpha \u001b[39m+\u001b[39m \u001b[39m1\u001b[39m, x \u001b[39m/\u001b[39m (L \u001b[39m+\u001b[39m x \u001b[39m+\u001b[39m y))\n\u001b[1;32m      5\u001b[0m     ) \u001b[39m/\u001b[39m (\n\u001b[1;32m      6\u001b[0m         alpha \u001b[39m*\u001b[39m (L \u001b[39m+\u001b[39m x \u001b[39m+\u001b[39m y) \u001b[39m*\u001b[39m\u001b[39m*\u001b[39m alpha \u001b[39m*\u001b[39m beta_func(alpha, beta) \n\u001b[1;32m      7\u001b[0m     ) \u001b[39m*\u001b[39m\u001b[39m*\u001b[39m n\n",
      "\u001b[0;31mKeyboardInterrupt\u001b[0m: "
     ]
    }
   ],
   "source": [
    "pb abs= [ data.apply(p_beta, args=(n,), axis=1) for n in {20,40,60,80 }]"
   ]
  },
  {
   "cell_type": "code",
   "execution_count": null,
   "metadata": {},
   "outputs": [],
   "source": []
  },
  {
   "cell_type": "markdown",
   "metadata": {},
   "source": [
    "Merge stuff"
   ]
  }
 ],
 "metadata": {
  "interpreter": {
   "hash": "b2256cb237836e0b32ce22305984fd71b607e595669096085081827973a36ac7"
  },
  "kernelspec": {
   "display_name": "Python 3.9.12 ('causal')",
   "language": "python",
   "name": "python3"
  },
  "language_info": {
   "codemirror_mode": {
    "name": "ipython",
    "version": 3
   },
   "file_extension": ".py",
   "mimetype": "text/x-python",
   "name": "python",
   "nbconvert_exporter": "python",
   "pygments_lexer": "ipython3",
   "version": "3.9.12"
  },
  "orig_nbformat": 4
 },
 "nbformat": 4,
 "nbformat_minor": 2
}
