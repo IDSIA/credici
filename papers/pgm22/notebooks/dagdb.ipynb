{
 "cells": [
  {
   "cell_type": "code",
   "execution_count": 1,
   "id": "59c70c66-d0ec-41af-9989-5e42ff47ab67",
   "metadata": {},
   "outputs": [],
   "source": [
    "import pandas as pd\n",
    "from pathlib import Path"
   ]
  },
  {
   "cell_type": "code",
   "execution_count": 28,
   "id": "ef43fba0-ac7b-4883-be6f-99aff5044c80",
   "metadata": {},
   "outputs": [],
   "source": [
    "folder = Path(\"../models/dagdb/\")\n",
    "dbname = \"bngen1.csv\"\n",
    "filename = Path(folder, dbname)"
   ]
  },
  {
   "cell_type": "code",
   "execution_count": 29,
   "id": "9c574a11-3979-4555-8e15-e74d50f29aa5",
   "metadata": {},
   "outputs": [
    {
     "data": {
      "text/plain": [
       "True"
      ]
     },
     "execution_count": 29,
     "metadata": {},
     "output_type": "execute_result"
    }
   ],
   "source": [
    "filename.exists()"
   ]
  },
  {
   "cell_type": "code",
   "execution_count": 36,
   "id": "278ad802-b738-4c09-a0f1-a246dce2554c",
   "metadata": {},
   "outputs": [],
   "source": [
    "import pandas as pd\n",
    "\n",
    "data = pd.read_csv(filename, sep=\";\")\n",
    "\n",
    "for tw in data.InducesWidth.unique():\n",
    "    data_i = data[data.InducesWidth==tw][[\"numNodes\", \"arcs\"]]\n",
    "    data_i.to_csv(str(filename).replace(\".csv\", f\"_tw{tw}.csv\"), index=False, header=False, sep=\";\")\n"
   ]
  },
  {
   "cell_type": "code",
   "execution_count": 34,
   "id": "3fa45d7d-bd6a-4246-b9c3-5a038bacf821",
   "metadata": {},
   "outputs": [],
   "source": []
  },
  {
   "cell_type": "code",
   "execution_count": 32,
   "id": "b807fdcc-d4ac-4713-9cec-c52a1c08f444",
   "metadata": {},
   "outputs": [
    {
     "data": {
      "text/plain": [
       "'../models/dagdb/bngen1_tw5.csv'"
      ]
     },
     "execution_count": 32,
     "metadata": {},
     "output_type": "execute_result"
    }
   ],
   "source": []
  },
  {
   "cell_type": "code",
   "execution_count": null,
   "id": "186219bb-ab29-4df6-9cdb-3dbdb634c876",
   "metadata": {},
   "outputs": [],
   "source": []
  }
 ],
 "metadata": {
  "kernelspec": {
   "display_name": "Python 3 (ipykernel)",
   "language": "python",
   "name": "python3"
  },
  "language_info": {
   "codemirror_mode": {
    "name": "ipython",
    "version": 3
   },
   "file_extension": ".py",
   "mimetype": "text/x-python",
   "name": "python",
   "nbconvert_exporter": "python",
   "pygments_lexer": "ipython3",
   "version": "3.9.10"
  }
 },
 "nbformat": 4,
 "nbformat_minor": 5
}
