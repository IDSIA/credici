{
 "cells": [
  {
   "cell_type": "code",
   "execution_count": 5,
   "metadata": {},
   "outputs": [],
   "source": [
    "import pandas as pd\n",
    "import numpy as np"
   ]
  },
  {
   "cell_type": "code",
   "execution_count": 6,
   "metadata": {},
   "outputs": [],
   "source": [
    "exact_column = \"exact_data_based\"\n",
    "eps = 0.000001\n",
    "\n",
    "import utils\n",
    "input = utils.load_data([\n",
    "    \"../results/synthetic/1000/set4_aggregated/\"\n",
    "], \"_x80_*\")\n"
   ]
  },
  {
   "cell_type": "markdown",
   "metadata": {},
   "source": [
    "get exact values using pgm method on the data"
   ]
  },
  {
   "cell_type": "code",
   "execution_count": 7,
   "metadata": {},
   "outputs": [],
   "source": [
    "# get exact rows\n",
    "exact_data = input[input.method == \"exact_data_based\"].copy()\n",
    "exact_data[\"identifiable\"] = (exact_data.pns_u - exact_data.pns_l).abs() < eps"
   ]
  },
  {
   "cell_type": "markdown",
   "metadata": {},
   "source": [
    "Merge stuff"
   ]
  },
  {
   "cell_type": "code",
   "execution_count": 22,
   "metadata": {},
   "outputs": [],
   "source": [
    "data = input[(input.method==\"EMCC\") ].merge(exact_data[[\"file\", \"identifiable\", \"pns_l\", \"pns_u\"]], on=\"file\")\n",
    "data_ps1_0 = data[data['index'] == 2] \n",
    "data_ps1_1 = data[data['index'] == 1]\n",
    "data = data[(data['index'] > 2) & (~data.identifiable)]\n",
    "data['ps1_disc'] = pd.cut(data.ps1, bins=5)"
   ]
  },
  {
   "cell_type": "code",
   "execution_count": 23,
   "metadata": {},
   "outputs": [],
   "source": [
    "data['error_diff'] = np.sqrt(((data.pns_l_x - data.pns_l_y) ** 2 + (data.pns_u_x - data.pns_u_y) ** 2) / 2) / (data.pns_u_x - data.pns_l_x)"
   ]
  },
  {
   "cell_type": "code",
   "execution_count": 24,
   "metadata": {},
   "outputs": [
    {
     "data": {
      "text/plain": [
       "<AxesSubplot:title={'center':'error_diff'}, xlabel='ps1_disc'>"
      ]
     },
     "execution_count": 24,
     "metadata": {},
     "output_type": "execute_result"
    },
    {
     "data": {
      "image/png": "[encoded data removed]",
      "text/plain": [
       "<Figure size 432x288 with 1 Axes>"
      ]
     },
     "metadata": {
      "needs_background": "light"
     },
     "output_type": "display_data"
    }
   ],
   "source": [
    "data.boxplot(\"error_diff\", by='ps1_disc')"
   ]
  },
  {
   "cell_type": "code",
   "execution_count": null,
   "metadata": {},
   "outputs": [],
   "source": []
  },
  {
   "cell_type": "code",
   "execution_count": 80,
   "metadata": {},
   "outputs": [],
   "source": [
    "samples = beta.rvs(1,1,size=300, loc=0.5, scale=0.3)"
   ]
  },
  {
   "cell_type": "code",
   "execution_count": 81,
   "metadata": {},
   "outputs": [
    {
     "data": {
      "text/plain": [
       "(1.0110493116405375, 0.9770198275994865, 0.5, 0.3)"
      ]
     },
     "execution_count": 81,
     "metadata": {},
     "output_type": "execute_result"
    }
   ],
   "source": [
    "beta.fit(samples, method=\"mle\", floc=0.5, fscale=0.3)\n"
   ]
  },
  {
   "cell_type": "code",
   "execution_count": null,
   "metadata": {},
   "outputs": [],
   "source": []
  }
 ],
 "metadata": {
  "interpreter": {
   "hash": "b2256cb237836e0b32ce22305984fd71b607e595669096085081827973a36ac7"
  },
  "kernelspec": {
   "display_name": "Python 3.9.12 ('causal')",
   "language": "python",
   "name": "python3"
  },
  "language_info": {
   "codemirror_mode": {
    "name": "ipython",
    "version": 3
   },
   "file_extension": ".py",
   "mimetype": "text/x-python",
   "name": "python",
   "nbconvert_exporter": "python",
   "pygments_lexer": "ipython3",
   "version": "3.9.12"
  },
  "orig_nbformat": 4
 },
 "nbformat": 4,
 "nbformat_minor": 2
}
