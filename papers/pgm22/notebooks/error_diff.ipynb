{
 "cells": [
  {
   "cell_type": "code",
   "execution_count": 6,
   "metadata": {},
   "outputs": [],
   "source": [
    "import pandas as pd\n",
    "import numpy as np\n",
    "import matplotlib.pyplot as plt\n",
    "import seaborn as sns"
   ]
  },
  {
   "cell_type": "markdown",
   "metadata": {},
   "source": []
  },
  {
   "cell_type": "code",
   "execution_count": 44,
   "metadata": {},
   "outputs": [],
   "source": [
    "eps = 0.000001\n",
    "\n",
    "import utils\n",
    "input = utils.load_data([\n",
    "    \"../results/synthetic/1000/set4_aggregated/\",\n",
    "], \"_x80_*\")\n",
    "\n",
    "data = utils.merge_exact(input, \"exact_data_based\")"
   ]
  },
  {
   "cell_type": "markdown",
   "metadata": {},
   "source": [
    "Merge stuff"
   ]
  },
  {
   "cell_type": "code",
   "execution_count": 45,
   "metadata": {},
   "outputs": [
    {
     "name": "stdout",
     "output_type": "stream",
     "text": [
      "(950, 196)\n",
      "950\n"
     ]
    }
   ],
   "source": [
    "data['error_diff'] = np.sqrt(((data.pns_l_x - data.pns_l_y) ** 2 + (data.pns_u_x - data.pns_u_y) ** 2) / 2) / (data.pns_u_x - data.pns_l_x)\n",
    "\n",
    "print(data.shape)\n",
    "print(len(np.abs(data.pns_u_x - data.pns_l_x) > 0.00001))\n",
    "\n",
    "data = data[np.abs(data.pns_u_x - data.pns_l_x) > 0.00001]\n",
    "\n",
    "data_ps1_0 = data[data['index'] == 2] \n",
    "data_ps1_1 = data[data['index'] == 10]\n",
    "data_ps1_x = data[data['index'] == 1]\n",
    "data = data[(data['index'] > 2) & (data['index'] != 10) & (~data.identifiable) & (data.selector)]\n",
    "\n",
    "data['ps1_disc'] = pd.cut(data.ps1, bins=5)\n",
    "data_ps1_0['ps1_disc'] = pd.Interval(0,0)\n",
    "data_ps1_1['ps1_disc'] = pd.Interval(1,1)\n",
    "\n",
    "data = pd.concat((data_ps1_0, data, data_ps1_1))\n",
    "#data['ps1_disc'] = data['ps1_disc'].astype(str)"
   ]
  },
  {
   "cell_type": "markdown",
   "metadata": {},
   "source": [
    "Sort columns by left bound of interval"
   ]
  },
  {
   "cell_type": "code",
   "execution_count": 46,
   "metadata": {},
   "outputs": [],
   "source": [
    "cols = np.msort(np.array([[i.left, i] for i in data.ps1_disc.unique()]))[:,1]"
   ]
  },
  {
   "cell_type": "markdown",
   "metadata": {},
   "source": [
    "# PNS RMSE against unbiased PGM bounds"
   ]
  },
  {
   "cell_type": "code",
   "execution_count": 47,
   "metadata": {},
   "outputs": [
    {
     "data": {
      "text/html": [
       "<div>\n",
       "<style scoped>\n",
       "    .dataframe tbody tr th:only-of-type {\n",
       "        vertical-align: middle;\n",
       "    }\n",
       "\n",
       "    .dataframe tbody tr th {\n",
       "        vertical-align: top;\n",
       "    }\n",
       "\n",
       "    .dataframe thead th {\n",
       "        text-align: right;\n",
       "    }\n",
       "</style>\n",
       "<table border=\"1\" class=\"dataframe\">\n",
       "  <thead>\n",
       "    <tr style=\"text-align: right;\">\n",
       "      <th></th>\n",
       "      <th>ps1_disc</th>\n",
       "      <th>error_diff</th>\n",
       "    </tr>\n",
       "  </thead>\n",
       "  <tbody>\n",
       "    <tr>\n",
       "      <th>2</th>\n",
       "      <td>(0.0, 0.0]</td>\n",
       "      <td>0.697289</td>\n",
       "    </tr>\n",
       "    <tr>\n",
       "      <th>13</th>\n",
       "      <td>(0.0, 0.0]</td>\n",
       "      <td>0.680744</td>\n",
       "    </tr>\n",
       "    <tr>\n",
       "      <th>24</th>\n",
       "      <td>(0.0, 0.0]</td>\n",
       "      <td>0.681408</td>\n",
       "    </tr>\n",
       "    <tr>\n",
       "      <th>35</th>\n",
       "      <td>(0.0, 0.0]</td>\n",
       "      <td>0.489692</td>\n",
       "    </tr>\n",
       "    <tr>\n",
       "      <th>46</th>\n",
       "      <td>(0.0, 0.0]</td>\n",
       "      <td>0.524079</td>\n",
       "    </tr>\n",
       "    <tr>\n",
       "      <th>...</th>\n",
       "      <td>...</td>\n",
       "      <td>...</td>\n",
       "    </tr>\n",
       "    <tr>\n",
       "      <th>978</th>\n",
       "      <td>(1.0, 1.0]</td>\n",
       "      <td>0.600838</td>\n",
       "    </tr>\n",
       "    <tr>\n",
       "      <th>989</th>\n",
       "      <td>(1.0, 1.0]</td>\n",
       "      <td>0.505332</td>\n",
       "    </tr>\n",
       "    <tr>\n",
       "      <th>1000</th>\n",
       "      <td>(1.0, 1.0]</td>\n",
       "      <td>0.118879</td>\n",
       "    </tr>\n",
       "    <tr>\n",
       "      <th>1011</th>\n",
       "      <td>(1.0, 1.0]</td>\n",
       "      <td>0.560727</td>\n",
       "    </tr>\n",
       "    <tr>\n",
       "      <th>1044</th>\n",
       "      <td>(1.0, 1.0]</td>\n",
       "      <td>0.005956</td>\n",
       "    </tr>\n",
       "  </tbody>\n",
       "</table>\n",
       "<p>564 rows × 2 columns</p>\n",
       "</div>"
      ],
      "text/plain": [
       "        ps1_disc  error_diff\n",
       "2     (0.0, 0.0]    0.697289\n",
       "13    (0.0, 0.0]    0.680744\n",
       "24    (0.0, 0.0]    0.681408\n",
       "35    (0.0, 0.0]    0.489692\n",
       "46    (0.0, 0.0]    0.524079\n",
       "...          ...         ...\n",
       "978   (1.0, 1.0]    0.600838\n",
       "989   (1.0, 1.0]    0.505332\n",
       "1000  (1.0, 1.0]    0.118879\n",
       "1011  (1.0, 1.0]    0.560727\n",
       "1044  (1.0, 1.0]    0.005956\n",
       "\n",
       "[564 rows x 2 columns]"
      ]
     },
     "execution_count": 47,
     "metadata": {},
     "output_type": "execute_result"
    }
   ],
   "source": [
    "data[[\"ps1_disc\", \"error_diff\"]]"
   ]
  },
  {
   "cell_type": "code",
   "execution_count": 48,
   "metadata": {},
   "outputs": [
    {
     "data": {
      "image/png": "[encoded data removed]",
      "text/plain": [
       "<Figure size 432x288 with 1 Axes>"
      ]
     },
     "metadata": {
      "needs_background": "light"
     },
     "output_type": "display_data"
    }
   ],
   "source": [
    "sns.boxplot(x=\"ps1_disc\", y=\"error_diff\", data=data, order=cols, color=\"seagreen\")\n",
    "plt.title(\"PNS RMSE against unbiased PGM bounds\")\n",
    "plt.xticks(rotation = 45)\n",
    "plt.tight_layout()\n",
    "plt.savefig(\"plot_data/PNS_vs_PGM_by_ps1.png\")\n",
    "data[[\"ps1_disc\", \"error_diff\"]].to_csv(\"plot_data/PNS_vs_PGM_by_ps1.csv\")\n"
   ]
  },
  {
   "cell_type": "code",
   "execution_count": 207,
   "metadata": {},
   "outputs": [],
   "source": [
    "data[[\"ps1_disc\", \"error_diff\",\"markovianity\"]].to_csv(\"PNS_vs_fulldataPGM.csv\")"
   ]
  },
  {
   "cell_type": "markdown",
   "metadata": {},
   "source": [
    "# PNS RMSE against unbiased PGM bounds by markovianity"
   ]
  },
  {
   "cell_type": "code",
   "execution_count": 17,
   "metadata": {},
   "outputs": [
    {
     "data": {
      "image/png": "[encoded data removed]",
      "text/plain": [
       "<Figure size 720x504 with 1 Axes>"
      ]
     },
     "metadata": {
      "needs_background": "light"
     },
     "output_type": "display_data"
    }
   ],
   "source": [
    "plt.figure(figsize=(10,7))\n",
    "ax = sns.boxplot(x=\"ps1_disc\", y=\"error_diff\", hue=\"markovianity\", data=data, order=cols)\n",
    "ax.set_title(f\"PNS RMSE against unbiased PGM bounds by markovianity\")\n",
    "    \n",
    "plt.setp(ax.get_xticklabels(), rotation=45, ha='right')\n",
    "plt.tight_layout()\n",
    "plt.savefig(\"plot_data/PNS_vs_PGM_by_ps1_markovianity.png\")\n",
    "data[[\"ps1_disc\",\"markovianity\", \"error_diff\"] ].to_csv(\"plot_data/PNS_vs_PGM_by_ps1_markovianity.csv\")"
   ]
  },
  {
   "cell_type": "code",
   "execution_count": null,
   "metadata": {},
   "outputs": [],
   "source": []
  }
 ],
 "metadata": {
  "interpreter": {
   "hash": "b2256cb237836e0b32ce22305984fd71b607e595669096085081827973a36ac7"
  },
  "kernelspec": {
   "display_name": "Python 3.9.12 ('causal')",
   "language": "python",
   "name": "python3"
  },
  "language_info": {
   "codemirror_mode": {
    "name": "ipython",
    "version": 3
   },
   "file_extension": ".py",
   "mimetype": "text/x-python",
   "name": "python",
   "nbconvert_exporter": "python",
   "pygments_lexer": "ipython3",
   "version": "3.9.12"
  },
  "orig_nbformat": 4
 },
 "nbformat": 4,
 "nbformat_minor": 2
}
