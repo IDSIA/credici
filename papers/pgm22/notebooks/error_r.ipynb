{
 "cells": [
  {
   "cell_type": "code",
   "execution_count": 101,
   "metadata": {},
   "outputs": [],
   "source": [
    "import pandas as pd\n",
    "import numpy as np\n",
    "import matplotlib.pyplot as plt\n",
    "import seaborn as sns\n",
    "import glob"
   ]
  },
  {
   "cell_type": "code",
   "execution_count": null,
   "metadata": {},
   "outputs": [],
   "source": []
  },
  {
   "cell_type": "code",
   "execution_count": 102,
   "metadata": {},
   "outputs": [],
   "source": [
    "exact_column = \"exact_data_based\"\n",
    "eps = 0.000001\n",
    "\n",
    "import utils\n",
    "input = utils.load_data([\n",
    "    \"../results/synthetic/1000/set5/\",\n",
    "    \"../results/synthetic/1000/set4_aggregated/\",\n",
    "], \"_x80_*\")\n",
    "\n",
    "data = utils.merge_exact(input, \"exact_data_based\")\n",
    "data = data[data.selector & (~data.identifiable)]"
   ]
  },
  {
   "cell_type": "markdown",
   "metadata": {},
   "source": [
    "# plot PNS of less EMCC agains bounds of 80 runs"
   ]
  },
  {
   "cell_type": "code",
   "execution_count": 103,
   "metadata": {},
   "outputs": [],
   "source": [
    "l = data.pns_l_x\n",
    "u = data.pns_u_x\n",
    "\n",
    "for n in range(80): # 0-79\n",
    "    cols = [f\"pns_{i}\" for i in range(n+1)] # 0-[0-1]-[0-79]\n",
    "    a = data[cols].min(axis=1)\n",
    "    b = data[cols].max(axis=1)\n",
    "    \n",
    "    data[f'error_r_{n+1}'] = np.sqrt(((l - a) ** 2 + (u - b) ** 2) / 2) / (u - l)\n",
    "\n",
    "data[\"L\"] = u - l"
   ]
  },
  {
   "cell_type": "code",
   "execution_count": 104,
   "metadata": {},
   "outputs": [],
   "source": [
    "ns = [10, 20, 30, 40, 50, 60, 70]\n",
    "\n",
    "nsname=str.join(\"-\", np.array(ns).astype(str))\n",
    "err_cols = [f'error_r_{i}' for i in ns]"
   ]
  },
  {
   "cell_type": "code",
   "execution_count": 116,
   "metadata": {},
   "outputs": [],
   "source": [
    "a = data.pns_l_x\n",
    "b = data.pns_u_x\n",
    "L = b - a\n",
    "n = 80\n",
    "for eps in [0.001, 0.005, 0.0075, 0.01, 0.05, 0.075, 0.1 ]:\n",
    "    data[f'p_unif_{eps}'] = (\n",
    "        (\n",
    "            1 + (1 + 2*eps)**(2 - n) - 2 * (1 + eps) ** (2-n)\n",
    "        ) / (\n",
    "            (1 - L ** (n - 2)) - (n - 2) * (1 - L) * L ** (n - 2)\n",
    "        )\n",
    "    )\n",
    "\n"
   ]
  },
  {
   "cell_type": "code",
   "execution_count": 117,
   "metadata": {},
   "outputs": [
    {
     "data": {
      "text/plain": [
       "count    666.000000\n",
       "mean       0.006932\n",
       "std        0.021283\n",
       "min        0.005692\n",
       "25%        0.005692\n",
       "50%        0.005692\n",
       "75%        0.005692\n",
       "max        0.549799\n",
       "Name: p_unif_0.001, dtype: float64"
      ]
     },
     "execution_count": 117,
     "metadata": {},
     "output_type": "execute_result"
    }
   ],
   "source": [
    "data[f\"p_unif_0.001\"].describe()"
   ]
  },
  {
   "cell_type": "code",
   "execution_count": 106,
   "metadata": {},
   "outputs": [
    {
     "data": {
      "image/png": "[encoded data removed]",
      "text/plain": [
       "<Figure size 432x288 with 1 Axes>"
      ]
     },
     "metadata": {
      "needs_background": "light"
     },
     "output_type": "display_data"
    }
   ],
   "source": [
    "d = data\n",
    "\n",
    "\n",
    "dta = pd.melt(d[err_cols + [\"markovianity\"]], id_vars=\"markovianity\")\n",
    "dta[\"n\"]=dta.variable.str.split(\"_\").str[-1].astype(int)\n",
    "sns.boxplot(x=\"markovianity\", hue=\"n\", y=\"value\", data=dta, hue_order=ns)\n",
    "plt.title(\"PNS EMCC Runs diff vs full by treewidth\")\n",
    "plt.tight_layout()\n",
    "plt.savefig(f\"PNS_runs_all_{nsname}.png\")\n",
    "plt.show()\n",
    "\n",
    "\n",
    "# save boxplots\n",
    "with np.printoptions(linewidth=100000):\n",
    "    utils.boxplots(dta, \"value\", \"markovianity\", \"n\").to_csv(f\"paper_data/boxplot_RRMSE.csv\")"
   ]
  },
  {
   "cell_type": "markdown",
   "metadata": {},
   "source": [
    "# now by the range of the interval"
   ]
  },
  {
   "cell_type": "code",
   "execution_count": 107,
   "metadata": {},
   "outputs": [
    {
     "data": {
      "text/plain": [
       "count    6.660000e+02\n",
       "mean     3.690847e-01\n",
       "std      3.060551e-01\n",
       "min      7.520155e-08\n",
       "25%      1.026708e-01\n",
       "50%      2.687492e-01\n",
       "75%      6.369577e-01\n",
       "max      9.980746e-01\n",
       "Name: L, dtype: float64"
      ]
     },
     "execution_count": 107,
     "metadata": {},
     "output_type": "execute_result"
    }
   ],
   "source": [
    "data.L.describe()"
   ]
  },
  {
   "cell_type": "code",
   "execution_count": 108,
   "metadata": {},
   "outputs": [],
   "source": [
    "data['error_diff'] = np.sqrt(((data.pns_l_x - data.pns_l_y) ** 2 + (data.pns_u_x - data.pns_u_y) ** 2) / 2) / (data.pns_u_x - data.pns_l_x)\n",
    "\n",
    "data_ps1_0 = data[data['index'] == 2].copy() \n",
    "data_ps1_1 = data[data['index'] == 10].copy()\n",
    "data_ps1_x = data[data['index'] == 1]\n",
    "data_mid = data[(data['index'] > 2) & (data['index'] != 10)].copy()\n",
    "\n",
    "data_mid['ps1_disc'] = pd.cut(data_mid.ps1, bins=5)\n",
    "data_ps1_0['ps1_disc'] = pd.Interval(0,0)\n",
    "data_ps1_1['ps1_disc'] = pd.Interval(1,1)\n",
    "\n",
    "data = pd.concat((data_ps1_0, data_mid, data_ps1_1))\n",
    "#data['ps1_disc'] = data['ps1_disc'].astype(str)\n",
    "\n",
    "cols = np.msort(np.array([[i.left, i] for i in data.ps1_disc.unique()]))[:,1]"
   ]
  },
  {
   "cell_type": "code",
   "execution_count": 109,
   "metadata": {},
   "outputs": [
    {
     "data": {
      "image/png": "[encoded data removed]",
      "text/plain": [
       "<Figure size 432x288 with 1 Axes>"
      ]
     },
     "metadata": {
      "needs_background": "light"
     },
     "output_type": "display_data"
    }
   ],
   "source": [
    "d = data[data.L < 0.00001]\n",
    "sns.boxplot(x=\"ps1_disc\", y=\"error_diff\", data=d, order=cols, color=\"seagreen\")\n",
    "plt.title(\"PNS RMSE against unbiased PGM bounds\")\n",
    "plt.xticks(rotation = 45)\n",
    "plt.tight_layout()\n",
    "#plt.savefig(\"plot_data/PNS_vs_PGM_by_ps1.png\")\n"
   ]
  },
  {
   "cell_type": "markdown",
   "metadata": {},
   "source": [
    "# interesting cols\n",
    "\n",
    "p_unif: p computed on 80 point using the old p formula\n",
    "\n",
    "ps1_disc: discretization (7 values: 0-0, 5 discretizations of ps1 and 1-1)\n",
    "\n",
    "markovianity\n",
    "\n",
    "error_diff : RRMSE a* b* vs pns_pgm bounds (on unbiased data)\n",
    "\n",
    "error_r_[1-80]: difference between subset of pns with all 80 pns. error_r_80 == 1.0\n",
    "\n",
    "L: b* - a*\n",
    "\n"
   ]
  },
  {
   "cell_type": "code",
   "execution_count": 110,
   "metadata": {},
   "outputs": [],
   "source": [
    "data.to_csv(\"paper_data/data.csv\")"
   ]
  },
  {
   "cell_type": "code",
   "execution_count": null,
   "metadata": {},
   "outputs": [],
   "source": []
  }
 ],
 "metadata": {
  "interpreter": {
   "hash": "b2256cb237836e0b32ce22305984fd71b607e595669096085081827973a36ac7"
  },
  "kernelspec": {
   "display_name": "Python 3.9.12 ('causal')",
   "language": "python",
   "name": "python3"
  },
  "language_info": {
   "codemirror_mode": {
    "name": "ipython",
    "version": 3
   },
   "file_extension": ".py",
   "mimetype": "text/x-python",
   "name": "python",
   "nbconvert_exporter": "python",
   "pygments_lexer": "ipython3",
   "version": "3.9.12"
  },
  "orig_nbformat": 4
 },
 "nbformat": 4,
 "nbformat_minor": 2
}
