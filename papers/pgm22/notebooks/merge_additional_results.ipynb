{
 "cells": [
  {
   "cell_type": "code",
   "execution_count": 273,
   "id": "9fd196f2-0f22-48a2-9407-11bad29316e1",
   "metadata": {},
   "outputs": [],
   "source": [
    "import pandas as pd \n",
    "from pathlib import Path\n",
    "import re\n"
   ]
  },
  {
   "cell_type": "code",
   "execution_count": 274,
   "id": "b02c35cd-6e2f-4c8a-bb94-31d066485f41",
   "metadata": {},
   "outputs": [
    {
     "data": {
      "text/plain": [
       "True"
      ]
     },
     "execution_count": 274,
     "metadata": {},
     "output_type": "execute_result"
    }
   ],
   "source": [
    "folder =  Path(\"../results/synthetic/1000/set4/\")\n",
    "folder.exists()\n"
   ]
  },
  {
   "cell_type": "code",
   "execution_count": 275,
   "id": "ccd2841e-b9ef-41c6-ade4-a488ee40e835",
   "metadata": {},
   "outputs": [
    {
     "data": {
      "text/plain": [
       "98"
      ]
     },
     "execution_count": 275,
     "metadata": {},
     "output_type": "execute_result"
    }
   ],
   "source": [
    "def get_id(f):\n",
    "    return re.sub(\"_x[0-9]*\", \"_x[0-9]*\", str(f).split(\"/\")[-1]) \n",
    "\n",
    "\n",
    "MODELS = list(set([get_id(f) for f in list(folder.rglob(\"*.csv\"))]))\n",
    "len(MODELS)"
   ]
  },
  {
   "cell_type": "code",
   "execution_count": 276,
   "id": "4540a60b-da65-4a61-8cdb-f61d48255fa8",
   "metadata": {},
   "outputs": [],
   "source": [
    "\n",
    "def fix_file(file):\n",
    "    with open(file, \"r\") as f:\n",
    "        data = f.read()\n",
    "\n",
    "    if '\", ' in data or 'treewdith' in data: \n",
    "        with open(file, \"w\") as f:\n",
    "            f.write(re.sub('\", ', '|', re.sub('treewdith', 'treewidth', data)))\n",
    "            \n",
    "            \n",
    "    \n",
    "\n",
    "for f in folder.rglob(\"*.csv\"):\n",
    "    fix_file(f)"
   ]
  },
  {
   "cell_type": "code",
   "execution_count": 270,
   "id": "dbe17ae4-5444-4de7-b035-5522c05faf87",
   "metadata": {},
   "outputs": [],
   "source": [
    "def aggregate_data(m):\n",
    "    files = list(folder.rglob(m))\n",
    "\n",
    "    # the first should be the non additional\n",
    "    files = [f for f in files if \"additional\" not in str(f)] + [f for f in files if \"additional\" in str(f)]\n",
    "\n",
    "    data = [pd.read_csv(f) for f in files]\n",
    "    full_data = data[0]\n",
    "\n",
    "    for i in range(1,len(files)):\n",
    "        d = data[i]\n",
    "        pns_count = len([c for c in full_data.columns if re.match(\"pns_[0-9]+\", c)])\n",
    "\n",
    "        full_data[\"time_learn_runs\"] = pns_count\n",
    "\n",
    "        new_names_pns = {c:f'pns_{int(c.split(\"pns_\")[-1]) + pns_count}' for c in d.columns if re.match(\"pns_[0-9]+\", c)}\n",
    "        d = d.rename(columns=new_names_pns)\n",
    "\n",
    "        new_names_trs = {c:f'trajectory_size_{int(c.split(\"trajectory_size_\")[-1]) + pns_count}' for c in d.columns if re.match(\"trajectory_size_[0-9]+\", c)}\n",
    "        d = d.rename(columns=new_names_trs)\n",
    "\n",
    "        d_cols = [\"method\", \"selector\", \"ps1\", \"treewidth\", \"bias_endo_treewidth\", \"endo_treewidth\", \"bias_treewidth\", \"time_learn\"] + list(new_names_pns.values()) + list(new_names_trs.values())\n",
    "        full_data = pd.concat([full_data, d[d_cols]], axis=1 )\n",
    "\n",
    "\n",
    "    df = full_data\n",
    "    pns_u = df[[c for c in df.columns if re.match(\"pns_[0-9]*\", c)]].max(axis=1)\n",
    "    pns_l = df[[c for c in df.columns if re.match(\"pns_[0-9]*\", c)]].min(axis=1)\n",
    "\n",
    "    df.pns_u = pns_u\n",
    "    df.pns_l = pns_l\n",
    "\n",
    "    full_data = df\n",
    "\n",
    "    num_iter = len([c for c in full_data.columns if re.match(\"pns_[0-9]+\", c)])\n",
    "    num_iter\n",
    "\n",
    "    new_name = m.replace(\"_x[0-9]*\", f\"_x{num_iter}\")\n",
    "    new_folder = Path(str(folder)+\"_aggregated\")\n",
    "    if not new_folder.exists():\n",
    "        new_folder.mkdir()\n",
    "\n",
    "    new_file = Path(new_folder, new_name)\n",
    "    print(new_file)\n",
    "    full_data.to_csv(new_file)"
   ]
  },
  {
   "cell_type": "code",
   "execution_count": 271,
   "id": "6f403658-d3e5-419d-8c47-f4696a842d93",
   "metadata": {},
   "outputs": [
    {
     "name": "stdout",
     "output_type": "stream",
     "text": [
      "../results/synthetic/1000/set4_aggregated/rand13_mk0_nEndo5_k05_3_mIter300_wtrue_sparents3_x80_0.csv\n",
      "../results/synthetic/1000/set4_aggregated/rand13_mk1_maxDist2_nEndo5_k05_2_mIter300_wtrue_sparents3_x80_0.csv\n",
      "../results/synthetic/1000/set4_aggregated/rand13_mk1_maxDist2_nEndo4_k075_3_mIter300_wtrue_sparents3_x80_0.csv\n",
      "../results/synthetic/1000/set4_aggregated/rand13_mk1_maxDist2_nEndo6_k10_4_mIter300_wtrue_sparents3_x80_0.csv\n",
      "../results/synthetic/1000/set4_aggregated/rand13_mk1_maxDist2_nEndo4_k075_4_mIter300_wtrue_sparents3_x80_0.csv\n",
      "../results/synthetic/1000/set4_aggregated/rand13_mk1_maxDist2_nEndo5_k05_5_mIter300_wtrue_sparents3_x80_0.csv\n",
      "../results/synthetic/1000/set4_aggregated/rand13_mk0_nEndo4_k05_1_mIter300_wtrue_sparents3_x80_0.csv\n",
      "../results/synthetic/1000/set4_aggregated/rand13_mk1_maxDist2_nEndo6_k075_4_mIter300_wtrue_sparents3_x80_0.csv\n",
      "../results/synthetic/1000/set4_aggregated/rand13_mk0_nEndo4_k05_5_mIter300_wtrue_sparents3_x80_0.csv\n",
      "../results/synthetic/1000/set4_aggregated/rand13_mk0_nEndo6_k075_2_mIter300_wtrue_sparents3_x80_0.csv\n",
      "../results/synthetic/1000/set4_aggregated/rand13_mk1_maxDist2_nEndo5_k05_3_mIter300_wtrue_sparents3_x80_0.csv\n",
      "../results/synthetic/1000/set4_aggregated/rand13_mk0_nEndo5_k075_5_mIter300_wtrue_sparents3_x80_0.csv\n",
      "../results/synthetic/1000/set4_aggregated/rand13_mk1_maxDist2_nEndo5_k075_2_mIter300_wtrue_sparents3_x80_0.csv\n",
      "../results/synthetic/1000/set4_aggregated/rand13_mk1_maxDist2_nEndo5_k10_1_mIter300_wtrue_sparents3_x80_0.csv\n",
      "../results/synthetic/1000/set4_aggregated/rand13_mk1_maxDist2_nEndo6_k05_2_mIter300_wtrue_sparents3_x80_0.csv\n",
      "../results/synthetic/1000/set4_aggregated/rand13_mk1_maxDist2_nEndo4_k10_4_mIter300_wtrue_sparents3_x80_0.csv\n",
      "../results/synthetic/1000/set4_aggregated/rand13_mk1_maxDist2_nEndo6_k05_0_mIter300_wtrue_sparents3_x80_0.csv\n",
      "../results/synthetic/1000/set4_aggregated/rand13_mk0_nEndo5_k10_2_mIter300_wtrue_sparents3_x80_0.csv\n",
      "../results/synthetic/1000/set4_aggregated/rand13_mk1_maxDist2_nEndo5_k05_1_mIter300_wtrue_sparents3_x80_0.csv\n",
      "../results/synthetic/1000/set4_aggregated/rand13_mk0_nEndo6_k05_5_mIter300_wtrue_sparents3_x80_0.csv\n",
      "../results/synthetic/1000/set4_aggregated/rand13_mk0_nEndo4_k10_3_mIter300_wtrue_sparents3_x30_0.csv\n",
      "../results/synthetic/1000/set4_aggregated/rand13_mk0_nEndo5_k10_1_mIter300_wtrue_sparents3_x80_0.csv\n",
      "../results/synthetic/1000/set4_aggregated/rand13_mk1_maxDist2_nEndo4_k05_1_mIter300_wtrue_sparents3_x80_0.csv\n",
      "../results/synthetic/1000/set4_aggregated/rand13_mk1_maxDist2_nEndo6_k10_1_mIter300_wtrue_sparents3_x80_0.csv\n",
      "../results/synthetic/1000/set4_aggregated/rand13_mk1_maxDist2_nEndo6_k10_3_mIter300_wtrue_sparents3_x80_0.csv\n",
      "../results/synthetic/1000/set4_aggregated/rand13_mk1_maxDist2_nEndo6_k075_2_mIter300_wtrue_sparents3_x80_0.csv\n",
      "../results/synthetic/1000/set4_aggregated/rand13_mk0_nEndo6_k05_2_mIter300_wtrue_sparents3_x50_0.csv\n",
      "../results/synthetic/1000/set4_aggregated/rand13_mk1_maxDist2_nEndo5_k05_0_mIter300_wtrue_sparents3_x80_0.csv\n",
      "../results/synthetic/1000/set4_aggregated/rand13_mk0_nEndo5_k075_3_mIter300_wtrue_sparents3_x80_0.csv\n",
      "../results/synthetic/1000/set4_aggregated/rand13_mk1_maxDist2_nEndo4_k05_0_mIter300_wtrue_sparents3_x80_0.csv\n",
      "../results/synthetic/1000/set4_aggregated/rand13_mk1_maxDist2_nEndo5_k10_3_mIter300_wtrue_sparents3_x80_0.csv\n",
      "../results/synthetic/1000/set4_aggregated/rand13_mk0_nEndo6_k075_0_mIter300_wtrue_sparents3_x50_0.csv\n",
      "../results/synthetic/1000/set4_aggregated/rand13_mk0_nEndo4_k075_3_mIter300_wtrue_sparents3_x30_0.csv\n",
      "../results/synthetic/1000/set4_aggregated/rand13_mk0_nEndo5_k075_1_mIter300_wtrue_sparents3_x80_0.csv\n",
      "../results/synthetic/1000/set4_aggregated/rand13_mk0_nEndo4_k075_2_mIter300_wtrue_sparents3_x30_0.csv\n",
      "../results/synthetic/1000/set4_aggregated/rand13_mk0_nEndo6_k075_3_mIter300_wtrue_sparents3_x80_0.csv\n",
      "../results/synthetic/1000/set4_aggregated/rand13_mk1_maxDist2_nEndo4_k05_5_mIter300_wtrue_sparents3_x80_0.csv\n",
      "../results/synthetic/1000/set4_aggregated/rand13_mk1_maxDist2_nEndo5_k10_5_mIter300_wtrue_sparents3_x80_0.csv\n",
      "../results/synthetic/1000/set4_aggregated/rand13_mk1_maxDist2_nEndo5_k10_2_mIter300_wtrue_sparents3_x80_0.csv\n",
      "../results/synthetic/1000/set4_aggregated/rand13_mk0_nEndo6_k05_4_mIter300_wtrue_sparents3_x80_0.csv\n",
      "../results/synthetic/1000/set4_aggregated/rand13_mk0_nEndo5_k05_0_mIter300_wtrue_sparents3_x80_0.csv\n",
      "../results/synthetic/1000/set4_aggregated/rand13_mk0_nEndo6_k075_4_mIter300_wtrue_sparents3_x80_0.csv\n",
      "../results/synthetic/1000/set4_aggregated/rand13_mk1_maxDist2_nEndo5_k075_4_mIter300_wtrue_sparents3_x80_0.csv\n",
      "../results/synthetic/1000/set4_aggregated/rand13_mk0_nEndo5_k05_1_mIter300_wtrue_sparents3_x80_0.csv\n",
      "../results/synthetic/1000/set4_aggregated/rand13_mk0_nEndo5_k05_5_mIter300_wtrue_sparents3_x80_0.csv\n",
      "../results/synthetic/1000/set4_aggregated/rand13_mk1_maxDist2_nEndo4_k05_2_mIter300_wtrue_sparents3_x80_0.csv\n",
      "../results/synthetic/1000/set4_aggregated/rand13_mk1_maxDist2_nEndo4_k10_1_mIter300_wtrue_sparents3_x80_0.csv\n",
      "../results/synthetic/1000/set4_aggregated/rand13_mk0_nEndo5_k05_4_mIter300_wtrue_sparents3_x80_0.csv\n",
      "../results/synthetic/1000/set4_aggregated/rand13_mk1_maxDist2_nEndo5_k10_0_mIter300_wtrue_sparents3_x80_0.csv\n",
      "../results/synthetic/1000/set4_aggregated/rand13_mk1_maxDist2_nEndo5_k05_4_mIter300_wtrue_sparents3_x80_0.csv\n",
      "../results/synthetic/1000/set4_aggregated/rand13_mk1_maxDist2_nEndo4_k10_2_mIter300_wtrue_sparents3_x80_0.csv\n",
      "../results/synthetic/1000/set4_aggregated/rand13_mk0_nEndo5_k10_5_mIter300_wtrue_sparents3_x80_0.csv\n",
      "../results/synthetic/1000/set4_aggregated/rand13_mk1_maxDist2_nEndo4_k075_2_mIter300_wtrue_sparents3_x80_0.csv\n",
      "../results/synthetic/1000/set4_aggregated/rand13_mk0_nEndo4_k05_0_mIter300_wtrue_sparents3_x80_0.csv\n",
      "../results/synthetic/1000/set4_aggregated/rand13_mk0_nEndo6_k10_0_mIter300_wtrue_sparents3_x80_0.csv\n",
      "../results/synthetic/1000/set4_aggregated/rand13_mk0_nEndo4_k05_4_mIter300_wtrue_sparents3_x80_0.csv\n",
      "../results/synthetic/1000/set4_aggregated/rand13_mk1_maxDist2_nEndo4_k05_4_mIter300_wtrue_sparents3_x80_0.csv\n",
      "../results/synthetic/1000/set4_aggregated/rand13_mk0_nEndo4_k05_2_mIter300_wtrue_sparents3_x30_0.csv\n",
      "../results/synthetic/1000/set4_aggregated/rand13_mk0_nEndo4_k075_4_mIter300_wtrue_sparents3_x80_0.csv\n",
      "../results/synthetic/1000/set4_aggregated/rand13_mk0_nEndo5_k05_2_mIter300_wtrue_sparents3_x30_0.csv\n",
      "../results/synthetic/1000/set4_aggregated/rand13_mk0_nEndo6_k075_5_mIter300_wtrue_sparents3_x80_0.csv\n",
      "../results/synthetic/1000/set4_aggregated/rand13_mk0_nEndo5_k075_4_mIter300_wtrue_sparents3_x80_0.csv\n",
      "../results/synthetic/1000/set4_aggregated/rand13_mk0_nEndo4_k075_0_mIter300_wtrue_sparents3_x80_0.csv\n",
      "../results/synthetic/1000/set4_aggregated/rand13_mk0_nEndo4_k10_1_mIter300_wtrue_sparents3_x80_0.csv\n",
      "../results/synthetic/1000/set4_aggregated/rand13_mk0_nEndo4_k10_5_mIter300_wtrue_sparents3_x80_0.csv\n",
      "../results/synthetic/1000/set4_aggregated/rand13_mk1_maxDist2_nEndo4_k10_3_mIter300_wtrue_sparents3_x80_0.csv\n",
      "../results/synthetic/1000/set4_aggregated/rand13_mk1_maxDist2_nEndo5_k075_5_mIter300_wtrue_sparents3_x80_0.csv\n",
      "../results/synthetic/1000/set4_aggregated/rand13_mk0_nEndo4_k10_4_mIter300_wtrue_sparents3_x80_0.csv\n",
      "../results/synthetic/1000/set4_aggregated/rand13_mk1_maxDist2_nEndo4_k075_5_mIter300_wtrue_sparents3_x80_0.csv\n",
      "../results/synthetic/1000/set4_aggregated/rand13_mk0_nEndo6_k10_3_mIter300_wtrue_sparents3_x80_0.csv\n",
      "../results/synthetic/1000/set4_aggregated/rand13_mk0_nEndo6_k10_1_mIter300_wtrue_sparents3_x80_0.csv\n",
      "../results/synthetic/1000/set4_aggregated/rand13_mk1_maxDist2_nEndo6_k10_5_mIter300_wtrue_sparents3_x80_0.csv\n",
      "../results/synthetic/1000/set4_aggregated/rand13_mk1_maxDist2_nEndo6_k075_5_mIter300_wtrue_sparents3_x80_0.csv\n",
      "../results/synthetic/1000/set4_aggregated/rand13_mk0_nEndo4_k10_0_mIter300_wtrue_sparents3_x80_0.csv\n",
      "../results/synthetic/1000/set4_aggregated/rand13_mk0_nEndo6_k05_1_mIter300_wtrue_sparents3_x80_0.csv\n",
      "../results/synthetic/1000/set4_aggregated/rand13_mk0_nEndo6_k10_2_mIter300_wtrue_sparents3_x50_0.csv\n",
      "../results/synthetic/1000/set4_aggregated/rand13_mk0_nEndo6_k10_4_mIter300_wtrue_sparents3_x80_0.csv\n",
      "../results/synthetic/1000/set4_aggregated/rand13_mk1_maxDist2_nEndo4_k10_0_mIter300_wtrue_sparents3_x80_0.csv\n",
      "../results/synthetic/1000/set4_aggregated/rand13_mk1_maxDist2_nEndo4_k075_0_mIter300_wtrue_sparents3_x80_0.csv\n",
      "../results/synthetic/1000/set4_aggregated/rand13_mk0_nEndo6_k05_3_mIter300_wtrue_sparents3_x80_0.csv\n",
      "../results/synthetic/1000/set4_aggregated/rand13_mk0_nEndo4_k05_3_mIter300_wtrue_sparents3_x30_0.csv\n",
      "../results/synthetic/1000/set4_aggregated/rand13_mk0_nEndo4_k10_2_mIter300_wtrue_sparents3_x30_0.csv\n",
      "../results/synthetic/1000/set4_aggregated/rand13_mk0_nEndo6_k075_1_mIter300_wtrue_sparents3_x80_0.csv\n",
      "../results/synthetic/1000/set4_aggregated/rand13_mk0_nEndo5_k075_0_mIter300_wtrue_sparents3_x80_0.csv\n",
      "../results/synthetic/1000/set4_aggregated/rand13_mk1_maxDist2_nEndo5_k075_0_mIter300_wtrue_sparents3_x80_0.csv\n",
      "../results/synthetic/1000/set4_aggregated/rand13_mk1_maxDist2_nEndo5_k075_1_mIter300_wtrue_sparents3_x80_0.csv\n",
      "../results/synthetic/1000/set4_aggregated/rand13_mk0_nEndo4_k075_5_mIter300_wtrue_sparents3_x80_0.csv\n",
      "../results/synthetic/1000/set4_aggregated/rand13_mk1_maxDist2_nEndo4_k05_3_mIter300_wtrue_sparents3_x80_0.csv\n",
      "../results/synthetic/1000/set4_aggregated/rand13_mk0_nEndo4_k075_1_mIter300_wtrue_sparents3_x80_0.csv\n",
      "../results/synthetic/1000/set4_aggregated/rand13_mk1_maxDist2_nEndo4_k10_5_mIter300_wtrue_sparents3_x80_0.csv\n",
      "../results/synthetic/1000/set4_aggregated/rand13_mk0_nEndo5_k10_3_mIter300_wtrue_sparents3_x80_0.csv\n",
      "../results/synthetic/1000/set4_aggregated/rand13_mk0_nEndo6_k10_5_mIter300_wtrue_sparents3_x80_0.csv\n",
      "../results/synthetic/1000/set4_aggregated/rand13_mk0_nEndo5_k10_0_mIter300_wtrue_sparents3_x80_0.csv\n",
      "../results/synthetic/1000/set4_aggregated/rand13_mk1_maxDist2_nEndo6_k10_2_mIter300_wtrue_sparents3_x80_0.csv\n",
      "../results/synthetic/1000/set4_aggregated/rand13_mk1_maxDist2_nEndo5_k075_3_mIter300_wtrue_sparents3_x80_0.csv\n",
      "../results/synthetic/1000/set4_aggregated/rand13_mk0_nEndo5_k10_4_mIter300_wtrue_sparents3_x80_0.csv\n",
      "../results/synthetic/1000/set4_aggregated/rand13_mk1_maxDist2_nEndo4_k075_1_mIter300_wtrue_sparents3_x80_0.csv\n",
      "../results/synthetic/1000/set4_aggregated/rand13_mk0_nEndo5_k075_2_mIter300_wtrue_sparents3_x80_0.csv\n"
     ]
    }
   ],
   "source": [
    "for m in MODELS:\n",
    "    aggregate_data(m)"
   ]
  },
  {
   "cell_type": "code",
   "execution_count": 263,
   "id": "60de3df5-b8f0-48ca-9b4e-69df6de99183",
   "metadata": {},
   "outputs": [],
   "source": []
  },
  {
   "cell_type": "code",
   "execution_count": 186,
   "id": "73fc073b-3ecb-47cc-ad20-13047dd224a3",
   "metadata": {},
   "outputs": [],
   "source": []
  },
  {
   "cell_type": "code",
   "execution_count": null,
   "id": "1fb67ae7-aea1-4900-b5b2-c999d7f81f67",
   "metadata": {},
   "outputs": [],
   "source": []
  }
 ],
 "metadata": {
  "kernelspec": {
   "display_name": "Python 3 (ipykernel)",
   "language": "python",
   "name": "python3"
  },
  "language_info": {
   "codemirror_mode": {
    "name": "ipython",
    "version": 3
   },
   "file_extension": ".py",
   "mimetype": "text/x-python",
   "name": "python",
   "nbconvert_exporter": "python",
   "pygments_lexer": "ipython3",
   "version": "3.9.10"
  }
 },
 "nbformat": 4,
 "nbformat_minor": 5
}
