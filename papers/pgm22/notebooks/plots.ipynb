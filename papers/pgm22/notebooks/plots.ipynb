{
 "cells": [
  {
   "cell_type": "code",
   "execution_count": 83,
   "metadata": {},
   "outputs": [],
   "source": [
    "import pandas as pd\n",
    "import numpy as np\n",
    "\n",
    "import matplotlib.pyplot as plt"
   ]
  },
  {
   "cell_type": "code",
   "execution_count": 66,
   "metadata": {},
   "outputs": [],
   "source": [
    "import utils\n",
    "data = utils.load_data([\n",
    "    \"../results/synthetic/1000/set1/\"\n",
    "])"
   ]
  },
  {
   "cell_type": "code",
   "execution_count": 73,
   "metadata": {},
   "outputs": [],
   "source": [
    "groups = {\n",
    "    \"num_endogenous\": data.num_endogenous.unique(), \n",
    "    \"markovianity\": data.markovianity.unique() \n",
    "}"
   ]
  },
  {
   "cell_type": "code",
   "execution_count": null,
   "metadata": {},
   "outputs": [],
   "source": [
    "bins=5\n",
    "by = \"quant_ps1\"\n",
    "#by = \"disc_ps1\""
   ]
  },
  {
   "cell_type": "code",
   "execution_count": 84,
   "metadata": {},
   "outputs": [],
   "source": [
    "# discretize\n",
    "data[\"disc_ps1\"] = pd.cut(data.ps1, bins=bins)\n",
    "data[\"quant_ps1\"] = pd.qcut(data.ps1, q=bins, duplicates=\"drop\")\n",
    "\n",
    "# get exact rows\n",
    "exact = data[data.method == \"exact\"]\n",
    "\n",
    "# get only ps1=1 where selctor is true\n",
    "ps1_1 = data[(data.method == \"EMCC\") & (data.ps1 >= 1.0) & (data.selector)]\n",
    "\n",
    "# add excat column to all rows\n",
    "data2 = data.merge(exact[[\"file\", \"pns_l\", \"pns_u\"]], on=\"file\")\n",
    "data2 = data2[(data2.method==\"EMCC\") & (data2.selector)]\n",
    "\n",
    "data2[\"r_pns_l\"] = (data2.pns_l_x - data2.pns_l_y)\n",
    "data2[\"r_pns_u\"] = (data2.pns_u_x - data2.pns_u_y)\n",
    "\n",
    "for key in groups:\n",
    "    for value in groups[key]:\n",
    "        fig, ax = plt.subplots(2,1, figsize=(15,15))\n",
    "        \n",
    "        filter = data2[key] == value\n",
    "\n",
    "        axu = data2[filter].boxplot(\"r_pns_u\", by=by,  ax=ax[0])\n",
    "        axl = data2[filter].boxplot(\"r_pns_l\", by=by,  ax=ax[1])\n",
    "\n",
    "        axu.set_title(\"difference with exact upper\")\n",
    "        axl.set_title(\"difference with exact lower\")\n",
    "\n",
    "        axu.set_ylim(-0.25,1)\n",
    "        axl.set_ylim(-0.25,1)\n",
    "\n",
    "        fig.suptitle(f\"Errors on Pns by discretized Ps1. {key} == {value}\")\n",
    "        \n",
    "        fig.savefig(f\"plots/error_by_{bins}_{by}_{key}_{value}.jpg\")\n",
    "        plt.close()\n",
    "        \n"
   ]
  },
  {
   "cell_type": "code",
   "execution_count": null,
   "metadata": {},
   "outputs": [],
   "source": []
  }
 ],
 "metadata": {
  "interpreter": {
   "hash": "b2256cb237836e0b32ce22305984fd71b607e595669096085081827973a36ac7"
  },
  "kernelspec": {
   "display_name": "Python 3.9.12 ('causal')",
   "language": "python",
   "name": "python3"
  },
  "language_info": {
   "codemirror_mode": {
    "name": "ipython",
    "version": 3
   },
   "file_extension": ".py",
   "mimetype": "text/x-python",
   "name": "python",
   "nbconvert_exporter": "python",
   "pygments_lexer": "ipython3",
   "version": "3.9.12"
  },
  "orig_nbformat": 4
 },
 "nbformat": 4,
 "nbformat_minor": 2
}
