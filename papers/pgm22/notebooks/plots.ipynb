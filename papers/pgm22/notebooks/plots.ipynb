{
 "cells": [
  {
   "cell_type": "code",
   "execution_count": 85,
   "metadata": {},
   "outputs": [],
   "source": [
    "import pandas as pd\n",
    "import numpy as np\n",
    "\n",
    "import matplotlib.pyplot as plt"
   ]
  },
  {
   "cell_type": "code",
   "execution_count": 224,
   "metadata": {},
   "outputs": [],
   "source": [
    "import utils\n",
    "input = utils.load_data([\n",
    "    \"../results/synthetic/1000/set1/\",\n",
    "    \"../results/synthetic/1000/set2/\"\n",
    "])\n",
    "# get exact rows\n",
    "exact = input[input.method == \"exact\"].copy()\n",
    "exact[\"identifiable\"] = (exact.pns_u - exact.pns_l).abs() < 0.00001"
   ]
  },
  {
   "cell_type": "code",
   "execution_count": 225,
   "metadata": {},
   "outputs": [
    {
     "data": {
      "text/plain": [
       "(2255, 21)"
      ]
     },
     "execution_count": 225,
     "metadata": {},
     "output_type": "execute_result"
    }
   ],
   "source": [
    "input.shape"
   ]
  },
  {
   "cell_type": "code",
   "execution_count": 226,
   "metadata": {},
   "outputs": [],
   "source": [
    "def plot_box(data3, bins, by, key, value, l=-0.25, u=1):\n",
    "    import math\n",
    "    fig, ax = plt.subplots(2,1, figsize=(15,15))\n",
    "\n",
    "    axu = data3.boxplot(\"r_pns_u\", by=by,  ax=ax[0])\n",
    "    axl = data3.boxplot(\"r_pns_l\", by=by,  ax=ax[1])\n",
    "\n",
    "    axu.set_title(\"difference with exact upper\")\n",
    "    axl.set_title(\"difference with exact lower\")\n",
    "\n",
    "    l= math.floor(l * 5) / 5\n",
    "    u = math.ceil(u * 5) / 5\n",
    "    \n",
    "    axu.set_ylim(l,u)\n",
    "    axl.set_ylim(l,u)\n",
    "\n",
    "    fig.suptitle(f\"Errors on Pns by discretized Ps1. {key} == {value}\")\n",
    "    \n",
    "    fig.savefig(f\"plots/error_by_{bins}_{by}_{key}_{value}.jpg\")\n",
    "    plt.close()\n"
   ]
  },
  {
   "cell_type": "code",
   "execution_count": 227,
   "metadata": {},
   "outputs": [],
   "source": [
    "groups = {\n",
    "    \"num_endogenous\": input.num_endogenous.unique(), \n",
    "    \"markovianity\": input.markovianity.unique(), \n",
    "    \"network_type\":input.network_type.unique(),\n",
    "    \"identifiable\": [True, False]\n",
    "}"
   ]
  },
  {
   "cell_type": "code",
   "execution_count": 228,
   "metadata": {},
   "outputs": [],
   "source": [
    "binss= [5]\n",
    "bys = [\"quant_ps1\", \"disc_ps1\"]"
   ]
  },
  {
   "cell_type": "code",
   "execution_count": 230,
   "metadata": {},
   "outputs": [],
   "source": [
    "# add excat column to all rows\n",
    "\n",
    "data = input.merge(exact[[\"file\", \"identifiable\", \"pns_l\", \"pns_u\"]], on=\"file\")\n",
    "data = data[(data.method==\"EMCC\") & (data.selector)]\n",
    "\n",
    "data[\"r_pns_l\"] = (data.pns_l_x - data.pns_l_y)\n",
    "data[\"r_pns_u\"] = (data.pns_u_x - data.pns_u_y)\n",
    "\n",
    "lower = data[\"r_pns_l\"].min()\n",
    "upper = data[\"r_pns_u\"].max()\n",
    "data2 = data\n",
    "\n",
    "for bins in binss:\n",
    "    # discretize\n",
    "    data2[\"disc_ps1\"] = pd.cut(data2.ps1, bins=bins)\n",
    "    data2[\"quant_ps1\"] = pd.qcut(data2.ps1, q=bins, duplicates=\"drop\")\n",
    "\n",
    "\n",
    "    for by in bys:\n",
    "\n",
    "        plot_box(data2, bins, by, \"All\", \"All\")\n",
    "\n",
    "        for key in groups:\n",
    "            for value in groups[key]:\n",
    "\n",
    "                filter = data2[key] == value\n",
    "                plot_box(data2[filter], bins, by, key, value, lower, upper)\n"
   ]
  },
  {
   "cell_type": "markdown",
   "metadata": {},
   "source": [
    "# Time plots"
   ]
  },
  {
   "cell_type": "code",
   "execution_count": 143,
   "metadata": {},
   "outputs": [],
   "source": [
    "sel = data[(data.method==\"EMCC\") & ( data.selector)]\n",
    "ps1 = data[(data.method==\"EMCC\") & (~data.selector)]\n",
    "\n",
    "data2 = sel.merge(ps1[[\"file\", 'time_pns', 'time_ace', 'time_learn']], on=\"file\")\n",
    "data2['r_time_pns'] = data2[\"time_pns_x\"]/data2[\"time_pns_y\"]\n",
    "data2['r_time_ace'] = data2[\"time_ace_x\"]/data2[\"time_ace_y\"]\n",
    "data2['r_time_learn'] = data2[\"time_learn_x\"]/data2[\"time_learn_y\"]\n"
   ]
  },
  {
   "cell_type": "code",
   "execution_count": 164,
   "metadata": {},
   "outputs": [],
   "source": [
    "data2[data2.markovianity == \"quasi-markovian\"].plot.scatter(\"ps1\", \"r_time_learn\")\n",
    "plt.savefig(\"plots/r_time_learn.jpg\")\n",
    "plt.close()\n",
    "\n",
    "data2[data2.markovianity == \"quasi-markovian\"].plot.scatter(\"ps1\", \"r_time_pns\")\n",
    "plt.savefig(\"plots/r_time_pns.jpg\")\n",
    "plt.close()"
   ]
  },
  {
   "cell_type": "code",
   "execution_count": 178,
   "metadata": {},
   "outputs": [
    {
     "data": {
      "text/html": [
       "<div>\n",
       "<style scoped>\n",
       "    .dataframe tbody tr th:only-of-type {\n",
       "        vertical-align: middle;\n",
       "    }\n",
       "\n",
       "    .dataframe tbody tr th {\n",
       "        vertical-align: top;\n",
       "    }\n",
       "\n",
       "    .dataframe thead th {\n",
       "        text-align: right;\n",
       "    }\n",
       "</style>\n",
       "<table border=\"1\" class=\"dataframe\">\n",
       "  <thead>\n",
       "    <tr style=\"text-align: right;\">\n",
       "      <th>num_endogenous</th>\n",
       "      <th>5</th>\n",
       "      <th>7</th>\n",
       "    </tr>\n",
       "  </thead>\n",
       "  <tbody>\n",
       "    <tr>\n",
       "      <th>count</th>\n",
       "      <td>459.000000</td>\n",
       "      <td>369.000000</td>\n",
       "    </tr>\n",
       "    <tr>\n",
       "      <th>mean</th>\n",
       "      <td>1.162287</td>\n",
       "      <td>0.958071</td>\n",
       "    </tr>\n",
       "    <tr>\n",
       "      <th>std</th>\n",
       "      <td>0.728536</td>\n",
       "      <td>0.631727</td>\n",
       "    </tr>\n",
       "    <tr>\n",
       "      <th>min</th>\n",
       "      <td>0.001639</td>\n",
       "      <td>0.000449</td>\n",
       "    </tr>\n",
       "    <tr>\n",
       "      <th>25%</th>\n",
       "      <td>0.535145</td>\n",
       "      <td>0.428117</td>\n",
       "    </tr>\n",
       "    <tr>\n",
       "      <th>50%</th>\n",
       "      <td>1.201763</td>\n",
       "      <td>0.970471</td>\n",
       "    </tr>\n",
       "    <tr>\n",
       "      <th>75%</th>\n",
       "      <td>1.807446</td>\n",
       "      <td>1.489225</td>\n",
       "    </tr>\n",
       "    <tr>\n",
       "      <th>max</th>\n",
       "      <td>2.464846</td>\n",
       "      <td>2.117224</td>\n",
       "    </tr>\n",
       "  </tbody>\n",
       "</table>\n",
       "</div>"
      ],
      "text/plain": [
       "num_endogenous           5           7\n",
       "count           459.000000  369.000000\n",
       "mean              1.162287    0.958071\n",
       "std               0.728536    0.631727\n",
       "min               0.001639    0.000449\n",
       "25%               0.535145    0.428117\n",
       "50%               1.201763    0.970471\n",
       "75%               1.807446    1.489225\n",
       "max               2.464846    2.117224"
      ]
     },
     "execution_count": 178,
     "metadata": {},
     "output_type": "execute_result"
    }
   ],
   "source": [
    "data2.groupby(\"num_endogenous\")['r_time_learn'].describe().T\n"
   ]
  },
  {
   "cell_type": "code",
   "execution_count": 156,
   "metadata": {},
   "outputs": [
    {
     "data": {
      "text/plain": [
       "Index(['index', 'method', 'ace_l', 'pns_u', 'selector', 'ace_u', 'pns_l',\n",
       "       'model_path', 'ps1', 'time_pns', 'time_ace', 'time_learn',\n",
       "       'n_convergence', 'file', 'network_type', 'markovianity', 'max_distance',\n",
       "       'num_endogenous', 'reduction_k', 'max_iter', 's_parents'],\n",
       "      dtype='object')"
      ]
     },
     "execution_count": 156,
     "metadata": {},
     "output_type": "execute_result"
    }
   ],
   "source": [
    "data.columns"
   ]
  },
  {
   "cell_type": "code",
   "execution_count": 158,
   "metadata": {},
   "outputs": [
    {
     "data": {
      "text/plain": [
       "array(['5', '7'], dtype=object)"
      ]
     },
     "execution_count": 158,
     "metadata": {},
     "output_type": "execute_result"
    }
   ],
   "source": [
    "data.num_endogenous.unique()"
   ]
  }
 ],
 "metadata": {
  "interpreter": {
   "hash": "b2256cb237836e0b32ce22305984fd71b607e595669096085081827973a36ac7"
  },
  "kernelspec": {
   "display_name": "Python 3.9.12 ('causal')",
   "language": "python",
   "name": "python3"
  },
  "language_info": {
   "codemirror_mode": {
    "name": "ipython",
    "version": 3
   },
   "file_extension": ".py",
   "mimetype": "text/x-python",
   "name": "python",
   "nbconvert_exporter": "python",
   "pygments_lexer": "ipython3",
   "version": "3.9.12"
  },
  "orig_nbformat": 4
 },
 "nbformat": 4,
 "nbformat_minor": 2
}
