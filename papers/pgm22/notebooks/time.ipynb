{
 "cells": [
  {
   "cell_type": "code",
   "execution_count": 4,
   "metadata": {
    "collapsed": true
   },
   "outputs": [
    {
     "name": "stdout",
     "output_type": "stream",
     "text": [
      "/Users/rcabanas/GoogleDrive/IDSIA/causality/dev/credici\n"
     ]
    },
    {
     "data": {
      "text/plain": "115"
     },
     "execution_count": 4,
     "metadata": {},
     "output_type": "execute_result"
    }
   ],
   "source": [
    "import sys\n",
    "from pathlib import Path\n",
    "import os\n",
    "import shutil\n",
    "\n",
    "\n",
    "\n",
    "prj_path = Path(str(Path(\"../../../\").resolve()) + \"/\")\n",
    "\n",
    "print(prj_path)\n",
    "\n",
    "\n",
    "res_folder = Path(prj_path, \"papers/pgm22/results/synthetic/1000/\")\n",
    "\n",
    "set_names = [\"set4_aggregated\", \"set5\"]\n",
    "\n",
    "\n",
    "rfiles = [f for f in sum([[str(Path(s, f)) for f in os.listdir(Path(res_folder,s))]  for s in set_names], []) if f.endswith(\".csv\")]\n",
    "\n",
    "len(rfiles)"
   ]
  },
  {
   "cell_type": "code",
   "execution_count": 61,
   "outputs": [
    {
     "data": {
      "text/plain": "    time_learn    ps1  num_runs  time_per_run\n2        316.0  0.000        80        3.9500\n3       3968.0  0.695        80       49.6000\n4       4475.0  0.773        80       55.9375\n5      30689.0  0.950        80      383.6125\n6      41704.0  0.962        80      521.3000\n..         ...    ...       ...           ...\n3    1963856.0  0.634        80    24548.2000\n3    2359490.0  0.747        80    29493.6250\n3    2644577.0  0.839        80    33057.2125\n3    2979430.0  0.885        80    37242.8750\n3    3268816.0  1.000        80    40860.2000\n\n[1035 rows x 4 columns]",
      "text/html": "<div>\n<style scoped>\n    .dataframe tbody tr th:only-of-type {\n        vertical-align: middle;\n    }\n\n    .dataframe tbody tr th {\n        vertical-align: top;\n    }\n\n    .dataframe thead th {\n        text-align: right;\n    }\n</style>\n<table border=\"1\" class=\"dataframe\">\n  <thead>\n    <tr style=\"text-align: right;\">\n      <th></th>\n      <th>time_learn</th>\n      <th>ps1</th>\n      <th>num_runs</th>\n      <th>time_per_run</th>\n    </tr>\n  </thead>\n  <tbody>\n    <tr>\n      <th>2</th>\n      <td>316.0</td>\n      <td>0.000</td>\n      <td>80</td>\n      <td>3.9500</td>\n    </tr>\n    <tr>\n      <th>3</th>\n      <td>3968.0</td>\n      <td>0.695</td>\n      <td>80</td>\n      <td>49.6000</td>\n    </tr>\n    <tr>\n      <th>4</th>\n      <td>4475.0</td>\n      <td>0.773</td>\n      <td>80</td>\n      <td>55.9375</td>\n    </tr>\n    <tr>\n      <th>5</th>\n      <td>30689.0</td>\n      <td>0.950</td>\n      <td>80</td>\n      <td>383.6125</td>\n    </tr>\n    <tr>\n      <th>6</th>\n      <td>41704.0</td>\n      <td>0.962</td>\n      <td>80</td>\n      <td>521.3000</td>\n    </tr>\n    <tr>\n      <th>...</th>\n      <td>...</td>\n      <td>...</td>\n      <td>...</td>\n      <td>...</td>\n    </tr>\n    <tr>\n      <th>3</th>\n      <td>1963856.0</td>\n      <td>0.634</td>\n      <td>80</td>\n      <td>24548.2000</td>\n    </tr>\n    <tr>\n      <th>3</th>\n      <td>2359490.0</td>\n      <td>0.747</td>\n      <td>80</td>\n      <td>29493.6250</td>\n    </tr>\n    <tr>\n      <th>3</th>\n      <td>2644577.0</td>\n      <td>0.839</td>\n      <td>80</td>\n      <td>33057.2125</td>\n    </tr>\n    <tr>\n      <th>3</th>\n      <td>2979430.0</td>\n      <td>0.885</td>\n      <td>80</td>\n      <td>37242.8750</td>\n    </tr>\n    <tr>\n      <th>3</th>\n      <td>3268816.0</td>\n      <td>1.000</td>\n      <td>80</td>\n      <td>40860.2000</td>\n    </tr>\n  </tbody>\n</table>\n<p>1035 rows × 4 columns</p>\n</div>"
     },
     "execution_count": 61,
     "metadata": {},
     "output_type": "execute_result"
    }
   ],
   "source": [
    "f = rfiles[0]\n",
    "import pandas as pd\n",
    "\n",
    "\n",
    "\n",
    "def extract_data(f):\n",
    "    df = pd.read_csv(Path(res_folder, f), index_col=0)[[\"time_learn\", \"method\", \"selector\",\"ps1\"]].dropna()\n",
    "    #df[\"num_runs\"] = f.split(\"_x\")[-1].split(\"_\")[0]\n",
    "    df = df.loc[(df.selector==True) & (df.method==\"EMCC\")][['time_learn', \"ps1\"]]\n",
    "    df[\"num_runs\"] = int(f.split(\"_x\")[-1].split(\"_\")[0])\n",
    "    df[\"time_per_run\"] = df['time_learn']/df[\"num_runs\"]\n",
    "\n",
    "    return df\n",
    "\n",
    "data = pd.concat([extract_data(f) for f in rfiles])\n",
    "\n",
    "data\n"
   ],
   "metadata": {
    "collapsed": false,
    "pycharm": {
     "name": "#%%\n"
    }
   }
  },
  {
   "cell_type": "code",
   "execution_count": 68,
   "outputs": [
    {
     "data": {
      "text/plain": "0.18636024999999998"
     },
     "execution_count": 68,
     "metadata": {},
     "output_type": "execute_result"
    }
   ],
   "source": [
    "data.loc[data.ps1==1].time_per_run.max()/1000"
   ],
   "metadata": {
    "collapsed": false,
    "pycharm": {
     "name": "#%%\n"
    }
   }
  },
  {
   "cell_type": "code",
   "execution_count": 67,
   "outputs": [
    {
     "data": {
      "text/plain": "7.654242309322033"
     },
     "execution_count": 67,
     "metadata": {},
     "output_type": "execute_result"
    }
   ],
   "source": [
    "data.loc[data.ps1==1].time_per_run.mean()/1000"
   ],
   "metadata": {
    "collapsed": false,
    "pycharm": {
     "name": "#%%\n"
    }
   }
  },
  {
   "cell_type": "markdown",
   "source": [
    "The highest time per run, considering 300 iterations is 55.9s.\n",
    "The average in the cases with P(S=1)=1 is 7.65.\n",
    "\n",
    "\n"
   ],
   "metadata": {
    "collapsed": false,
    "pycharm": {
     "name": "#%% md\n"
    }
   }
  }
 ],
 "metadata": {
  "kernelspec": {
   "display_name": "Python 3",
   "language": "python",
   "name": "python3"
  },
  "language_info": {
   "codemirror_mode": {
    "name": "ipython",
    "version": 2
   },
   "file_extension": ".py",
   "mimetype": "text/x-python",
   "name": "python",
   "nbconvert_exporter": "python",
   "pygments_lexer": "ipython2",
   "version": "2.7.6"
  }
 },
 "nbformat": 4,
 "nbformat_minor": 0
}