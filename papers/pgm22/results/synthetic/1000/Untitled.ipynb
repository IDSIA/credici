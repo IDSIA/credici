{
 "cells": [
  {
   "cell_type": "code",
   "execution_count": 1,
   "id": "c33584ad-5df3-4447-85fd-ed0d76ae8cf3",
   "metadata": {},
   "outputs": [],
   "source": [
    "import pandas as pd\n",
    "from pathlib import Path"
   ]
  },
  {
   "cell_type": "code",
   "execution_count": 2,
   "id": "c294048e-d6e9-4925-b8fc-f0e8a9d52306",
   "metadata": {},
   "outputs": [
    {
     "data": {
      "text/plain": [
       "(True, False)"
      ]
     },
     "execution_count": 2,
     "metadata": {},
     "output_type": "execute_result"
    }
   ],
   "source": [
    "folder_origin =  Path(\"../../aux/additional1/\")\n",
    "folder_dest =  Path(\"./set4/additional1/\")\n",
    "folder_origin.exists(), folder_dest.exists()"
   ]
  },
  {
   "cell_type": "code",
   "execution_count": null,
   "id": "530f3876-a8ca-4c20-b360-2c3fe4c03c54",
   "metadata": {},
   "outputs": [],
   "source": [
    "import os\n",
    "os.ge"
   ]
  },
  {
   "cell_type": "code",
   "execution_count": null,
   "id": "f3b91fa6-4906-4360-becb-86b3e851f210",
   "metadata": {},
   "outputs": [],
   "source": [
    "for f in folder_origin.rglob(\"*.csv\"):\n",
    "    data = pd.read_csv(f)\n",
    "\n",
    "    for c in [\"treewidth\", \"bias_endo_treewidth\", \"endo_treewidth\", \"bias_treewidth\"]:\n",
    "            data[c] = data[c]-1 \n",
    "    new_filename = Path(str(f).replace(str(folder_origin), str(folder_dest)))    \n",
    "    data.to_csv(new_filename, index=False)\n",
    "    print(f)\n",
    "    print(new_filename)\n",
    "    print(\"============\")"
   ]
  },
  {
   "cell_type": "code",
   "execution_count": null,
   "id": "8d0ce7fd-f4e5-4886-a2d5-d0e302e0e87d",
   "metadata": {},
   "outputs": [],
   "source": [
    "for c in [\"treewidth\", \"bias_endo_treewidth\", \"endo_treewidth\", \"bias_treewidth\"]:\n",
    "        data[c] = data[c]-1 \n",
    "data\n",
    "        "
   ]
  },
  {
   "cell_type": "code",
   "execution_count": null,
   "id": "cdfc8249-7d9f-4a42-b264-f18d5fc29cba",
   "metadata": {},
   "outputs": [],
   "source": []
  },
  {
   "cell_type": "code",
   "execution_count": null,
   "id": "80083cab-882d-4381-a813-3a253b2b4320",
   "metadata": {},
   "outputs": [],
   "source": []
  },
  {
   "cell_type": "code",
   "execution_count": null,
   "id": "642c0bf0-84fc-4be8-960f-9df9497cf0ff",
   "metadata": {},
   "outputs": [],
   "source": [
    "!rand13_mk1_maxDist2_nEndo5_k10_3_mIter300_wtrue_sparents3_x50_0.csv"
   ]
  },
  {
   "cell_type": "code",
   "execution_count": null,
   "id": "5993768f-7340-4bbc-adab-2f3f06659644",
   "metadata": {},
   "outputs": [],
   "source": [
    "pd.read_csv(new_filename)"
   ]
  },
  {
   "cell_type": "code",
   "execution_count": null,
   "id": "046b6e25-40e2-490b-97c9-f5de26462dcd",
   "metadata": {},
   "outputs": [],
   "source": [
    "!open ."
   ]
  },
  {
   "cell_type": "code",
   "execution_count": null,
   "id": "d980c2b3-3a2d-44fc-9ef4-9350a0f67e28",
   "metadata": {},
   "outputs": [],
   "source": []
  }
 ],
 "metadata": {
  "kernelspec": {
   "display_name": "Python 3 (ipykernel)",
   "language": "python",
   "name": "python3"
  },
  "language_info": {
   "codemirror_mode": {
    "name": "ipython",
    "version": 3
   },
   "file_extension": ".py",
   "mimetype": "text/x-python",
   "name": "python",
   "nbconvert_exporter": "python",
   "pygments_lexer": "ipython3",
   "version": "3.9.10"
  }
 },
 "nbformat": 4,
 "nbformat_minor": 5
}
