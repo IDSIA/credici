{
 "cells": [
  {
   "cell_type": "code",
   "execution_count": 2,
   "id": "c33584ad-5df3-4447-85fd-ed0d76ae8cf3",
   "metadata": {},
   "outputs": [],
   "source": [
    "import pandas as pd\n",
    "from pathlib import Path"
   ]
  },
  {
   "cell_type": "code",
   "execution_count": 8,
   "id": "c294048e-d6e9-4925-b8fc-f0e8a9d52306",
   "metadata": {},
   "outputs": [],
   "source": [
    "folder =  Path(\".\")"
   ]
  },
  {
   "cell_type": "code",
   "execution_count": 9,
   "id": "530f3876-a8ca-4c20-b360-2c3fe4c03c54",
   "metadata": {},
   "outputs": [],
   "source": [
    "f = list(folder.rglob(\"*.csv\"))[0]"
   ]
  },
  {
   "cell_type": "code",
   "execution_count": 10,
   "id": "f3b91fa6-4906-4360-becb-86b3e851f210",
   "metadata": {},
   "outputs": [
    {
     "data": {
      "text/plain": [
       "PosixPath('rand13_mk1_maxDist2_nEndo5_k10_3_mIter300_wtrue_sparents3_x50_0.csv')"
      ]
     },
     "execution_count": 10,
     "metadata": {},
     "output_type": "execute_result"
    }
   ],
   "source": [
    "f"
   ]
  },
  {
   "cell_type": "code",
   "execution_count": null,
   "id": "8d0ce7fd-f4e5-4886-a2d5-d0e302e0e87d",
   "metadata": {},
   "outputs": [],
   "source": []
  }
 ],
 "metadata": {
  "kernelspec": {
   "display_name": "Python 3 (ipykernel)",
   "language": "python",
   "name": "python3"
  },
  "language_info": {
   "codemirror_mode": {
    "name": "ipython",
    "version": 3
   },
   "file_extension": ".py",
   "mimetype": "text/x-python",
   "name": "python",
   "nbconvert_exporter": "python",
   "pygments_lexer": "ipython3",
   "version": "3.9.10"
  }
 },
 "nbformat": 4,
 "nbformat_minor": 5
}
