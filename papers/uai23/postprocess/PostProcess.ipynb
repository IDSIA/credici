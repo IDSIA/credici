{
 "cells": [
  {
   "cell_type": "code",
   "execution_count": 1,
   "id": "69627acb",
   "metadata": {},
   "outputs": [],
   "source": [
    "import pandas as pd\n",
    "import re\n",
    "import numpy as np\n",
    "import os\n",
    "import seaborn as sns\n",
    "\n",
    "import sys\n",
    "sys.path.append(\"../../../src/main/python\")\n",
    "import plots"
   ]
  },
  {
   "attachments": {},
   "cell_type": "markdown",
   "id": "1338f51f",
   "metadata": {},
   "source": [
    "# Number of row in data tables"
   ]
  },
  {
   "cell_type": "code",
   "execution_count": 2,
   "id": "415b45dd",
   "metadata": {},
   "outputs": [
    {
     "data": {
      "text/plain": [
       "count     369.000000\n",
       "mean     1589.430894\n",
       "std       941.998310\n",
       "min      1000.000000\n",
       "25%      1000.000000\n",
       "50%      1000.000000\n",
       "75%      2000.000000\n",
       "max      5500.000000\n",
       "dtype: float64"
      ]
     },
     "execution_count": 2,
     "metadata": {},
     "output_type": "execute_result"
    }
   ],
   "source": [
    "\n",
    "datafiles = os.listdir(\"../../JoCI/models/synthetic/s1/\")\n",
    "datafiles = filter(re.compile(\"random_mc2_n[0-9]*_mid3_d1000_05_mr098_r10_[0-9]*\\.csv\").match, datafiles)\n",
    "files = list(datafiles)\n",
    "s=[pd.read_csv(\"../../JoCI/models/synthetic/s1/\"+f).shape[0] for f in files]\n",
    "datasize = pd.DataFrame({'file':files, \"size\":s})\n",
    "datasize['file'] = datasize.file.str[:-3] + \"uai\"\n",
    "pd.Series(s).describe()"
   ]
  },
  {
   "cell_type": "code",
   "execution_count": 3,
   "id": "c834cd3f",
   "metadata": {},
   "outputs": [
    {
     "data": {
      "text/plain": [
       "(array([207.,  57.,  47.,  18.,  10.,  10.,   9.,   4.,   5.,   2.]),\n",
       " array([1000., 1450., 1900., 2350., 2800., 3250., 3700., 4150., 4600.,\n",
       "        5050., 5500.]),\n",
       " <BarContainer object of 10 artists>)"
      ]
     },
     "execution_count": 3,
     "metadata": {},
     "output_type": "execute_result"
    },
    {
     "data": {
      "image/png": "[encoded data removed]",
      "text/plain": [
       "<Figure size 640x480 with 1 Axes>"
      ]
     },
     "metadata": {},
     "output_type": "display_data"
    }
   ],
   "source": [
    "import matplotlib.pyplot as plt\n",
    "plt.hist(s)"
   ]
  },
  {
   "attachments": {},
   "cell_type": "markdown",
   "id": "8dc276d0",
   "metadata": {},
   "source": [
    "# Experiment results"
   ]
  },
  {
   "cell_type": "code",
   "execution_count": 379,
   "id": "0074d12a",
   "metadata": {},
   "outputs": [],
   "source": [
    "data = pd.read_csv(\"full_fixed_output.csv.bz2\", header=None, names=[\"file\",\n",
    "            'memory', 'cntx-switch', 'page-faults', 'wall-clock', 'system-time',\n",
    "            'user-time', 'cpu', 'modelpath', 'datapath', 'maxLL', 'maxIter',\n",
    "            'numRuns', 'threads', 'seed', 'method', 'methodCode', 'forceTable',\n",
    "            'components', 'FullLikelihoods', 'FullCircuitSize', 'FullCompileTime',\n",
    "            'FullEMCCRunTimes', 'CCCount', 'CCLikelihoods', 'CCCircuitSizes',\n",
    "            'CCCompileTimes', 'CCEMCCRunTimes', 'runtime', 'cause', 'effect', 'pU'\n",
    "        ])\n",
    "\n",
    "data.loc[(data.components) & (data.methodCode==5), \"CCCircuitSizes\"] = data.loc[(data.components) & (data.methodCode==5), \"CCCircuitSizes\"].str.split(\";\").apply(lambda x:np.array(x, int))\n",
    "data.loc[(data.components) & (data.methodCode==5), \"CCCompileTimes\"] = data.loc[(data.components) & (data.methodCode==5), \"CCCompileTimes\"].str.split(\";\").apply(lambda x:np.array(x, int))\n",
    "data.loc[(~data.CCEMCCRunTimes.isna()),\"CCEMCCRunTimes\"]=data.loc[(~data.CCEMCCRunTimes.isna())].CCEMCCRunTimes.str.split(\";\").apply(lambda x:np.array([ i.split(\"|\") for i in x], int))\n",
    "\n",
    "\n",
    "data.loc[~data.FullEMCCRunTimes.isna(), \"FullEMCCRunTimes\"] = data.loc[~data.FullEMCCRunTimes.isna()].FullEMCCRunTimes.str.split(\"|\").apply(lambda x:np.array(x, int))\n",
    "\n",
    "data['file'] = data.file.str[len(\"../JoCI/models/synthetic/s1/\"):]\n",
    "\n",
    "data = data.merge(datasize, on=\"file\")\n",
    "data_orig = data"
   ]
  },
  {
   "cell_type": "code",
   "execution_count": 403,
   "id": "c33c0b15",
   "metadata": {},
   "outputs": [],
   "source": [
    "\n",
    "def loadInfo(row):\n",
    "    file=row['file']\n",
    "    d = pd.read_csv(\"../../JoCI/models/synthetic/s1/\" + file[:-4]+\"_info.csv\")\n",
    "    d['file'] = file\n",
    "    d['dag_size'] = d.dag.apply(lambda x:len(x.split(\"]\")[0][2:].split(\"  \")))\n",
    "    return d.iloc[0]\n",
    "\n",
    "\n",
    "info = data_orig[['file']].drop_duplicates().apply(loadInfo, axis=1)\n",
    "data=  data_orig.merge(info, on=\"file\", how=\"left\").copy()"
   ]
  },
  {
   "cell_type": "code",
   "execution_count": 404,
   "id": "79a0912f",
   "metadata": {},
   "outputs": [
    {
     "data": {
      "text/plain": [
       "(2952, 50)"
      ]
     },
     "execution_count": 404,
     "metadata": {},
     "output_type": "execute_result"
    }
   ],
   "source": [
    "data.shape"
   ]
  },
  {
   "cell_type": "code",
   "execution_count": 405,
   "id": "a6ba1728",
   "metadata": {},
   "outputs": [],
   "source": [
    "dm2cc = data[(~data.runtime.isna()) & (data.methodCode==2) & (data.components==True) & (data.threads==1)].set_index(\"file\")\n",
    "dm2ccmt = data[(~data.runtime.isna()) & (data.methodCode==2) & (data.components==True) & (data.threads>1)].set_index(\"file\")\n",
    "dm2full = data[(~data.runtime.isna()) & (data.methodCode==2) & (data.components==False)].set_index(\"file\")\n",
    "\n",
    "dm5cc = data[(~data.runtime.isna()) & (data.methodCode==5) & (data.components==True) & (data.threads==1) & (data.forceTable==True)].set_index(\"file\")\n",
    "dm5ccmt = data[(~data.runtime.isna()) & (data.methodCode==5) & (data.components==True) & (data.threads>1) & (data.forceTable==True)].set_index(\"file\")\n",
    "dm5full = data[(~data.runtime.isna()) & (data.methodCode==5) & (data.components==False) & (data.forceTable==True)].set_index(\"file\")\n",
    "\n",
    "mapping = {\"dm2cc\" :\"BN CC\", \"dm2ccmt\":\"BN MT\", \"dm5full\":\"KC\", \"dm5cc\":\"KC CC\", \"dm5ccmt\":\"KC MT\"}\n",
    "order = [\n",
    "    #\"dm2full\", \n",
    "    \"dm2cc\", \"dm2ccmt\", \"dm5full\", \"dm5cc\", \"dm5ccmt\"]"
   ]
  },
  {
   "cell_type": "code",
   "execution_count": null,
   "id": "eed749f3",
   "metadata": {},
   "outputs": [],
   "source": []
  },
  {
   "cell_type": "code",
   "execution_count": 407,
   "id": "301d8dc3",
   "metadata": {},
   "outputs": [
    {
     "name": "stderr",
     "output_type": "stream",
     "text": [
      "/var/folders/gc/vwr0wlvs149fjgmddd29dpw40000gn/T/ipykernel_84129/508546276.py:12: PerformanceWarning: DataFrame is highly fragmented.  This is usually the result of calling `frame.insert` many times, which has poor performance.  Consider joining all columns at once using pd.concat(axis=1) instead. To get a de-fragmented frame, use `newframe = frame.copy()`\n",
      "  xz_out = functools.reduce(lambda a,b : pd.merge(a,b, on=\"file\", how=\"outer\"), dfs2.values()).copy()\n",
      "/var/folders/gc/vwr0wlvs149fjgmddd29dpw40000gn/T/ipykernel_84129/508546276.py:13: PerformanceWarning: DataFrame is highly fragmented.  This is usually the result of calling `frame.insert` many times, which has poor performance.  Consider joining all columns at once using pd.concat(axis=1) instead. To get a de-fragmented frame, use `newframe = frame.copy()`\n",
      "  xz_in = functools.reduce(lambda a,b : pd.merge(a,b, on=\"file\", how=\"inner\"), dfs2.values()).copy()\n"
     ]
    }
   ],
   "source": [
    "\n",
    "dfs = {\n",
    "    #\"dm2full\":dm2full,\n",
    "    \"dm2cc\":dm2cc,\"dm2ccmt\":dm2ccmt,\"dm5cc\":dm5cc,\"dm5ccmt\":dm5ccmt,\"dm5full\":dm5full}\n",
    "\n",
    "dfs2 = {\n",
    "    k:\n",
    "    dfs[k].rename({c: c + \"_\" + k for c in dfs[k].columns }, axis=1)\n",
    "for k in dfs.keys()}\n",
    "\n",
    "import functools\n",
    "\n",
    "xz_out = functools.reduce(lambda a,b : pd.merge(a,b, on=\"file\", how=\"outer\"), dfs2.values()).copy()\n",
    "xz_in = functools.reduce(lambda a,b : pd.merge(a,b, on=\"file\", how=\"inner\"), dfs2.values()).copy()\n",
    "\n",
    "\n",
    "for k in dfs2.keys():\n",
    "    xz_in[f\"rel_{k}\"] = xz_in[f\"runtime_{k}\"]/xz_in[f\"runtime_dm2cc\"]"
   ]
  },
  {
   "attachments": {},
   "cell_type": "markdown",
   "id": "625a297e",
   "metadata": {},
   "source": [
    "### Boxplot of relative network runtimes"
   ]
  },
  {
   "cell_type": "code",
   "execution_count": 410,
   "id": "0c50f014",
   "metadata": {},
   "outputs": [
    {
     "data": {
      "text/plain": [
       "file\n",
       "random_mc2_n5_mid3_d1000_05_mr098_r10_70.uai      6\n",
       "random_mc2_n9_mid3_d1000_05_mr098_r10_90.uai     12\n",
       "random_mc2_n8_mid3_d1000_05_mr098_r10_98.uai     11\n",
       "random_mc2_n10_mid3_d1000_05_mr098_r10_72.uai    15\n",
       "random_mc2_n7_mid3_d1000_05_mr098_r10_5.uai      11\n",
       "                                                 ..\n",
       "random_mc2_n5_mid3_d1000_05_mr098_r10_47.uai      5\n",
       "random_mc2_n6_mid3_d1000_05_mr098_r10_68.uai      9\n",
       "random_mc2_n7_mid3_d1000_05_mr098_r10_75.uai     10\n",
       "random_mc2_n7_mid3_d1000_05_mr098_r10_6.uai      11\n",
       "random_mc2_n5_mid3_d1000_05_mr098_r10_72.uai      6\n",
       "Name: dag_size_dm2cc, Length: 335, dtype: int64"
      ]
     },
     "execution_count": 410,
     "metadata": {},
     "output_type": "execute_result"
    }
   ],
   "source": [
    "xz_in.dag_size_dm2cc"
   ]
  },
  {
   "cell_type": "code",
   "execution_count": 411,
   "id": "8487fbda",
   "metadata": {},
   "outputs": [
    {
     "ename": "KeyError",
     "evalue": "\"['dag_size_dm5cc'] not in index\"",
     "output_type": "error",
     "traceback": [
      "\u001b[0;31m---------------------------------------------------------------------------\u001b[0m",
      "\u001b[0;31mKeyError\u001b[0m                                  Traceback (most recent call last)",
      "Cell \u001b[0;32mIn[411], line 1\u001b[0m\n\u001b[0;32m----> 1\u001b[0m relbx \u001b[39m=\u001b[39m xz_in[[\u001b[39mf\u001b[39;49m\u001b[39m\"\u001b[39;49m\u001b[39mrel_\u001b[39;49m\u001b[39m{\u001b[39;49;00mk\u001b[39m}\u001b[39;49;00m\u001b[39m\"\u001b[39;49m \u001b[39mfor\u001b[39;49;00m k \u001b[39min\u001b[39;49;00m dfs2\u001b[39m.\u001b[39;49mkeys()]][[\u001b[39mf\u001b[39;49m\u001b[39m\"\u001b[39;49m\u001b[39mrel_\u001b[39;49m\u001b[39m{\u001b[39;49;00mo\u001b[39m}\u001b[39;49;00m\u001b[39m\"\u001b[39;49m \u001b[39mfor\u001b[39;49;00m o \u001b[39min\u001b[39;49;00m order[::\u001b[39m-\u001b[39;49m\u001b[39m1\u001b[39;49m]]\u001b[39m+\u001b[39;49m[\u001b[39m\"\u001b[39;49m\u001b[39mdag_size_dm5cc\u001b[39;49m\u001b[39m\"\u001b[39;49m]]\u001b[39m.\u001b[39mrename({\u001b[39mf\u001b[39m\u001b[39m\"\u001b[39m\u001b[39mrel_\u001b[39m\u001b[39m{\u001b[39;00mk\u001b[39m}\u001b[39;00m\u001b[39m\"\u001b[39m:mapping[k] \u001b[39mfor\u001b[39;00m k \u001b[39min\u001b[39;00m dfs2\u001b[39m.\u001b[39mkeys()}, axis\u001b[39m=\u001b[39m\u001b[39m1\u001b[39m)\u001b[39m.\u001b[39mdrop([\u001b[39m'\u001b[39m\u001b[39mBN CC\u001b[39m\u001b[39m'\u001b[39m], axis\u001b[39m=\u001b[39m\u001b[39m1\u001b[39m)\n\u001b[1;32m      2\u001b[0m p \u001b[39m=\u001b[39m plots\u001b[39m.\u001b[39mboxplots_cols(relbx, relbx\u001b[39m.\u001b[39mcolumns)\n\u001b[1;32m      3\u001b[0m \u001b[39mdef\u001b[39;00m \u001b[39mconvert\u001b[39m(data):\n",
      "File \u001b[0;32m~/miniforge3/envs/crema/lib/python3.11/site-packages/pandas/core/frame.py:3813\u001b[0m, in \u001b[0;36mDataFrame.__getitem__\u001b[0;34m(self, key)\u001b[0m\n\u001b[1;32m   3811\u001b[0m     \u001b[39mif\u001b[39;00m is_iterator(key):\n\u001b[1;32m   3812\u001b[0m         key \u001b[39m=\u001b[39m \u001b[39mlist\u001b[39m(key)\n\u001b[0;32m-> 3813\u001b[0m     indexer \u001b[39m=\u001b[39m \u001b[39mself\u001b[39;49m\u001b[39m.\u001b[39;49mcolumns\u001b[39m.\u001b[39;49m_get_indexer_strict(key, \u001b[39m\"\u001b[39;49m\u001b[39mcolumns\u001b[39;49m\u001b[39m\"\u001b[39;49m)[\u001b[39m1\u001b[39m]\n\u001b[1;32m   3815\u001b[0m \u001b[39m# take() does not accept boolean indexers\u001b[39;00m\n\u001b[1;32m   3816\u001b[0m \u001b[39mif\u001b[39;00m \u001b[39mgetattr\u001b[39m(indexer, \u001b[39m\"\u001b[39m\u001b[39mdtype\u001b[39m\u001b[39m\"\u001b[39m, \u001b[39mNone\u001b[39;00m) \u001b[39m==\u001b[39m \u001b[39mbool\u001b[39m:\n",
      "File \u001b[0;32m~/miniforge3/envs/crema/lib/python3.11/site-packages/pandas/core/indexes/base.py:6070\u001b[0m, in \u001b[0;36mIndex._get_indexer_strict\u001b[0;34m(self, key, axis_name)\u001b[0m\n\u001b[1;32m   6067\u001b[0m \u001b[39melse\u001b[39;00m:\n\u001b[1;32m   6068\u001b[0m     keyarr, indexer, new_indexer \u001b[39m=\u001b[39m \u001b[39mself\u001b[39m\u001b[39m.\u001b[39m_reindex_non_unique(keyarr)\n\u001b[0;32m-> 6070\u001b[0m \u001b[39mself\u001b[39;49m\u001b[39m.\u001b[39;49m_raise_if_missing(keyarr, indexer, axis_name)\n\u001b[1;32m   6072\u001b[0m keyarr \u001b[39m=\u001b[39m \u001b[39mself\u001b[39m\u001b[39m.\u001b[39mtake(indexer)\n\u001b[1;32m   6073\u001b[0m \u001b[39mif\u001b[39;00m \u001b[39misinstance\u001b[39m(key, Index):\n\u001b[1;32m   6074\u001b[0m     \u001b[39m# GH 42790 - Preserve name from an Index\u001b[39;00m\n",
      "File \u001b[0;32m~/miniforge3/envs/crema/lib/python3.11/site-packages/pandas/core/indexes/base.py:6133\u001b[0m, in \u001b[0;36mIndex._raise_if_missing\u001b[0;34m(self, key, indexer, axis_name)\u001b[0m\n\u001b[1;32m   6130\u001b[0m     \u001b[39mraise\u001b[39;00m \u001b[39mKeyError\u001b[39;00m(\u001b[39mf\u001b[39m\u001b[39m\"\u001b[39m\u001b[39mNone of [\u001b[39m\u001b[39m{\u001b[39;00mkey\u001b[39m}\u001b[39;00m\u001b[39m] are in the [\u001b[39m\u001b[39m{\u001b[39;00maxis_name\u001b[39m}\u001b[39;00m\u001b[39m]\u001b[39m\u001b[39m\"\u001b[39m)\n\u001b[1;32m   6132\u001b[0m not_found \u001b[39m=\u001b[39m \u001b[39mlist\u001b[39m(ensure_index(key)[missing_mask\u001b[39m.\u001b[39mnonzero()[\u001b[39m0\u001b[39m]]\u001b[39m.\u001b[39munique())\n\u001b[0;32m-> 6133\u001b[0m \u001b[39mraise\u001b[39;00m \u001b[39mKeyError\u001b[39;00m(\u001b[39mf\u001b[39m\u001b[39m\"\u001b[39m\u001b[39m{\u001b[39;00mnot_found\u001b[39m}\u001b[39;00m\u001b[39m not in index\u001b[39m\u001b[39m\"\u001b[39m)\n",
      "\u001b[0;31mKeyError\u001b[0m: \"['dag_size_dm5cc'] not in index\""
     ]
    }
   ],
   "source": [
    "relbx = xz_in[[f\"rel_{k}\" for k in dfs2.keys()]][[f\"rel_{o}\" for o in order[::-1]]].rename({f\"rel_{k}\":mapping[k] for k in dfs2.keys()}, axis=1).drop(['BN CC'], axis=1)\n",
    "p = plots.boxplots_cols(relbx, relbx.columns)\n",
    "def convert(data):\n",
    "    return f\"\"\"\\\\addplot+[\n",
    "    boxplot prepared={{\n",
    "      median={data.q50 },\n",
    "      upper quartile={data.q75},\n",
    "      lower quartile={data.q25},\n",
    "      upper whisker={data['min']},\n",
    "      lower whisker={data['max']}\n",
    "    }},\n",
    "    ] coordinates {{}};\n",
    "    \"\"\"\n",
    "\n",
    "tiks= \",\".join([ str(i+1) for i in range(p.shape[0])])\n",
    "pcol=\",\".join([str(c) for c in p.iloc[:,0].values])\n",
    "print(f\"[\\nxtick={{{tiks}}},\\nxticklabels={{{pcol}}}\\n]\")\n",
    "print(\"\\n\".join(p.apply(convert, axis=1).values))"
   ]
  },
  {
   "cell_type": "code",
   "execution_count": 111,
   "id": "d5ca5af9",
   "metadata": {},
   "outputs": [
    {
     "name": "stdout",
     "output_type": "stream",
     "text": [
      "\\begin{tabular}{llllll}\n",
      "\\toprule\n",
      "{} & BN CC & BN MT &   KC & KC CC & KC MT \\\\\n",
      "\\midrule\n",
      "BN CC &       &   335 &  313 &   335 &   335 \\\\\n",
      "BN MT &     0 &       &  206 &   333 &   335 \\\\\n",
      "KC    &    22 &   129 &      &   290 &   331 \\\\\n",
      "KC CC &     0 &     2 &   45 &       &   331 \\\\\n",
      "KC MT &     0 &     0 &    4 &     4 &       \\\\\n",
      "\\bottomrule\n",
      "\\end{tabular}\n",
      "\n"
     ]
    },
    {
     "name": "stderr",
     "output_type": "stream",
     "text": [
      "/var/folders/gc/vwr0wlvs149fjgmddd29dpw40000gn/T/ipykernel_84129/2485577005.py:18: FutureWarning: In future versions `DataFrame.to_latex` is expected to utilise the base implementation of `Styler.to_latex` for formatting and rendering. The arguments signature may therefore change. It is recommended instead to use `DataFrame.style.to_latex` which also contains additional functionality.\n",
      "  print(gt.loc[order, order].rename(mapping, axis=1).rename(mapping, axis=0).to_latex())\n"
     ]
    }
   ],
   "source": [
    "test = \"wall-clock\"\n",
    "gt = pd.DataFrame([\n",
    "    [ \n",
    "        sum(xz_in[f\"{test}_{y}\"] > xz_in[f\"{test}_{x}\"]) if x != y else \"\"\n",
    "        for x in dfs2.keys() \n",
    "    ]\n",
    "    for y in dfs2.keys()\n",
    "], index=dfs2.keys(), columns=dfs2.keys())\n",
    "\n",
    "\n",
    "\n",
    "rows = [\"dm2ccmt\", \"dm5full\", \"dm5cc\", \"dm5ccmt\"]\n",
    "cols = [\"dm2cc\", \"dm2ccmt\", \"dm5full\", \"dm5cc\"]\n",
    "\n",
    "print(gt.loc[order, order].rename(mapping, axis=1).rename(mapping, axis=0).to_latex())"
   ]
  },
  {
   "cell_type": "code",
   "execution_count": 285,
   "id": "91ec4383",
   "metadata": {},
   "outputs": [],
   "source": [
    "runtimes = pd.DataFrame({\n",
    "    \"dm5ccmt\":dm5ccmt.runtime/ dm2cc.runtime,\n",
    "    \"dm5cc\":dm5cc.runtime/dm2cc.runtime,\n",
    "    \"dm5full\":dm5full.runtime/dm2cc.runtime,\n",
    "    \"dm2ccmt\":dm2ccmt.runtime/dm2cc.runtime,\n",
    "    #\"dm2cc\":dm2cc.runtime/dm2cc.runtime,\n",
    "#    \"dm2full\":dm2full.runtime,\n",
    "}).rename(mapping, axis=1)"
   ]
  },
  {
   "cell_type": "code",
   "execution_count": 368,
   "id": "6f81ec8a",
   "metadata": {},
   "outputs": [
    {
     "data": {
      "text/html": [
       "<div>\n",
       "<style scoped>\n",
       "    .dataframe tbody tr th:only-of-type {\n",
       "        vertical-align: middle;\n",
       "    }\n",
       "\n",
       "    .dataframe tbody tr th {\n",
       "        vertical-align: top;\n",
       "    }\n",
       "\n",
       "    .dataframe thead th {\n",
       "        text-align: right;\n",
       "    }\n",
       "</style>\n",
       "<table border=\"1\" class=\"dataframe\">\n",
       "  <thead>\n",
       "    <tr style=\"text-align: right;\">\n",
       "      <th></th>\n",
       "      <th>KC MT</th>\n",
       "      <th>KC CC</th>\n",
       "      <th>KC</th>\n",
       "      <th>BN MT</th>\n",
       "    </tr>\n",
       "    <tr>\n",
       "      <th>file</th>\n",
       "      <th></th>\n",
       "      <th></th>\n",
       "      <th></th>\n",
       "      <th></th>\n",
       "    </tr>\n",
       "  </thead>\n",
       "  <tbody>\n",
       "    <tr>\n",
       "      <th>random_mc2_n10_mid3_d1000_05_mr098_r10_10.uai</th>\n",
       "      <td>0.056351</td>\n",
       "      <td>0.117660</td>\n",
       "      <td>0.507130</td>\n",
       "      <td>0.412129</td>\n",
       "    </tr>\n",
       "    <tr>\n",
       "      <th>random_mc2_n10_mid3_d1000_05_mr098_r10_13.uai</th>\n",
       "      <td>0.307908</td>\n",
       "      <td>0.385741</td>\n",
       "      <td>1.921465</td>\n",
       "      <td>0.340189</td>\n",
       "    </tr>\n",
       "    <tr>\n",
       "      <th>random_mc2_n10_mid3_d1000_05_mr098_r10_24.uai</th>\n",
       "      <td>0.057792</td>\n",
       "      <td>0.115064</td>\n",
       "      <td>0.828512</td>\n",
       "      <td>0.289657</td>\n",
       "    </tr>\n",
       "    <tr>\n",
       "      <th>random_mc2_n10_mid3_d1000_05_mr098_r10_27.uai</th>\n",
       "      <td>0.050243</td>\n",
       "      <td>0.155983</td>\n",
       "      <td>1.417515</td>\n",
       "      <td>0.277845</td>\n",
       "    </tr>\n",
       "    <tr>\n",
       "      <th>random_mc2_n10_mid3_d1000_05_mr098_r10_29.uai</th>\n",
       "      <td>0.036036</td>\n",
       "      <td>0.124885</td>\n",
       "      <td>0.803400</td>\n",
       "      <td>0.249363</td>\n",
       "    </tr>\n",
       "    <tr>\n",
       "      <th>...</th>\n",
       "      <td>...</td>\n",
       "      <td>...</td>\n",
       "      <td>...</td>\n",
       "      <td>...</td>\n",
       "    </tr>\n",
       "    <tr>\n",
       "      <th>random_mc2_n9_mid3_d1000_05_mr098_r10_90.uai</th>\n",
       "      <td>0.043599</td>\n",
       "      <td>0.153757</td>\n",
       "      <td>0.426555</td>\n",
       "      <td>0.304805</td>\n",
       "    </tr>\n",
       "    <tr>\n",
       "      <th>random_mc2_n9_mid3_d1000_05_mr098_r10_91.uai</th>\n",
       "      <td>0.042110</td>\n",
       "      <td>0.148407</td>\n",
       "      <td>0.548844</td>\n",
       "      <td>0.287637</td>\n",
       "    </tr>\n",
       "    <tr>\n",
       "      <th>random_mc2_n9_mid3_d1000_05_mr098_r10_92.uai</th>\n",
       "      <td>0.054186</td>\n",
       "      <td>0.114474</td>\n",
       "      <td>0.492449</td>\n",
       "      <td>0.376767</td>\n",
       "    </tr>\n",
       "    <tr>\n",
       "      <th>random_mc2_n9_mid3_d1000_05_mr098_r10_94.uai</th>\n",
       "      <td>0.037536</td>\n",
       "      <td>0.163092</td>\n",
       "      <td>0.597367</td>\n",
       "      <td>0.350089</td>\n",
       "    </tr>\n",
       "    <tr>\n",
       "      <th>random_mc2_n9_mid3_d1000_05_mr098_r10_97.uai</th>\n",
       "      <td>0.047125</td>\n",
       "      <td>0.189036</td>\n",
       "      <td>0.846081</td>\n",
       "      <td>0.331264</td>\n",
       "    </tr>\n",
       "  </tbody>\n",
       "</table>\n",
       "<p>335 rows × 4 columns</p>\n",
       "</div>"
      ],
      "text/plain": [
       "                                                  KC MT     KC CC        KC  \\\n",
       "file                                                                          \n",
       "random_mc2_n10_mid3_d1000_05_mr098_r10_10.uai  0.056351  0.117660  0.507130   \n",
       "random_mc2_n10_mid3_d1000_05_mr098_r10_13.uai  0.307908  0.385741  1.921465   \n",
       "random_mc2_n10_mid3_d1000_05_mr098_r10_24.uai  0.057792  0.115064  0.828512   \n",
       "random_mc2_n10_mid3_d1000_05_mr098_r10_27.uai  0.050243  0.155983  1.417515   \n",
       "random_mc2_n10_mid3_d1000_05_mr098_r10_29.uai  0.036036  0.124885  0.803400   \n",
       "...                                                 ...       ...       ...   \n",
       "random_mc2_n9_mid3_d1000_05_mr098_r10_90.uai   0.043599  0.153757  0.426555   \n",
       "random_mc2_n9_mid3_d1000_05_mr098_r10_91.uai   0.042110  0.148407  0.548844   \n",
       "random_mc2_n9_mid3_d1000_05_mr098_r10_92.uai   0.054186  0.114474  0.492449   \n",
       "random_mc2_n9_mid3_d1000_05_mr098_r10_94.uai   0.037536  0.163092  0.597367   \n",
       "random_mc2_n9_mid3_d1000_05_mr098_r10_97.uai   0.047125  0.189036  0.846081   \n",
       "\n",
       "                                                  BN MT  \n",
       "file                                                     \n",
       "random_mc2_n10_mid3_d1000_05_mr098_r10_10.uai  0.412129  \n",
       "random_mc2_n10_mid3_d1000_05_mr098_r10_13.uai  0.340189  \n",
       "random_mc2_n10_mid3_d1000_05_mr098_r10_24.uai  0.289657  \n",
       "random_mc2_n10_mid3_d1000_05_mr098_r10_27.uai  0.277845  \n",
       "random_mc2_n10_mid3_d1000_05_mr098_r10_29.uai  0.249363  \n",
       "...                                                 ...  \n",
       "random_mc2_n9_mid3_d1000_05_mr098_r10_90.uai   0.304805  \n",
       "random_mc2_n9_mid3_d1000_05_mr098_r10_91.uai   0.287637  \n",
       "random_mc2_n9_mid3_d1000_05_mr098_r10_92.uai   0.376767  \n",
       "random_mc2_n9_mid3_d1000_05_mr098_r10_94.uai   0.350089  \n",
       "random_mc2_n9_mid3_d1000_05_mr098_r10_97.uai   0.331264  \n",
       "\n",
       "[335 rows x 4 columns]"
      ]
     },
     "execution_count": 368,
     "metadata": {},
     "output_type": "execute_result"
    }
   ],
   "source": [
    "rts"
   ]
  },
  {
   "cell_type": "code",
   "execution_count": 286,
   "id": "919fd6bc",
   "metadata": {},
   "outputs": [
    {
     "data": {
      "text/plain": [
       "(335, 4)"
      ]
     },
     "execution_count": 286,
     "metadata": {},
     "output_type": "execute_result"
    },
    {
     "data": {
      "image/png": "[encoded data removed]",
      "text/plain": [
       "<Figure size 640x480 with 1 Axes>"
      ]
     },
     "metadata": {},
     "output_type": "display_data"
    }
   ],
   "source": [
    "rts = runtimes[~(runtimes.isna().any(axis=1))]\n",
    "rts.boxplot(showfliers=False)\n",
    "\n",
    "rts.shape"
   ]
  },
  {
   "cell_type": "code",
   "execution_count": 114,
   "id": "652731bd",
   "metadata": {},
   "outputs": [],
   "source": [
    "p = plots.boxplots_cols(rts, runtimes.columns)"
   ]
  },
  {
   "cell_type": "code",
   "execution_count": 115,
   "id": "8e7bfccf",
   "metadata": {},
   "outputs": [
    {
     "name": "stdout",
     "output_type": "stream",
     "text": [
      "[\n",
      "xtick={1,2,3,4,5},\n",
      "xticklabels={KC MT,KC CC,KC,BN MT,BN CC}\n",
      "]\n",
      "\\addplot+[\n",
      "    boxplot prepared={\n",
      "      median=8.007,\n",
      "      upper quartile=10.2965,\n",
      "      lower quartile=6.3545,\n",
      "      upper whisker=2.699,\n",
      "      lower whisker=13.842\n",
      "    },\n",
      "    ] coordinates {};\n",
      "    \n",
      "\\addplot+[\n",
      "    boxplot prepared={\n",
      "      median=18.938,\n",
      "      upper quartile=29.3865,\n",
      "      lower quartile=12.7805,\n",
      "      upper whisker=4.767,\n",
      "      lower whisker=43.773\n",
      "    },\n",
      "    ] coordinates {};\n",
      "    \n",
      "\\addplot+[\n",
      "    boxplot prepared={\n",
      "      median=37.369,\n",
      "      upper quartile=101.007,\n",
      "      lower quartile=16.436,\n",
      "      upper whisker=4.237,\n",
      "      lower whisker=163.738\n",
      "    },\n",
      "    ] coordinates {};\n",
      "    \n",
      "\\addplot+[\n",
      "    boxplot prepared={\n",
      "      median=52.072,\n",
      "      upper quartile=83.864,\n",
      "      lower quartile=37.993,\n",
      "      upper whisker=13.722,\n",
      "      lower whisker=115.101\n",
      "    },\n",
      "    ] coordinates {};\n",
      "    \n",
      "\\addplot+[\n",
      "    boxplot prepared={\n",
      "      median=150.757,\n",
      "      upper quartile=229.3865,\n",
      "      lower quartile=94.4835,\n",
      "      upper whisker=32.764,\n",
      "      lower whisker=352.746\n",
      "    },\n",
      "    ] coordinates {};\n",
      "    \n"
     ]
    }
   ],
   "source": [
    "def convert(data):\n",
    "    return f\"\"\"\\\\addplot+[\n",
    "    boxplot prepared={{\n",
    "      median={data.q50 / 1000.0},\n",
    "      upper quartile={data.q75/ 1000.0},\n",
    "      lower quartile={data.q25/ 1000.0},\n",
    "      upper whisker={data['min']/ 1000.0},\n",
    "      lower whisker={data['max']/ 1000.0}\n",
    "    }},\n",
    "    ] coordinates {{}};\n",
    "    \"\"\"\n",
    "\n",
    "tiks= \",\".join([ str(i+1) for i in range(p.shape[0])])\n",
    "pcol=\",\".join([str(c) for c in p.iloc[:,0].values])\n",
    "print(f\"[\\nxtick={{{tiks}}},\\nxticklabels={{{pcol}}}\\n]\")\n",
    "print(\"\\n\".join(p.apply(convert, axis=1).values))"
   ]
  },
  {
   "attachments": {},
   "cell_type": "markdown",
   "id": "5a31c608",
   "metadata": {},
   "source": [
    "### Plot total runtimes against BN CC"
   ]
  },
  {
   "cell_type": "code",
   "execution_count": 325,
   "id": "06e32019",
   "metadata": {},
   "outputs": [],
   "source": [
    "methods = [\"dm2\", \"dm5\"]\n",
    "def variant(methods, variant):\n",
    "    return [m + variant for m in methods]"
   ]
  },
  {
   "cell_type": "code",
   "execution_count": 334,
   "id": "72284c1a",
   "metadata": {},
   "outputs": [
    {
     "data": {
      "text/plain": [
       "(335,)"
      ]
     },
     "execution_count": 334,
     "metadata": {},
     "output_type": "execute_result"
    }
   ],
   "source": [
    "refruntime.shape"
   ]
  },
  {
   "cell_type": "code",
   "execution_count": 346,
   "id": "62891a83",
   "metadata": {},
   "outputs": [
    {
     "name": "stderr",
     "output_type": "stream",
     "text": [
      "/var/folders/gc/vwr0wlvs149fjgmddd29dpw40000gn/T/ipykernel_84129/376053601.py:34: FutureWarning: Passing 'suffixes' which cause duplicate columns {'cpu_x', 'threads_x', 'FullCompileTime_x', 'runtime_x', 'pU_x', 'user-time_x', 'cntx-switch_x', 'numRuns_x', 'method_x', 'datapath_x', 'CCEMCCRunTimes_x', 'page-faults_x', 'components_x', 'CCCount_x', 'system-time_x', 'size_x', 'effect_x', 'methodCode_x', 'relRuntime_x', 'FullLikelihoods_x', 'CCLikelihoods_x', 'CCCircuitSizes_x', 'FullCircuitSize_x', 'CCCompileTimes_x', 'memory_x', 'seed_x', 'FullEMCCRunTimes_x', 'maxLL_x', 'wall-clock_x', 'maxIter_x', 'cause_x', 'forceTable_x', 'modelpath_x'} in the result is deprecated and will raise a MergeError in a future version.\n",
      "  x = pd.merge(x,\n",
      "/var/folders/gc/vwr0wlvs149fjgmddd29dpw40000gn/T/ipykernel_84129/376053601.py:39: FutureWarning: Passing 'suffixes' which cause duplicate columns {'ref_rRuntime_x'} in the result is deprecated and will raise a MergeError in a future version.\n",
      "  x = pd.merge(x,\n"
     ]
    },
    {
     "data": {
      "image/png": "[encoded data removed]",
      "text/plain": [
       "<Figure size 640x480 with 1 Axes>"
      ]
     },
     "metadata": {},
     "output_type": "display_data"
    }
   ],
   "source": [
    "dm2cc[\"rRuntime\"] = dm2cc.CCEMCCRunTimes.apply(lambda x: np.apply_over_axes(sum, x, axes=[0])[0])\n",
    "dm5cc[\"rRuntime\"] = dm5cc.CCEMCCRunTimes.apply(lambda x: np.apply_over_axes(sum, x, axes=[0])[0])\n",
    "dm2ccmt[\"rRuntime\"] = dm2ccmt.CCEMCCRunTimes.apply(lambda x: np.apply_over_axes(np.max, x, axes=[0])[0])\n",
    "dm5ccmt[\"rRuntime\"] = dm5ccmt.CCEMCCRunTimes.apply(lambda x: np.apply_over_axes(np.max, x, axes=[0])[0])\n",
    "dm2full[\"rRuntime\"] = dm2full.FullEMCCRunTimes\n",
    "dm5full[\"rRuntime\"] = dm5full.FullEMCCRunTimes\n",
    "\n",
    "dm2cc['relRuntime'] = dm5cc.apply(lambda r: r.rRuntime / r.rRuntime, axis=1)\n",
    "\n",
    "dm5cc[\"ref_rRuntime\"] = dm2cc[\"rRuntime\"]\n",
    "dm5cc['relRuntime'] = dm5cc.apply(lambda r: r.rRuntime / r.ref_rRuntime, axis=1)\n",
    "\n",
    "dm5ccmt[\"ref_rRuntime\"] = dm2cc[\"rRuntime\"]\n",
    "dm5ccmt['relRuntime'] = dm5ccmt.apply(lambda r: r.rRuntime / r.ref_rRuntime, axis=1)\n",
    "\n",
    "dm2ccmt[\"ref_rRuntime\"] = dm2cc[\"rRuntime\"]\n",
    "dm2ccmt['relRuntime'] = dm2ccmt.apply(lambda r: r.rRuntime / r.ref_rRuntime, axis=1)\n",
    "\n",
    "dm5full[\"ref_rRuntime\"] = dm2cc[\"rRuntime\"]\n",
    "dm5full['relRuntime'] = dm5full.apply(lambda r: r.rRuntime / r.ref_rRuntime, axis=1)\n",
    "\n",
    "c = \"rRuntime\"\n",
    "x = pd.merge(\n",
    "    dm5cc.rename({c:\"KC CC\"}, axis=1),\n",
    "    dm2cc.rename({c:\"BN CC\"}, axis=1),\n",
    "    how=\"inner\", \n",
    "    on=\"file\"\n",
    ")\n",
    "x = pd.merge(x,\n",
    "    dm2ccmt.rename({c:\"BN MT\"}, axis=1),\n",
    "    how=\"inner\", \n",
    "    on=\"file\"\n",
    ")\n",
    "x = pd.merge(x,\n",
    "    dm5ccmt.rename({c:\"KC MT\"}, axis=1),\n",
    "    how=\"inner\", \n",
    "    on=\"file\"\n",
    ")\n",
    "x = pd.merge(x,\n",
    "    dm5full.rename({c:\"KC\"}, axis=1),\n",
    "    how=\"inner\", \n",
    "    on=\"file\"\n",
    ")\n",
    "mb = functools.reduce(np.add, x[\"BN CC\"])\n",
    "methods = [\"KC CC\", \"KC MT\", \"KC\", \"BN MT\"]\n",
    "for xx in methods:\n",
    "    m1 = functools.reduce(np.add, x[xx])\n",
    "    plt.plot(mb/m1, label=xx)\n",
    "\n",
    "outdata = np.array([mb/functools.reduce(np.add, x[xx]) for xx in methods])\n",
    "plt.legend()\n",
    "plt.show()\n",
    "x.shape\n",
    "pd.DataFrame(outdata.T, columns = methods).to_csv(\"ratios.csv\")"
   ]
  },
  {
   "cell_type": "code",
   "execution_count": 347,
   "id": "dbec700d",
   "metadata": {},
   "outputs": [
    {
     "data": {
      "text/html": [
       "<div>\n",
       "<style scoped>\n",
       "    .dataframe tbody tr th:only-of-type {\n",
       "        vertical-align: middle;\n",
       "    }\n",
       "\n",
       "    .dataframe tbody tr th {\n",
       "        vertical-align: top;\n",
       "    }\n",
       "\n",
       "    .dataframe thead th {\n",
       "        text-align: right;\n",
       "    }\n",
       "</style>\n",
       "<table border=\"1\" class=\"dataframe\">\n",
       "  <thead>\n",
       "    <tr style=\"text-align: right;\">\n",
       "      <th></th>\n",
       "      <th>KC CC</th>\n",
       "      <th>KC MT</th>\n",
       "      <th>KC</th>\n",
       "      <th>BN MT</th>\n",
       "    </tr>\n",
       "  </thead>\n",
       "  <tbody>\n",
       "    <tr>\n",
       "      <th>0</th>\n",
       "      <td>1.253200</td>\n",
       "      <td>2.836583</td>\n",
       "      <td>1.494874</td>\n",
       "      <td>1.663671</td>\n",
       "    </tr>\n",
       "    <tr>\n",
       "      <th>1</th>\n",
       "      <td>1.821885</td>\n",
       "      <td>3.782086</td>\n",
       "      <td>1.692915</td>\n",
       "      <td>1.789337</td>\n",
       "    </tr>\n",
       "    <tr>\n",
       "      <th>2</th>\n",
       "      <td>2.243543</td>\n",
       "      <td>4.388450</td>\n",
       "      <td>1.789171</td>\n",
       "      <td>1.852002</td>\n",
       "    </tr>\n",
       "    <tr>\n",
       "      <th>3</th>\n",
       "      <td>2.584289</td>\n",
       "      <td>4.837256</td>\n",
       "      <td>1.849673</td>\n",
       "      <td>1.895439</td>\n",
       "    </tr>\n",
       "    <tr>\n",
       "      <th>4</th>\n",
       "      <td>2.863449</td>\n",
       "      <td>5.202293</td>\n",
       "      <td>1.883819</td>\n",
       "      <td>1.912069</td>\n",
       "    </tr>\n",
       "    <tr>\n",
       "      <th>...</th>\n",
       "      <td>...</td>\n",
       "      <td>...</td>\n",
       "      <td>...</td>\n",
       "      <td>...</td>\n",
       "    </tr>\n",
       "    <tr>\n",
       "      <th>195</th>\n",
       "      <td>7.075755</td>\n",
       "      <td>13.462848</td>\n",
       "      <td>2.035524</td>\n",
       "      <td>2.332787</td>\n",
       "    </tr>\n",
       "    <tr>\n",
       "      <th>196</th>\n",
       "      <td>7.078202</td>\n",
       "      <td>13.472162</td>\n",
       "      <td>2.035360</td>\n",
       "      <td>2.334253</td>\n",
       "    </tr>\n",
       "    <tr>\n",
       "      <th>197</th>\n",
       "      <td>7.081051</td>\n",
       "      <td>13.481107</td>\n",
       "      <td>2.035372</td>\n",
       "      <td>2.335762</td>\n",
       "    </tr>\n",
       "    <tr>\n",
       "      <th>198</th>\n",
       "      <td>7.083802</td>\n",
       "      <td>13.489651</td>\n",
       "      <td>2.035408</td>\n",
       "      <td>2.337389</td>\n",
       "    </tr>\n",
       "    <tr>\n",
       "      <th>199</th>\n",
       "      <td>7.087325</td>\n",
       "      <td>13.499817</td>\n",
       "      <td>2.035608</td>\n",
       "      <td>2.339093</td>\n",
       "    </tr>\n",
       "  </tbody>\n",
       "</table>\n",
       "<p>200 rows × 4 columns</p>\n",
       "</div>"
      ],
      "text/plain": [
       "        KC CC      KC MT        KC     BN MT\n",
       "0    1.253200   2.836583  1.494874  1.663671\n",
       "1    1.821885   3.782086  1.692915  1.789337\n",
       "2    2.243543   4.388450  1.789171  1.852002\n",
       "3    2.584289   4.837256  1.849673  1.895439\n",
       "4    2.863449   5.202293  1.883819  1.912069\n",
       "..        ...        ...       ...       ...\n",
       "195  7.075755  13.462848  2.035524  2.332787\n",
       "196  7.078202  13.472162  2.035360  2.334253\n",
       "197  7.081051  13.481107  2.035372  2.335762\n",
       "198  7.083802  13.489651  2.035408  2.337389\n",
       "199  7.087325  13.499817  2.035608  2.339093\n",
       "\n",
       "[200 rows x 4 columns]"
      ]
     },
     "execution_count": 347,
     "metadata": {},
     "output_type": "execute_result"
    }
   ],
   "source": [
    "pd.DataFrame(outdata.T, columns = methods)"
   ]
  },
  {
   "attachments": {},
   "cell_type": "markdown",
   "id": "ecf2decd",
   "metadata": {},
   "source": [
    "### Save data as csv"
   ]
  },
  {
   "cell_type": "code",
   "execution_count": 144,
   "id": "9545379f",
   "metadata": {},
   "outputs": [],
   "source": [
    "ratios = np.array([ functools.reduce(np.add, x[xx])/mb for xx in methods])\n",
    "pd.DataFrame(ratios.T, columns = methods).to_csv(\"ratios.csv\")"
   ]
  },
  {
   "attachments": {},
   "cell_type": "markdown",
   "id": "a5834af6",
   "metadata": {},
   "source": [
    "### Network stats"
   ]
  },
  {
   "cell_type": "code",
   "execution_count": 153,
   "id": "26d30a53",
   "metadata": {},
   "outputs": [],
   "source": []
  },
  {
   "cell_type": "code",
   "execution_count": 154,
   "id": "c9f46818",
   "metadata": {},
   "outputs": [
    {
     "data": {
      "text/html": [
       "<div>\n",
       "<style scoped>\n",
       "    .dataframe tbody tr th:only-of-type {\n",
       "        vertical-align: middle;\n",
       "    }\n",
       "\n",
       "    .dataframe tbody tr th {\n",
       "        vertical-align: top;\n",
       "    }\n",
       "\n",
       "    .dataframe thead th {\n",
       "        text-align: right;\n",
       "    }\n",
       "</style>\n",
       "<table border=\"1\" class=\"dataframe\">\n",
       "  <thead>\n",
       "    <tr style=\"text-align: right;\">\n",
       "      <th></th>\n",
       "      <th>avg_endo_indegree</th>\n",
       "      <th>avg_exo_card</th>\n",
       "      <th>avg_indegree</th>\n",
       "      <th>datasize</th>\n",
       "      <th>endo_tw</th>\n",
       "      <th>exo_tw</th>\n",
       "      <th>markovianity</th>\n",
       "      <th>max_exo_card</th>\n",
       "      <th>num_exo_vars</th>\n",
       "      <th>ratio</th>\n",
       "      <th>tw</th>\n",
       "    </tr>\n",
       "  </thead>\n",
       "  <tbody>\n",
       "    <tr>\n",
       "      <th>count</th>\n",
       "      <td>335.000000</td>\n",
       "      <td>335.000000</td>\n",
       "      <td>335.000000</td>\n",
       "      <td>335.000000</td>\n",
       "      <td>295.000000</td>\n",
       "      <td>335.000000</td>\n",
       "      <td>335.000000</td>\n",
       "      <td>335.000000</td>\n",
       "      <td>335.000000</td>\n",
       "      <td>335.000000</td>\n",
       "      <td>251.000000</td>\n",
       "    </tr>\n",
       "    <tr>\n",
       "      <th>mean</th>\n",
       "      <td>1.060270</td>\n",
       "      <td>11.073962</td>\n",
       "      <td>1.161001</td>\n",
       "      <td>1579.104478</td>\n",
       "      <td>1.928814</td>\n",
       "      <td>1.280597</td>\n",
       "      <td>1.125373</td>\n",
       "      <td>29.591045</td>\n",
       "      <td>4.534328</td>\n",
       "      <td>0.988967</td>\n",
       "      <td>2.900398</td>\n",
       "    </tr>\n",
       "    <tr>\n",
       "      <th>std</th>\n",
       "      <td>0.294806</td>\n",
       "      <td>11.706865</td>\n",
       "      <td>0.135510</td>\n",
       "      <td>931.250096</td>\n",
       "      <td>0.621347</td>\n",
       "      <td>0.475835</td>\n",
       "      <td>0.630403</td>\n",
       "      <td>56.545328</td>\n",
       "      <td>1.714115</td>\n",
       "      <td>0.013877</td>\n",
       "      <td>0.483777</td>\n",
       "    </tr>\n",
       "    <tr>\n",
       "      <th>min</th>\n",
       "      <td>0.000000</td>\n",
       "      <td>2.500000</td>\n",
       "      <td>0.800000</td>\n",
       "      <td>1000.000000</td>\n",
       "      <td>0.000000</td>\n",
       "      <td>1.000000</td>\n",
       "      <td>0.000000</td>\n",
       "      <td>3.000000</td>\n",
       "      <td>2.000000</td>\n",
       "      <td>0.897600</td>\n",
       "      <td>2.000000</td>\n",
       "    </tr>\n",
       "    <tr>\n",
       "      <th>25%</th>\n",
       "      <td>0.800000</td>\n",
       "      <td>6.000000</td>\n",
       "      <td>1.074176</td>\n",
       "      <td>1000.000000</td>\n",
       "      <td>2.000000</td>\n",
       "      <td>1.000000</td>\n",
       "      <td>1.000000</td>\n",
       "      <td>8.000000</td>\n",
       "      <td>3.000000</td>\n",
       "      <td>0.986363</td>\n",
       "      <td>3.000000</td>\n",
       "    </tr>\n",
       "    <tr>\n",
       "      <th>50%</th>\n",
       "      <td>1.142857</td>\n",
       "      <td>8.400000</td>\n",
       "      <td>1.176471</td>\n",
       "      <td>1000.000000</td>\n",
       "      <td>2.000000</td>\n",
       "      <td>1.000000</td>\n",
       "      <td>1.000000</td>\n",
       "      <td>16.000000</td>\n",
       "      <td>4.000000</td>\n",
       "      <td>0.992637</td>\n",
       "      <td>3.000000</td>\n",
       "    </tr>\n",
       "    <tr>\n",
       "      <th>75%</th>\n",
       "      <td>1.285714</td>\n",
       "      <td>10.666667</td>\n",
       "      <td>1.269697</td>\n",
       "      <td>2000.000000</td>\n",
       "      <td>2.000000</td>\n",
       "      <td>2.000000</td>\n",
       "      <td>2.000000</td>\n",
       "      <td>16.000000</td>\n",
       "      <td>6.000000</td>\n",
       "      <td>0.996355</td>\n",
       "      <td>3.000000</td>\n",
       "    </tr>\n",
       "    <tr>\n",
       "      <th>max</th>\n",
       "      <td>1.666667</td>\n",
       "      <td>93.333333</td>\n",
       "      <td>1.500000</td>\n",
       "      <td>5500.000000</td>\n",
       "      <td>3.000000</td>\n",
       "      <td>3.000000</td>\n",
       "      <td>2.000000</td>\n",
       "      <td>256.000000</td>\n",
       "      <td>10.000000</td>\n",
       "      <td>0.999683</td>\n",
       "      <td>4.000000</td>\n",
       "    </tr>\n",
       "  </tbody>\n",
       "</table>\n",
       "</div>"
      ],
      "text/plain": [
       "       avg_endo_indegree  avg_exo_card  avg_indegree     datasize     endo_tw  \\\n",
       "count         335.000000    335.000000    335.000000   335.000000  295.000000   \n",
       "mean            1.060270     11.073962      1.161001  1579.104478    1.928814   \n",
       "std             0.294806     11.706865      0.135510   931.250096    0.621347   \n",
       "min             0.000000      2.500000      0.800000  1000.000000    0.000000   \n",
       "25%             0.800000      6.000000      1.074176  1000.000000    2.000000   \n",
       "50%             1.142857      8.400000      1.176471  1000.000000    2.000000   \n",
       "75%             1.285714     10.666667      1.269697  2000.000000    2.000000   \n",
       "max             1.666667     93.333333      1.500000  5500.000000    3.000000   \n",
       "\n",
       "           exo_tw  markovianity  max_exo_card  num_exo_vars       ratio  \\\n",
       "count  335.000000    335.000000    335.000000    335.000000  335.000000   \n",
       "mean     1.280597      1.125373     29.591045      4.534328    0.988967   \n",
       "std      0.475835      0.630403     56.545328      1.714115    0.013877   \n",
       "min      1.000000      0.000000      3.000000      2.000000    0.897600   \n",
       "25%      1.000000      1.000000      8.000000      3.000000    0.986363   \n",
       "50%      1.000000      1.000000     16.000000      4.000000    0.992637   \n",
       "75%      2.000000      2.000000     16.000000      6.000000    0.996355   \n",
       "max      3.000000      2.000000    256.000000     10.000000    0.999683   \n",
       "\n",
       "               tw  \n",
       "count  251.000000  \n",
       "mean     2.900398  \n",
       "std      0.483777  \n",
       "min      2.000000  \n",
       "25%      3.000000  \n",
       "50%      3.000000  \n",
       "75%      3.000000  \n",
       "max      4.000000  "
      ]
     },
     "execution_count": 154,
     "metadata": {},
     "output_type": "execute_result"
    }
   ],
   "source": [
    "info.describe()"
   ]
  },
  {
   "cell_type": "code",
   "execution_count": 156,
   "id": "0f354079",
   "metadata": {},
   "outputs": [
    {
     "name": "stdout",
     "output_type": "stream",
     "text": [
      "Average DAG size: 9.871641791044777 - 5 - 21\n",
      "Average EXO count: 4.534328358208955\n"
     ]
    }
   ],
   "source": [
    "asize = info.dag.apply(lambda x:len(x.split(\"]\")[0][2:].split(\"  \"))).mean()\n",
    "minsize = info.dag.apply(lambda x:len(x.split(\"]\")[0][2:].split(\"  \"))).min()\n",
    "maxsize = info.dag.apply(lambda x:len(x.split(\"]\")[0][2:].split(\"  \"))).max()\n",
    "\n",
    "print(f\"Average DAG size: {asize} - {minsize} - {maxsize}\")\n",
    "print(f\"Average EXO count: {info.num_exo_vars.mean()}\")"
   ]
  },
  {
   "cell_type": "code",
   "execution_count": 202,
   "id": "394e3453",
   "metadata": {},
   "outputs": [
    {
     "data": {
      "text/plain": [
       "file\n",
       "random_mc2_n5_mid3_d1000_05_mr098_r10_70.uai     ([0  1  2  3  4  5]  [(1 0)  (3 0)  (4 0)  (3 ...\n",
       "random_mc2_n9_mid3_d1000_05_mr098_r10_90.uai     ([0  1  2  3  4  5  6  7  8  9  10  11]  [(8 0...\n",
       "random_mc2_n8_mid3_d1000_05_mr098_r10_98.uai     ([0  1  2  3  4  5  6  7  8  9  10]  [(0 1)  (...\n",
       "random_mc2_n10_mid3_d1000_05_mr098_r10_72.uai    ([0  1  2  3  4  5  6  7  8  9  10  11  12  13...\n",
       "random_mc2_n7_mid3_d1000_05_mr098_r10_5.uai      ([0  1  2  3  4  5  6  7  8  9  10]  [(1 0)  (...\n",
       "                                                                       ...                        \n",
       "random_mc2_n5_mid3_d1000_05_mr098_r10_47.uai     ([0  1  2  3  4]  [(0 2)  (1 3)  (2 3)  (4 3) ...\n",
       "random_mc2_n6_mid3_d1000_05_mr098_r10_68.uai     ([0  1  2  3  4  5  6  7  8]  [(3 0)  (0 1)  (...\n",
       "random_mc2_n7_mid3_d1000_05_mr098_r10_75.uai     ([0  1  2  3  4  5  6  7  8  9]  [(6 0)  (7 0)...\n",
       "random_mc2_n7_mid3_d1000_05_mr098_r10_6.uai      ([0  1  2  3  4  5  6  7  8  9  10]  [(1 0)  (...\n",
       "random_mc2_n5_mid3_d1000_05_mr098_r10_72.uai     ([0  1  2  3  4  5]  [(2 0)  (4 0)  (1 2)  (4 ...\n",
       "Name: dag, Length: 335, dtype: object"
      ]
     },
     "execution_count": 202,
     "metadata": {},
     "output_type": "execute_result"
    }
   ],
   "source": [
    "info.dag"
   ]
  },
  {
   "cell_type": "code",
   "execution_count": 240,
   "id": "7a7befa6",
   "metadata": {},
   "outputs": [],
   "source": [
    "def tomap(d):\n",
    "    for x in d:\n",
    "        print(x)\n",
    "\n",
    "ab  = pd.DataFrame({\"to\":info.dag.str.extractall('(\\([0-9]* [0-9]*\\))').iloc[:,0].str[1:-1].str.split(\" \").apply(lambda x:x[-1])})\n",
    "ab['value'] = 1"
   ]
  },
  {
   "cell_type": "code",
   "execution_count": 280,
   "id": "6ec5ae11",
   "metadata": {},
   "outputs": [],
   "source": [
    "rnd = functools.partial(np.round, decimals=1)"
   ]
  },
  {
   "cell_type": "code",
   "execution_count": 359,
   "id": "6eeb3fde",
   "metadata": {},
   "outputs": [
    {
     "name": "stdout",
     "output_type": "stream",
     "text": [
      "DAG size & 5.0 & 21.0 & 9.9 \\\\\n",
      "Exogenous variables & 2.0 & 10.0 & 4.5 \\\\\n",
      "Exogenous Cardinalities & 3.0 & 256.0 & 29.6 \\\\\n",
      "Treewidth & 2.0 & 4.0 & 2.9 \\\\\n",
      "Max Indegree & 2.0 & 4.0 & 3.0 \\\\\n",
      "Circuit size & 38.0 & 6064.0 & 688.3 \\\\\n",
      "Components & 1.0 & 10.0 & 4.2 \\\\\n",
      "Max Circuit Size & 20.0 & 5016.0 & 449.8 \\\\\n",
      "Max Relative Circuit Size & 0.2 & 1.8 & 0.6 \\\\\n",
      "\n"
     ]
    }
   ],
   "source": [
    "out = \"\"\n",
    "out = out + \"DAG size & \" +  \" & \".join(info.dag.apply(lambda x:len(x.split(\"]\")[0][2:].split(\"  \"))).describe().loc[[\"min\",\"max\", \"mean\"]].apply(rnd).astype(str).values) + \" \\\\\\\\\\n\"\n",
    "out = out + \"Exogenous variables & \" + \" & \".join(info.num_exo_vars.describe().loc[[\"min\",\"max\", \"mean\"]].apply(rnd).astype(str).values) + \" \\\\\\\\\\n\"\n",
    "out = out + \"Exogenous Cardinalities & \" + \" & \".join(info.max_exo_card.describe().loc[[\"min\",\"max\", \"mean\"]].apply(rnd).astype(str).values) + \" \\\\\\\\\\n\"\n",
    "out = out + \"Treewidth & \" + \" & \".join(info.tw.describe().loc[[\"min\",\"max\", \"mean\"]].apply(rnd).astype(str).values) + \" \\\\\\\\\\n\"\n",
    "out = out + \"Max Indegree & \" + \" & \".join(ab.groupby([\"file\", \"to\"]).agg(\"count\").groupby(\"file\").agg(\"max\").describe().loc[[\"min\",\"max\", \"mean\"]].apply(rnd).astype(str).values[:,0]) + \" \\\\\\\\\\n\"\n",
    "out = out + \"Circuit size & \" + \" & \".join(xz_in.FullCircuitSize_dm5full.describe().loc[[\"min\",\"max\", \"mean\"]].apply(rnd).astype(str).values) + \" \\\\\\\\\\n\"\n",
    "out = out + \"Components & \" + \" & \".join(xz_in.CCCount_dm5full.describe().loc[[\"min\",\"max\", \"mean\"]].apply(rnd).astype(str).values) + \" \\\\\\\\\\n\"\n",
    "out = out + \"Max Circuit Size & \" + \" & \".join(xz_in.CCCircuitSizes_dm5cc.apply(max).describe().loc[[\"min\",\"max\", \"mean\"]].apply(rnd).astype(str).values) + \" \\\\\\\\\\n\"\n",
    "out = out + \"Max Relative Circuit Size & \" + \" & \".join((xz_in.CCCircuitSizes_dm5cc.apply(max)/xz_in.FullCircuitSize_dm5full).describe().loc[[\"min\",\"max\", \"mean\"]].apply(rnd).astype(str).values) + \" \\\\\\\\\\n\"\n",
    "\n",
    "print(out)"
   ]
  },
  {
   "cell_type": "code",
   "execution_count": 367,
   "id": "2d95f176",
   "metadata": {},
   "outputs": [
    {
     "data": {
      "text/plain": [
       "file\n",
       "random_mc2_n5_mid3_d1000_05_mr098_r10_70.uai     0.658537\n",
       "random_mc2_n9_mid3_d1000_05_mr098_r10_90.uai     0.510490\n",
       "random_mc2_n8_mid3_d1000_05_mr098_r10_98.uai     0.302721\n",
       "random_mc2_n10_mid3_d1000_05_mr098_r10_72.uai    0.252125\n",
       "random_mc2_n7_mid3_d1000_05_mr098_r10_5.uai      0.386957\n",
       "                                                   ...   \n",
       "random_mc2_n5_mid3_d1000_05_mr098_r10_47.uai     0.885714\n",
       "random_mc2_n6_mid3_d1000_05_mr098_r10_68.uai     0.594406\n",
       "random_mc2_n7_mid3_d1000_05_mr098_r10_75.uai     0.589404\n",
       "random_mc2_n7_mid3_d1000_05_mr098_r10_6.uai      0.395745\n",
       "random_mc2_n5_mid3_d1000_05_mr098_r10_72.uai     0.647059\n",
       "Length: 335, dtype: float64"
      ]
     },
     "execution_count": 367,
     "metadata": {},
     "output_type": "execute_result"
    }
   ],
   "source": [
    "xx = (xz_in.CCCircuitSizes_dm5cc.apply(max)/xz_in.FullCircuitSize_dm5full)\n",
    "xx[~xx.isna()]\n"
   ]
  },
  {
   "cell_type": "code",
   "execution_count": 356,
   "id": "f35d8b61",
   "metadata": {},
   "outputs": [
    {
     "data": {
      "text/plain": [
       "file\n",
       "random_mc2_n5_mid3_d1000_05_mr098_r10_70.uai     108\n",
       "random_mc2_n9_mid3_d1000_05_mr098_r10_90.uai     292\n",
       "random_mc2_n8_mid3_d1000_05_mr098_r10_98.uai     178\n",
       "random_mc2_n10_mid3_d1000_05_mr098_r10_72.uai    178\n",
       "random_mc2_n7_mid3_d1000_05_mr098_r10_5.uai      178\n",
       "                                                ... \n",
       "random_mc2_n5_mid3_d1000_05_mr098_r10_47.uai      62\n",
       "random_mc2_n6_mid3_d1000_05_mr098_r10_68.uai     170\n",
       "random_mc2_n7_mid3_d1000_05_mr098_r10_75.uai     178\n",
       "random_mc2_n7_mid3_d1000_05_mr098_r10_6.uai      186\n",
       "random_mc2_n5_mid3_d1000_05_mr098_r10_72.uai      66\n",
       "Name: CCCircuitSizes_dm5cc, Length: 335, dtype: int64"
      ]
     },
     "execution_count": 356,
     "metadata": {},
     "output_type": "execute_result"
    }
   ],
   "source": [
    "xz_in.CCCircuitSizes_dm5cc.apply(max)"
   ]
  },
  {
   "attachments": {},
   "cell_type": "markdown",
   "id": "2c1dcc29",
   "metadata": {},
   "source": [
    "DAG size & 5 & 21 & 9.9 \\\\\n",
    "Exogenous Vars count & 2 & 10 & 4.5 \\\\\n",
    "SCM Treewidth & 2 & 4 & 2.9 \\\\\n",
    "Max Indegree & 2 & 4 & 3 \\\\\n"
   ]
  },
  {
   "attachments": {},
   "cell_type": "markdown",
   "id": "49cc11d7",
   "metadata": {},
   "source": []
  },
  {
   "attachments": {},
   "cell_type": "markdown",
   "id": "885d96b0",
   "metadata": {},
   "source": [
    "info"
   ]
  },
  {
   "attachments": {},
   "cell_type": "markdown",
   "metadata": {},
   "source": []
  }
 ],
 "metadata": {
  "kernelspec": {
   "display_name": "Python 3 (ipykernel)",
   "language": "python",
   "name": "python3"
  },
  "language_info": {
   "codemirror_mode": {
    "name": "ipython",
    "version": 3
   },
   "file_extension": ".py",
   "mimetype": "text/x-python",
   "name": "python",
   "nbconvert_exporter": "python",
   "pygments_lexer": "ipython3",
   "version": "3.11.0"
  }
 },
 "nbformat": 4,
 "nbformat_minor": 5
}
